{
 "cells": [
  {
   "cell_type": "code",
   "execution_count": 1241,
   "metadata": {},
   "outputs": [],
   "source": [
    "import json\n",
    "import matplotlib.pyplot as plt\n",
    "import numpy as np\n",
    "import operator\n",
    "import pandas as pd\n",
    "import re\n",
    "import seaborn as sns\n",
    "\n",
    "\n",
    "from classifier import *\n",
    "from heapq import nlargest\n",
    "from issues import get_num_code_lines\n",
    "from nltk.stem import PorterStemmer\n",
    "from sklearn.ensemble import RandomForestClassifier\n",
    "from sklearn.feature_extraction.text import ENGLISH_STOP_WORDS, TfidfVectorizer\n",
    "from sklearn.linear_model import LogisticRegression\n",
    "from sklearn.metrics import accuracy_score, confusion_matrix, r2_score\n",
    "from sklearn.naive_bayes import BernoulliNB, GaussianNB\n",
    "from sklearn.neighbors import KNeighborsClassifier\n",
    "from sklearn.model_selection import train_test_split\n",
    "from sklearn.neural_network import MLPClassifier\n",
    "from sklearn.preprocessing import MultiLabelBinarizer\n",
    "from sklearn.svm import SVC\n",
    "from sklearn.tree import DecisionTreeClassifier"
   ]
  },
  {
   "cell_type": "code",
   "execution_count": 1242,
   "metadata": {},
   "outputs": [
    {
     "name": "stdout",
     "output_type": "stream",
     "text": [
      "Number of issues: 7170\n"
     ]
    }
   ],
   "source": [
    "with open('../data/flutter/flutter_issues_labeled.json') as json_data:\n",
    "    issues = json.load(json_data)\n",
    "print(\"Number of issues: \" + str(len(issues)))"
   ]
  },
  {
   "cell_type": "code",
   "execution_count": 1243,
   "metadata": {},
   "outputs": [
    {
     "name": "stdout",
     "output_type": "stream",
     "text": [
      "Number of issues: 11146\n",
      "Number of successful issues: 4059\n",
      "Number of partially successful issues: 185\n",
      "Number of failed issues: 6902\n"
     ]
    }
   ],
   "source": [
    "with open('../data/flutter/flutter_issues_prs_final_5.json') as json_data:\n",
    "    issues_prs = json.load(json_data)\n",
    "print(\"Number of issues: \" + str(len(issues_prs)))\n",
    "\n",
    "success = []\n",
    "failed = []\n",
    "partial = []\n",
    "for issue in issues_prs:\n",
    "    if issue['merged_prs'] or issue['master_commits']:\n",
    "        success.append(issue)\n",
    "    elif issue['local_commits'] or issue['failed_prs']:\n",
    "        #print(issue)\n",
    "        partial.append(issue)\n",
    "    else:\n",
    "        failed.append(issue)\n",
    "print(\"Number of successful issues: \" + str(len(success)))\n",
    "print(\"Number of partially successful issues: \" + str(len(partial)))\n",
    "print(\"Number of failed issues: \" + str(len(failed)))"
   ]
  },
  {
   "cell_type": "code",
   "execution_count": 1244,
   "metadata": {},
   "outputs": [],
   "source": [
    "#TODO: fix the extra PRs from code #s"
   ]
  },
  {
   "cell_type": "code",
   "execution_count": 1245,
   "metadata": {},
   "outputs": [],
   "source": [
    "issue_map = {}\n",
    "for issue in issues_prs:\n",
    "    completed_by = set()\n",
    "    failed_by = set()\n",
    "    for pr in issue['merged_prs']:\n",
    "        if pr['author']:\n",
    "            completed_by.add(pr['author'].replace('/', ''))\n",
    "    for commit in issue['master_commits']:\n",
    "        if commit['author']:\n",
    "            completed_by.add(commit['author'].replace('/', ''))\n",
    "    for pr in issue['failed_prs']:\n",
    "        if pr['author'] and pr['author'] not in completed_by:\n",
    "            failed_by.add(pr['author'].replace('/', ''))\n",
    "    for commit in issue['local_commits']:\n",
    "        if commit['author'] and commit['author'] not in completed_by:\n",
    "            failed_by.add(commit['author'].replace('/', ''))\n",
    "    issue_map[issue['issue_num']] = {}\n",
    "    issue_map[issue['issue_num']]['completed_by'] = completed_by\n",
    "    issue_map[issue['issue_num']]['failed_by'] = failed_by"
   ]
  },
  {
   "cell_type": "code",
   "execution_count": 1246,
   "metadata": {
    "scrolled": true
   },
   "outputs": [
    {
     "data": {
      "text/html": [
       "<div>\n",
       "<style scoped>\n",
       "    .dataframe tbody tr th:only-of-type {\n",
       "        vertical-align: middle;\n",
       "    }\n",
       "\n",
       "    .dataframe tbody tr th {\n",
       "        vertical-align: top;\n",
       "    }\n",
       "\n",
       "    .dataframe thead th {\n",
       "        text-align: right;\n",
       "    }\n",
       "</style>\n",
       "<table border=\"1\" class=\"dataframe\">\n",
       "  <thead>\n",
       "    <tr style=\"text-align: right;\">\n",
       "      <th></th>\n",
       "      <th>assignees</th>\n",
       "      <th>body</th>\n",
       "      <th>closed_date</th>\n",
       "      <th>comments</th>\n",
       "      <th>completed_by</th>\n",
       "      <th>created_date</th>\n",
       "      <th>failed_by</th>\n",
       "      <th>issue_num</th>\n",
       "      <th>labels</th>\n",
       "      <th>title</th>\n",
       "    </tr>\n",
       "  </thead>\n",
       "  <tbody>\n",
       "    <tr>\n",
       "      <th>2219</th>\n",
       "      <td>[cbracken]</td>\n",
       "      <td>## Steps to Reproduce\\r\\n\\r\\n1. Navigate to th...</td>\n",
       "      <td>2018-05-25 23:30:08</td>\n",
       "      <td>1</td>\n",
       "      <td>[tvolkert, slightfoot]</td>\n",
       "      <td>2018-04-30 17:15:57</td>\n",
       "      <td>[cbracken]</td>\n",
       "      <td>17120</td>\n",
       "      <td>[tool, ⌺‬ platform-ios]</td>\n",
       "      <td>Build ordering problem for iOS builds</td>\n",
       "    </tr>\n",
       "    <tr>\n",
       "      <th>2249</th>\n",
       "      <td>[jonahwilliams]</td>\n",
       "      <td>Turn TalkBack on and double tap on a checkbox ...</td>\n",
       "      <td>2018-05-26 01:42:03</td>\n",
       "      <td>10</td>\n",
       "      <td>[jonahwilliams]</td>\n",
       "      <td>2018-05-21 17:36:14</td>\n",
       "      <td>[]</td>\n",
       "      <td>17775</td>\n",
       "      <td>[a: accessibility, from: a11y review, severe: ...</td>\n",
       "      <td>[a11y]: Activating a switch or checkbox with T...</td>\n",
       "    </tr>\n",
       "  </tbody>\n",
       "</table>\n",
       "</div>"
      ],
      "text/plain": [
       "            assignees                                               body  \\\n",
       "2219       [cbracken]  ## Steps to Reproduce\\r\\n\\r\\n1. Navigate to th...   \n",
       "2249  [jonahwilliams]  Turn TalkBack on and double tap on a checkbox ...   \n",
       "\n",
       "             closed_date  comments            completed_by  \\\n",
       "2219 2018-05-25 23:30:08         1  [tvolkert, slightfoot]   \n",
       "2249 2018-05-26 01:42:03        10         [jonahwilliams]   \n",
       "\n",
       "            created_date   failed_by  issue_num  \\\n",
       "2219 2018-04-30 17:15:57  [cbracken]      17120   \n",
       "2249 2018-05-21 17:36:14          []      17775   \n",
       "\n",
       "                                                 labels  \\\n",
       "2219                            [tool, ⌺‬ platform-ios]   \n",
       "2249  [a: accessibility, from: a11y review, severe: ...   \n",
       "\n",
       "                                                  title  \n",
       "2219              Build ordering problem for iOS builds  \n",
       "2249  [a11y]: Activating a switch or checkbox with T...  "
      ]
     },
     "execution_count": 1246,
     "metadata": {},
     "output_type": "execute_result"
    }
   ],
   "source": [
    "# create a data frame from the list of issues\n",
    "df_list = []\n",
    "for issue in labeled_issues:\n",
    "        if issue['number'] not in issue_map:\n",
    "            continue\n",
    "        df_dict = {}\n",
    "        df_dict['comments'] = issue['comments']\n",
    "        if (not issue['body']):\n",
    "            issue['body'] = \"\"\n",
    "        df_dict['title'] = issue['title']\n",
    "        df_dict['issue_num'] = issue['number']\n",
    "        df_dict['body'] = issue['body']\n",
    "        df_dict['closed_date'] = pd.to_datetime(issue['closed_at'])\n",
    "        df_dict['created_date'] = pd.to_datetime(issue['created_at'])\n",
    "        df_dict['completed_by'] = issue_map[issue['number']]['completed_by']\n",
    "        df_dict['failed_by'] = issue_map[issue['number']]['failed_by']\n",
    "        if len(df_dict['completed_by']) == 0 and len(df_dict['failed_by']) == 0:\n",
    "            continue\n",
    "        df_dict['labels'] = [label['name'] for label in issue['labels']]\n",
    "        df_dict['assignees'] = [assignee['login'] for assignee in issue['assignees']]\n",
    "        for assignee in df_dict['assignees']:\n",
    "            if assignee not in df_dict['completed_by'] and assignee not in df_dict['failed_by']:\n",
    "                df_dict['failed_by'].add(assignee)\n",
    "        df_dict['completed_by'] = list(df_dict['completed_by'])\n",
    "        df_dict['failed_by'] = list(df_dict['failed_by'])\n",
    "        df_list.append(df_dict)\n",
    "df = pd.DataFrame(df_list).sort_values('closed_date')\n",
    "df.tail(2)"
   ]
  },
  {
   "cell_type": "code",
   "execution_count": 1247,
   "metadata": {},
   "outputs": [],
   "source": [
    "success_events = 0\n",
    "partial_events = 0 # local commit / failed pr / assigned but didnt complete (make sure to filter completed events)"
   ]
  },
  {
   "cell_type": "code",
   "execution_count": 1248,
   "metadata": {},
   "outputs": [
    {
     "name": "stdout",
     "output_type": "stream",
     "text": [
      "1343\n",
      "eseidelGoogle\n",
      "\n",
      "4186\n",
      "tvolkert\n",
      "\n",
      "5106\n",
      "pq\n",
      "\n",
      "6417\n",
      "warent\n",
      "\n",
      "9547\n",
      "szakarias\n",
      "\n",
      "Num correct events for first 4 contributor: 38\n",
      "Total events for first k contributor: 43\n",
      "\n",
      "Num correct events for all assignees: 2439\n",
      "Total events for all assignees: 2583\n",
      "\n",
      "Total number of unique devs: 117\n"
     ]
    }
   ],
   "source": [
    "# TODO: exclude most experienced devs\n",
    "\n",
    "num_correct_k = 0\n",
    "num_correct_total = 0\n",
    "num_failed_k = 0\n",
    "num_failed_total = 0\n",
    "k = 4\n",
    "dev_counts = {}\n",
    "devs = set()\n",
    "for _, row in df.iterrows():\n",
    "    for failer in row['failed_by']:\n",
    "        if dev_counts.get(failer, 0) == (k-1):\n",
    "                print(row['issue_num'])\n",
    "                print(failer)\n",
    "                print()\n",
    "                num_failed_k += 1\n",
    "        else:\n",
    "            num_failed_total += 1\n",
    "        devs.add(failer)\n",
    "    for completer in row['completed_by']:\n",
    "        if dev_counts.get(completer, 0) == (k-1):\n",
    "                num_correct_k += 1\n",
    "        else:\n",
    "            num_correct_total += 1\n",
    "        devs.add(completer)\n",
    "        dev_counts[completer] = dev_counts.get(completer, 0) + 1\n",
    "print(\"Num correct events for first \" + str(k) + \" contributor: \" + str(num_correct_k)  )\n",
    "print(\"Total events for first k contributor: \" + str(num_correct_k + num_failed_k))\n",
    "print()\n",
    "print(\"Num correct events for all assignees: \" + str(num_correct_total))\n",
    "print(\"Total events for all assignees: \" + str(num_correct_total+num_failed_total))\n",
    "print()\n",
    "print(\"Total number of unique devs: \" + str(len(devs)))"
   ]
  }
 ],
 "metadata": {
  "kernelspec": {
   "display_name": "Python 3",
   "language": "python",
   "name": "python3"
  },
  "language_info": {
   "codemirror_mode": {
    "name": "ipython",
    "version": 3
   },
   "file_extension": ".py",
   "mimetype": "text/x-python",
   "name": "python",
   "nbconvert_exporter": "python",
   "pygments_lexer": "ipython3",
   "version": "3.6.5"
  }
 },
 "nbformat": 4,
 "nbformat_minor": 2
}
