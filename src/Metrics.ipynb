{
 "cells": [
  {
   "cell_type": "code",
   "execution_count": 10,
   "metadata": {},
   "outputs": [],
   "source": [
    "import json\n",
    "import matplotlib.pyplot as plt\n",
    "import numpy as np\n",
    "import operator\n",
    "import pandas as pd\n",
    "import re\n",
    "import seaborn as sns\n",
    "\n",
    "\n",
    "from classifier import *\n",
    "from heapq import nlargest\n",
    "from issues import get_num_code_lines\n",
    "from nltk.stem import PorterStemmer\n",
    "from sklearn.ensemble import RandomForestClassifier\n",
    "from sklearn.feature_extraction.text import ENGLISH_STOP_WORDS, TfidfVectorizer\n",
    "from sklearn.linear_model import LogisticRegression\n",
    "from sklearn.metrics import accuracy_score, confusion_matrix, r2_score\n",
    "from sklearn.naive_bayes import BernoulliNB, GaussianNB\n",
    "from sklearn.neighbors import KNeighborsClassifier\n",
    "from sklearn.model_selection import train_test_split\n",
    "from sklearn.neural_network import MLPClassifier\n",
    "from sklearn.preprocessing import MultiLabelBinarizer\n",
    "from sklearn.svm import SVC\n",
    "from sklearn.tree import DecisionTreeClassifier"
   ]
  },
  {
   "cell_type": "code",
   "execution_count": 11,
   "metadata": {},
   "outputs": [
    {
     "name": "stdout",
     "output_type": "stream",
     "text": [
      "Number of issues: 7170\n"
     ]
    }
   ],
   "source": [
    "with open('../data/flutter/flutter_issues_labeled.json') as json_data:\n",
    "    issues = json.load(json_data)\n",
    "print(\"Number of issues: \" + str(len(issues)))"
   ]
  },
  {
   "cell_type": "code",
   "execution_count": 12,
   "metadata": {},
   "outputs": [
    {
     "name": "stdout",
     "output_type": "stream",
     "text": [
      "Number of issues: 11146\n",
      "Number of successful issues: 4057\n",
      "Number of partially successful issues: 185\n",
      "Number of failed issues: 6904\n"
     ]
    }
   ],
   "source": [
    "with open('../data/flutter/flutter_issues_prs_final_5.json') as json_data:\n",
    "    issues_prs = json.load(json_data)\n",
    "print(\"Number of issues: \" + str(len(issues_prs)))\n",
    "\n",
    "success = []\n",
    "failed = []\n",
    "partial = []\n",
    "for issue in issues_prs:\n",
    "    if issue['merged_prs'] or issue['master_commits']:\n",
    "        success.append(issue)\n",
    "    elif issue['local_commits'] or issue['failed_prs']:\n",
    "        #print(issue)\n",
    "        partial.append(issue)\n",
    "    else:\n",
    "        failed.append(issue)\n",
    "print(\"Number of successful issues: \" + str(len(success)))\n",
    "print(\"Number of partially successful issues: \" + str(len(partial)))\n",
    "print(\"Number of failed issues: \" + str(len(failed)))"
   ]
  },
  {
   "cell_type": "code",
   "execution_count": 13,
   "metadata": {},
   "outputs": [],
   "source": [
    "#TODO: fix the extra PRs from code #s"
   ]
  },
  {
   "cell_type": "code",
   "execution_count": 14,
   "metadata": {},
   "outputs": [],
   "source": [
    "issue_map = {}\n",
    "for issue in issues_prs:\n",
    "    completed_by = set()\n",
    "    failed_by = set()\n",
    "    for pr in issue['merged_prs']:\n",
    "        if pr['author']:\n",
    "            completed_by.add(pr['author'].replace('/', ''))\n",
    "    for commit in issue['master_commits']:\n",
    "        if commit['author']:\n",
    "            completed_by.add(commit['author'].replace('/', ''))\n",
    "    for pr in issue['failed_prs']:\n",
    "        if pr['author'] and pr['author'] not in completed_by:\n",
    "            failed_by.add(pr['author'].replace('/', ''))\n",
    "    for commit in issue['local_commits']:\n",
    "        if commit['author'] and commit['author'] not in completed_by:\n",
    "            failed_by.add(commit['author'].replace('/', ''))\n",
    "    issue_map[issue['issue_num']] = {}\n",
    "    issue_map[issue['issue_num']]['completed_by'] = completed_by\n",
    "    issue_map[issue['issue_num']]['failed_by'] = failed_by"
   ]
  },
  {
   "cell_type": "code",
   "execution_count": 15,
   "metadata": {
    "scrolled": true
   },
   "outputs": [
    {
     "data": {
      "text/html": [
       "<div>\n",
       "<style scoped>\n",
       "    .dataframe tbody tr th:only-of-type {\n",
       "        vertical-align: middle;\n",
       "    }\n",
       "\n",
       "    .dataframe tbody tr th {\n",
       "        vertical-align: top;\n",
       "    }\n",
       "\n",
       "    .dataframe thead th {\n",
       "        text-align: right;\n",
       "    }\n",
       "</style>\n",
       "<table border=\"1\" class=\"dataframe\">\n",
       "  <thead>\n",
       "    <tr style=\"text-align: right;\">\n",
       "      <th></th>\n",
       "      <th>assignees</th>\n",
       "      <th>body</th>\n",
       "      <th>closed_date</th>\n",
       "      <th>comments</th>\n",
       "      <th>completed_by</th>\n",
       "      <th>created_date</th>\n",
       "      <th>failed_by</th>\n",
       "      <th>issue_num</th>\n",
       "      <th>labels</th>\n",
       "      <th>title</th>\n",
       "    </tr>\n",
       "  </thead>\n",
       "  <tbody>\n",
       "    <tr>\n",
       "      <th>3381</th>\n",
       "      <td>[jonahwilliams]</td>\n",
       "      <td>Turn TalkBack on and double tap on a checkbox ...</td>\n",
       "      <td>2018-05-26 01:42:03</td>\n",
       "      <td>10</td>\n",
       "      <td>[jonahwilliams]</td>\n",
       "      <td>2018-05-21 17:36:14</td>\n",
       "      <td>[]</td>\n",
       "      <td>17775</td>\n",
       "      <td>[a: accessibility, from: a11y review, severe: ...</td>\n",
       "      <td>[a11y]: Activating a switch or checkbox with T...</td>\n",
       "    </tr>\n",
       "    <tr>\n",
       "      <th>3377</th>\n",
       "      <td>[Hixie, tvolkert]</td>\n",
       "      <td>Because of the way `testWidgets` modifies the ...</td>\n",
       "      <td>2018-05-26 05:04:15</td>\n",
       "      <td>7</td>\n",
       "      <td>[tvolkert]</td>\n",
       "      <td>2018-05-19 03:54:20</td>\n",
       "      <td>[filiph, Hixie]</td>\n",
       "      <td>17738</td>\n",
       "      <td>[a: tests, framework]</td>\n",
       "      <td>No way to test periodic Streams in `testWidgets`</td>\n",
       "    </tr>\n",
       "  </tbody>\n",
       "</table>\n",
       "</div>"
      ],
      "text/plain": [
       "              assignees                                               body  \\\n",
       "3381    [jonahwilliams]  Turn TalkBack on and double tap on a checkbox ...   \n",
       "3377  [Hixie, tvolkert]  Because of the way `testWidgets` modifies the ...   \n",
       "\n",
       "             closed_date  comments     completed_by        created_date  \\\n",
       "3381 2018-05-26 01:42:03        10  [jonahwilliams] 2018-05-21 17:36:14   \n",
       "3377 2018-05-26 05:04:15         7       [tvolkert] 2018-05-19 03:54:20   \n",
       "\n",
       "            failed_by  issue_num  \\\n",
       "3381               []      17775   \n",
       "3377  [filiph, Hixie]      17738   \n",
       "\n",
       "                                                 labels  \\\n",
       "3381  [a: accessibility, from: a11y review, severe: ...   \n",
       "3377                              [a: tests, framework]   \n",
       "\n",
       "                                                  title  \n",
       "3381  [a11y]: Activating a switch or checkbox with T...  \n",
       "3377   No way to test periodic Streams in `testWidgets`  "
      ]
     },
     "execution_count": 15,
     "metadata": {},
     "output_type": "execute_result"
    }
   ],
   "source": [
    "# create a data frame from the list of issues\n",
    "df_list = []\n",
    "for issue in issues:\n",
    "        if issue['number'] not in issue_map:\n",
    "            continue\n",
    "        df_dict = {}\n",
    "        df_dict['comments'] = issue['comments']\n",
    "        if (not issue['body']):\n",
    "            issue['body'] = \"\"\n",
    "        df_dict['title'] = issue['title']\n",
    "        df_dict['issue_num'] = issue['number']\n",
    "        df_dict['body'] = issue['body']\n",
    "        df_dict['closed_date'] = pd.to_datetime(issue['closed_at'])\n",
    "        df_dict['created_date'] = pd.to_datetime(issue['created_at'])\n",
    "        df_dict['completed_by'] = issue_map[issue['number']]['completed_by']\n",
    "        df_dict['failed_by'] = issue_map[issue['number']]['failed_by']\n",
    "        if len(df_dict['completed_by']) == 0:\n",
    "            continue\n",
    "        df_dict['labels'] = [label['name'] for label in issue['labels']]\n",
    "        df_dict['assignees'] = [assignee['login'] for assignee in issue['assignees']]\n",
    "        for assignee in df_dict['assignees']:\n",
    "            if assignee not in df_dict['completed_by'] and assignee not in df_dict['failed_by']:\n",
    "                df_dict['failed_by'].add(assignee)\n",
    "        df_dict['completed_by'] = list(df_dict['completed_by'])\n",
    "        df_dict['failed_by'] = list(df_dict['failed_by'])\n",
    "        df_list.append(df_dict)\n",
    "df = pd.DataFrame(df_list).sort_values('closed_date')\n",
    "df.tail(2)"
   ]
  },
  {
   "cell_type": "code",
   "execution_count": 16,
   "metadata": {},
   "outputs": [],
   "source": [
    "success_events = 0\n",
    "partial_events = 0 # local commit / failed pr / assigned but didnt complete (make sure to filter completed events)"
   ]
  },
  {
   "cell_type": "code",
   "execution_count": 17,
   "metadata": {},
   "outputs": [
    {
     "name": "stdout",
     "output_type": "stream",
     "text": [
      "{'amirh', 'kangwang1988', 'raju-bitter', 'passsy', 'srawlins', 'slightfoot', 'rmtmckenzie', 'xster', 'LarkAscending', 'LyndonChin', 'chrislondon', 'appsforartists', 'eseidelGoogle', 'FaisalAbid', 'filiph', 'kevmoo', 'kwalrath', 'jason-simmons', 'vardhan-cr', 'OhadRau', 'goderbauer', 'hsbt', 'arashbi', 'charafau', 'abhishekamit', 'alessandroaime', 'JohannesKaufmann', 'peteretelej', 'jukbot', 'floitschG', 'bbalet', 'alhaad', 'ilikerobots', 'dnfield', 'paolosoares', 'ds84182', 'Scorpiion', 'poitch', 'lukechurch', 'namn', 'yanndupuy', 'warent', 'pylaligand', 'mogol', 'aghassemi', 'ng1905', 'mit-mit', 'luigi-rosso', 'ppiet', 'branflake2267', 'maksimr', 'afandria', 'kroikie', 'gregko', 'pq', 'csmartdalton86', 'tvolkert', 'bparrishMines', 'maryx', 'alexmarkov', 'DanTup', 'TheBosZ', 'johnmccutchan', 'sroddy', 'scheglov', 'konifar', 'lejard-h', 'yjbanov', 'Zectbumo', 'sadilek', 'sethladd', 'lukef', 'jimbeveridge', 'vlidholt', 'EyreFree', 'josephburnett', 'kmcnellis', 'lequem', 'mkustermann', 'weisong0', 'apwilson', 'devoncarew', 'syoichi', 'mpcomplete', 'a-siva', 'nikai3d', 'DaveShuckerow', 'kasperl', 'brianosman', 'pulyaevskiy', 'mravn-google', 'zoechi', 'liyuqian', 'matanlurey', 'mraleph', 'MitchRudominer', 'xudshen', 'mdakin', 'jakobr-google', 'yyoon', 'danrubel', 'collinjackson', 'cbracken', 'a14n', 'eukreign', 'rmacnak-google', 'dvdwasibi', 'Sfshaza', 'szakarias', 'paulcbetts', 'mehmetf', 'qchong', 'mattsarett', 'ajonp', 'abarth', 'aam', 'stevemessick', 'thosakwe', 'kezhuw', 'nsreenath', 'ThomasOrlita', 'pcomans', 'dudeofawesome', 'eseidel', 'NMateu', 'fredriks', 'jcollins-g', 'frederickcook', 'ilovezfs', 'HalCanary', 'InMatrix', 'xqwzts', 'natebosch', 'jensjoha', 'Asoseil', 'eliezedeck', 'jamesr', 'leobispo', 'pauldemarco', 'Skylled', 'PixelToast', 'filleduchaos', 'nex3', 'aqnouch', 'rxlabz', 'sigurdm', 'chinmaygarde', 'jeffallen', 'blasten', 'donny-dont', 'krisgiesing', 'alibitek', 'ianloic', 'fmatosqg', 'bkonyi', 'dragostis', 'Mayho', 'leafpetersen', 'sivachandra', 'jonahwilliams', 'MarcinusX', 'B3rn475', 'gspencergoog', 'roughike', 'jacob314', 'beckler', 'Hixie', 'Fedorsturov', 'MrGeislinger', 'Timmmm', 'zanderso', 'kurtisnelson', 'kaiyuanw', 'najeira', 'HansMuller', 'ssaurel', 'perlatus', 'asaarnak', 'GaryQian', 'harrisonturton'}\n",
      "Num correct events for first 1 contributor: 150\n",
      "Total events for first k contributor: 305\n",
      "\n",
      "Num correct events for all assignees: 3628\n",
      "Total events for all assignees: 3869\n",
      "\n",
      "Total number of unique devs: 180\n"
     ]
    }
   ],
   "source": [
    "# TODO: exclude most experienced devs\n",
    "num_correct_k = 0\n",
    "num_correct_total = 0\n",
    "num_failed_k = 0\n",
    "num_failed_total = 0\n",
    "k = 1\n",
    "dev_counts = {}\n",
    "devs = set()\n",
    "for _, row in df.iterrows():\n",
    "    for failer in row['failed_by']:\n",
    "        if dev_counts.get(failer, 0) == (k-1):\n",
    "                #print(row['issue_num'])\n",
    "                #print(failer)\n",
    "                #print()\n",
    "                num_failed_k += 1\n",
    "        else:\n",
    "            num_failed_total += 1\n",
    "        devs.add(failer)\n",
    "    for completer in row['completed_by']:\n",
    "        if dev_counts.get(completer, 0) == (k-1):\n",
    "                num_correct_k += 1\n",
    "        else:\n",
    "            num_correct_total += 1\n",
    "        devs.add(completer)\n",
    "        dev_counts[completer] = dev_counts.get(completer, 0) + 1\n",
    "print(devs)\n",
    "print(\"Num correct events for first \" + str(k) + \" contributor: \" + str(num_correct_k)  )\n",
    "print(\"Total events for first k contributor: \" + str(num_correct_k + num_failed_k))\n",
    "print()\n",
    "print(\"Num correct events for all assignees: \" + str(num_correct_total))\n",
    "print(\"Total events for all assignees: \" + str(num_correct_total+num_failed_total))\n",
    "print()\n",
    "print(\"Total number of unique devs: \" + str(len(devs)))"
   ]
  },
  {
   "cell_type": "code",
   "execution_count": 18,
   "metadata": {},
   "outputs": [
    {
     "data": {
      "image/png": "[encoded data removed]",
      "text/plain": [
       "<Figure size 432x288 with 1 Axes>"
      ]
     },
     "metadata": {},
     "output_type": "display_data"
    }
   ],
   "source": [
    "plt.bar(dev_counts.keys(), dev_counts.values(), width=10, color='g')\n",
    "plt.show()"
   ]
  },
  {
   "cell_type": "code",
   "execution_count": 22,
   "metadata": {},
   "outputs": [
    {
     "name": "stdout",
     "output_type": "stream",
     "text": [
      "{'Hixie': 473, 'abarth': 604, 'collinjackson': 68, 'jason-simmons': 232, 'jimbeveridge': 2, 'HansMuller': 349, 'josephburnett': 1, 'eseidelGoogle': 49, 'devoncarew': 197, 'jamesr': 1, 'chinmaygarde': 105, 'leafpetersen': 2, 'TheBosZ': 1, 'sethladd': 114, 'yjbanov': 97, 'krisgiesing': 11, 'a14n': 6, 'mpcomplete': 67, 'johnmccutchan': 53, 'pylaligand': 4, 'aam': 36, 'qchong': 31, 'apwilson': 8, 'tvolkert': 94, 'alhaad': 4, 'stevemessick': 4, 'pq': 25, 'eseidel': 1, 'ianloic': 3, 'ppiet': 1, 'vlidholt': 2, 'Zectbumo': 1, 'MitchRudominer': 1, 'kaiyuanw': 1, 'aghassemi': 3, 'cbracken': 166, 'rmacnak-google': 25, 'dragostis': 23, 'danrubel': 45, 'dvdwasibi': 3, 'eukreign': 1, 'InMatrix': 2, 'mit-mit': 88, 'warent': 4, 'kwalrath': 3, 'raju-bitter': 2, 'LarkAscending': 14, 'beckler': 1, 'lukechurch': 2, 'lequem': 1, 'lukef': 5, 'goderbauer': 143, 'afandria': 1, 'xster': 132, 'jakobr-google': 53, 'Sfshaza': 7, 'weisong0': 1, 'hsbt': 1, 'mehmetf': 10, 'nex3': 1, 'ilikerobots': 1, 'vardhan-cr': 1, 'poitch': 1, 'szakarias': 32, 'bbalet': 1, 'FaisalAbid': 9, 'yanndupuy': 1, 'mdakin': 1, 'brianosman': 13, 'slightfoot': 6, 'ds84182': 1, 'mravn-google': 75, 'kasperl': 1, 'jcollins-g': 15, 'Skylled': 13, 'gspencergoog': 23, 'kevmoo': 3, 'syoichi': 9, 'ThomasOrlita': 1, 'perlatus': 1, 'sadilek': 1, 'jeffallen': 5, 'pulyaevskiy': 7, 'charafau': 2, 'dnfield': 2, 'donny-dont': 1, 'NMateu': 1, 'PixelToast': 1, 'B3rn475': 8, 'sivachandra': 1, 'frederickcook': 1, 'paolosoares': 1, 'mogol': 4, 'jacob314': 1, 'appsforartists': 1, 'pcomans': 1, 'asaarnak': 1, 'zanderso': 3, 'arashbi': 1, 'a-siva': 3, 'roughike': 9, 'lejard-h': 2, 'MarcinusX': 2, 'amirh': 9, 'mattsarett': 3, 'thosakwe': 1, 'leobispo': 1, 'alexmarkov': 2, 'sigurdm': 6, 'bkonyi': 2, 'fredriks': 1, 'najeira': 3, 'GaryQian': 1, 'passsy': 1, 'alibitek': 1, 'kroikie': 4, 'jensjoha': 2, 'csmartdalton86': 1, 'abhishekamit': 2, 'DanTup': 10, 'natebosch': 1, 'srawlins': 2, 'mraleph': 8, 'DaveShuckerow': 2, 'kangwang1988': 1, 'xqwzts': 5, 'Fedorsturov': 1, 'jonahwilliams': 26, 'konifar': 2, 'sroddy': 1, 'matanlurey': 1, 'filiph': 2, 'kurtisnelson': 1, 'luigi-rosso': 1, 'OhadRau': 1, 'nsreenath': 1, 'scheglov': 2, 'eliezedeck': 1, 'branflake2267': 1, 'bparrishMines': 2, 'jukbot': 1, 'filleduchaos': 1, 'blasten': 2, 'fmatosqg': 3, 'peteretelej': 1, 'floitschG': 1, 'liyuqian': 2, 'yyoon': 1, 'ng1905': 1, 'paulcbetts': 1}\n",
      "150\n"
     ]
    },
    {
     "data": {
      "image/png": "[encoded data removed]",
      "text/plain": [
       "<Figure size 432x288 with 1 Axes>"
      ]
     },
     "metadata": {},
     "output_type": "display_data"
    }
   ],
   "source": [
    "print(dev_counts)\n",
    "print(len(dev_counts))\n",
    "plt.hist(dev_counts.values())\n",
    "plt.show()"
   ]
  }
 ],
 "metadata": {
  "kernelspec": {
   "display_name": "Python 3",
   "language": "python",
   "name": "python3"
  },
  "language_info": {
   "codemirror_mode": {
    "name": "ipython",
    "version": 3
   },
   "file_extension": ".py",
   "mimetype": "text/x-python",
   "name": "python",
   "nbconvert_exporter": "python",
   "pygments_lexer": "ipython3",
   "version": "3.6.5"
  }
 },
 "nbformat": 4,
 "nbformat_minor": 2
}
