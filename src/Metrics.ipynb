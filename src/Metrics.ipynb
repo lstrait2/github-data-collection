{
 "cells": [
  {
   "cell_type": "code",
   "execution_count": 39,
   "metadata": {},
   "outputs": [],
   "source": [
    "import json\n",
    "import matplotlib.pyplot as plt\n",
    "import numpy as np\n",
    "import operator\n",
    "import pandas as pd\n",
    "import re\n",
    "import seaborn as sns"
   ]
  },
  {
   "cell_type": "code",
   "execution_count": 40,
   "metadata": {},
   "outputs": [
    {
     "name": "stdout",
     "output_type": "stream",
     "text": [
      "Number of issues: 7170\n",
      "Number of labeled issues: 2504\n"
     ]
    }
   ],
   "source": [
    "with open('../data/flutter/flutter_issues_labeled.json') as json_data:\n",
    "    issues = json.load(json_data)\n",
    "print(\"Number of issues: \" + str(len(issues)))\n",
    "labeled_issues = [issue for issue in issues if len(issue['completed_by']) > 0]\n",
    "print(\"Number of labeled issues: \" + str(len(labeled_issues)))"
   ]
  },
  {
   "cell_type": "code",
   "execution_count": 41,
   "metadata": {},
   "outputs": [
    {
     "name": "stdout",
     "output_type": "stream",
     "text": [
      "2479\n"
     ]
    }
   ],
   "source": [
    "# create a data frame from the list of issues\n",
    "df_list = []\n",
    "for issue in labeled_issues[25:]:\n",
    "        df_dict = {}\n",
    "        df_dict['comments'] = issue['comments']\n",
    "        if (not issue['body']):\n",
    "            issue['body'] = \"\"\n",
    "        df_dict['title'] = issue['title']\n",
    "        df_dict['body'] = issue['body']\n",
    "        df_dict['closed_date'] = pd.to_datetime(issue['closed_at'])\n",
    "        df_dict['created_date'] = pd.to_datetime(issue['created_at'])\n",
    "        df_dict['completed_by'] = issue['completed_by']\n",
    "        df_dict['labels'] = [label['name'] for label in issue['labels']]\n",
    "        df_dict['assignees'] = [assignee['login'] for assignee in issue['assignees']]\n",
    "        df_list.append(df_dict)\n",
    "df = pd.DataFrame(df_list).sort_values('closed_date')\n",
    "df.head(2)\n",
    "print(len(df))"
   ]
  },
  {
   "cell_type": "code",
   "execution_count": 42,
   "metadata": {},
   "outputs": [
    {
     "data": {
      "text/plain": [
       "assignees                                                [abarth]\n",
       "body            When I try to `flutter start` any of the examp...\n",
       "closed_date                                   2015-11-09 20:13:32\n",
       "comments                                                        3\n",
       "completed_by                                     [abarth, DanTup]\n",
       "created_date                                  2015-11-08 20:33:37\n",
       "labels                                           [easy fix, tool]\n",
       "title           `flutter start` doesn't give good error messag...\n",
       "Name: 1, dtype: object"
      ]
     },
     "metadata": {},
     "output_type": "display_data"
    },
    {
     "data": {
      "text/plain": [
       "assignees                                         [collinjackson]\n",
       "body                                              cc @tvolkert \\n\n",
       "closed_date                                   2015-11-10 00:40:38\n",
       "comments                                                        1\n",
       "completed_by                                      [collinjackson]\n",
       "created_date                                  2015-11-09 21:07:13\n",
       "labels                                                         []\n",
       "title           Implement Dart's HTTP package in Flutter with ...\n",
       "Name: 18, dtype: object"
      ]
     },
     "metadata": {},
     "output_type": "display_data"
    },
    {
     "data": {
      "text/plain": [
       "assignees                                         [HansMuller]\n",
       "body                                         cc @HansMuller \\n\n",
       "closed_date                                2015-11-13 00:40:47\n",
       "comments                                                     0\n",
       "completed_by                                      [HansMuller]\n",
       "created_date                               2015-11-12 20:27:39\n",
       "labels                [framework, severe: regression, ⚠ TODAY]\n",
       "title           closing the menu in stocks throws an exception\n",
       "Name: 87, dtype: object"
      ]
     },
     "metadata": {},
     "output_type": "display_data"
    },
    {
     "data": {
      "text/plain": [
       "assignees                                          [chinmaygarde]\n",
       "body            Currently `flutter ios --init` launches Xcode ...\n",
       "closed_date                                   2016-01-26 20:05:52\n",
       "comments                                                        3\n",
       "completed_by                                       [chinmaygarde]\n",
       "created_date                                  2016-01-25 22:12:14\n",
       "labels                                    [tool, ⌺‬ platform-ios]\n",
       "title                `flutter ios --init` should not launch XCode\n",
       "Name: 291, dtype: object"
      ]
     },
     "metadata": {},
     "output_type": "display_data"
    },
    {
     "data": {
      "text/plain": [
       "assignees                                         [johnmccutchan]\n",
       "body            Right now, breakpoints set, via Atom, on Flutt...\n",
       "closed_date                                   2016-02-10 22:41:21\n",
       "comments                                                        2\n",
       "completed_by                                         [devoncarew]\n",
       "created_date                                  2016-01-28 23:20:54\n",
       "labels                                                     [tool]\n",
       "title                     Breakpoints work starting at app launch\n",
       "Name: 311, dtype: object"
      ]
     },
     "metadata": {},
     "output_type": "display_data"
    },
    {
     "data": {
      "text/plain": [
       "assignees                                              [apwilson]\n",
       "body                                                             \n",
       "closed_date                                   2016-02-25 18:36:31\n",
       "comments                                                        0\n",
       "completed_by                                           [apwilson]\n",
       "created_date                                  2016-02-24 22:47:29\n",
       "labels                                                         []\n",
       "title           Curves could use an inverse operator or possib...\n",
       "Name: 452, dtype: object"
      ]
     },
     "metadata": {},
     "output_type": "display_data"
    },
    {
     "data": {
      "text/plain": [
       "assignees                                                [qchong]\n",
       "body                                                             \n",
       "closed_date                                   2016-03-14 22:00:34\n",
       "comments                                                        1\n",
       "completed_by                                             [qchong]\n",
       "created_date                                  2016-03-09 21:52:03\n",
       "labels                                              [d: codelabs]\n",
       "title           Improve Dart API docs for Flutter's Scaffold, ...\n",
       "Name: 527, dtype: object"
      ]
     },
     "metadata": {},
     "output_type": "display_data"
    },
    {
     "data": {
      "text/plain": [
       "assignees                                         [johnmccutchan]\n",
       "body            It complains that the Observatory port is in u...\n",
       "closed_date                                   2016-03-17 21:24:35\n",
       "comments                                                       10\n",
       "completed_by                           [johnmccutchan, jeffallen]\n",
       "created_date                                  2016-02-18 18:26:07\n",
       "labels                                                     [tool]\n",
       "title           Atom ⌘-R fails if there's another Flutter app ...\n",
       "Name: 428, dtype: object"
      ]
     },
     "metadata": {},
     "output_type": "display_data"
    },
    {
     "data": {
      "text/plain": [
       "assignees                                              [vlidholt]\n",
       "body            Add showPerformanceOverlay: true to the Materi...\n",
       "closed_date                                   2016-04-25 18:46:28\n",
       "comments                                                        1\n",
       "completed_by                                         [HansMuller]\n",
       "created_date                                  2016-04-13 19:40:39\n",
       "labels                       [severe: performance, team: gallery]\n",
       "title           Gallery home.dart sprites demo causes repaints...\n",
       "Name: 661, dtype: object"
      ]
     },
     "metadata": {},
     "output_type": "display_data"
    },
    {
     "data": {
      "text/plain": [
       "assignees                                             [aghassemi]\n",
       "body            I'm not sure if this is expected behavior or n...\n",
       "closed_date                                   2016-06-17 21:44:00\n",
       "comments                                                        3\n",
       "completed_by                                          [aghassemi]\n",
       "created_date                                  2016-05-23 22:16:12\n",
       "labels                                                         []\n",
       "title                                Android overscrolls timeout?\n",
       "Name: 786, dtype: object"
      ]
     },
     "metadata": {},
     "output_type": "display_data"
    },
    {
     "data": {
      "text/plain": [
       "assignees                                                [lequem]\n",
       "body            In the dialog.dart file, line 44 and 46, the b...\n",
       "closed_date                                   2017-01-04 03:53:24\n",
       "comments                                                        5\n",
       "completed_by                                             [lequem]\n",
       "created_date                                  2017-01-02 17:54:12\n",
       "labels                 [easy fix, framework, severe: new feature]\n",
       "title                 dialog background color is not configurable\n",
       "Name: 1489, dtype: object"
      ]
     },
     "metadata": {},
     "output_type": "display_data"
    },
    {
     "data": {
      "text/plain": [
       "assignees                                         [jakobr-google]\n",
       "body            Right now, the APK built with `flutter build a...\n",
       "closed_date                                   2017-01-31 22:48:49\n",
       "comments                                                        7\n",
       "completed_by                                      [jakobr-google]\n",
       "created_date                                  2016-11-15 18:18:31\n",
       "labels                                                         []\n",
       "title           Add the ability to build fat APKs with flutter...\n",
       "Name: 1413, dtype: object"
      ]
     },
     "metadata": {},
     "output_type": "display_data"
    },
    {
     "data": {
      "text/plain": [
       "assignees                                             [dvdwasibi]\n",
       "body            ## Steps to Reproduce\\n\\nWhen I type something...\n",
       "closed_date                                   2017-02-08 21:00:13\n",
       "comments                                                       18\n",
       "completed_by                                          [dvdwasibi]\n",
       "created_date                                  2016-09-21 23:06:49\n",
       "labels                    [customer: fuchsia, ▣ platform-android]\n",
       "title                  Keyboard hangs for Input widget in Android\n",
       "Name: 1264, dtype: object"
      ]
     },
     "metadata": {},
     "output_type": "display_data"
    },
    {
     "data": {
      "text/plain": [
       "assignees                                               [mehmetf]\n",
       "body            Two use cases for it:\\r\\n\\r\\n- Apps might want...\n",
       "closed_date                                   2017-02-09 17:46:44\n",
       "comments                                                        0\n",
       "completed_by                                            [mehmetf]\n",
       "created_date                                  2017-02-08 19:34:24\n",
       "labels          [customer: leafy (g3), p: framework, severe: n...\n",
       "title           Dismissable should support setting dismiss thr...\n",
       "Name: 1572, dtype: object"
      ]
     },
     "metadata": {},
     "output_type": "display_data"
    },
    {
     "data": {
      "text/plain": [
       "assignees                          [jason-simmons, LarkAscending]\n",
       "body            https://github.com/flutter/flutter/pull/7935 a...\n",
       "closed_date                                   2017-02-10 00:12:10\n",
       "comments                                                        1\n",
       "completed_by                                      [jason-simmons]\n",
       "created_date                                  2017-02-08 04:18:30\n",
       "labels                                     [d: website - content]\n",
       "title           Link to javadocs from docs.flutter.io (and may...\n",
       "Name: 1569, dtype: object"
      ]
     },
     "metadata": {},
     "output_type": "display_data"
    },
    {
     "data": {
      "text/plain": [
       "assignees                                  [xster, LarkAscending]\n",
       "body            Hixie added a new option to flutter test, for ...\n",
       "closed_date                                   2017-02-17 19:17:14\n",
       "comments                                                        0\n",
       "completed_by                                              [xster]\n",
       "created_date                                  2017-02-03 01:33:01\n",
       "labels                                     [d: website - content]\n",
       "title                     Add --start-paused option to testing.md\n",
       "Name: 1554, dtype: object"
      ]
     },
     "metadata": {},
     "output_type": "display_data"
    },
    {
     "data": {
      "text/plain": [
       "assignees                                         [LarkAscending]\n",
       "body            Folks with a Web background are often confused...\n",
       "closed_date                                   2017-02-28 18:29:50\n",
       "comments                                                        1\n",
       "completed_by                                                [aam]\n",
       "created_date                                  2016-07-27 22:23:27\n",
       "labels                                                         []\n",
       "title           Web developers would like an easy onboard to F...\n",
       "Name: 1038, dtype: object"
      ]
     },
     "metadata": {},
     "output_type": "display_data"
    },
    {
     "data": {
      "text/plain": [
       "assignees                                          [mravn-google]\n",
       "body            When running email_story, I get the stack dump...\n",
       "closed_date                                   2017-03-17 16:40:59\n",
       "comments                                                        2\n",
       "completed_by                                             [abarth]\n",
       "created_date                                  2017-03-17 15:56:01\n",
       "labels          [customer: fuchsia, severe: crash, severe: reg...\n",
       "title                          Flutter apps are broken in Fuchsia\n",
       "Name: 1726, dtype: object"
      ]
     },
     "metadata": {},
     "output_type": "display_data"
    },
    {
     "data": {
      "text/plain": [
       "assignees                                 [mit-mit, mravn-google]\n",
       "body            https://github.com/flutter/flutter/blob/master...\n",
       "closed_date                                   2017-03-23 13:16:43\n",
       "comments                                                        4\n",
       "completed_by                                            [mit-mit]\n",
       "created_date                                  2017-03-15 10:08:55\n",
       "labels                                             [p: framework]\n",
       "title           Update URL to platform services documentation ...\n",
       "Name: 1717, dtype: object"
      ]
     },
     "metadata": {},
     "output_type": "display_data"
    },
    {
     "data": {
      "text/plain": [
       "assignees                                          [mravn-google]\n",
       "body            Follow-up to https://github.com/flutter/flutte...\n",
       "closed_date                                   2017-04-18 16:31:50\n",
       "comments                                                        2\n",
       "completed_by                                       [mravn-google]\n",
       "created_date                                  2017-04-06 12:13:23\n",
       "labels                          [p: framework, severe: API break]\n",
       "title                Make iOS and Android channel APIs consistent\n",
       "Name: 1778, dtype: object"
      ]
     },
     "metadata": {},
     "output_type": "display_data"
    },
    {
     "data": {
      "text/plain": [
       "assignees                          [LarkAscending]\n",
       "body                               Tracking issue.\n",
       "closed_date                    2017-05-02 22:07:19\n",
       "comments                                         1\n",
       "completed_by                       [collinjackson]\n",
       "created_date                   2017-03-20 16:08:41\n",
       "labels                               [d: codelabs]\n",
       "title           Building UIs with Flutter Codelab \n",
       "Name: 1739, dtype: object"
      ]
     },
     "metadata": {},
     "output_type": "display_data"
    },
    {
     "data": {
      "text/plain": [
       "assignees                                  [xster, LarkAscending]\n",
       "body            The [setup instructions for iOS devices](https...\n",
       "closed_date                                   2017-06-01 22:35:39\n",
       "comments                                                        8\n",
       "completed_by                                              [xster]\n",
       "created_date                                  2017-02-02 23:56:28\n",
       "labels                                     [d: website - content]\n",
       "title           Add post-profile steps to iOS device part of s...\n",
       "Name: 1553, dtype: object"
      ]
     },
     "metadata": {},
     "output_type": "display_data"
    },
    {
     "data": {
      "text/plain": [
       "assignees                                           [sivachandra]\n",
       "body            Hot Reload works fine.  Hot Restart crashes th...\n",
       "closed_date                                   2017-07-12 23:44:44\n",
       "comments                                                        8\n",
       "completed_by                                        [sivachandra]\n",
       "created_date                                  2017-04-15 05:30:57\n",
       "labels                                      [t: hot reload, tool]\n",
       "title           Hot Restart fails for apps using packages with...\n",
       "Name: 1801, dtype: object"
      ]
     },
     "metadata": {},
     "output_type": "display_data"
    },
    {
     "data": {
      "text/plain": [
       "assignees                                               [sigurdm]\n",
       "body            In the video example of the gallery, we see tw...\n",
       "closed_date                                   2017-12-05 09:20:13\n",
       "comments                                                        2\n",
       "completed_by                                            [sigurdm]\n",
       "created_date                                  2017-12-01 20:01:42\n",
       "labels                                  [a: video, team: gallery]\n",
       "title           Video example in gallery shows black square wh...\n",
       "Name: 2209, dtype: object"
      ]
     },
     "metadata": {},
     "output_type": "display_data"
    },
    {
     "data": {
      "text/plain": [
       "assignees                                              [zanderso]\n",
       "body            In #14610, we unified the Dart SDK against whi...\n",
       "closed_date                                   2018-02-20 23:52:50\n",
       "comments                                                        7\n",
       "completed_by                                           [tvolkert]\n",
       "created_date                                  2018-02-16 17:53:26\n",
       "labels                                 [dependency: dart, engine]\n",
       "title           Flutter's Dart SDK version breaks semantic ver...\n",
       "Name: 2327, dtype: object"
      ]
     },
     "metadata": {},
     "output_type": "display_data"
    },
    {
     "data": {
      "text/plain": [
       "assignees                              [mattsarett]\n",
       "body                                           \\r\\n\n",
       "closed_date                     2018-04-24 23:43:11\n",
       "comments                                         11\n",
       "completed_by                           [mattsarett]\n",
       "created_date                    2017-02-14 21:01:27\n",
       "labels                                           []\n",
       "title           Run Flutter with Color Correct Skia\n",
       "Name: 1605, dtype: object"
      ]
     },
     "metadata": {},
     "output_type": "display_data"
    },
    {
     "name": "stdout",
     "output_type": "stream",
     "text": [
      "Num correct events for first k contributor: 16\n",
      "Total events for first k contributor: 26\n",
      "Num correct events for all assignees: 1415\n",
      "Total events for all assignees: 1554\n",
      "Total number of unique devs: 103\n"
     ]
    }
   ],
   "source": [
    "num_correct_k = 0\n",
    "num_correct_total = 0\n",
    "num_total_k = 0\n",
    "num_total = 0\n",
    "k = 1\n",
    "dev_counts = {}\n",
    "devs = set()\n",
    "for _, row in df.iterrows():\n",
    "    for assignee in row['assignees']:\n",
    "        if dev_counts.get(assignee, 0) < k:\n",
    "            display(row)\n",
    "            if assignee in row['completed_by']:\n",
    "                num_correct_k += 1\n",
    "            num_total_k += 1\n",
    "        if assignee in row['completed_by']:\n",
    "            num_correct_total += 1\n",
    "        num_total += 1\n",
    "    for completer in row['completed_by']:\n",
    "        devs.add(completer)\n",
    "        dev_counts[completer] = dev_counts.get(completer, 0) + 1\n",
    "print(\"Num correct events for first k contributor: \" + str(num_correct_k))\n",
    "print(\"Total events for first k contributor: \" + str(num_total_k))\n",
    "print(\"Num correct events for all assignees: \" + str(num_correct_total))\n",
    "print(\"Total events for all assignees: \" + str(num_total))\n",
    "print(\"Total number of unique devs: \" + str(len(devs)))"
   ]
  }
 ],
 "metadata": {
  "kernelspec": {
   "display_name": "Python 3",
   "language": "python",
   "name": "python3"
  },
  "language_info": {
   "codemirror_mode": {
    "name": "ipython",
    "version": 3
   },
   "file_extension": ".py",
   "mimetype": "text/x-python",
   "name": "python",
   "nbconvert_exporter": "python",
   "pygments_lexer": "ipython3",
   "version": "3.6.5"
  }
 },
 "nbformat": 4,
 "nbformat_minor": 2
}
