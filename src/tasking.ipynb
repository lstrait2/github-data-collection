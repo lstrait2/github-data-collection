{
 "cells": [
  {
   "cell_type": "code",
   "execution_count": 301,
   "metadata": {
    "scrolled": true
   },
   "outputs": [],
   "source": [
    "import json\n",
    "import matplotlib.pyplot as plt\n",
    "import numpy as np\n",
    "import operator\n",
    "import pandas as pd\n",
    "import re\n",
    "import seaborn as sns\n",
    "\n",
    "from classifier import *\n",
    "from heapq import nlargest\n",
    "from issues import get_num_code_lines\n",
    "from nltk.stem import PorterStemmer\n",
    "from sklearn.ensemble import RandomForestClassifier\n",
    "from sklearn.feature_extraction.text import ENGLISH_STOP_WORDS, TfidfVectorizer\n",
    "from sklearn.linear_model import LogisticRegression\n",
    "from sklearn.metrics import accuracy_score, confusion_matrix, r2_score\n",
    "from sklearn.naive_bayes import BernoulliNB, GaussianNB\n",
    "from sklearn.neighbors import KNeighborsClassifier\n",
    "from sklearn.model_selection import train_test_split\n",
    "from sklearn.neural_network import MLPClassifier\n",
    "from sklearn.preprocessing import MultiLabelBinarizer\n",
    "from sklearn.svm import SVC\n",
    "from sklearn.tree import DecisionTreeClassifier"
   ]
  },
  {
   "cell_type": "markdown",
   "metadata": {},
   "source": [
    "# Pre-Processing"
   ]
  },
  {
   "cell_type": "code",
   "execution_count": 302,
   "metadata": {
    "scrolled": true
   },
   "outputs": [],
   "source": [
    "with open('../data/flutter/flutter_issues_labeled.json') as json_data:\n",
    "    issues = json.load(json_data)"
   ]
  },
  {
   "cell_type": "code",
   "execution_count": 303,
   "metadata": {
    "scrolled": true
   },
   "outputs": [
    {
     "name": "stdout",
     "output_type": "stream",
     "text": [
      "Number of issues: 7170\n",
      "Number of labeled issues: 2504\n"
     ]
    }
   ],
   "source": [
    "print(\"Number of issues: \" + str(len(issues)))\n",
    "labeled_issues = [issue for issue in issues if len(issue['completed_by']) > 0]\n",
    "print(\"Number of labeled issues: \" + str(len(labeled_issues)))"
   ]
  },
  {
   "cell_type": "code",
   "execution_count": 304,
   "metadata": {
    "scrolled": true
   },
   "outputs": [
    {
     "data": {
      "text/html": [
       "<div>\n",
       "<style scoped>\n",
       "    .dataframe tbody tr th:only-of-type {\n",
       "        vertical-align: middle;\n",
       "    }\n",
       "\n",
       "    .dataframe tbody tr th {\n",
       "        vertical-align: top;\n",
       "    }\n",
       "\n",
       "    .dataframe thead th {\n",
       "        text-align: right;\n",
       "    }\n",
       "</style>\n",
       "<table border=\"1\" class=\"dataframe\">\n",
       "  <thead>\n",
       "    <tr style=\"text-align: right;\">\n",
       "      <th></th>\n",
       "      <th>assignees</th>\n",
       "      <th>body</th>\n",
       "      <th>closed_date</th>\n",
       "      <th>comments</th>\n",
       "      <th>completed_by</th>\n",
       "      <th>created_date</th>\n",
       "      <th>labels</th>\n",
       "      <th>title</th>\n",
       "    </tr>\n",
       "  </thead>\n",
       "  <tbody>\n",
       "    <tr>\n",
       "      <th>1</th>\n",
       "      <td>[abarth]</td>\n",
       "      <td>When I try to `flutter start` any of the examp...</td>\n",
       "      <td>2015-11-09 20:13:32</td>\n",
       "      <td>3</td>\n",
       "      <td>[abarth, DanTup]</td>\n",
       "      <td>2015-11-08 20:33:37</td>\n",
       "      <td>[easy fix, tool]</td>\n",
       "      <td>`flutter start` doesn't give good error messag...</td>\n",
       "    </tr>\n",
       "    <tr>\n",
       "      <th>6</th>\n",
       "      <td>[]</td>\n",
       "      <td>&lt;a href=\"https://github.com/Hixie\"&gt;&lt;img src=\"h...</td>\n",
       "      <td>2015-11-09 20:18:24</td>\n",
       "      <td>1</td>\n",
       "      <td>[yjbanov]</td>\n",
       "      <td>2015-11-09 20:16:52</td>\n",
       "      <td>[framework, severe: new feature]</td>\n",
       "      <td>Swipe to change between Tabs</td>\n",
       "    </tr>\n",
       "  </tbody>\n",
       "</table>\n",
       "</div>"
      ],
      "text/plain": [
       "  assignees                                               body  \\\n",
       "1  [abarth]  When I try to `flutter start` any of the examp...   \n",
       "6        []  <a href=\"https://github.com/Hixie\"><img src=\"h...   \n",
       "\n",
       "          closed_date  comments      completed_by        created_date  \\\n",
       "1 2015-11-09 20:13:32         3  [abarth, DanTup] 2015-11-08 20:33:37   \n",
       "6 2015-11-09 20:18:24         1         [yjbanov] 2015-11-09 20:16:52   \n",
       "\n",
       "                             labels  \\\n",
       "1                  [easy fix, tool]   \n",
       "6  [framework, severe: new feature]   \n",
       "\n",
       "                                               title  \n",
       "1  `flutter start` doesn't give good error messag...  \n",
       "6                       Swipe to change between Tabs  "
      ]
     },
     "execution_count": 304,
     "metadata": {},
     "output_type": "execute_result"
    }
   ],
   "source": [
    "# create a data frame from the list of issues\n",
    "df_list = []\n",
    "for issue in labeled_issues[25:]:\n",
    "        df_dict = {}\n",
    "        df_dict['comments'] = issue['comments']\n",
    "        if (not issue['body']):\n",
    "            issue['body'] = \"\"\n",
    "        df_dict['title'] = issue['title']\n",
    "        df_dict['body'] = issue['body']\n",
    "        df_dict['closed_date'] = pd.to_datetime(issue['closed_at'])\n",
    "        df_dict['created_date'] = pd.to_datetime(issue['created_at'])\n",
    "        df_dict['completed_by'] = issue['completed_by']\n",
    "        df_dict['labels'] = [label['name'] for label in issue['labels']]\n",
    "        df_dict['assignees'] = [assignee['login'] for assignee in issue['assignees']]\n",
    "        df_list.append(df_dict)\n",
    "df = pd.DataFrame(df_list).sort_values('closed_date')\n",
    "df.head(2)"
   ]
  },
  {
   "cell_type": "code",
   "execution_count": 305,
   "metadata": {
    "scrolled": true
   },
   "outputs": [
    {
     "name": "stdout",
     "output_type": "stream",
     "text": [
      "{2: 197, 1: 2268, 3: 14}\n",
      "Number of total issues: 2479\n",
      "Number of issues with single solver: 2268\n"
     ]
    }
   ],
   "source": [
    "# count number of issues with multiple completers\n",
    "counts = {}\n",
    "for index, row in df.iterrows():\n",
    "    count = len(row['completed_by'])\n",
    "    counts[count] = counts.get(count, 0) + 1\n",
    "print(counts)\n",
    "#TODO: confirm that filtering \"noise\" is best strategy here\n",
    "print(\"Number of total issues: \" + str(len(df)))\n",
    "df = df[df.apply(lambda x: len(x['completed_by']) == 1, axis=1)].reset_index(drop=True)\n",
    "df['completed_by'] = df['completed_by'].apply(lambda  x : x[0])\n",
    "print(\"Number of issues with single solver: \" + str(len(df)))"
   ]
  },
  {
   "cell_type": "code",
   "execution_count": 306,
   "metadata": {
    "scrolled": true
   },
   "outputs": [
    {
     "data": {
      "text/html": [
       "<div>\n",
       "<style scoped>\n",
       "    .dataframe tbody tr th:only-of-type {\n",
       "        vertical-align: middle;\n",
       "    }\n",
       "\n",
       "    .dataframe tbody tr th {\n",
       "        vertical-align: top;\n",
       "    }\n",
       "\n",
       "    .dataframe thead th {\n",
       "        text-align: right;\n",
       "    }\n",
       "</style>\n",
       "<table border=\"1\" class=\"dataframe\">\n",
       "  <thead>\n",
       "    <tr style=\"text-align: right;\">\n",
       "      <th></th>\n",
       "      <th>assignees</th>\n",
       "      <th>body</th>\n",
       "      <th>closed_date</th>\n",
       "      <th>comments</th>\n",
       "      <th>completed_by</th>\n",
       "      <th>created_date</th>\n",
       "      <th>title</th>\n",
       "      <th>a: accessibility</th>\n",
       "      <th>a: animation</th>\n",
       "      <th>a: china</th>\n",
       "      <th>...</th>\n",
       "      <th>team: gallery</th>\n",
       "      <th>tool</th>\n",
       "      <th>waiting for PR to land (fixed)</th>\n",
       "      <th>waiting for customer response</th>\n",
       "      <th>⌘‬ platform-mac</th>\n",
       "      <th>⌺‬ platform-ios</th>\n",
       "      <th>▣ platform-android</th>\n",
       "      <th>○ platform-fuchsia</th>\n",
       "      <th>⚠ TODAY</th>\n",
       "      <th>❖ platform-windows</th>\n",
       "    </tr>\n",
       "  </thead>\n",
       "  <tbody>\n",
       "    <tr>\n",
       "      <th>0</th>\n",
       "      <td>[]</td>\n",
       "      <td>&lt;a href=\"https://github.com/Hixie\"&gt;&lt;img src=\"h...</td>\n",
       "      <td>2015-11-09 20:18:24</td>\n",
       "      <td>1</td>\n",
       "      <td>yjbanov</td>\n",
       "      <td>2015-11-09 20:16:52</td>\n",
       "      <td>Swipe to change between Tabs</td>\n",
       "      <td>0</td>\n",
       "      <td>0</td>\n",
       "      <td>0</td>\n",
       "      <td>...</td>\n",
       "      <td>0</td>\n",
       "      <td>0</td>\n",
       "      <td>0</td>\n",
       "      <td>0</td>\n",
       "      <td>0</td>\n",
       "      <td>0</td>\n",
       "      <td>0</td>\n",
       "      <td>0</td>\n",
       "      <td>0</td>\n",
       "      <td>0</td>\n",
       "    </tr>\n",
       "    <tr>\n",
       "      <th>1</th>\n",
       "      <td>[abarth]</td>\n",
       "      <td>flutter start --debug\\nsevere: To copy files t...</td>\n",
       "      <td>2015-11-09 21:43:40</td>\n",
       "      <td>1</td>\n",
       "      <td>abarth</td>\n",
       "      <td>2015-11-09 20:50:45</td>\n",
       "      <td>Exception running source build of engine on Mac</td>\n",
       "      <td>0</td>\n",
       "      <td>0</td>\n",
       "      <td>0</td>\n",
       "      <td>...</td>\n",
       "      <td>0</td>\n",
       "      <td>1</td>\n",
       "      <td>0</td>\n",
       "      <td>0</td>\n",
       "      <td>0</td>\n",
       "      <td>0</td>\n",
       "      <td>0</td>\n",
       "      <td>0</td>\n",
       "      <td>0</td>\n",
       "      <td>0</td>\n",
       "    </tr>\n",
       "  </tbody>\n",
       "</table>\n",
       "<p>2 rows × 84 columns</p>\n",
       "</div>"
      ],
      "text/plain": [
       "  assignees                                               body  \\\n",
       "0        []  <a href=\"https://github.com/Hixie\"><img src=\"h...   \n",
       "1  [abarth]  flutter start --debug\\nsevere: To copy files t...   \n",
       "\n",
       "          closed_date  comments completed_by        created_date  \\\n",
       "0 2015-11-09 20:18:24         1      yjbanov 2015-11-09 20:16:52   \n",
       "1 2015-11-09 21:43:40         1       abarth 2015-11-09 20:50:45   \n",
       "\n",
       "                                             title  a: accessibility  \\\n",
       "0                     Swipe to change between Tabs                 0   \n",
       "1  Exception running source build of engine on Mac                 0   \n",
       "\n",
       "   a: animation  a: china         ...          team: gallery  tool  \\\n",
       "0             0         0         ...                      0     0   \n",
       "1             0         0         ...                      0     1   \n",
       "\n",
       "   waiting for PR to land (fixed)  waiting for customer response  \\\n",
       "0                               0                              0   \n",
       "1                               0                              0   \n",
       "\n",
       "   ⌘‬ platform-mac  ⌺‬ platform-ios  ▣ platform-android  ○ platform-fuchsia  \\\n",
       "0                0                0                   0                   0   \n",
       "1                0                0                   0                   0   \n",
       "\n",
       "   ⚠ TODAY  ❖ platform-windows  \n",
       "0        0                   0  \n",
       "1        0                   0  \n",
       "\n",
       "[2 rows x 84 columns]"
      ]
     },
     "execution_count": 306,
     "metadata": {},
     "output_type": "execute_result"
    }
   ],
   "source": [
    "# one hot encode the label column\n",
    "mlb = MultiLabelBinarizer()\n",
    "df = df.join(pd.DataFrame(mlb.fit_transform(df.pop('labels')),\n",
    "                          columns=mlb.classes_,\n",
    "                          index=df.index))\n",
    "df.head(2)"
   ]
  },
  {
   "cell_type": "code",
   "execution_count": 307,
   "metadata": {
    "scrolled": true
   },
   "outputs": [],
   "source": [
    "def preprocess(text):\n",
    "    stemmer = PorterStemmer()\n",
    "    # remove punctuation and non-alpha numeric characters\n",
    "    split1 = ' '.join([word for word in re.split('\\W+', text) if word.isalpha()])\n",
    "    # split camel case words apart (necessary for embedded code) and apply stemmer to all words\n",
    "    split2 = ' '.join([stemmer.stem(word) for word in re.sub('(?!^)([A-Z][a-z]+)', r' \\1', split1).split()])\n",
    "    return split2"
   ]
  },
  {
   "cell_type": "code",
   "execution_count": 308,
   "metadata": {
    "scrolled": true
   },
   "outputs": [
    {
     "name": "stdout",
     "output_type": "stream",
     "text": [
      "(2268, 4960)\n",
      "(2268, 1804)\n"
     ]
    }
   ],
   "source": [
    "# use tf-idf w/ stemming, stop-word removal, and non-alphabetic word removal to generate features\n",
    "df['body'] = df['body'].apply(preprocess)\n",
    "vectorizer_body = TfidfVectorizer(stop_words=ENGLISH_STOP_WORDS)\n",
    "vectorizer_body.fit(df['body'])\n",
    "vector_body = vectorizer_body.transform(df['body'])\n",
    "# summarize encoded vector\n",
    "print(vector_body.shape)\n",
    "df['title'] = df['title'].apply(preprocess)\n",
    "vectorizer_title = TfidfVectorizer(stop_words=ENGLISH_STOP_WORDS)\n",
    "vectorizer_title.fit(df['title'])\n",
    "vector_title = vectorizer_title.transform(df['title'])\n",
    "# summarize encoded vector\n",
    "print(vector_title.shape)"
   ]
  },
  {
   "cell_type": "code",
   "execution_count": 309,
   "metadata": {
    "scrolled": true
   },
   "outputs": [
    {
     "data": {
      "text/html": [
       "<div>\n",
       "<style scoped>\n",
       "    .dataframe tbody tr th:only-of-type {\n",
       "        vertical-align: middle;\n",
       "    }\n",
       "\n",
       "    .dataframe tbody tr th {\n",
       "        vertical-align: top;\n",
       "    }\n",
       "\n",
       "    .dataframe thead th {\n",
       "        text-align: right;\n",
       "    }\n",
       "</style>\n",
       "<table border=\"1\" class=\"dataframe\">\n",
       "  <thead>\n",
       "    <tr style=\"text-align: right;\">\n",
       "      <th></th>\n",
       "      <th>assignees</th>\n",
       "      <th>body</th>\n",
       "      <th>closed_date</th>\n",
       "      <th>comments</th>\n",
       "      <th>completed_by</th>\n",
       "      <th>created_date</th>\n",
       "      <th>title</th>\n",
       "      <th>a: accessibility</th>\n",
       "      <th>a: animation</th>\n",
       "      <th>a: china</th>\n",
       "      <th>...</th>\n",
       "      <th>4950</th>\n",
       "      <th>4951</th>\n",
       "      <th>4952</th>\n",
       "      <th>4953</th>\n",
       "      <th>4954</th>\n",
       "      <th>4955</th>\n",
       "      <th>4956</th>\n",
       "      <th>4957</th>\n",
       "      <th>4958</th>\n",
       "      <th>4959</th>\n",
       "    </tr>\n",
       "  </thead>\n",
       "  <tbody>\n",
       "    <tr>\n",
       "      <th>0</th>\n",
       "      <td>[]</td>\n",
       "      <td>a href http github com hixi img src http avata...</td>\n",
       "      <td>2015-11-09 20:18:24</td>\n",
       "      <td>1</td>\n",
       "      <td>yjbanov</td>\n",
       "      <td>2015-11-09 20:16:52</td>\n",
       "      <td>swipe to chang between tab</td>\n",
       "      <td>0</td>\n",
       "      <td>0</td>\n",
       "      <td>0</td>\n",
       "      <td>...</td>\n",
       "      <td>0.0</td>\n",
       "      <td>0.0</td>\n",
       "      <td>0.0</td>\n",
       "      <td>0.0</td>\n",
       "      <td>0.0</td>\n",
       "      <td>0.0</td>\n",
       "      <td>0.0</td>\n",
       "      <td>0.0</td>\n",
       "      <td>0.0</td>\n",
       "      <td>0.0</td>\n",
       "    </tr>\n",
       "    <tr>\n",
       "      <th>1</th>\n",
       "      <td>[abarth]</td>\n",
       "      <td>flutter start debug sever To copi file to io d...</td>\n",
       "      <td>2015-11-09 21:43:40</td>\n",
       "      <td>1</td>\n",
       "      <td>abarth</td>\n",
       "      <td>2015-11-09 20:50:45</td>\n",
       "      <td>except run sourc build of engin on mac</td>\n",
       "      <td>0</td>\n",
       "      <td>0</td>\n",
       "      <td>0</td>\n",
       "      <td>...</td>\n",
       "      <td>0.0</td>\n",
       "      <td>0.0</td>\n",
       "      <td>0.0</td>\n",
       "      <td>0.0</td>\n",
       "      <td>0.0</td>\n",
       "      <td>0.0</td>\n",
       "      <td>0.0</td>\n",
       "      <td>0.0</td>\n",
       "      <td>0.0</td>\n",
       "      <td>0.0</td>\n",
       "    </tr>\n",
       "  </tbody>\n",
       "</table>\n",
       "<p>2 rows × 6848 columns</p>\n",
       "</div>"
      ],
      "text/plain": [
       "  assignees                                               body  \\\n",
       "0        []  a href http github com hixi img src http avata...   \n",
       "1  [abarth]  flutter start debug sever To copi file to io d...   \n",
       "\n",
       "          closed_date  comments completed_by        created_date  \\\n",
       "0 2015-11-09 20:18:24         1      yjbanov 2015-11-09 20:16:52   \n",
       "1 2015-11-09 21:43:40         1       abarth 2015-11-09 20:50:45   \n",
       "\n",
       "                                    title  a: accessibility  a: animation  \\\n",
       "0              swipe to chang between tab                 0             0   \n",
       "1  except run sourc build of engin on mac                 0             0   \n",
       "\n",
       "   a: china  ...   4950  4951  4952  4953  4954  4955  4956  4957  4958  4959  \n",
       "0         0  ...    0.0   0.0   0.0   0.0   0.0   0.0   0.0   0.0   0.0   0.0  \n",
       "1         0  ...    0.0   0.0   0.0   0.0   0.0   0.0   0.0   0.0   0.0   0.0  \n",
       "\n",
       "[2 rows x 6848 columns]"
      ]
     },
     "execution_count": 309,
     "metadata": {},
     "output_type": "execute_result"
    }
   ],
   "source": [
    "title_df = pd.DataFrame(vector_title.todense())\n",
    "body_df = pd.DataFrame(vector_body.todense())\n",
    "df = pd.concat([df, title_df, body_df], axis=1)\n",
    "df.head(2)"
   ]
  },
  {
   "cell_type": "code",
   "execution_count": 310,
   "metadata": {
    "scrolled": true
   },
   "outputs": [
    {
     "name": "stdout",
     "output_type": "stream",
     "text": [
      "{'jason-simmons': 21, 'aam': 27, 'yjbanov': 16, 'cbracken': 34, 'Hixie': 33, 'gspencergoog': 10, 'xster': 50, 'goderbauer': 41, 'a-siva': 1, 'chinmaygarde': 1, 'mravn-google': 21, 'HansMuller': 35, 'abarth': 1, 'tvolkert': 17, 'amirh': 4, 'Skylled': 1, 'leobispo': 1, 'sigurdm': 1, 'mehmetf': 1, 'fredriks': 1, 'jakobr-google': 1, 'crelier': 1, 'alibitek': 1, 'mit-mit': 3, 'jcollins-g': 11, 'dnfield': 2, 'DanTup': 5, 'mraleph': 4, 'rmacnak-google': 1, 'DaveShuckerow': 2, 'szakarias': 3, 'xqwzts': 5, 'jonahwilliams': 27, 'danrubel': 1, 'konifar': 2, 'sroddy': 1, 'matanlurey': 1, 'srawlins': 1, 'sbaranov': 1, 'OhadRau': 1, 'scheglov': 2, 'filleduchaos': 1, 'blasten': 2, 'mattsarett': 1, 'devoncarew': 6, 'liyuqian': 1, 'slightfoot': 2, 'ng1905': 1, 'fmatosqg': 2, 'paulcbetts': 1}\n",
      "{'mravn-google', 'yjbanov', 'liyuqian', 'gspencergoog', 'amirh', 'ng1905', 'HansMuller', 'paulcbetts', 'OhadRau', 'DanTup', 'sroddy', 'fmatosqg', 'blasten', 'fredriks', 'sigurdm', 'szakarias', 'jonahwilliams', 'leobispo', 'Hixie', 'a-siva', 'slightfoot', 'mit-mit', 'dnfield', 'srawlins', 'abarth', 'cbracken', 'crelier', 'rmacnak-google', 'filleduchaos', 'tvolkert', 'mehmetf', 'sbaranov', 'devoncarew', 'alibitek', 'danrubel', 'xqwzts', 'aam', 'matanlurey', 'mraleph', 'xster', 'jason-simmons', 'chinmaygarde', 'Skylled', 'mattsarett', 'DaveShuckerow', 'jakobr-google', 'goderbauer', 'jcollins-g', 'konifar', 'scheglov'}\n",
      "2037\n"
     ]
    }
   ],
   "source": [
    "# get list of devs who solve an issue in last three months (from end of train set)\n",
    "active_devs = set()\n",
    "dev_counts = {}\n",
    "filter_date = df.iloc[2000]['closed_date'] - pd.to_timedelta(90, unit='d')\n",
    "for _, row in df.iterrows():\n",
    "    if (row['closed_date'] > filter_date):\n",
    "        dev_counts[row['completed_by']] = dev_counts.get(row['completed_by'], 0) + 1\n",
    "print(dev_counts)\n",
    "for dev in dev_counts:\n",
    "    if dev_counts[dev] >= 1:\n",
    "        active_devs.add(dev)\n",
    "print(active_devs)\n",
    "# remove all issues not solved by an active dev\n",
    "df = df[df['completed_by'].isin(active_devs)].reset_index(drop=True)\n",
    "print(len(df))"
   ]
  },
  {
   "cell_type": "markdown",
   "metadata": {},
   "source": [
    "# Machine Learning"
   ]
  },
  {
   "cell_type": "code",
   "execution_count": 311,
   "metadata": {
    "scrolled": true
   },
   "outputs": [
    {
     "name": "stdout",
     "output_type": "stream",
     "text": [
      "1100\n",
      "937\n"
     ]
    }
   ],
   "source": [
    "train_df = df[:1100]\n",
    "test_df = df[1100:]\n",
    "X_train = train_df.drop(['body', 'closed_date', 'completed_by', 'created_date', 'title', 'comments', 'assignees'], axis=1)\n",
    "y_train = train_df['completed_by']\n",
    "X_test = test_df.drop(['body', 'closed_date', 'completed_by', 'created_date', 'title', 'comments', 'assignees'], axis=1)\n",
    "y_test = test_df['completed_by']\n",
    "print(len(X_train))\n",
    "print(len(X_test))"
   ]
  },
  {
   "cell_type": "code",
   "execution_count": 312,
   "metadata": {
    "scrolled": true
   },
   "outputs": [],
   "source": [
    "def is_correct_top_k(pred_prob, k, actual, labels):\n",
    "    indices = [i for i in range(len(pred_prob))]\n",
    "    top_indices = nlargest(k, indices, key=lambda i: pred_prob[i])\n",
    "    top_choices = set([labels[i] for i in top_indices])\n",
    "    return actual in top_choices"
   ]
  },
  {
   "cell_type": "code",
   "execution_count": 313,
   "metadata": {
    "scrolled": true
   },
   "outputs": [
    {
     "name": "stdout",
     "output_type": "stream",
     "text": [
      "Top 1 Accuracy: 0.20597652081109924\n",
      "Top 2 Accuracy: 0.3105656350053362\n",
      "Top 3 Accuracy: 0.37246531483457845\n",
      "Top 4 Accuracy: 0.41728922091782283\n",
      "Top 5 Accuracy: 0.4503735325506937\n"
     ]
    }
   ],
   "source": [
    "classifier = MLPClassifier(hidden_layer_sizes=(25,25))\n",
    "classifier.fit(X_train,y_train)\n",
    "classes = classifier.classes_\n",
    "print(\"Top 1 Accuracy: \" + str(classifier.score(X_test, y_test)))\n",
    "pred_probs = classifier.predict_proba(X_test)\n",
    "correct = 0\n",
    "for idx, pred in enumerate(pred_probs):\n",
    "    if is_correct_top_k(pred, 2, y_test[1100 + idx], classes):\n",
    "        correct += 1\n",
    "print (\"Top 2 Accuracy: \" + str((correct/len(y_test))))\n",
    "correct = 0\n",
    "for idx, pred in enumerate(pred_probs):\n",
    "    if is_correct_top_k(pred, 3, y_test[1100 + idx], classes):\n",
    "        correct += 1\n",
    "print (\"Top 3 Accuracy: \" + str((correct/len(y_test))))\n",
    "correct = 0\n",
    "for idx, pred in enumerate(pred_probs):\n",
    "    if is_correct_top_k(pred, 4, y_test[1100 + idx], classes):\n",
    "        correct += 1\n",
    "print (\"Top 4 Accuracy: \" + str((correct/len(y_test))))\n",
    "correct = 0\n",
    "for idx, pred in enumerate(pred_probs):\n",
    "    if is_correct_top_k(pred, 5, y_test[1100 + idx], classes):\n",
    "        correct += 1\n",
    "print (\"Top 5 Accuracy: \" + str((correct/len(y_test))))"
   ]
  },
  {
   "cell_type": "code",
   "execution_count": 314,
   "metadata": {
    "scrolled": true
   },
   "outputs": [
    {
     "name": "stdout",
     "output_type": "stream",
     "text": [
      "Top 1 Accuracy: 0.13233724653148346\n",
      "Top 2 Accuracy: 0.1376734258271078\n",
      "Top 3 Accuracy: 0.21558164354322304\n",
      "Top 4 Accuracy: 0.288153681963714\n",
      "Top 5 Accuracy: 0.29242262540021347\n"
     ]
    }
   ],
   "source": [
    "classifier = GaussianNB()\n",
    "classifier.fit(X_train,y_train)\n",
    "classes = classifier.classes_\n",
    "print(\"Top 1 Accuracy: \" + str(classifier.score(X_test, y_test)))\n",
    "pred_probs = classifier.predict_proba(X_test)\n",
    "correct = 0\n",
    "for idx, pred in enumerate(pred_probs):\n",
    "    if is_correct_top_k(pred, 2, y_test[1100 + idx], classes):\n",
    "        correct += 1\n",
    "print (\"Top 2 Accuracy: \" + str((correct/len(y_test))))\n",
    "correct = 0\n",
    "for idx, pred in enumerate(pred_probs):\n",
    "    if is_correct_top_k(pred, 3, y_test[1100 + idx], classes):\n",
    "        correct += 1\n",
    "print (\"Top 3 Accuracy: \" + str((correct/len(y_test))))\n",
    "correct = 0\n",
    "for idx, pred in enumerate(pred_probs):\n",
    "    if is_correct_top_k(pred, 4, y_test[1100 + idx], classes):\n",
    "        correct += 1\n",
    "print (\"Top 4 Accuracy: \" + str((correct/len(y_test))))\n",
    "correct = 0\n",
    "for idx, pred in enumerate(pred_probs):\n",
    "    if is_correct_top_k(pred, 5, y_test[1100 + idx], classes):\n",
    "        correct += 1\n",
    "print (\"Top 5 Accuracy: \" + str((correct/len(y_test))))"
   ]
  },
  {
   "cell_type": "code",
   "execution_count": 315,
   "metadata": {
    "scrolled": true
   },
   "outputs": [
    {
     "name": "stdout",
     "output_type": "stream",
     "text": [
      "Top 1 Accuracy: 0.1056563500533618\n",
      "Top 2 Accuracy: 0.23372465314834578\n",
      "Top 3 Accuracy: 0.30202774813233724\n",
      "Top 4 Accuracy: 0.3265741728922092\n",
      "Top 5 Accuracy: 0.3810032017075774\n"
     ]
    }
   ],
   "source": [
    "classifier = BernoulliNB()\n",
    "classifier.fit(X_train,y_train)\n",
    "classes = classifier.classes_\n",
    "print(\"Top 1 Accuracy: \" + str(classifier.score(X_test, y_test)))\n",
    "pred_probs = classifier.predict_proba(X_test)\n",
    "correct = 0\n",
    "for idx, pred in enumerate(pred_probs):\n",
    "    if is_correct_top_k(pred, 2, y_test[1100 + idx], classes):\n",
    "        correct += 1\n",
    "print (\"Top 2 Accuracy: \" + str((correct/len(y_test))))\n",
    "correct = 0\n",
    "for idx, pred in enumerate(pred_probs):\n",
    "    if is_correct_top_k(pred, 3, y_test[1100 + idx], classes):\n",
    "        correct += 1\n",
    "print (\"Top 3 Accuracy: \" + str((correct/len(y_test))))\n",
    "correct = 0\n",
    "for idx, pred in enumerate(pred_probs):\n",
    "    if is_correct_top_k(pred, 4, y_test[1100 + idx], classes):\n",
    "        correct += 1\n",
    "print (\"Top 4 Accuracy: \" + str((correct/len(y_test))))\n",
    "correct = 0\n",
    "for idx, pred in enumerate(pred_probs):\n",
    "    if is_correct_top_k(pred, 5, y_test[1100 + idx], classes):\n",
    "        correct += 1\n",
    "print (\"Top 5 Accuracy: \" + str((correct/len(y_test))))"
   ]
  },
  {
   "cell_type": "code",
   "execution_count": 316,
   "metadata": {
    "scrolled": true
   },
   "outputs": [
    {
     "name": "stdout",
     "output_type": "stream",
     "text": [
      "Top 1 Accuracy: 0.19637139807897544\n",
      "Top 2 Accuracy: 0.2529348986125934\n",
      "Top 3 Accuracy: 0.3073639274279616\n",
      "Top 4 Accuracy: 0.33938100320170755\n",
      "Top 5 Accuracy: 0.3511205976520811\n"
     ]
    }
   ],
   "source": [
    "classifier = KNeighborsClassifier(n_neighbors=3)\n",
    "classifier.fit(X_train, y_train)\n",
    "classes = classifier.classes_\n",
    "print(\"Top 1 Accuracy: \" + str(classifier.score(X_test, y_test)))\n",
    "pred_probs = classifier.predict_proba(X_test)\n",
    "correct = 0\n",
    "for idx, pred in enumerate(pred_probs):\n",
    "    if is_correct_top_k(pred, 2, y_test[1100 + idx], classes):\n",
    "        correct += 1\n",
    "print (\"Top 2 Accuracy: \" + str((correct/len(y_test))))\n",
    "correct = 0\n",
    "for idx, pred in enumerate(pred_probs):\n",
    "    if is_correct_top_k(pred, 3, y_test[1100 + idx], classes):\n",
    "        correct += 1\n",
    "print (\"Top 3 Accuracy: \" + str((correct/len(y_test))))\n",
    "correct = 0\n",
    "for idx, pred in enumerate(pred_probs):\n",
    "    if is_correct_top_k(pred, 4, y_test[1100 + idx], classes):\n",
    "        correct += 1\n",
    "print (\"Top 4 Accuracy: \" + str((correct/len(y_test))))\n",
    "correct = 0\n",
    "for idx, pred in enumerate(pred_probs):\n",
    "    if is_correct_top_k(pred, 5, y_test[1100 + idx], classes):\n",
    "        correct += 1\n",
    "print (\"Top 5 Accuracy: \" + str((correct/len(y_test))))"
   ]
  },
  {
   "cell_type": "code",
   "execution_count": 317,
   "metadata": {
    "scrolled": true
   },
   "outputs": [
    {
     "name": "stdout",
     "output_type": "stream",
     "text": [
      "Top 1 Accuracy: 0.18569903948772679\n",
      "Top 2 Accuracy: 0.2902881536819637\n",
      "Top 3 Accuracy: 0.3575240128068303\n",
      "Top 4 Accuracy: 0.40768409818569906\n",
      "Top 5 Accuracy: 0.4418356456776948\n"
     ]
    }
   ],
   "source": [
    "classifier = RandomForestClassifier(n_estimators=1000)\n",
    "classifier.fit(X_train, y_train)\n",
    "classes = classifier.classes_\n",
    "print(\"Top 1 Accuracy: \" + str(classifier.score(X_test, y_test)))\n",
    "pred_probs = classifier.predict_proba(X_test)\n",
    "correct = 0\n",
    "for idx, pred in enumerate(pred_probs):\n",
    "    if is_correct_top_k(pred, 2, y_test[1100 + idx], classes):\n",
    "        correct += 1\n",
    "print (\"Top 2 Accuracy: \" + str((correct/len(y_test))))\n",
    "correct = 0\n",
    "for idx, pred in enumerate(pred_probs):\n",
    "    if is_correct_top_k(pred, 3, y_test[1100 + idx], classes):\n",
    "        correct += 1\n",
    "print (\"Top 3 Accuracy: \" + str((correct/len(y_test))))\n",
    "correct = 0\n",
    "for idx, pred in enumerate(pred_probs):\n",
    "    if is_correct_top_k(pred, 4, y_test[1100 + idx], classes):\n",
    "        correct += 1\n",
    "print (\"Top 4 Accuracy: \" + str((correct/len(y_test))))\n",
    "correct = 0\n",
    "for idx, pred in enumerate(pred_probs):\n",
    "    if is_correct_top_k(pred, 5, y_test[1100 + idx], classes):\n",
    "        correct += 1\n",
    "print (\"Top 5 Accuracy: \" + str((correct/len(y_test))))"
   ]
  },
  {
   "cell_type": "code",
   "execution_count": 318,
   "metadata": {
    "scrolled": true
   },
   "outputs": [
    {
     "data": {
      "text/plain": [
       "'\\n#TODO: try SVC (might need to do something else)\\nclassifier = SVC(probability=True)\\nclassifier.fit(X_train, y_train)\\nclasses = classifier.classes_\\nprint(\"Top 1 Accuracy: \" + str(classifier.score(X_test, y_test)))\\npred_probs = classifier.predict_proba(X_test)\\ncorrect = 0\\nfor idx, pred in enumerate(pred_probs):\\n    if is_correct_top_k(pred, 2, y_test[1100 + idx], classes):\\n        correct += 1\\nprint (\"Top 2 Accuracy: \" + str((correct/len(y_test))))\\ncorrect = 0\\nfor idx, pred in enumerate(pred_probs):\\n    if is_correct_top_k(pred, 3, y_test[1100 + idx], classes):\\n        correct += 1\\nprint (\"Top 3 Accuracy: \" + str((correct/len(y_test))))\\ncorrect = 0\\nfor idx, pred in enumerate(pred_probs):\\n    if is_correct_top_k(pred, 4, y_test[1100 + idx], classes):\\n        correct += 1\\nprint (\"Top 4 Accuracy: \" + str((correct/len(y_test))))\\ncorrect = 0\\nfor idx, pred in enumerate(pred_probs):\\n    if is_correct_top_k(pred, 5, y_test[1100 + idx], classes):\\n        correct += 1\\nprint (\"Top 5 Accuracy: \" + str((correct/len(y_test))))\\n'"
      ]
     },
     "execution_count": 318,
     "metadata": {},
     "output_type": "execute_result"
    }
   ],
   "source": [
    "'''\n",
    "#TODO: try SVC (might need to do something else)\n",
    "classifier = SVC(probability=True)\n",
    "classifier.fit(X_train, y_train)\n",
    "classes = classifier.classes_\n",
    "print(\"Top 1 Accuracy: \" + str(classifier.score(X_test, y_test)))\n",
    "pred_probs = classifier.predict_proba(X_test)\n",
    "correct = 0\n",
    "for idx, pred in enumerate(pred_probs):\n",
    "    if is_correct_top_k(pred, 2, y_test[1100 + idx], classes):\n",
    "        correct += 1\n",
    "print (\"Top 2 Accuracy: \" + str((correct/len(y_test))))\n",
    "correct = 0\n",
    "for idx, pred in enumerate(pred_probs):\n",
    "    if is_correct_top_k(pred, 3, y_test[1100 + idx], classes):\n",
    "        correct += 1\n",
    "print (\"Top 3 Accuracy: \" + str((correct/len(y_test))))\n",
    "correct = 0\n",
    "for idx, pred in enumerate(pred_probs):\n",
    "    if is_correct_top_k(pred, 4, y_test[1100 + idx], classes):\n",
    "        correct += 1\n",
    "print (\"Top 4 Accuracy: \" + str((correct/len(y_test))))\n",
    "correct = 0\n",
    "for idx, pred in enumerate(pred_probs):\n",
    "    if is_correct_top_k(pred, 5, y_test[1100 + idx], classes):\n",
    "        correct += 1\n",
    "print (\"Top 5 Accuracy: \" + str((correct/len(y_test))))\n",
    "'''"
   ]
  },
  {
   "cell_type": "markdown",
   "metadata": {},
   "source": [
    "# Analysis"
   ]
  },
  {
   "cell_type": "code",
   "execution_count": 319,
   "metadata": {
    "scrolled": true
   },
   "outputs": [
    {
     "name": "stdout",
     "output_type": "stream",
     "text": [
      "['abarth' 'abarth' 'abarth' 'jason-simmons' 'HansMuller' 'abarth' 'abarth'\n",
      " 'jakobr-google' 'abarth' 'cbracken' 'abarth' 'abarth' 'Hixie'\n",
      " 'chinmaygarde' 'devoncarew' 'Hixie' 'devoncarew' 'abarth' 'danrubel'\n",
      " 'abarth' 'abarth' 'abarth' 'devoncarew' 'devoncarew' 'devoncarew'\n",
      " 'jakobr-google' 'abarth' 'abarth' 'jakobr-google' 'HansMuller' 'abarth'\n",
      " 'jakobr-google' 'abarth' 'HansMuller' 'jakobr-google' 'abarth' 'yjbanov'\n",
      " 'abarth' 'devoncarew' 'Hixie' 'abarth' 'danrubel' 'goderbauer' 'abarth'\n",
      " 'cbracken' 'HansMuller' 'chinmaygarde' 'devoncarew' 'devoncarew'\n",
      " 'goderbauer' 'HansMuller' 'Hixie' 'Hixie' 'Hixie' 'cbracken' 'goderbauer'\n",
      " 'cbracken' 'Hixie' 'HansMuller' 'abarth' 'Hixie' 'chinmaygarde'\n",
      " 'jakobr-google' 'abarth' 'devoncarew' 'HansMuller' 'abarth' 'cbracken'\n",
      " 'HansMuller' 'cbracken' 'HansMuller' 'Hixie' 'chinmaygarde' 'abarth'\n",
      " 'abarth' 'yjbanov' 'abarth' 'abarth' 'abarth' 'abarth' 'abarth'\n",
      " 'devoncarew' 'jakobr-google' 'devoncarew' 'abarth' 'goderbauer'\n",
      " 'jakobr-google' 'abarth' 'yjbanov' 'abarth' 'abarth' 'abarth' 'abarth'\n",
      " 'abarth' 'abarth' 'abarth' 'Hixie' 'abarth' 'devoncarew' 'abarth'\n",
      " 'abarth' 'abarth' 'abarth' 'abarth' 'Hixie' 'abarth' 'abarth' 'abarth'\n",
      " 'abarth' 'jakobr-google' 'cbracken' 'aam' 'abarth' 'HansMuller' 'abarth'\n",
      " 'abarth' 'devoncarew' 'jason-simmons' 'yjbanov' 'abarth' 'abarth'\n",
      " 'HansMuller' 'abarth' 'yjbanov' 'HansMuller' 'devoncarew' 'chinmaygarde'\n",
      " 'Hixie' 'abarth' 'HansMuller' 'abarth' 'HansMuller' 'abarth'\n",
      " 'jason-simmons' 'abarth' 'devoncarew' 'devoncarew' 'HansMuller' 'abarth'\n",
      " 'Hixie' 'abarth' 'Hixie' 'abarth' 'cbracken' 'abarth' 'abarth' 'abarth'\n",
      " 'devoncarew' 'HansMuller' 'abarth' 'devoncarew' 'dnfield' 'devoncarew'\n",
      " 'Hixie' 'cbracken' 'abarth' 'abarth' 'abarth' 'abarth' 'cbracken'\n",
      " 'HansMuller' 'Hixie' 'abarth' 'abarth' 'abarth' 'abarth' 'abarth'\n",
      " 'abarth' 'abarth' 'devoncarew' 'HansMuller' 'Hixie' 'abarth' 'devoncarew'\n",
      " 'abarth' 'cbracken' 'abarth' 'abarth' 'chinmaygarde' 'abarth' 'abarth'\n",
      " 'abarth' 'abarth' 'abarth' 'abarth' 'abarth' 'goderbauer' 'abarth'\n",
      " 'Hixie' 'abarth' 'goderbauer' 'cbracken' 'abarth' 'abarth' 'Hixie'\n",
      " 'devoncarew' 'devoncarew' 'abarth' 'abarth' 'abarth' 'chinmaygarde'\n",
      " 'abarth' 'abarth' 'Hixie' 'Hixie' 'cbracken' 'abarth' 'Hixie' 'Hixie'\n",
      " 'Hixie' 'Hixie' 'HansMuller' 'Hixie' 'tvolkert' 'HansMuller' 'HansMuller'\n",
      " 'HansMuller' 'abarth' 'abarth' 'devoncarew' 'danrubel' 'Hixie'\n",
      " 'devoncarew' 'HansMuller' 'HansMuller' 'Hixie' 'Hixie' 'abarth' 'abarth'\n",
      " 'abarth' 'HansMuller' 'devoncarew' 'devoncarew' 'jason-simmons' 'aam'\n",
      " 'HansMuller' 'devoncarew' 'Hixie' 'abarth' 'abarth' 'abarth' 'abarth'\n",
      " 'HansMuller' 'jason-simmons' 'Hixie' 'abarth' 'jakobr-google' 'abarth'\n",
      " 'devoncarew' 'abarth' 'jason-simmons' 'abarth' 'abarth' 'devoncarew'\n",
      " 'cbracken' 'abarth' 'chinmaygarde' 'jakobr-google' 'Hixie' 'Hixie'\n",
      " 'Hixie' 'HansMuller' 'cbracken' 'devoncarew' 'jakobr-google' 'abarth'\n",
      " 'abarth' 'Hixie' 'abarth' 'Hixie' 'Hixie' 'Hixie' 'abarth' 'Hixie'\n",
      " 'devoncarew' 'abarth' 'devoncarew' 'abarth' 'HansMuller' 'abarth'\n",
      " 'HansMuller' 'devoncarew' 'abarth' 'Hixie' 'cbracken' 'HansMuller'\n",
      " 'devoncarew' 'abarth' 'devoncarew' 'Hixie' 'abarth' 'dnfield'\n",
      " 'devoncarew' 'HansMuller' 'HansMuller' 'Hixie' 'Hixie' 'Hixie' 'Hixie'\n",
      " 'Hixie' 'Hixie' 'Hixie' 'abarth' 'abarth' 'HansMuller' 'yjbanov'\n",
      " 'jason-simmons' 'abarth' 'chinmaygarde' 'cbracken' 'danrubel'\n",
      " 'HansMuller' 'abarth' 'Hixie' 'Hixie' 'Hixie' 'jason-simmons' 'abarth'\n",
      " 'HansMuller' 'devoncarew' 'cbracken' 'abarth' 'abarth' 'devoncarew'\n",
      " 'HansMuller' 'abarth' 'devoncarew' 'HansMuller' 'Hixie' 'abarth' 'abarth'\n",
      " 'abarth' 'jakobr-google' 'jakobr-google' 'Hixie' 'jason-simmons' 'abarth'\n",
      " 'Hixie' 'Hixie' 'Hixie' 'devoncarew' 'abarth' 'abarth' 'tvolkert'\n",
      " 'jakobr-google' 'devoncarew' 'cbracken' 'HansMuller' 'chinmaygarde'\n",
      " 'abarth' 'cbracken' 'abarth' 'devoncarew' 'abarth' 'chinmaygarde'\n",
      " 'cbracken' 'HansMuller' 'HansMuller' 'yjbanov' 'jason-simmons' 'cbracken'\n",
      " 'chinmaygarde' 'abarth' 'abarth' 'abarth' 'abarth' 'HansMuller'\n",
      " 'HansMuller' 'cbracken' 'abarth' 'HansMuller' 'abarth' 'abarth'\n",
      " 'jakobr-google' 'jakobr-google' 'danrubel' 'abarth' 'abarth' 'abarth'\n",
      " 'HansMuller' 'tvolkert' 'HansMuller' 'abarth' 'HansMuller' 'HansMuller'\n",
      " 'abarth' 'jakobr-google' 'devoncarew' 'HansMuller' 'jakobr-google'\n",
      " 'devoncarew' 'Hixie' 'devoncarew' 'chinmaygarde' 'abarth' 'abarth'\n",
      " 'abarth' 'cbracken' 'jakobr-google' 'HansMuller' 'Hixie' 'abarth'\n",
      " 'abarth' 'Hixie' 'Hixie' 'HansMuller' 'Hixie' 'abarth' 'Hixie'\n",
      " 'devoncarew' 'Hixie' 'HansMuller' 'Hixie' 'Hixie' 'Hixie' 'Hixie'\n",
      " 'cbracken' 'cbracken' 'Hixie' 'Hixie' 'Hixie' 'abarth' 'Hixie' 'Hixie'\n",
      " 'Hixie' 'Hixie' 'Hixie' 'Hixie' 'Hixie' 'cbracken' 'jason-simmons'\n",
      " 'cbracken' 'devoncarew' 'devoncarew' 'abarth' 'chinmaygarde' 'abarth'\n",
      " 'Hixie' 'HansMuller' 'Hixie' 'abarth' 'Hixie' 'Hixie' 'devoncarew'\n",
      " 'chinmaygarde' 'HansMuller' 'abarth' 'abarth' 'abarth' 'chinmaygarde'\n",
      " 'HansMuller' 'cbracken' 'abarth' 'abarth' 'Hixie' 'Hixie' 'abarth'\n",
      " 'HansMuller' 'HansMuller' 'Hixie' 'abarth' 'abarth' 'Hixie' 'abarth'\n",
      " 'abarth' 'abarth' 'Hixie' 'Hixie' 'abarth' 'Hixie' 'abarth' 'Hixie' 'aam'\n",
      " 'abarth' 'Hixie' 'jason-simmons' 'abarth' 'abarth' 'abarth' 'abarth'\n",
      " 'aam' 'abarth' 'abarth' 'abarth' 'devoncarew' 'HansMuller' 'Hixie'\n",
      " 'Hixie' 'Hixie' 'yjbanov' 'HansMuller' 'Hixie' 'abarth' 'abarth'\n",
      " 'HansMuller' 'abarth' 'devoncarew' 'chinmaygarde' 'abarth' 'abarth'\n",
      " 'devoncarew' 'abarth' 'abarth' 'jason-simmons' 'abarth' 'abarth'\n",
      " 'tvolkert' 'HansMuller' 'Hixie' 'HansMuller' 'abarth' 'cbracken' 'abarth'\n",
      " 'abarth' 'abarth' 'HansMuller' 'abarth' 'abarth' 'abarth' 'devoncarew'\n",
      " 'HansMuller' 'devoncarew' 'HansMuller' 'abarth' 'abarth' 'cbracken'\n",
      " 'chinmaygarde' 'devoncarew' 'devoncarew' 'abarth' 'devoncarew'\n",
      " 'chinmaygarde' 'Hixie' 'Hixie' 'abarth' 'abarth' 'jakobr-google' 'Hixie'\n",
      " 'yjbanov' 'abarth' 'tvolkert' 'jason-simmons' 'abarth' 'HansMuller'\n",
      " 'HansMuller' 'yjbanov' 'HansMuller' 'devoncarew' 'abarth' 'Hixie' 'Hixie'\n",
      " 'cbracken' 'Hixie' 'HansMuller' 'dnfield' 'chinmaygarde' 'abarth'\n",
      " 'abarth' 'abarth' 'Hixie' 'abarth' 'yjbanov' 'yjbanov' 'HansMuller'\n",
      " 'devoncarew' 'HansMuller' 'HansMuller' 'abarth' 'abarth' 'abarth' 'Hixie'\n",
      " 'abarth' 'abarth' 'HansMuller' 'HansMuller' 'devoncarew' 'abarth'\n",
      " 'abarth' 'abarth' 'abarth' 'HansMuller' 'HansMuller' 'abarth' 'abarth'\n",
      " 'abarth' 'HansMuller' 'HansMuller' 'abarth' 'abarth' 'Hixie' 'devoncarew'\n",
      " 'devoncarew' 'abarth' 'abarth' 'cbracken' 'devoncarew' 'abarth' 'abarth'\n",
      " 'abarth' 'HansMuller' 'abarth' 'abarth' 'Hixie' 'yjbanov' 'abarth'\n",
      " 'abarth' 'abarth' 'Hixie' 'Hixie' 'Hixie' 'abarth' 'HansMuller' 'Hixie'\n",
      " 'Hixie' 'Hixie' 'abarth' 'abarth' 'abarth' 'Hixie' 'Hixie' 'Hixie'\n",
      " 'abarth' 'abarth' 'abarth' 'yjbanov' 'HansMuller' 'devoncarew' 'Hixie'\n",
      " 'tvolkert' 'abarth' 'HansMuller' 'jason-simmons' 'abarth' 'abarth'\n",
      " 'abarth' 'jason-simmons' 'Hixie' 'HansMuller' 'Hixie' 'Hixie' 'abarth'\n",
      " 'Hixie' 'abarth' 'abarth' 'chinmaygarde' 'cbracken' 'abarth' 'yjbanov'\n",
      " 'Hixie' 'HansMuller' 'Hixie' 'HansMuller' 'Hixie' 'abarth' 'devoncarew'\n",
      " 'abarth' 'abarth' 'devoncarew' 'HansMuller' 'danrubel' 'devoncarew'\n",
      " 'Hixie' 'HansMuller' 'goderbauer' 'abarth' 'abarth' 'devoncarew'\n",
      " 'HansMuller' 'Hixie' 'abarth' 'cbracken' 'devoncarew' 'abarth' 'Hixie'\n",
      " 'abarth' 'abarth' 'HansMuller' 'HansMuller' 'jakobr-google' 'abarth'\n",
      " 'devoncarew' 'cbracken' 'abarth' 'abarth' 'Hixie' 'abarth' 'HansMuller'\n",
      " 'abarth' 'jason-simmons' 'abarth' 'abarth' 'abarth' 'danrubel' 'abarth'\n",
      " 'devoncarew' 'abarth' 'yjbanov' 'devoncarew' 'devoncarew' 'abarth'\n",
      " 'Hixie' 'devoncarew' 'xster' 'devoncarew' 'abarth' 'abarth' 'abarth'\n",
      " 'abarth' 'cbracken' 'abarth' 'aam' 'devoncarew' 'HansMuller' 'abarth'\n",
      " 'devoncarew' 'devoncarew' 'HansMuller' 'abarth' 'devoncarew' 'abarth'\n",
      " 'jason-simmons' 'abarth' 'HansMuller' 'Hixie' 'chinmaygarde' 'yjbanov'\n",
      " 'cbracken' 'Hixie' 'abarth' 'jakobr-google' 'devoncarew' 'danrubel'\n",
      " 'chinmaygarde' 'cbracken' 'Hixie' 'abarth' 'HansMuller' 'cbracken'\n",
      " 'abarth' 'devoncarew' 'Hixie' 'jakobr-google' 'devoncarew' 'HansMuller'\n",
      " 'devoncarew' 'abarth' 'abarth' 'abarth' 'danrubel' 'devoncarew'\n",
      " 'devoncarew' 'cbracken' 'abarth' 'cbracken' 'devoncarew' 'goderbauer'\n",
      " 'abarth' 'devoncarew' 'Hixie' 'abarth' 'abarth' 'abarth' 'abarth'\n",
      " 'devoncarew' 'HansMuller' 'devoncarew' 'devoncarew' 'abarth' 'devoncarew'\n",
      " 'Hixie' 'cbracken' 'abarth' 'abarth' 'devoncarew' 'abarth' 'abarth'\n",
      " 'devoncarew' 'abarth' 'abarth' 'danrubel' 'HansMuller' 'HansMuller'\n",
      " 'Hixie' 'HansMuller' 'HansMuller' 'Hixie' 'Hixie' 'cbracken' 'abarth'\n",
      " 'Hixie' 'cbracken' 'devoncarew' 'Hixie' 'cbracken' 'abarth' 'Hixie'\n",
      " 'Hixie' 'HansMuller' 'abarth' 'abarth' 'Hixie' 'abarth' 'HansMuller'\n",
      " 'Hixie' 'jason-simmons' 'HansMuller' 'abarth' 'HansMuller' 'HansMuller'\n",
      " 'Hixie' 'abarth' 'abarth' 'HansMuller' 'abarth' 'abarth' 'danrubel'\n",
      " 'abarth' 'abarth' 'HansMuller' 'devoncarew' 'abarth' 'HansMuller'\n",
      " 'jason-simmons' 'HansMuller' 'abarth' 'abarth' 'Hixie' 'yjbanov'\n",
      " 'HansMuller' 'devoncarew' 'HansMuller' 'devoncarew' 'abarth' 'abarth'\n",
      " 'devoncarew' 'devoncarew' 'yjbanov' 'devoncarew' 'danrubel' 'danrubel'\n",
      " 'abarth' 'abarth' 'HansMuller' 'chinmaygarde' 'devoncarew' 'abarth'\n",
      " 'cbracken' 'danrubel' 'abarth' 'devoncarew' 'devoncarew' 'Hixie'\n",
      " 'HansMuller' 'abarth' 'cbracken' 'abarth' 'devoncarew' 'abarth' 'abarth'\n",
      " 'abarth' 'Hixie' 'abarth' 'HansMuller' 'abarth' 'HansMuller' 'devoncarew'\n",
      " 'Hixie' 'jason-simmons' 'cbracken' 'abarth' 'abarth' 'abarth'\n",
      " 'devoncarew' 'abarth' 'abarth' 'abarth' 'abarth' 'tvolkert' 'Hixie'\n",
      " 'devoncarew' 'jason-simmons' 'HansMuller' 'abarth' 'abarth' 'abarth'\n",
      " 'jason-simmons' 'abarth' 'HansMuller' 'HansMuller' 'HansMuller'\n",
      " 'devoncarew' 'chinmaygarde' 'jonahwilliams' 'HansMuller' 'HansMuller'\n",
      " 'abarth' 'HansMuller' 'abarth' 'cbracken' 'cbracken' 'abarth'\n",
      " 'devoncarew' 'HansMuller' 'HansMuller' 'abarth' 'Hixie' 'abarth'\n",
      " 'cbracken' 'abarth' 'chinmaygarde' 'HansMuller' 'chinmaygarde'\n",
      " 'devoncarew' 'abarth' 'chinmaygarde' 'aam' 'HansMuller' 'abarth' 'abarth'\n",
      " 'jason-simmons' 'abarth' 'abarth' 'abarth' 'abarth' 'Hixie' 'HansMuller'\n",
      " 'Hixie' 'abarth' 'HansMuller' 'devoncarew' 'devoncarew' 'abarth' 'abarth'\n",
      " 'jakobr-google' 'yjbanov' 'chinmaygarde' 'abarth']\n"
     ]
    },
    {
     "name": "stderr",
     "output_type": "stream",
     "text": [
      "/usr/local/lib/python3.6/site-packages/sklearn/neural_network/multilayer_perceptron.py:564: ConvergenceWarning: Stochastic Optimizer: Maximum iterations (200) reached and the optimization hasn't converged yet.\n",
      "  % self.max_iter, ConvergenceWarning)\n"
     ]
    }
   ],
   "source": [
    "classifier = MLPClassifier(hidden_layer_sizes=(25,25))\n",
    "classifier.fit(X_train,y_train)\n",
    "preds = classifier.predict(X_test)\n",
    "print(preds)"
   ]
  },
  {
   "cell_type": "code",
   "execution_count": 320,
   "metadata": {
    "scrolled": true
   },
   "outputs": [
    {
     "data": {
      "text/plain": [
       "<matplotlib.axes._subplots.AxesSubplot at 0x16b7542b0>"
      ]
     },
     "execution_count": 320,
     "metadata": {},
     "output_type": "execute_result"
    },
    {
     "data": {
      "image/png": "[encoded data removed]",
      "text/plain": [
       "<Figure size 432x288 with 1 Axes>"
      ]
     },
     "metadata": {},
     "output_type": "display_data"
    }
   ],
   "source": [
    "actual = test_df['completed_by']\n",
    "pd.value_counts(actual).plot.bar()"
   ]
  },
  {
   "cell_type": "code",
   "execution_count": 321,
   "metadata": {
    "scrolled": true
   },
   "outputs": [
    {
     "data": {
      "text/plain": [
       "<matplotlib.axes._subplots.AxesSubplot at 0x17d55a780>"
      ]
     },
     "execution_count": 321,
     "metadata": {},
     "output_type": "execute_result"
    },
    {
     "data": {
      "image/png": "[encoded data removed]",
      "text/plain": [
       "<Figure size 432x288 with 1 Axes>"
      ]
     },
     "metadata": {},
     "output_type": "display_data"
    }
   ],
   "source": [
    "pd.value_counts(df['completed_by']).plot.bar()"
   ]
  },
  {
   "cell_type": "code",
   "execution_count": 322,
   "metadata": {
    "scrolled": true
   },
   "outputs": [
    {
     "data": {
      "text/plain": [
       "<matplotlib.axes._subplots.AxesSubplot at 0x11f26fe10>"
      ]
     },
     "execution_count": 322,
     "metadata": {},
     "output_type": "execute_result"
    },
    {
     "data": {
      "image/png": "[encoded data removed]",
      "text/plain": [
       "<Figure size 432x288 with 1 Axes>"
      ]
     },
     "metadata": {},
     "output_type": "display_data"
    }
   ],
   "source": [
    "pd.value_counts(preds).plot.bar()"
   ]
  },
  {
   "cell_type": "code",
   "execution_count": 323,
   "metadata": {
    "scrolled": true
   },
   "outputs": [
    {
     "name": "stdout",
     "output_type": "stream",
     "text": [
      "devs not included in predictions: \n",
      "['mravn-google', 'liyuqian', 'gspencergoog', 'amirh', 'ng1905', 'paulcbetts', 'OhadRau', 'DanTup', 'sroddy', 'fmatosqg', 'blasten', 'fredriks', 'sigurdm', 'szakarias', 'leobispo', 'a-siva', 'slightfoot', 'mit-mit', 'srawlins', 'crelier', 'rmacnak-google', 'filleduchaos', 'mehmetf', 'sbaranov', 'alibitek', 'xqwzts', 'matanlurey', 'mraleph', 'Skylled', 'mattsarett', 'DaveShuckerow', 'jcollins-g', 'konifar', 'scheglov']\n"
     ]
    }
   ],
   "source": [
    "overall_counts = pd.value_counts(df['completed_by'])\n",
    "# list of devs sorted in order of highest contribution\n",
    "sorted_dev_list = overall_counts.index.values\n",
    "pred_counts = pd.value_counts(preds)\n",
    "actual_counts = pd.value_counts(actual)\n",
    "\n",
    "percent_diff = {}\n",
    "vals = []\n",
    "counts = []\n",
    "missing = set()\n",
    "for dev in sorted_dev_list:\n",
    "    if dev in pred_counts:\n",
    "        val = 100 * (pred_counts[dev] - actual_counts[dev]) / (actual_counts[dev])\n",
    "        percent_diff[dev] = val\n",
    "        counts.append(overall_counts[dev])\n",
    "        vals.append(val)\n",
    "    else:\n",
    "        missing.add(dev)\n",
    "print(\"devs not included in predictions: \")\n",
    "print(list(missing))"
   ]
  },
  {
   "cell_type": "code",
   "execution_count": 324,
   "metadata": {
    "scrolled": true
   },
   "outputs": [
    {
     "data": {
      "image/png": "[encoded data removed]",
      "text/plain": [
       "<Figure size 432x288 with 1 Axes>"
      ]
     },
     "metadata": {},
     "output_type": "display_data"
    }
   ],
   "source": [
    "plt.bar(percent_diff.keys(), percent_diff.values())\n",
    "plt.title(\"Percent Difference Prediction Rate vs. Actual Rate\")\n",
    "plt.xticks(rotation=90)\n",
    "plt.show()"
   ]
  },
  {
   "cell_type": "code",
   "execution_count": 325,
   "metadata": {
    "scrolled": true
   },
   "outputs": [
    {
     "name": "stdout",
     "output_type": "stream",
     "text": [
      "R^2: 2.502138588152402e-06\n"
     ]
    },
    {
     "data": {
      "image/png": "[encoded data removed]",
      "text/plain": [
       "<Figure size 432x288 with 1 Axes>"
      ]
     },
     "metadata": {},
     "output_type": "display_data"
    }
   ],
   "source": [
    "# remove the outlier\n",
    "del vals[2]\n",
    "del counts[2]\n",
    "# create best fit line\n",
    "z = np.polyfit(x=counts, y=vals, deg=1)\n",
    "p = np.poly1d(z)\n",
    "trend_line = p(counts)\n",
    "# test best fit\n",
    "yhat = trend_line    \n",
    "ybar = np.sum(vals)/len(vals)\n",
    "ssreg = np.sum((yhat-ybar)**2) \n",
    "sstot = np.sum((vals - ybar)**2)\n",
    "print(\"R^2: \" + str(ssreg / sstot))\n",
    "# create plots\n",
    "plt.scatter(counts, vals)\n",
    "plt.title(\"Percent Difference Between Prediction Rate and Actual Rate vs. Issue Count\")\n",
    "plt.xticks(rotation=90)\n",
    "plt.xlabel(\"Number of Issues Solved\")\n",
    "plt.ylabel(\"% diff. pred rate and actual rate\")\n",
    "plt.plot(counts, trend_line)\n",
    "plt.show()"
   ]
  },
  {
   "cell_type": "code",
   "execution_count": 326,
   "metadata": {
    "scrolled": true
   },
   "outputs": [],
   "source": [
    "#TODO: look at assigning open issues and seeing what overspecialization problem would look like."
   ]
  },
  {
   "cell_type": "code",
   "execution_count": 327,
   "metadata": {
    "scrolled": true
   },
   "outputs": [
    {
     "data": {
      "text/html": [
       "<div>\n",
       "<style scoped>\n",
       "    .dataframe tbody tr th:only-of-type {\n",
       "        vertical-align: middle;\n",
       "    }\n",
       "\n",
       "    .dataframe tbody tr th {\n",
       "        vertical-align: top;\n",
       "    }\n",
       "\n",
       "    .dataframe thead th {\n",
       "        text-align: right;\n",
       "    }\n",
       "</style>\n",
       "<table border=\"1\" class=\"dataframe\">\n",
       "  <thead>\n",
       "    <tr style=\"text-align: right;\">\n",
       "      <th></th>\n",
       "      <th>assignees</th>\n",
       "      <th>body</th>\n",
       "      <th>closed_date</th>\n",
       "      <th>comments</th>\n",
       "      <th>completed_by</th>\n",
       "      <th>created_date</th>\n",
       "      <th>title</th>\n",
       "      <th>a: accessibility</th>\n",
       "      <th>a: animation</th>\n",
       "      <th>a: china</th>\n",
       "      <th>...</th>\n",
       "      <th>4950</th>\n",
       "      <th>4951</th>\n",
       "      <th>4952</th>\n",
       "      <th>4953</th>\n",
       "      <th>4954</th>\n",
       "      <th>4955</th>\n",
       "      <th>4956</th>\n",
       "      <th>4957</th>\n",
       "      <th>4958</th>\n",
       "      <th>4959</th>\n",
       "    </tr>\n",
       "  </thead>\n",
       "  <tbody>\n",
       "    <tr>\n",
       "      <th>1100</th>\n",
       "      <td>[]</td>\n",
       "      <td></td>\n",
       "      <td>2017-02-22 19:33:03</td>\n",
       "      <td>0</td>\n",
       "      <td>xster</td>\n",
       "      <td>2017-02-18 04:56:19</td>\n",
       "      <td>icon button s minimum default size should be</td>\n",
       "      <td>0</td>\n",
       "      <td>0</td>\n",
       "      <td>0</td>\n",
       "      <td>...</td>\n",
       "      <td>0.0</td>\n",
       "      <td>0.0</td>\n",
       "      <td>0.0</td>\n",
       "      <td>0.0</td>\n",
       "      <td>0.0</td>\n",
       "      <td>0.0</td>\n",
       "      <td>0.0</td>\n",
       "      <td>0.0</td>\n",
       "      <td>0.0</td>\n",
       "      <td>0.0</td>\n",
       "    </tr>\n",
       "    <tr>\n",
       "      <th>1101</th>\n",
       "      <td>[cbracken]</td>\n",
       "      <td>date picker on io buzz I don t think it s supp...</td>\n",
       "      <td>2017-02-22 20:41:37</td>\n",
       "      <td>1</td>\n",
       "      <td>cbracken</td>\n",
       "      <td>2017-02-18 05:16:17</td>\n",
       "      <td>date picker buzz a lot</td>\n",
       "      <td>0</td>\n",
       "      <td>0</td>\n",
       "      <td>0</td>\n",
       "      <td>...</td>\n",
       "      <td>0.0</td>\n",
       "      <td>0.0</td>\n",
       "      <td>0.0</td>\n",
       "      <td>0.0</td>\n",
       "      <td>0.0</td>\n",
       "      <td>0.0</td>\n",
       "      <td>0.0</td>\n",
       "      <td>0.0</td>\n",
       "      <td>0.0</td>\n",
       "      <td>0.0</td>\n",
       "    </tr>\n",
       "    <tr>\n",
       "      <th>1102</th>\n",
       "      <td>[abarth]</td>\n",
       "      <td>while develop http fuchsia review googlesourc ...</td>\n",
       "      <td>2017-02-22 21:29:13</td>\n",
       "      <td>4</td>\n",
       "      <td>abarth</td>\n",
       "      <td>2017-02-21 11:03:31</td>\n",
       "      <td>packag flutter src render sliver dart fail ass...</td>\n",
       "      <td>0</td>\n",
       "      <td>0</td>\n",
       "      <td>0</td>\n",
       "      <td>...</td>\n",
       "      <td>0.0</td>\n",
       "      <td>0.0</td>\n",
       "      <td>0.0</td>\n",
       "      <td>0.0</td>\n",
       "      <td>0.0</td>\n",
       "      <td>0.0</td>\n",
       "      <td>0.0</td>\n",
       "      <td>0.0</td>\n",
       "      <td>0.0</td>\n",
       "      <td>0.0</td>\n",
       "    </tr>\n",
       "    <tr>\n",
       "      <th>1103</th>\n",
       "      <td>[xster]</td>\n",
       "      <td>step to reproduc flutter creat myapp cd myapp ...</td>\n",
       "      <td>2017-02-22 22:54:02</td>\n",
       "      <td>5</td>\n",
       "      <td>xster</td>\n",
       "      <td>2017-02-22 21:44:38</td>\n",
       "      <td>app bar with no drawer ha too much left pad on...</td>\n",
       "      <td>0</td>\n",
       "      <td>0</td>\n",
       "      <td>0</td>\n",
       "      <td>...</td>\n",
       "      <td>0.0</td>\n",
       "      <td>0.0</td>\n",
       "      <td>0.0</td>\n",
       "      <td>0.0</td>\n",
       "      <td>0.0</td>\n",
       "      <td>0.0</td>\n",
       "      <td>0.0</td>\n",
       "      <td>0.0</td>\n",
       "      <td>0.0</td>\n",
       "      <td>0.0</td>\n",
       "    </tr>\n",
       "    <tr>\n",
       "      <th>1104</th>\n",
       "      <td>[HansMuller]</td>\n",
       "      <td>hixi when use a sliver app bar in custom scrol...</td>\n",
       "      <td>2017-02-23 00:19:37</td>\n",
       "      <td>7</td>\n",
       "      <td>HansMuller</td>\n",
       "      <td>2017-02-14 22:16:53</td>\n",
       "      <td>sliver app bar doe not support titl bar and bo...</td>\n",
       "      <td>0</td>\n",
       "      <td>0</td>\n",
       "      <td>0</td>\n",
       "      <td>...</td>\n",
       "      <td>0.0</td>\n",
       "      <td>0.0</td>\n",
       "      <td>0.0</td>\n",
       "      <td>0.0</td>\n",
       "      <td>0.0</td>\n",
       "      <td>0.0</td>\n",
       "      <td>0.0</td>\n",
       "      <td>0.0</td>\n",
       "      <td>0.0</td>\n",
       "      <td>0.0</td>\n",
       "    </tr>\n",
       "  </tbody>\n",
       "</table>\n",
       "<p>5 rows × 6848 columns</p>\n",
       "</div>"
      ],
      "text/plain": [
       "         assignees                                               body  \\\n",
       "1100            []                                                      \n",
       "1101    [cbracken]  date picker on io buzz I don t think it s supp...   \n",
       "1102      [abarth]  while develop http fuchsia review googlesourc ...   \n",
       "1103       [xster]  step to reproduc flutter creat myapp cd myapp ...   \n",
       "1104  [HansMuller]  hixi when use a sliver app bar in custom scrol...   \n",
       "\n",
       "             closed_date  comments completed_by        created_date  \\\n",
       "1100 2017-02-22 19:33:03         0        xster 2017-02-18 04:56:19   \n",
       "1101 2017-02-22 20:41:37         1     cbracken 2017-02-18 05:16:17   \n",
       "1102 2017-02-22 21:29:13         4       abarth 2017-02-21 11:03:31   \n",
       "1103 2017-02-22 22:54:02         5        xster 2017-02-22 21:44:38   \n",
       "1104 2017-02-23 00:19:37         7   HansMuller 2017-02-14 22:16:53   \n",
       "\n",
       "                                                  title  a: accessibility  \\\n",
       "1100       icon button s minimum default size should be                 0   \n",
       "1101                             date picker buzz a lot                 0   \n",
       "1102  packag flutter src render sliver dart fail ass...                 0   \n",
       "1103  app bar with no drawer ha too much left pad on...                 0   \n",
       "1104  sliver app bar doe not support titl bar and bo...                 0   \n",
       "\n",
       "      a: animation  a: china  ...   4950  4951  4952  4953  4954  4955  4956  \\\n",
       "1100             0         0  ...    0.0   0.0   0.0   0.0   0.0   0.0   0.0   \n",
       "1101             0         0  ...    0.0   0.0   0.0   0.0   0.0   0.0   0.0   \n",
       "1102             0         0  ...    0.0   0.0   0.0   0.0   0.0   0.0   0.0   \n",
       "1103             0         0  ...    0.0   0.0   0.0   0.0   0.0   0.0   0.0   \n",
       "1104             0         0  ...    0.0   0.0   0.0   0.0   0.0   0.0   0.0   \n",
       "\n",
       "      4957  4958  4959  \n",
       "1100   0.0   0.0   0.0  \n",
       "1101   0.0   0.0   0.0  \n",
       "1102   0.0   0.0   0.0  \n",
       "1103   0.0   0.0   0.0  \n",
       "1104   0.0   0.0   0.0  \n",
       "\n",
       "[5 rows x 6848 columns]"
      ]
     },
     "execution_count": 327,
     "metadata": {},
     "output_type": "execute_result"
    }
   ],
   "source": [
    "test_df.head(5)"
   ]
  },
  {
   "cell_type": "code",
   "execution_count": 328,
   "metadata": {
    "scrolled": true
   },
   "outputs": [
    {
     "data": {
      "text/html": [
       "<div>\n",
       "<style scoped>\n",
       "    .dataframe tbody tr th:only-of-type {\n",
       "        vertical-align: middle;\n",
       "    }\n",
       "\n",
       "    .dataframe tbody tr th {\n",
       "        vertical-align: top;\n",
       "    }\n",
       "\n",
       "    .dataframe thead th {\n",
       "        text-align: right;\n",
       "    }\n",
       "</style>\n",
       "<table border=\"1\" class=\"dataframe\">\n",
       "  <thead>\n",
       "    <tr style=\"text-align: right;\">\n",
       "      <th></th>\n",
       "      <th>assignees</th>\n",
       "      <th>body</th>\n",
       "      <th>closed_date</th>\n",
       "      <th>comments</th>\n",
       "      <th>completed_by</th>\n",
       "      <th>created_date</th>\n",
       "      <th>title</th>\n",
       "      <th>a: accessibility</th>\n",
       "      <th>a: animation</th>\n",
       "      <th>a: china</th>\n",
       "      <th>...</th>\n",
       "      <th>4950</th>\n",
       "      <th>4951</th>\n",
       "      <th>4952</th>\n",
       "      <th>4953</th>\n",
       "      <th>4954</th>\n",
       "      <th>4955</th>\n",
       "      <th>4956</th>\n",
       "      <th>4957</th>\n",
       "      <th>4958</th>\n",
       "      <th>4959</th>\n",
       "    </tr>\n",
       "  </thead>\n",
       "  <tbody>\n",
       "    <tr>\n",
       "      <th>2032</th>\n",
       "      <td>[]</td>\n",
       "      <td>I m pop up a simpl dialog with prompt text and...</td>\n",
       "      <td>2018-05-25 16:56:25</td>\n",
       "      <td>2</td>\n",
       "      <td>goderbauer</td>\n",
       "      <td>2018-05-22 12:10:45</td>\n",
       "      <td>android text entri field under talk back doe n...</td>\n",
       "      <td>0</td>\n",
       "      <td>0</td>\n",
       "      <td>0</td>\n",
       "      <td>...</td>\n",
       "      <td>0.0</td>\n",
       "      <td>0.0</td>\n",
       "      <td>0.0</td>\n",
       "      <td>0.0</td>\n",
       "      <td>0.0</td>\n",
       "      <td>0.0</td>\n",
       "      <td>0.0</td>\n",
       "      <td>0.0</td>\n",
       "      <td>0.0</td>\n",
       "      <td>0.0</td>\n",
       "    </tr>\n",
       "    <tr>\n",
       "      <th>2033</th>\n",
       "      <td>[cbracken]</td>\n",
       "      <td></td>\n",
       "      <td>2018-05-25 23:20:08</td>\n",
       "      <td>2</td>\n",
       "      <td>cbracken</td>\n",
       "      <td>2018-05-10 02:14:44</td>\n",
       "      <td>local engin build on io are broken becaus of f...</td>\n",
       "      <td>0</td>\n",
       "      <td>0</td>\n",
       "      <td>0</td>\n",
       "      <td>...</td>\n",
       "      <td>0.0</td>\n",
       "      <td>0.0</td>\n",
       "      <td>0.0</td>\n",
       "      <td>0.0</td>\n",
       "      <td>0.0</td>\n",
       "      <td>0.0</td>\n",
       "      <td>0.0</td>\n",
       "      <td>0.0</td>\n",
       "      <td>0.0</td>\n",
       "      <td>0.0</td>\n",
       "    </tr>\n",
       "    <tr>\n",
       "      <th>2034</th>\n",
       "      <td>[cbracken]</td>\n",
       "      <td>step to reproduc navig to the galleri folder c...</td>\n",
       "      <td>2018-05-25 23:30:08</td>\n",
       "      <td>1</td>\n",
       "      <td>slightfoot</td>\n",
       "      <td>2018-04-30 17:15:57</td>\n",
       "      <td>build order problem for io build</td>\n",
       "      <td>0</td>\n",
       "      <td>0</td>\n",
       "      <td>0</td>\n",
       "      <td>...</td>\n",
       "      <td>0.0</td>\n",
       "      <td>0.0</td>\n",
       "      <td>0.0</td>\n",
       "      <td>0.0</td>\n",
       "      <td>0.0</td>\n",
       "      <td>0.0</td>\n",
       "      <td>0.0</td>\n",
       "      <td>0.0</td>\n",
       "      <td>0.0</td>\n",
       "      <td>0.0</td>\n",
       "    </tr>\n",
       "    <tr>\n",
       "      <th>2035</th>\n",
       "      <td>[yjbanov]</td>\n",
       "      <td>In flutter exampl stock with an i pod touch co...</td>\n",
       "      <td>2018-05-25 23:42:39</td>\n",
       "      <td>6</td>\n",
       "      <td>aam</td>\n",
       "      <td>2016-08-08 22:13:50</td>\n",
       "      <td>flutter drive fail to detect io hardwar</td>\n",
       "      <td>0</td>\n",
       "      <td>0</td>\n",
       "      <td>0</td>\n",
       "      <td>...</td>\n",
       "      <td>0.0</td>\n",
       "      <td>0.0</td>\n",
       "      <td>0.0</td>\n",
       "      <td>0.0</td>\n",
       "      <td>0.0</td>\n",
       "      <td>0.0</td>\n",
       "      <td>0.0</td>\n",
       "      <td>0.0</td>\n",
       "      <td>0.0</td>\n",
       "      <td>0.0</td>\n",
       "    </tr>\n",
       "    <tr>\n",
       "      <th>2036</th>\n",
       "      <td>[jonahwilliams]</td>\n",
       "      <td>turn talk back on and doubl tap on a checkbox ...</td>\n",
       "      <td>2018-05-26 01:42:03</td>\n",
       "      <td>10</td>\n",
       "      <td>jonahwilliams</td>\n",
       "      <td>2018-05-21 17:36:14</td>\n",
       "      <td>activ a switch or checkbox with talk back no l...</td>\n",
       "      <td>1</td>\n",
       "      <td>0</td>\n",
       "      <td>0</td>\n",
       "      <td>...</td>\n",
       "      <td>0.0</td>\n",
       "      <td>0.0</td>\n",
       "      <td>0.0</td>\n",
       "      <td>0.0</td>\n",
       "      <td>0.0</td>\n",
       "      <td>0.0</td>\n",
       "      <td>0.0</td>\n",
       "      <td>0.0</td>\n",
       "      <td>0.0</td>\n",
       "      <td>0.0</td>\n",
       "    </tr>\n",
       "  </tbody>\n",
       "</table>\n",
       "<p>5 rows × 6848 columns</p>\n",
       "</div>"
      ],
      "text/plain": [
       "            assignees                                               body  \\\n",
       "2032               []  I m pop up a simpl dialog with prompt text and...   \n",
       "2033       [cbracken]                                                      \n",
       "2034       [cbracken]  step to reproduc navig to the galleri folder c...   \n",
       "2035        [yjbanov]  In flutter exampl stock with an i pod touch co...   \n",
       "2036  [jonahwilliams]  turn talk back on and doubl tap on a checkbox ...   \n",
       "\n",
       "             closed_date  comments   completed_by        created_date  \\\n",
       "2032 2018-05-25 16:56:25         2     goderbauer 2018-05-22 12:10:45   \n",
       "2033 2018-05-25 23:20:08         2       cbracken 2018-05-10 02:14:44   \n",
       "2034 2018-05-25 23:30:08         1     slightfoot 2018-04-30 17:15:57   \n",
       "2035 2018-05-25 23:42:39         6            aam 2016-08-08 22:13:50   \n",
       "2036 2018-05-26 01:42:03        10  jonahwilliams 2018-05-21 17:36:14   \n",
       "\n",
       "                                                  title  a: accessibility  \\\n",
       "2032  android text entri field under talk back doe n...                 0   \n",
       "2033  local engin build on io are broken becaus of f...                 0   \n",
       "2034                   build order problem for io build                 0   \n",
       "2035            flutter drive fail to detect io hardwar                 0   \n",
       "2036  activ a switch or checkbox with talk back no l...                 1   \n",
       "\n",
       "      a: animation  a: china  ...   4950  4951  4952  4953  4954  4955  4956  \\\n",
       "2032             0         0  ...    0.0   0.0   0.0   0.0   0.0   0.0   0.0   \n",
       "2033             0         0  ...    0.0   0.0   0.0   0.0   0.0   0.0   0.0   \n",
       "2034             0         0  ...    0.0   0.0   0.0   0.0   0.0   0.0   0.0   \n",
       "2035             0         0  ...    0.0   0.0   0.0   0.0   0.0   0.0   0.0   \n",
       "2036             0         0  ...    0.0   0.0   0.0   0.0   0.0   0.0   0.0   \n",
       "\n",
       "      4957  4958  4959  \n",
       "2032   0.0   0.0   0.0  \n",
       "2033   0.0   0.0   0.0  \n",
       "2034   0.0   0.0   0.0  \n",
       "2035   0.0   0.0   0.0  \n",
       "2036   0.0   0.0   0.0  \n",
       "\n",
       "[5 rows x 6848 columns]"
      ]
     },
     "execution_count": 328,
     "metadata": {},
     "output_type": "execute_result"
    }
   ],
   "source": [
    "test_df.tail(5)"
   ]
  },
  {
   "cell_type": "markdown",
   "metadata": {},
   "source": [
    "## Open Issues"
   ]
  },
  {
   "cell_type": "code",
   "execution_count": 329,
   "metadata": {
    "scrolled": true
   },
   "outputs": [
    {
     "name": "stdout",
     "output_type": "stream",
     "text": [
      "Number of open issues: 3479\n"
     ]
    }
   ],
   "source": [
    "with open('../data/flutter/flutter_issues_open.json') as json_data:\n",
    "    issues = json.load(json_data)\n",
    "print(\"Number of open issues: \" + str(len(issues)))"
   ]
  },
  {
   "cell_type": "code",
   "execution_count": 330,
   "metadata": {
    "scrolled": true
   },
   "outputs": [
    {
     "data": {
      "text/html": [
       "<div>\n",
       "<style scoped>\n",
       "    .dataframe tbody tr th:only-of-type {\n",
       "        vertical-align: middle;\n",
       "    }\n",
       "\n",
       "    .dataframe tbody tr th {\n",
       "        vertical-align: top;\n",
       "    }\n",
       "\n",
       "    .dataframe thead th {\n",
       "        text-align: right;\n",
       "    }\n",
       "</style>\n",
       "<table border=\"1\" class=\"dataframe\">\n",
       "  <thead>\n",
       "    <tr style=\"text-align: right;\">\n",
       "      <th></th>\n",
       "      <th>body</th>\n",
       "      <th>comments</th>\n",
       "      <th>created_date</th>\n",
       "      <th>labels</th>\n",
       "      <th>title</th>\n",
       "    </tr>\n",
       "  </thead>\n",
       "  <tbody>\n",
       "    <tr>\n",
       "      <th>0</th>\n",
       "      <td>&lt;a href=\"https://github.com/Hixie\"&gt;&lt;img src=\"h...</td>\n",
       "      <td>148</td>\n",
       "      <td>2015-11-09 20:30:33</td>\n",
       "      <td>[]</td>\n",
       "      <td>Inline Google Maps support</td>\n",
       "    </tr>\n",
       "    <tr>\n",
       "      <th>1</th>\n",
       "      <td>&lt;a href=\"https://github.com/Hixie\"&gt;&lt;img src=\"h...</td>\n",
       "      <td>2</td>\n",
       "      <td>2015-11-09 20:30:43</td>\n",
       "      <td>[]</td>\n",
       "      <td>We should support ideographic, hanging, and ma...</td>\n",
       "    </tr>\n",
       "  </tbody>\n",
       "</table>\n",
       "</div>"
      ],
      "text/plain": [
       "                                                body  comments  \\\n",
       "0  <a href=\"https://github.com/Hixie\"><img src=\"h...       148   \n",
       "1  <a href=\"https://github.com/Hixie\"><img src=\"h...         2   \n",
       "\n",
       "         created_date labels  \\\n",
       "0 2015-11-09 20:30:33     []   \n",
       "1 2015-11-09 20:30:43     []   \n",
       "\n",
       "                                               title  \n",
       "0                         Inline Google Maps support  \n",
       "1  We should support ideographic, hanging, and ma...  "
      ]
     },
     "execution_count": 330,
     "metadata": {},
     "output_type": "execute_result"
    }
   ],
   "source": [
    "# create a data frame from the list of issues\n",
    "df_list = []\n",
    "for issue in issues:\n",
    "        df_dict = {}\n",
    "        df_dict['comments'] = issue['comments']\n",
    "        if (not issue['body']):\n",
    "            issue['body'] = \"\"\n",
    "        df_dict['title'] = issue['title']\n",
    "        df_dict['body'] = issue['body']\n",
    "        #df_dict['closed_date'] = pd.to_datetime(issue['closed_at'])\n",
    "        df_dict['created_date'] = pd.to_datetime(issue['created_at'])\n",
    "        #df_dict['completed_by'] = issue['completed_by']\n",
    "        df_dict['labels'] = [label['name'] for label in issue['labels'] if label in mlb.classes_]\n",
    "        df_list.append(df_dict)\n",
    "df = pd.DataFrame(df_list).sort_values('created_date')\n",
    "df.head(2)"
   ]
  },
  {
   "cell_type": "code",
   "execution_count": 331,
   "metadata": {
    "scrolled": true
   },
   "outputs": [
    {
     "data": {
      "text/html": [
       "<div>\n",
       "<style scoped>\n",
       "    .dataframe tbody tr th:only-of-type {\n",
       "        vertical-align: middle;\n",
       "    }\n",
       "\n",
       "    .dataframe tbody tr th {\n",
       "        vertical-align: top;\n",
       "    }\n",
       "\n",
       "    .dataframe thead th {\n",
       "        text-align: right;\n",
       "    }\n",
       "</style>\n",
       "<table border=\"1\" class=\"dataframe\">\n",
       "  <thead>\n",
       "    <tr style=\"text-align: right;\">\n",
       "      <th></th>\n",
       "      <th>body</th>\n",
       "      <th>comments</th>\n",
       "      <th>created_date</th>\n",
       "      <th>title</th>\n",
       "      <th>a: accessibility</th>\n",
       "      <th>a: animation</th>\n",
       "      <th>a: china</th>\n",
       "      <th>a: fidelity</th>\n",
       "      <th>a: first hour</th>\n",
       "      <th>a: internationalization</th>\n",
       "      <th>...</th>\n",
       "      <th>team: gallery</th>\n",
       "      <th>tool</th>\n",
       "      <th>waiting for PR to land (fixed)</th>\n",
       "      <th>waiting for customer response</th>\n",
       "      <th>⌘‬ platform-mac</th>\n",
       "      <th>⌺‬ platform-ios</th>\n",
       "      <th>▣ platform-android</th>\n",
       "      <th>○ platform-fuchsia</th>\n",
       "      <th>⚠ TODAY</th>\n",
       "      <th>❖ platform-windows</th>\n",
       "    </tr>\n",
       "  </thead>\n",
       "  <tbody>\n",
       "    <tr>\n",
       "      <th>0</th>\n",
       "      <td>&lt;a href=\"https://github.com/Hixie\"&gt;&lt;img src=\"h...</td>\n",
       "      <td>148</td>\n",
       "      <td>2015-11-09 20:30:33</td>\n",
       "      <td>Inline Google Maps support</td>\n",
       "      <td>0</td>\n",
       "      <td>0</td>\n",
       "      <td>0</td>\n",
       "      <td>0</td>\n",
       "      <td>0</td>\n",
       "      <td>0</td>\n",
       "      <td>...</td>\n",
       "      <td>0</td>\n",
       "      <td>0</td>\n",
       "      <td>0</td>\n",
       "      <td>0</td>\n",
       "      <td>0</td>\n",
       "      <td>0</td>\n",
       "      <td>0</td>\n",
       "      <td>0</td>\n",
       "      <td>0</td>\n",
       "      <td>0</td>\n",
       "    </tr>\n",
       "    <tr>\n",
       "      <th>1</th>\n",
       "      <td>&lt;a href=\"https://github.com/Hixie\"&gt;&lt;img src=\"h...</td>\n",
       "      <td>2</td>\n",
       "      <td>2015-11-09 20:30:43</td>\n",
       "      <td>We should support ideographic, hanging, and ma...</td>\n",
       "      <td>0</td>\n",
       "      <td>0</td>\n",
       "      <td>0</td>\n",
       "      <td>0</td>\n",
       "      <td>0</td>\n",
       "      <td>0</td>\n",
       "      <td>...</td>\n",
       "      <td>0</td>\n",
       "      <td>0</td>\n",
       "      <td>0</td>\n",
       "      <td>0</td>\n",
       "      <td>0</td>\n",
       "      <td>0</td>\n",
       "      <td>0</td>\n",
       "      <td>0</td>\n",
       "      <td>0</td>\n",
       "      <td>0</td>\n",
       "    </tr>\n",
       "  </tbody>\n",
       "</table>\n",
       "<p>2 rows × 81 columns</p>\n",
       "</div>"
      ],
      "text/plain": [
       "                                                body  comments  \\\n",
       "0  <a href=\"https://github.com/Hixie\"><img src=\"h...       148   \n",
       "1  <a href=\"https://github.com/Hixie\"><img src=\"h...         2   \n",
       "\n",
       "         created_date                                              title  \\\n",
       "0 2015-11-09 20:30:33                         Inline Google Maps support   \n",
       "1 2015-11-09 20:30:43  We should support ideographic, hanging, and ma...   \n",
       "\n",
       "   a: accessibility  a: animation  a: china  a: fidelity  a: first hour  \\\n",
       "0                 0             0         0            0              0   \n",
       "1                 0             0         0            0              0   \n",
       "\n",
       "   a: internationalization         ...          team: gallery  tool  \\\n",
       "0                        0         ...                      0     0   \n",
       "1                        0         ...                      0     0   \n",
       "\n",
       "   waiting for PR to land (fixed)  waiting for customer response  \\\n",
       "0                               0                              0   \n",
       "1                               0                              0   \n",
       "\n",
       "   ⌘‬ platform-mac  ⌺‬ platform-ios  ▣ platform-android  ○ platform-fuchsia  \\\n",
       "0                0                0                   0                   0   \n",
       "1                0                0                   0                   0   \n",
       "\n",
       "   ⚠ TODAY  ❖ platform-windows  \n",
       "0        0                   0  \n",
       "1        0                   0  \n",
       "\n",
       "[2 rows x 81 columns]"
      ]
     },
     "execution_count": 331,
     "metadata": {},
     "output_type": "execute_result"
    }
   ],
   "source": [
    "# one hot encode the label column\n",
    "df = df.join(pd.DataFrame(mlb.transform(df.pop('labels')),\n",
    "                          columns=mlb.classes_,\n",
    "                          index=df.index))\n",
    "df.head(2)"
   ]
  },
  {
   "cell_type": "code",
   "execution_count": 332,
   "metadata": {
    "scrolled": true
   },
   "outputs": [
    {
     "name": "stdout",
     "output_type": "stream",
     "text": [
      "(3479, 4960)\n",
      "(3479, 1804)\n"
     ]
    }
   ],
   "source": [
    "# use tf-idf w/ stemming, stop-word removal, and non-alphabetic word removal to generate features\n",
    "df['body'] = df['body'].apply(preprocess)\n",
    "vector_body = vectorizer_body.transform(df['body'])\n",
    "# summarize encoded vector\n",
    "print(vector_body.shape)\n",
    "df['title'] = df['title'].apply(preprocess)\n",
    "vector_title = vectorizer_title.transform(df['title'])\n",
    "# summarize encoded vector\n",
    "print(vector_title.shape)"
   ]
  },
  {
   "cell_type": "code",
   "execution_count": 333,
   "metadata": {
    "scrolled": true
   },
   "outputs": [
    {
     "data": {
      "text/html": [
       "<div>\n",
       "<style scoped>\n",
       "    .dataframe tbody tr th:only-of-type {\n",
       "        vertical-align: middle;\n",
       "    }\n",
       "\n",
       "    .dataframe tbody tr th {\n",
       "        vertical-align: top;\n",
       "    }\n",
       "\n",
       "    .dataframe thead th {\n",
       "        text-align: right;\n",
       "    }\n",
       "</style>\n",
       "<table border=\"1\" class=\"dataframe\">\n",
       "  <thead>\n",
       "    <tr style=\"text-align: right;\">\n",
       "      <th></th>\n",
       "      <th>body</th>\n",
       "      <th>comments</th>\n",
       "      <th>created_date</th>\n",
       "      <th>title</th>\n",
       "      <th>a: accessibility</th>\n",
       "      <th>a: animation</th>\n",
       "      <th>a: china</th>\n",
       "      <th>a: fidelity</th>\n",
       "      <th>a: first hour</th>\n",
       "      <th>a: internationalization</th>\n",
       "      <th>...</th>\n",
       "      <th>4950</th>\n",
       "      <th>4951</th>\n",
       "      <th>4952</th>\n",
       "      <th>4953</th>\n",
       "      <th>4954</th>\n",
       "      <th>4955</th>\n",
       "      <th>4956</th>\n",
       "      <th>4957</th>\n",
       "      <th>4958</th>\n",
       "      <th>4959</th>\n",
       "    </tr>\n",
       "  </thead>\n",
       "  <tbody>\n",
       "    <tr>\n",
       "      <th>0</th>\n",
       "      <td>a href http github com hixi img src http avata...</td>\n",
       "      <td>148</td>\n",
       "      <td>2015-11-09 20:30:33</td>\n",
       "      <td>inlin googl map support</td>\n",
       "      <td>0</td>\n",
       "      <td>0</td>\n",
       "      <td>0</td>\n",
       "      <td>0</td>\n",
       "      <td>0</td>\n",
       "      <td>0</td>\n",
       "      <td>...</td>\n",
       "      <td>0.0</td>\n",
       "      <td>0.0</td>\n",
       "      <td>0.0</td>\n",
       "      <td>0.0</td>\n",
       "      <td>0.0</td>\n",
       "      <td>0.0</td>\n",
       "      <td>0.0</td>\n",
       "      <td>0.0</td>\n",
       "      <td>0.0</td>\n",
       "      <td>0.0</td>\n",
       "    </tr>\n",
       "    <tr>\n",
       "      <th>1</th>\n",
       "      <td>a href http github com hixi img src http avata...</td>\n",
       "      <td>2</td>\n",
       "      <td>2015-11-09 20:30:43</td>\n",
       "      <td>We should support ideograph hang and mathemat ...</td>\n",
       "      <td>0</td>\n",
       "      <td>0</td>\n",
       "      <td>0</td>\n",
       "      <td>0</td>\n",
       "      <td>0</td>\n",
       "      <td>0</td>\n",
       "      <td>...</td>\n",
       "      <td>0.0</td>\n",
       "      <td>0.0</td>\n",
       "      <td>0.0</td>\n",
       "      <td>0.0</td>\n",
       "      <td>0.0</td>\n",
       "      <td>0.0</td>\n",
       "      <td>0.0</td>\n",
       "      <td>0.0</td>\n",
       "      <td>0.0</td>\n",
       "      <td>0.0</td>\n",
       "    </tr>\n",
       "  </tbody>\n",
       "</table>\n",
       "<p>2 rows × 6845 columns</p>\n",
       "</div>"
      ],
      "text/plain": [
       "                                                body  comments  \\\n",
       "0  a href http github com hixi img src http avata...       148   \n",
       "1  a href http github com hixi img src http avata...         2   \n",
       "\n",
       "         created_date                                              title  \\\n",
       "0 2015-11-09 20:30:33                            inlin googl map support   \n",
       "1 2015-11-09 20:30:43  We should support ideograph hang and mathemat ...   \n",
       "\n",
       "   a: accessibility  a: animation  a: china  a: fidelity  a: first hour  \\\n",
       "0                 0             0         0            0              0   \n",
       "1                 0             0         0            0              0   \n",
       "\n",
       "   a: internationalization  ...   4950  4951  4952  4953  4954  4955  4956  \\\n",
       "0                        0  ...    0.0   0.0   0.0   0.0   0.0   0.0   0.0   \n",
       "1                        0  ...    0.0   0.0   0.0   0.0   0.0   0.0   0.0   \n",
       "\n",
       "   4957  4958  4959  \n",
       "0   0.0   0.0   0.0  \n",
       "1   0.0   0.0   0.0  \n",
       "\n",
       "[2 rows x 6845 columns]"
      ]
     },
     "execution_count": 333,
     "metadata": {},
     "output_type": "execute_result"
    }
   ],
   "source": [
    "title_df = pd.DataFrame(vector_title.todense())\n",
    "body_df = pd.DataFrame(vector_body.todense())\n",
    "df = pd.concat([df, title_df, body_df], axis=1)\n",
    "df.head(2)"
   ]
  },
  {
   "cell_type": "code",
   "execution_count": 334,
   "metadata": {
    "scrolled": true
   },
   "outputs": [
    {
     "name": "stdout",
     "output_type": "stream",
     "text": [
      "(3479, 6841)\n",
      "['devoncarew' 'Hixie' 'abarth' ... 'HansMuller' 'Hixie' 'abarth']\n"
     ]
    }
   ],
   "source": [
    "X = df.drop(['body', 'closed_date', 'completed_by', 'created_date', 'title', 'comments'], axis=1)\n",
    "print(X.shape)\n",
    "preds = classifier.predict(X)\n",
    "print(preds)"
   ]
  },
  {
   "cell_type": "code",
   "execution_count": 335,
   "metadata": {
    "scrolled": true
   },
   "outputs": [
    {
     "data": {
      "text/plain": [
       "<matplotlib.axes._subplots.AxesSubplot at 0x11042a898>"
      ]
     },
     "execution_count": 335,
     "metadata": {},
     "output_type": "execute_result"
    },
    {
     "data": {
      "image/png": "[encoded data removed]",
      "text/plain": [
       "<Figure size 432x288 with 1 Axes>"
      ]
     },
     "metadata": {},
     "output_type": "display_data"
    }
   ],
   "source": [
    "pd.value_counts(preds).plot.bar()"
   ]
  }
 ],
 "metadata": {
  "kernelspec": {
   "display_name": "Python 3",
   "language": "python",
   "name": "python3"
  },
  "language_info": {
   "codemirror_mode": {
    "name": "ipython",
    "version": 3
   },
   "file_extension": ".py",
   "mimetype": "text/x-python",
   "name": "python",
   "nbconvert_exporter": "python",
   "pygments_lexer": "ipython3",
   "version": "3.6.5"
  }
 },
 "nbformat": 4,
 "nbformat_minor": 2
}
