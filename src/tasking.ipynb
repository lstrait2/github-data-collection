{
 "cells": [
  {
   "cell_type": "code",
   "execution_count": 823,
   "metadata": {},
   "outputs": [],
   "source": [
    "import json\n",
    "import matplotlib.pyplot as plt\n",
    "import numpy as np\n",
    "import pandas as pd\n",
    "import seaborn as sns\n",
    "\n",
    "from classifier import *\n",
    "from issues import get_num_code_lines\n",
    "from sklearn.linear_model import LogisticRegression\n",
    "from sklearn.metrics import confusion_matrix, r2_score\n",
    "from sklearn.model_selection import train_test_split"
   ]
  },
  {
   "cell_type": "markdown",
   "metadata": {},
   "source": [
    "# Pre-Processing"
   ]
  },
  {
   "cell_type": "code",
   "execution_count": 824,
   "metadata": {},
   "outputs": [],
   "source": [
    "with open('../data/flutter/flutter_issues_labeled_2.json') as json_data:\n",
    "    data = json.load(json_data)"
   ]
  },
  {
   "cell_type": "code",
   "execution_count": 825,
   "metadata": {},
   "outputs": [],
   "source": [
    "df_list = []\n",
    "for issue in data:\n",
    "    issue = preprocess_issue(issue)\n",
    "    for assignee in issue['training_labels']:\n",
    "        df_dict = {}\n",
    "        df_dict['comments'] = issue['comments']\n",
    "        df_dict['assignee'] = assignee\n",
    "        if (not issue['body']):\n",
    "            issue['body'] = \"\"\n",
    "        df_dict['len_body'] = len(issue['body'])\n",
    "        df_dict['len_code_in_body'] = get_num_code_lines(issue)\n",
    "        df_dict['is_doc_change'] = int(classify_issue(issue))\n",
    "        df_dict['closed_date'] = pd.to_datetime(issue['closed_at'])\n",
    "        #TODO: figure out how to one-hot-encode labels!!!!!!!!\n",
    "        #TODO: sliding window for user statistics!!\n",
    "        df_dict['label'] = issue['training_labels'][assignee]\n",
    "        df_list.append(df_dict)\n",
    "df = pd.DataFrame(df_list).sort_values('closed_date')"
   ]
  },
  {
   "cell_type": "code",
   "execution_count": 826,
   "metadata": {},
   "outputs": [
    {
     "data": {
      "text/html": [
       "<div>\n",
       "<style scoped>\n",
       "    .dataframe tbody tr th:only-of-type {\n",
       "        vertical-align: middle;\n",
       "    }\n",
       "\n",
       "    .dataframe tbody tr th {\n",
       "        vertical-align: top;\n",
       "    }\n",
       "\n",
       "    .dataframe thead th {\n",
       "        text-align: right;\n",
       "    }\n",
       "</style>\n",
       "<table border=\"1\" class=\"dataframe\">\n",
       "  <thead>\n",
       "    <tr style=\"text-align: right;\">\n",
       "      <th></th>\n",
       "      <th>assignee</th>\n",
       "      <th>closed_date</th>\n",
       "      <th>comments</th>\n",
       "      <th>is_doc_change</th>\n",
       "      <th>label</th>\n",
       "      <th>len_body</th>\n",
       "      <th>len_code_in_body</th>\n",
       "      <th>num_issues_for_user</th>\n",
       "      <th>num_successful_issues_for_user</th>\n",
       "      <th>percent_successful_for_user</th>\n",
       "    </tr>\n",
       "  </thead>\n",
       "  <tbody>\n",
       "    <tr>\n",
       "      <th>2</th>\n",
       "      <td>abarth</td>\n",
       "      <td>2015-05-19 22:53:58</td>\n",
       "      <td>2</td>\n",
       "      <td>0</td>\n",
       "      <td>0</td>\n",
       "      <td>435</td>\n",
       "      <td>0</td>\n",
       "      <td>0</td>\n",
       "      <td>0</td>\n",
       "      <td>0.000000</td>\n",
       "    </tr>\n",
       "    <tr>\n",
       "      <th>1</th>\n",
       "      <td>eseidelGoogle</td>\n",
       "      <td>2015-11-07 07:40:51</td>\n",
       "      <td>6</td>\n",
       "      <td>0</td>\n",
       "      <td>0</td>\n",
       "      <td>953</td>\n",
       "      <td>0</td>\n",
       "      <td>0</td>\n",
       "      <td>0</td>\n",
       "      <td>0.000000</td>\n",
       "    </tr>\n",
       "    <tr>\n",
       "      <th>0</th>\n",
       "      <td>abarth</td>\n",
       "      <td>2015-11-07 07:41:08</td>\n",
       "      <td>3</td>\n",
       "      <td>0</td>\n",
       "      <td>0</td>\n",
       "      <td>26</td>\n",
       "      <td>0</td>\n",
       "      <td>1</td>\n",
       "      <td>0</td>\n",
       "      <td>0.000000</td>\n",
       "    </tr>\n",
       "    <tr>\n",
       "      <th>6</th>\n",
       "      <td>abarth</td>\n",
       "      <td>2015-11-09 20:13:32</td>\n",
       "      <td>3</td>\n",
       "      <td>1</td>\n",
       "      <td>1</td>\n",
       "      <td>439</td>\n",
       "      <td>0</td>\n",
       "      <td>2</td>\n",
       "      <td>0</td>\n",
       "      <td>0.000000</td>\n",
       "    </tr>\n",
       "    <tr>\n",
       "      <th>18</th>\n",
       "      <td>abarth</td>\n",
       "      <td>2015-11-09 21:43:40</td>\n",
       "      <td>1</td>\n",
       "      <td>0</td>\n",
       "      <td>1</td>\n",
       "      <td>2877</td>\n",
       "      <td>0</td>\n",
       "      <td>3</td>\n",
       "      <td>1</td>\n",
       "      <td>0.333333</td>\n",
       "    </tr>\n",
       "    <tr>\n",
       "      <th>20</th>\n",
       "      <td>collinjackson</td>\n",
       "      <td>2015-11-10 00:40:38</td>\n",
       "      <td>1</td>\n",
       "      <td>0</td>\n",
       "      <td>1</td>\n",
       "      <td>13</td>\n",
       "      <td>0</td>\n",
       "      <td>0</td>\n",
       "      <td>0</td>\n",
       "      <td>0.000000</td>\n",
       "    </tr>\n",
       "    <tr>\n",
       "      <th>102</th>\n",
       "      <td>abarth</td>\n",
       "      <td>2015-11-11 17:56:29</td>\n",
       "      <td>3</td>\n",
       "      <td>0</td>\n",
       "      <td>1</td>\n",
       "      <td>185</td>\n",
       "      <td>0</td>\n",
       "      <td>4</td>\n",
       "      <td>2</td>\n",
       "      <td>0.500000</td>\n",
       "    </tr>\n",
       "    <tr>\n",
       "      <th>114</th>\n",
       "      <td>abarth</td>\n",
       "      <td>2015-11-12 19:16:30</td>\n",
       "      <td>7</td>\n",
       "      <td>1</td>\n",
       "      <td>0</td>\n",
       "      <td>1490</td>\n",
       "      <td>114</td>\n",
       "      <td>5</td>\n",
       "      <td>3</td>\n",
       "      <td>0.600000</td>\n",
       "    </tr>\n",
       "    <tr>\n",
       "      <th>113</th>\n",
       "      <td>abarth</td>\n",
       "      <td>2015-11-12 20:25:12</td>\n",
       "      <td>0</td>\n",
       "      <td>1</td>\n",
       "      <td>1</td>\n",
       "      <td>193</td>\n",
       "      <td>0</td>\n",
       "      <td>6</td>\n",
       "      <td>3</td>\n",
       "      <td>0.500000</td>\n",
       "    </tr>\n",
       "    <tr>\n",
       "      <th>118</th>\n",
       "      <td>HansMuller</td>\n",
       "      <td>2015-11-13 00:40:47</td>\n",
       "      <td>0</td>\n",
       "      <td>0</td>\n",
       "      <td>1</td>\n",
       "      <td>15</td>\n",
       "      <td>0</td>\n",
       "      <td>0</td>\n",
       "      <td>0</td>\n",
       "      <td>0.000000</td>\n",
       "    </tr>\n",
       "    <tr>\n",
       "      <th>121</th>\n",
       "      <td>abarth</td>\n",
       "      <td>2015-11-13 00:58:57</td>\n",
       "      <td>4</td>\n",
       "      <td>0</td>\n",
       "      <td>1</td>\n",
       "      <td>4034</td>\n",
       "      <td>3206</td>\n",
       "      <td>7</td>\n",
       "      <td>4</td>\n",
       "      <td>0.571429</td>\n",
       "    </tr>\n",
       "    <tr>\n",
       "      <th>105</th>\n",
       "      <td>abarth</td>\n",
       "      <td>2015-11-13 19:19:02</td>\n",
       "      <td>7</td>\n",
       "      <td>0</td>\n",
       "      <td>1</td>\n",
       "      <td>538</td>\n",
       "      <td>0</td>\n",
       "      <td>8</td>\n",
       "      <td>5</td>\n",
       "      <td>0.625000</td>\n",
       "    </tr>\n",
       "    <tr>\n",
       "      <th>115</th>\n",
       "      <td>abarth</td>\n",
       "      <td>2015-11-15 00:36:23</td>\n",
       "      <td>4</td>\n",
       "      <td>1</td>\n",
       "      <td>0</td>\n",
       "      <td>1031</td>\n",
       "      <td>0</td>\n",
       "      <td>9</td>\n",
       "      <td>6</td>\n",
       "      <td>0.666667</td>\n",
       "    </tr>\n",
       "    <tr>\n",
       "      <th>135</th>\n",
       "      <td>HansMuller</td>\n",
       "      <td>2015-11-16 20:00:10</td>\n",
       "      <td>0</td>\n",
       "      <td>0</td>\n",
       "      <td>1</td>\n",
       "      <td>1034</td>\n",
       "      <td>0</td>\n",
       "      <td>1</td>\n",
       "      <td>1</td>\n",
       "      <td>1.000000</td>\n",
       "    </tr>\n",
       "    <tr>\n",
       "      <th>129</th>\n",
       "      <td>collinjackson</td>\n",
       "      <td>2015-11-16 22:19:27</td>\n",
       "      <td>1</td>\n",
       "      <td>0</td>\n",
       "      <td>0</td>\n",
       "      <td>0</td>\n",
       "      <td>0</td>\n",
       "      <td>1</td>\n",
       "      <td>1</td>\n",
       "      <td>1.000000</td>\n",
       "    </tr>\n",
       "  </tbody>\n",
       "</table>\n",
       "</div>"
      ],
      "text/plain": [
       "          assignee         closed_date  comments  is_doc_change  label  \\\n",
       "2           abarth 2015-05-19 22:53:58         2              0      0   \n",
       "1    eseidelGoogle 2015-11-07 07:40:51         6              0      0   \n",
       "0           abarth 2015-11-07 07:41:08         3              0      0   \n",
       "6           abarth 2015-11-09 20:13:32         3              1      1   \n",
       "18          abarth 2015-11-09 21:43:40         1              0      1   \n",
       "20   collinjackson 2015-11-10 00:40:38         1              0      1   \n",
       "102         abarth 2015-11-11 17:56:29         3              0      1   \n",
       "114         abarth 2015-11-12 19:16:30         7              1      0   \n",
       "113         abarth 2015-11-12 20:25:12         0              1      1   \n",
       "118     HansMuller 2015-11-13 00:40:47         0              0      1   \n",
       "121         abarth 2015-11-13 00:58:57         4              0      1   \n",
       "105         abarth 2015-11-13 19:19:02         7              0      1   \n",
       "115         abarth 2015-11-15 00:36:23         4              1      0   \n",
       "135     HansMuller 2015-11-16 20:00:10         0              0      1   \n",
       "129  collinjackson 2015-11-16 22:19:27         1              0      0   \n",
       "\n",
       "     len_body  len_code_in_body  num_issues_for_user  \\\n",
       "2         435                 0                    0   \n",
       "1         953                 0                    0   \n",
       "0          26                 0                    1   \n",
       "6         439                 0                    2   \n",
       "18       2877                 0                    3   \n",
       "20         13                 0                    0   \n",
       "102       185                 0                    4   \n",
       "114      1490               114                    5   \n",
       "113       193                 0                    6   \n",
       "118        15                 0                    0   \n",
       "121      4034              3206                    7   \n",
       "105       538                 0                    8   \n",
       "115      1031                 0                    9   \n",
       "135      1034                 0                    1   \n",
       "129         0                 0                    1   \n",
       "\n",
       "     num_successful_issues_for_user  percent_successful_for_user  \n",
       "2                                 0                     0.000000  \n",
       "1                                 0                     0.000000  \n",
       "0                                 0                     0.000000  \n",
       "6                                 0                     0.000000  \n",
       "18                                1                     0.333333  \n",
       "20                                0                     0.000000  \n",
       "102                               2                     0.500000  \n",
       "114                               3                     0.600000  \n",
       "113                               3                     0.500000  \n",
       "118                               0                     0.000000  \n",
       "121                               4                     0.571429  \n",
       "105                               5                     0.625000  \n",
       "115                               6                     0.666667  \n",
       "135                               1                     1.000000  \n",
       "129                               1                     1.000000  "
      ]
     },
     "metadata": {},
     "output_type": "display_data"
    }
   ],
   "source": [
    "# Create data for each user\n",
    "grouped_df = df.groupby('assignee')\n",
    "df['num_issues_for_user'] = grouped_df['label'].apply(lambda x: x.expanding().count().shift()).fillna(0).astype(int)\n",
    "df['num_successful_issues_for_user'] = grouped_df['label'].apply(lambda x: x.expanding().sum().shift()).fillna(0).astype(int)\n",
    "df['percent_successful_for_user'] = (df['num_successful_issues_for_user'] / df['num_issues_for_user']).fillna(0)\n",
    "display(df.head(15))"
   ]
  },
  {
   "cell_type": "markdown",
   "metadata": {},
   "source": [
    "# Data Analysis"
   ]
  },
  {
   "cell_type": "code",
   "execution_count": 827,
   "metadata": {},
   "outputs": [
    {
     "name": "stdout",
     "output_type": "stream",
     "text": [
      "num positive events: 819\n",
      "num total events: 2990\n"
     ]
    }
   ],
   "source": [
    "num_positive_labels = 0\n",
    "total_num_labels = 0\n",
    "for issue in data:\n",
    "    for assignee in issue['training_labels']:\n",
    "        if issue['training_labels'][assignee] == 1:\n",
    "            num_positive_labels += 1\n",
    "        total_num_labels += 1\n",
    "print(\"num positive events: \" + str(num_positive_labels))\n",
    "print(\"num total events: \" + str(total_num_labels))"
   ]
  },
  {
   "cell_type": "markdown",
   "metadata": {},
   "source": [
    "Now filter out any issues that never end up getting a commit/PR before they are closed. Idea being that these are not 'real' issues."
   ]
  },
  {
   "cell_type": "code",
   "execution_count": 828,
   "metadata": {},
   "outputs": [
    {
     "name": "stdout",
     "output_type": "stream",
     "text": [
      "num positive events: 819\n",
      "num total events: 937\n"
     ]
    }
   ],
   "source": [
    "num_positive_labels = 0\n",
    "total_num_labels = 0\n",
    "for issue in data:\n",
    "    for assignee in issue['training_labels']:\n",
    "        if len(issue['matching_prs']) != 0 or len(issue['matching_commits']) != 0:\n",
    "            if issue['training_labels'][assignee] == 1:\n",
    "                num_positive_labels += 1\n",
    "            total_num_labels += 1\n",
    "print(\"num positive events: \" + str(num_positive_labels))\n",
    "print(\"num total events: \" + str(total_num_labels))"
   ]
  },
  {
   "cell_type": "code",
   "execution_count": 829,
   "metadata": {},
   "outputs": [
    {
     "name": "stdout",
     "output_type": "stream",
     "text": [
      "Number of successful tasks: \n",
      "{'Hixie': 96, 'abarth': 422, 'collinjackson': 7, 'HansMuller': 66, 'devoncarew': 1, 'mpcomplete': 20, 'yjbanov': 14, 'krisgiesing': 4, 'danrubel': 8, 'xster': 6, 'sethladd': 4, 'jason-simmons': 18, 'dragostis': 5, 'jimbeveridge': 1, 'tvolkert': 19, 'chinmaygarde': 2, 'pq': 3, 'aghassemi': 3, 'jakobr-google': 11, 'cbracken': 33, 'gspencergoog': 20, 'dvdwasibi': 1, 'johnmccutchan': 4, 'goderbauer': 13, 'lequem': 1, 'mehmetf': 3, 'mravn-google': 4, 'B3rn475': 2, 'jcollins-g': 11, 'amirh': 3, 'szakarias': 4, 'jonahwilliams': 1, 'aam': 3, 'DanTup': 2, 'mraleph': 3, 'blasten': 1}\n",
      "Number of total tasks: \n",
      "{'abarth': 444, 'eseidelGoogle': 2, 'Hixie': 121, 'collinjackson': 11, 'HansMuller': 75, 'devoncarew': 2, 'vlidholt': 2, 'mpcomplete': 22, 'yjbanov': 20, 'krisgiesing': 5, 'danrubel': 9, 'xster': 17, 'sethladd': 7, 'jason-simmons': 19, 'aghassemi': 7, 'dragostis': 7, 'jimbeveridge': 1, 'tvolkert': 19, 'chinmaygarde': 7, 'pq': 3, 'jakobr-google': 11, 'johnmccutchan': 5, 'cbracken': 39, 'qchong': 1, 'gspencergoog': 22, 'dvdwasibi': 1, 'mit-mit': 2, 'goderbauer': 13, 'lequem': 1, 'LarkAscending': 1, 'mehmetf': 3, 'mravn-google': 5, 'B3rn475': 2, 'jcollins-g': 11, 'amirh': 3, 'szakarias': 4, 'jonahwilliams': 1, 'aam': 3, 'DanTup': 2, 'mraleph': 3, 'a-siva': 1, 'zanderso': 1, 'timsneath': 1, 'blasten': 1}\n",
      "Percentage of tasks completed: \n",
      "{'abarth': 0.9504504504504504, 'eseidelGoogle': 0.0, 'Hixie': 0.7933884297520661, 'collinjackson': 0.6363636363636364, 'HansMuller': 0.88, 'devoncarew': 0.5, 'vlidholt': 0.0, 'mpcomplete': 0.9090909090909091, 'yjbanov': 0.7, 'krisgiesing': 0.8, 'danrubel': 0.8888888888888888, 'xster': 0.35294117647058826, 'sethladd': 0.5714285714285714, 'jason-simmons': 0.9473684210526315, 'aghassemi': 0.42857142857142855, 'dragostis': 0.7142857142857143, 'jimbeveridge': 1.0, 'tvolkert': 1.0, 'chinmaygarde': 0.2857142857142857, 'pq': 1.0, 'jakobr-google': 1.0, 'johnmccutchan': 0.8, 'cbracken': 0.8461538461538461, 'qchong': 0.0, 'gspencergoog': 0.9090909090909091, 'dvdwasibi': 1.0, 'mit-mit': 0.0, 'goderbauer': 1.0, 'lequem': 1.0, 'LarkAscending': 0.0, 'mehmetf': 1.0, 'mravn-google': 0.8, 'B3rn475': 1.0, 'jcollins-g': 1.0, 'amirh': 1.0, 'szakarias': 1.0, 'jonahwilliams': 1.0, 'aam': 1.0, 'DanTup': 1.0, 'mraleph': 1.0, 'a-siva': 0.0, 'zanderso': 0.0, 'timsneath': 0.0, 'blasten': 1.0}\n"
     ]
    }
   ],
   "source": [
    "person_counts = {}\n",
    "person_totals = {}\n",
    "for issue in data:\n",
    "    for assignee in issue['training_labels']:\n",
    "        if len(issue['matching_prs']) != 0 or len(issue['matching_commits']) != 0:\n",
    "            if issue['training_labels'][assignee] == 1:\n",
    "                person_counts[assignee] = person_counts.get(assignee, 0) + 1\n",
    "            person_totals[assignee] = person_totals.get(assignee, 0) + 1\n",
    "person_percents = {}\n",
    "for person in person_totals:\n",
    "    person_percents[person] = person_counts.get(person, 0) / person_totals[person]\n",
    "    \n",
    "print(\"Number of successful tasks: \")\n",
    "print(person_counts)\n",
    "print(\"Number of total tasks: \")\n",
    "print(person_totals)\n",
    "print(\"Percentage of tasks completed: \")\n",
    "print(person_percents)"
   ]
  },
  {
   "cell_type": "code",
   "execution_count": 830,
   "metadata": {},
   "outputs": [
    {
     "name": "stdout",
     "output_type": "stream",
     "text": [
      "0.18181818181818182\n"
     ]
    }
   ],
   "source": [
    "zero_count = 0\n",
    "total_count = 0\n",
    "for person in person_percents:\n",
    "    if person_percents[person] == 0.0:\n",
    "        zero_count += 1\n",
    "    total_count += 1\n",
    "print(float(zero_count) / total_count)"
   ]
  },
  {
   "cell_type": "code",
   "execution_count": 831,
   "metadata": {},
   "outputs": [],
   "source": [
    "#TODO: compare characteristics of issues that are successfully completed."
   ]
  },
  {
   "cell_type": "markdown",
   "metadata": {},
   "source": [
    "# Classifier"
   ]
  },
  {
   "cell_type": "code",
   "execution_count": 832,
   "metadata": {},
   "outputs": [
    {
     "name": "stdout",
     "output_type": "stream",
     "text": [
      "   comments  is_doc_change  len_body  len_code_in_body\n",
      "0         2              0       435                 0\n",
      "1         6              0       953                 0\n",
      "2         3              0        26                 0\n",
      "3         3              1       439                 0\n",
      "4         1              0      2877                 0\n"
     ]
    }
   ],
   "source": [
    "# Think of Features - past history for dev, etc.\n",
    "features = ['comments', 'is_doc_change', 'len_body', 'len_code_in_body']\n",
    "df = df.reset_index(drop=True)\n",
    "print(df[features].head(5))"
   ]
  },
  {
   "cell_type": "code",
   "execution_count": 833,
   "metadata": {},
   "outputs": [],
   "source": [
    "#TODOs:\n",
    "# Normalize columns\n",
    "# One Hot Encode UserName, Labels, etc.\n",
    "# Sliding windows for previous events for user.\n",
    "# deal with String fields (e.g. assignee)\n",
    "# Use doc classifier as a feature\n",
    "# Use other features\n",
    "# Compare performance to naive model (just take previous % of completion for user...)\n",
    "# Move to 3 class classifier (two binary combined: can predict if they will get a PR up, will that PR be accepted)"
   ]
  },
  {
   "cell_type": "code",
   "execution_count": 834,
   "metadata": {},
   "outputs": [
    {
     "name": "stdout",
     "output_type": "stream",
     "text": [
      "2392\n",
      "2392\n",
      "598\n",
      "598\n"
     ]
    }
   ],
   "source": [
    "x_train, x_test, y_train, y_test = train_test_split(df[features], df['label'], test_size=0.2, random_state=1)\n",
    "print(len(x_train))\n",
    "print(len(y_train))\n",
    "print(len(x_test))\n",
    "print(len(y_test))"
   ]
  },
  {
   "cell_type": "code",
   "execution_count": 835,
   "metadata": {
    "scrolled": true
   },
   "outputs": [
    {
     "name": "stdout",
     "output_type": "stream",
     "text": [
      "R^2 for model: -0.9898997807704353\n",
      "[[200 212]\n",
      " [ 43 143]]\n"
     ]
    }
   ],
   "source": [
    "reg_classifier = LogisticRegression(C=1, class_weight='balanced')\n",
    "reg_classifier.fit(x_train, y_train)\n",
    "preds = reg_classifier.predict(x_test)\n",
    "print(\"R^2 for model: \" + str(r2_score(y_test, preds)))\n",
    "print(confusion_matrix(y_test, preds))"
   ]
  },
  {
   "cell_type": "code",
   "execution_count": 836,
   "metadata": {},
   "outputs": [
    {
     "name": "stdout",
     "output_type": "stream",
     "text": [
      "                  0         0\n",
      "0          comments -0.101578\n",
      "1     is_doc_change -0.042902\n",
      "2          len_body -0.000012\n",
      "3  len_code_in_body  0.000007\n"
     ]
    }
   ],
   "source": [
    "coefficients = pd.concat([pd.DataFrame(df[features].columns),pd.DataFrame(np.transpose(reg_classifier.coef_))], axis = 1)\n",
    "print(coefficients)"
   ]
  }
 ],
 "metadata": {
  "kernelspec": {
   "display_name": "Python 3",
   "language": "python",
   "name": "python3"
  },
  "language_info": {
   "codemirror_mode": {
    "name": "ipython",
    "version": 3
   },
   "file_extension": ".py",
   "mimetype": "text/x-python",
   "name": "python",
   "nbconvert_exporter": "python",
   "pygments_lexer": "ipython3",
   "version": "3.6.5"
  }
 },
 "nbformat": 4,
 "nbformat_minor": 2
}
