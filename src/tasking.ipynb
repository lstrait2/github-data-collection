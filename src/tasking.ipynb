{
 "cells": [
  {
   "cell_type": "code",
   "execution_count": 2160,
   "metadata": {},
   "outputs": [],
   "source": [
    "import json\n",
    "import matplotlib.pyplot as plt\n",
    "import numpy as np\n",
    "import operator\n",
    "import pandas as pd\n",
    "import re\n",
    "import seaborn as sns\n",
    "\n",
    "from classifier import *\n",
    "from heapq import nlargest\n",
    "from issues import get_num_code_lines\n",
    "from nltk.stem import PorterStemmer\n",
    "from sklearn.ensemble import RandomForestClassifier\n",
    "from sklearn.feature_extraction.text import ENGLISH_STOP_WORDS, TfidfVectorizer\n",
    "from sklearn.linear_model import LogisticRegression\n",
    "from sklearn.metrics import accuracy_score, confusion_matrix, r2_score\n",
    "from sklearn.naive_bayes import BernoulliNB, GaussianNB\n",
    "from sklearn.neighbors import KNeighborsClassifier\n",
    "from sklearn.model_selection import train_test_split\n",
    "from sklearn.neural_network import MLPClassifier\n",
    "from sklearn.preprocessing import MultiLabelBinarizer\n",
    "from sklearn.svm import SVC\n",
    "from sklearn.tree import DecisionTreeClassifier"
   ]
  },
  {
   "cell_type": "markdown",
   "metadata": {},
   "source": [
    "# Pre-Processing"
   ]
  },
  {
   "cell_type": "code",
   "execution_count": 2161,
   "metadata": {},
   "outputs": [],
   "source": [
    "with open('../data/flutter/flutter_issues_labeled.json') as json_data:\n",
    "    issues = json.load(json_data)"
   ]
  },
  {
   "cell_type": "code",
   "execution_count": 2162,
   "metadata": {},
   "outputs": [
    {
     "name": "stdout",
     "output_type": "stream",
     "text": [
      "Number of issues: 7170\n",
      "Number of labeled issues: 2504\n"
     ]
    }
   ],
   "source": [
    "print(\"Number of issues: \" + str(len(issues)))\n",
    "labeled_issues = [issue for issue in issues if len(issue['completed_by']) > 0]\n",
    "print(\"Number of labeled issues: \" + str(len(labeled_issues)))"
   ]
  },
  {
   "cell_type": "code",
   "execution_count": 2163,
   "metadata": {},
   "outputs": [
    {
     "data": {
      "text/html": [
       "<div>\n",
       "<style scoped>\n",
       "    .dataframe tbody tr th:only-of-type {\n",
       "        vertical-align: middle;\n",
       "    }\n",
       "\n",
       "    .dataframe tbody tr th {\n",
       "        vertical-align: top;\n",
       "    }\n",
       "\n",
       "    .dataframe thead th {\n",
       "        text-align: right;\n",
       "    }\n",
       "</style>\n",
       "<table border=\"1\" class=\"dataframe\">\n",
       "  <thead>\n",
       "    <tr style=\"text-align: right;\">\n",
       "      <th></th>\n",
       "      <th>body</th>\n",
       "      <th>closed_date</th>\n",
       "      <th>comments</th>\n",
       "      <th>completed_by</th>\n",
       "      <th>created_date</th>\n",
       "      <th>title</th>\n",
       "    </tr>\n",
       "  </thead>\n",
       "  <tbody>\n",
       "    <tr>\n",
       "      <th>1</th>\n",
       "      <td>When I try to `flutter start` any of the examp...</td>\n",
       "      <td>2015-11-09 20:13:32</td>\n",
       "      <td>3</td>\n",
       "      <td>[abarth, DanTup]</td>\n",
       "      <td>2015-11-08 20:33:37</td>\n",
       "      <td>`flutter start` doesn't give good error messag...</td>\n",
       "    </tr>\n",
       "    <tr>\n",
       "      <th>6</th>\n",
       "      <td>&lt;a href=\"https://github.com/Hixie\"&gt;&lt;img src=\"h...</td>\n",
       "      <td>2015-11-09 20:18:24</td>\n",
       "      <td>1</td>\n",
       "      <td>[yjbanov]</td>\n",
       "      <td>2015-11-09 20:16:52</td>\n",
       "      <td>Swipe to change between Tabs</td>\n",
       "    </tr>\n",
       "  </tbody>\n",
       "</table>\n",
       "</div>"
      ],
      "text/plain": [
       "                                                body         closed_date  \\\n",
       "1  When I try to `flutter start` any of the examp... 2015-11-09 20:13:32   \n",
       "6  <a href=\"https://github.com/Hixie\"><img src=\"h... 2015-11-09 20:18:24   \n",
       "\n",
       "   comments      completed_by        created_date  \\\n",
       "1         3  [abarth, DanTup] 2015-11-08 20:33:37   \n",
       "6         1         [yjbanov] 2015-11-09 20:16:52   \n",
       "\n",
       "                                               title  \n",
       "1  `flutter start` doesn't give good error messag...  \n",
       "6                       Swipe to change between Tabs  "
      ]
     },
     "execution_count": 2163,
     "metadata": {},
     "output_type": "execute_result"
    }
   ],
   "source": [
    "# create a data frame from the list of issues\n",
    "df_list = []\n",
    "for issue in labeled_issues[25:]:\n",
    "        df_dict = {}\n",
    "        df_dict['comments'] = issue['comments']\n",
    "        if (not issue['body']):\n",
    "            issue['body'] = \"\"\n",
    "        df_dict['title'] = issue['title']\n",
    "        df_dict['body'] = issue['body']\n",
    "        df_dict['closed_date'] = pd.to_datetime(issue['closed_at'])\n",
    "        df_dict['created_date'] = pd.to_datetime(issue['created_at'])\n",
    "        df_dict['completed_by'] = issue['completed_by']\n",
    "        #df_dict['labels'] = [label['name'] for label in issue['labels']]\n",
    "        df_list.append(df_dict)\n",
    "df = pd.DataFrame(df_list).sort_values('closed_date')\n",
    "df.head(2)"
   ]
  },
  {
   "cell_type": "code",
   "execution_count": 2164,
   "metadata": {},
   "outputs": [
    {
     "name": "stdout",
     "output_type": "stream",
     "text": [
      "{2: 197, 1: 2268, 3: 14}\n",
      "Number of total issues: 2479\n",
      "Number of issues with single solver: 2268\n"
     ]
    }
   ],
   "source": [
    "# count number of issues with multiple completers\n",
    "counts = {}\n",
    "for index, row in df.iterrows():\n",
    "    count = len(row['completed_by'])\n",
    "    counts[count] = counts.get(count, 0) + 1\n",
    "print(counts)\n",
    "#TODO: confirm that filtering \"noise\" is best strategy here\n",
    "print(\"Number of total issues: \" + str(len(df)))\n",
    "df = df[df.apply(lambda x: len(x['completed_by']) == 1, axis=1)].reset_index(drop=True)\n",
    "df['completed_by'] = df['completed_by'].apply(lambda  x : x[0])\n",
    "print(\"Number of issues with single solver: \" + str(len(df)))"
   ]
  },
  {
   "cell_type": "code",
   "execution_count": 2165,
   "metadata": {},
   "outputs": [
    {
     "data": {
      "text/plain": [
       "\"\\nmlb = MultiLabelBinarizer()\\ndf = df.join(pd.DataFrame(mlb.fit_transform(df.pop('labels')),\\n                          columns=mlb.classes_,\\n                          index=df.index))\\ndf.head(2)\\n\""
      ]
     },
     "execution_count": 2165,
     "metadata": {},
     "output_type": "execute_result"
    }
   ],
   "source": [
    "# one hot encode the label column\n",
    "'''\n",
    "mlb = MultiLabelBinarizer()\n",
    "df = df.join(pd.DataFrame(mlb.fit_transform(df.pop('labels')),\n",
    "                          columns=mlb.classes_,\n",
    "                          index=df.index))\n",
    "df.head(2)\n",
    "'''"
   ]
  },
  {
   "cell_type": "code",
   "execution_count": 2166,
   "metadata": {},
   "outputs": [],
   "source": [
    "def preprocess(text):\n",
    "    stemmer = PorterStemmer()\n",
    "    # remove punctuation and non-alpha numeric characters\n",
    "    split1 = ' '.join([word for word in re.split('\\W+', text) if word.isalpha()])\n",
    "    # split camel case words apart (necessary for embedded code) and apply stemmer to all words\n",
    "    split2 = ' '.join([stemmer.stem(word) for word in re.sub('(?!^)([A-Z][a-z]+)', r' \\1', split1).split()])\n",
    "    return split2"
   ]
  },
  {
   "cell_type": "code",
   "execution_count": 2167,
   "metadata": {},
   "outputs": [
    {
     "name": "stdout",
     "output_type": "stream",
     "text": [
      "(2268, 4960)\n",
      "(2268, 1804)\n"
     ]
    }
   ],
   "source": [
    "# use tf-idf w/ stemming, stop-word removal, and non-alphabetic word removal to generate features\n",
    "df['body'] = df['body'].apply(preprocess)\n",
    "vectorizer_body = TfidfVectorizer(stop_words=ENGLISH_STOP_WORDS)\n",
    "vectorizer_body.fit(df['body'])\n",
    "vector_body = vectorizer_body.transform(df['body'])\n",
    "# summarize encoded vector\n",
    "print(vector_body.shape)\n",
    "df['title'] = df['title'].apply(preprocess)\n",
    "vectorizer_title = TfidfVectorizer(stop_words=ENGLISH_STOP_WORDS)\n",
    "vectorizer_title.fit(df['title'])\n",
    "vector_title = vectorizer_title.transform(df['title'])\n",
    "# summarize encoded vector\n",
    "print(vector_title.shape)"
   ]
  },
  {
   "cell_type": "code",
   "execution_count": 2168,
   "metadata": {},
   "outputs": [
    {
     "data": {
      "text/html": [
       "<div>\n",
       "<style scoped>\n",
       "    .dataframe tbody tr th:only-of-type {\n",
       "        vertical-align: middle;\n",
       "    }\n",
       "\n",
       "    .dataframe tbody tr th {\n",
       "        vertical-align: top;\n",
       "    }\n",
       "\n",
       "    .dataframe thead th {\n",
       "        text-align: right;\n",
       "    }\n",
       "</style>\n",
       "<table border=\"1\" class=\"dataframe\">\n",
       "  <thead>\n",
       "    <tr style=\"text-align: right;\">\n",
       "      <th></th>\n",
       "      <th>body</th>\n",
       "      <th>closed_date</th>\n",
       "      <th>comments</th>\n",
       "      <th>completed_by</th>\n",
       "      <th>created_date</th>\n",
       "      <th>title</th>\n",
       "      <th>0</th>\n",
       "      <th>1</th>\n",
       "      <th>2</th>\n",
       "      <th>3</th>\n",
       "      <th>...</th>\n",
       "      <th>4950</th>\n",
       "      <th>4951</th>\n",
       "      <th>4952</th>\n",
       "      <th>4953</th>\n",
       "      <th>4954</th>\n",
       "      <th>4955</th>\n",
       "      <th>4956</th>\n",
       "      <th>4957</th>\n",
       "      <th>4958</th>\n",
       "      <th>4959</th>\n",
       "    </tr>\n",
       "  </thead>\n",
       "  <tbody>\n",
       "    <tr>\n",
       "      <th>0</th>\n",
       "      <td>a href http github com hixi img src http avata...</td>\n",
       "      <td>2015-11-09 20:18:24</td>\n",
       "      <td>1</td>\n",
       "      <td>yjbanov</td>\n",
       "      <td>2015-11-09 20:16:52</td>\n",
       "      <td>swipe to chang between tab</td>\n",
       "      <td>0.0</td>\n",
       "      <td>0.0</td>\n",
       "      <td>0.0</td>\n",
       "      <td>0.0</td>\n",
       "      <td>...</td>\n",
       "      <td>0.0</td>\n",
       "      <td>0.0</td>\n",
       "      <td>0.0</td>\n",
       "      <td>0.0</td>\n",
       "      <td>0.0</td>\n",
       "      <td>0.0</td>\n",
       "      <td>0.0</td>\n",
       "      <td>0.0</td>\n",
       "      <td>0.0</td>\n",
       "      <td>0.0</td>\n",
       "    </tr>\n",
       "    <tr>\n",
       "      <th>1</th>\n",
       "      <td>flutter start debug sever To copi file to io d...</td>\n",
       "      <td>2015-11-09 21:43:40</td>\n",
       "      <td>1</td>\n",
       "      <td>abarth</td>\n",
       "      <td>2015-11-09 20:50:45</td>\n",
       "      <td>except run sourc build of engin on mac</td>\n",
       "      <td>0.0</td>\n",
       "      <td>0.0</td>\n",
       "      <td>0.0</td>\n",
       "      <td>0.0</td>\n",
       "      <td>...</td>\n",
       "      <td>0.0</td>\n",
       "      <td>0.0</td>\n",
       "      <td>0.0</td>\n",
       "      <td>0.0</td>\n",
       "      <td>0.0</td>\n",
       "      <td>0.0</td>\n",
       "      <td>0.0</td>\n",
       "      <td>0.0</td>\n",
       "      <td>0.0</td>\n",
       "      <td>0.0</td>\n",
       "    </tr>\n",
       "  </tbody>\n",
       "</table>\n",
       "<p>2 rows × 6770 columns</p>\n",
       "</div>"
      ],
      "text/plain": [
       "                                                body         closed_date  \\\n",
       "0  a href http github com hixi img src http avata... 2015-11-09 20:18:24   \n",
       "1  flutter start debug sever To copi file to io d... 2015-11-09 21:43:40   \n",
       "\n",
       "   comments completed_by        created_date  \\\n",
       "0         1      yjbanov 2015-11-09 20:16:52   \n",
       "1         1       abarth 2015-11-09 20:50:45   \n",
       "\n",
       "                                    title    0    1    2    3  ...   4950  \\\n",
       "0              swipe to chang between tab  0.0  0.0  0.0  0.0  ...    0.0   \n",
       "1  except run sourc build of engin on mac  0.0  0.0  0.0  0.0  ...    0.0   \n",
       "\n",
       "   4951  4952  4953  4954  4955  4956  4957  4958  4959  \n",
       "0   0.0   0.0   0.0   0.0   0.0   0.0   0.0   0.0   0.0  \n",
       "1   0.0   0.0   0.0   0.0   0.0   0.0   0.0   0.0   0.0  \n",
       "\n",
       "[2 rows x 6770 columns]"
      ]
     },
     "execution_count": 2168,
     "metadata": {},
     "output_type": "execute_result"
    }
   ],
   "source": [
    "title_df = pd.DataFrame(vector_title.todense())\n",
    "body_df = pd.DataFrame(vector_body.todense())\n",
    "df = pd.concat([df, title_df, body_df], axis=1)\n",
    "df.head(2)"
   ]
  },
  {
   "cell_type": "code",
   "execution_count": 2169,
   "metadata": {},
   "outputs": [
    {
     "name": "stdout",
     "output_type": "stream",
     "text": [
      "{'jason-simmons': 21, 'aam': 27, 'yjbanov': 16, 'cbracken': 34, 'Hixie': 33, 'gspencergoog': 10, 'xster': 50, 'goderbauer': 41, 'a-siva': 1, 'chinmaygarde': 1, 'mravn-google': 21, 'HansMuller': 35, 'abarth': 1, 'tvolkert': 17, 'amirh': 4, 'Skylled': 1, 'leobispo': 1, 'sigurdm': 1, 'mehmetf': 1, 'fredriks': 1, 'jakobr-google': 1, 'crelier': 1, 'alibitek': 1, 'mit-mit': 3, 'jcollins-g': 11, 'dnfield': 2, 'DanTup': 5, 'mraleph': 4, 'rmacnak-google': 1, 'DaveShuckerow': 2, 'szakarias': 3, 'xqwzts': 5, 'jonahwilliams': 27, 'danrubel': 1, 'konifar': 2, 'sroddy': 1, 'matanlurey': 1, 'srawlins': 1, 'sbaranov': 1, 'OhadRau': 1, 'scheglov': 2, 'filleduchaos': 1, 'blasten': 2, 'mattsarett': 1, 'devoncarew': 6, 'liyuqian': 1, 'slightfoot': 2, 'ng1905': 1, 'fmatosqg': 2, 'paulcbetts': 1}\n",
      "{'devoncarew', 'DanTup', 'goderbauer', 'mravn-google', 'HansMuller', 'Hixie', 'jason-simmons', 'cbracken', 'jcollins-g', 'tvolkert', 'mit-mit', 'aam', 'xster', 'amirh', 'mraleph', 'xqwzts', 'gspencergoog', 'yjbanov', 'jonahwilliams', 'szakarias'}\n",
      "1437\n"
     ]
    }
   ],
   "source": [
    "# get list of devs who solve an issue in last three months (from end of train set)\n",
    "active_devs = set()\n",
    "dev_counts = {}\n",
    "filter_date = df.iloc[2000]['closed_date'] - pd.to_timedelta(90, unit='d')\n",
    "for _, row in df.iterrows():\n",
    "    if (row['closed_date'] > filter_date):\n",
    "        dev_counts[row['completed_by']] = dev_counts.get(row['completed_by'], 0) + 1\n",
    "print(dev_counts)\n",
    "for dev in dev_counts:\n",
    "    if dev_counts[dev] >= 3:\n",
    "        active_devs.add(dev)\n",
    "print(active_devs)\n",
    "# remove all issues not solved by an active dev\n",
    "df = df[df['completed_by'].isin(active_devs)].reset_index(drop=True)\n",
    "print(len(df))"
   ]
  },
  {
   "cell_type": "markdown",
   "metadata": {},
   "source": [
    "# Machine Learning"
   ]
  },
  {
   "cell_type": "code",
   "execution_count": 2170,
   "metadata": {},
   "outputs": [
    {
     "name": "stdout",
     "output_type": "stream",
     "text": [
      "1100\n",
      "337\n"
     ]
    }
   ],
   "source": [
    "train_df = df[:1100]\n",
    "test_df = df[1100:]\n",
    "X_train = train_df.drop(['body', 'closed_date', 'completed_by', 'created_date', 'title', 'comments'], axis=1)\n",
    "y_train = train_df['completed_by']\n",
    "X_test = test_df.drop(['body', 'closed_date', 'completed_by', 'created_date', 'title', 'comments'], axis=1)\n",
    "y_test = test_df['completed_by']\n",
    "print(len(X_train))\n",
    "print(len(X_test))"
   ]
  },
  {
   "cell_type": "code",
   "execution_count": 2171,
   "metadata": {},
   "outputs": [],
   "source": [
    "def is_correct_top_k(pred_prob, k, actual, labels):\n",
    "    indices = [i for i in range(len(pred_prob))]\n",
    "    top_indices = nlargest(k, indices, key=lambda i: pred_prob[i])\n",
    "    top_choices = set([labels[i] for i in top_indices])\n",
    "    return actual in top_choices"
   ]
  },
  {
   "cell_type": "code",
   "execution_count": 2172,
   "metadata": {},
   "outputs": [
    {
     "name": "stdout",
     "output_type": "stream",
     "text": [
      "Top 1 Accuracy: 0.2314540059347181\n",
      "Top 2 Accuracy: 0.34124629080118696\n",
      "Top 3 Accuracy: 0.4124629080118694\n",
      "Top 4 Accuracy: 0.4896142433234421\n",
      "Top 5 Accuracy: 0.5370919881305638\n"
     ]
    }
   ],
   "source": [
    "classifier = MLPClassifier(hidden_layer_sizes=(25,25))\n",
    "classifier.fit(X_train,y_train)\n",
    "classes = classifier.classes_\n",
    "print(\"Top 1 Accuracy: \" + str(classifier.score(X_test, y_test)))\n",
    "pred_probs = classifier.predict_proba(X_test)\n",
    "correct = 0\n",
    "for idx, pred in enumerate(pred_probs):\n",
    "    if is_correct_top_k(pred, 2, y_test[1100 + idx], classes):\n",
    "        correct += 1\n",
    "print (\"Top 2 Accuracy: \" + str((correct/len(y_test))))\n",
    "correct = 0\n",
    "for idx, pred in enumerate(pred_probs):\n",
    "    if is_correct_top_k(pred, 3, y_test[1100 + idx], classes):\n",
    "        correct += 1\n",
    "print (\"Top 3 Accuracy: \" + str((correct/len(y_test))))\n",
    "correct = 0\n",
    "for idx, pred in enumerate(pred_probs):\n",
    "    if is_correct_top_k(pred, 4, y_test[1100 + idx], classes):\n",
    "        correct += 1\n",
    "print (\"Top 4 Accuracy: \" + str((correct/len(y_test))))\n",
    "correct = 0\n",
    "for idx, pred in enumerate(pred_probs):\n",
    "    if is_correct_top_k(pred, 5, y_test[1100 + idx], classes):\n",
    "        correct += 1\n",
    "print (\"Top 5 Accuracy: \" + str((correct/len(y_test))))"
   ]
  },
  {
   "cell_type": "code",
   "execution_count": 2173,
   "metadata": {},
   "outputs": [
    {
     "name": "stdout",
     "output_type": "stream",
     "text": [
      "Top 1 Accuracy: 0.17804154302670624\n",
      "Top 2 Accuracy: 0.19287833827893175\n",
      "Top 3 Accuracy: 0.2522255192878338\n",
      "Top 4 Accuracy: 0.2818991097922849\n",
      "Top 5 Accuracy: 0.3293768545994065\n"
     ]
    }
   ],
   "source": [
    "classifier = GaussianNB()\n",
    "classifier.fit(X_train,y_train)\n",
    "classes = classifier.classes_\n",
    "print(\"Top 1 Accuracy: \" + str(classifier.score(X_test, y_test)))\n",
    "pred_probs = classifier.predict_proba(X_test)\n",
    "correct = 0\n",
    "for idx, pred in enumerate(pred_probs):\n",
    "    if is_correct_top_k(pred, 2, y_test[1100 + idx], classes):\n",
    "        correct += 1\n",
    "print (\"Top 2 Accuracy: \" + str((correct/len(y_test))))\n",
    "correct = 0\n",
    "for idx, pred in enumerate(pred_probs):\n",
    "    if is_correct_top_k(pred, 3, y_test[1100 + idx], classes):\n",
    "        correct += 1\n",
    "print (\"Top 3 Accuracy: \" + str((correct/len(y_test))))\n",
    "correct = 0\n",
    "for idx, pred in enumerate(pred_probs):\n",
    "    if is_correct_top_k(pred, 4, y_test[1100 + idx], classes):\n",
    "        correct += 1\n",
    "print (\"Top 4 Accuracy: \" + str((correct/len(y_test))))\n",
    "correct = 0\n",
    "for idx, pred in enumerate(pred_probs):\n",
    "    if is_correct_top_k(pred, 5, y_test[1100 + idx], classes):\n",
    "        correct += 1\n",
    "print (\"Top 5 Accuracy: \" + str((correct/len(y_test))))"
   ]
  },
  {
   "cell_type": "code",
   "execution_count": 2174,
   "metadata": {},
   "outputs": [
    {
     "name": "stdout",
     "output_type": "stream",
     "text": [
      "Top 1 Accuracy: 0.142433234421365\n",
      "Top 2 Accuracy: 0.2195845697329377\n",
      "Top 3 Accuracy: 0.26112759643916916\n",
      "Top 4 Accuracy: 0.3353115727002967\n",
      "Top 5 Accuracy: 0.43026706231454004\n"
     ]
    }
   ],
   "source": [
    "classifier = BernoulliNB()\n",
    "classifier.fit(X_train,y_train)\n",
    "classes = classifier.classes_\n",
    "print(\"Top 1 Accuracy: \" + str(classifier.score(X_test, y_test)))\n",
    "pred_probs = classifier.predict_proba(X_test)\n",
    "correct = 0\n",
    "for idx, pred in enumerate(pred_probs):\n",
    "    if is_correct_top_k(pred, 2, y_test[1100 + idx], classes):\n",
    "        correct += 1\n",
    "print (\"Top 2 Accuracy: \" + str((correct/len(y_test))))\n",
    "correct = 0\n",
    "for idx, pred in enumerate(pred_probs):\n",
    "    if is_correct_top_k(pred, 3, y_test[1100 + idx], classes):\n",
    "        correct += 1\n",
    "print (\"Top 3 Accuracy: \" + str((correct/len(y_test))))\n",
    "correct = 0\n",
    "for idx, pred in enumerate(pred_probs):\n",
    "    if is_correct_top_k(pred, 4, y_test[1100 + idx], classes):\n",
    "        correct += 1\n",
    "print (\"Top 4 Accuracy: \" + str((correct/len(y_test))))\n",
    "correct = 0\n",
    "for idx, pred in enumerate(pred_probs):\n",
    "    if is_correct_top_k(pred, 5, y_test[1100 + idx], classes):\n",
    "        correct += 1\n",
    "print (\"Top 5 Accuracy: \" + str((correct/len(y_test))))"
   ]
  },
  {
   "cell_type": "code",
   "execution_count": 2175,
   "metadata": {},
   "outputs": [
    {
     "name": "stdout",
     "output_type": "stream",
     "text": [
      "Top 1 Accuracy: 0.14540059347181009\n",
      "Top 2 Accuracy: 0.258160237388724\n",
      "Top 3 Accuracy: 0.31750741839762614\n",
      "Top 4 Accuracy: 0.35311572700296734\n",
      "Top 5 Accuracy: 0.3827893175074184\n"
     ]
    }
   ],
   "source": [
    "classifier = KNeighborsClassifier(n_neighbors=3)\n",
    "classifier.fit(X_train, y_train)\n",
    "classes = classifier.classes_\n",
    "print(\"Top 1 Accuracy: \" + str(classifier.score(X_test, y_test)))\n",
    "pred_probs = classifier.predict_proba(X_test)\n",
    "correct = 0\n",
    "for idx, pred in enumerate(pred_probs):\n",
    "    if is_correct_top_k(pred, 2, y_test[1100 + idx], classes):\n",
    "        correct += 1\n",
    "print (\"Top 2 Accuracy: \" + str((correct/len(y_test))))\n",
    "correct = 0\n",
    "for idx, pred in enumerate(pred_probs):\n",
    "    if is_correct_top_k(pred, 3, y_test[1100 + idx], classes):\n",
    "        correct += 1\n",
    "print (\"Top 3 Accuracy: \" + str((correct/len(y_test))))\n",
    "correct = 0\n",
    "for idx, pred in enumerate(pred_probs):\n",
    "    if is_correct_top_k(pred, 4, y_test[1100 + idx], classes):\n",
    "        correct += 1\n",
    "print (\"Top 4 Accuracy: \" + str((correct/len(y_test))))\n",
    "correct = 0\n",
    "for idx, pred in enumerate(pred_probs):\n",
    "    if is_correct_top_k(pred, 5, y_test[1100 + idx], classes):\n",
    "        correct += 1\n",
    "print (\"Top 5 Accuracy: \" + str((correct/len(y_test))))"
   ]
  },
  {
   "cell_type": "code",
   "execution_count": 2176,
   "metadata": {},
   "outputs": [
    {
     "name": "stdout",
     "output_type": "stream",
     "text": [
      "Top 1 Accuracy: 0.19287833827893175\n",
      "Top 2 Accuracy: 0.31750741839762614\n",
      "Top 3 Accuracy: 0.3916913946587537\n",
      "Top 4 Accuracy: 0.47774480712166173\n",
      "Top 5 Accuracy: 0.5222551928783383\n"
     ]
    }
   ],
   "source": [
    "classifier = RandomForestClassifier(n_estimators=1000)\n",
    "classifier.fit(X_train, y_train)\n",
    "classes = classifier.classes_\n",
    "print(\"Top 1 Accuracy: \" + str(classifier.score(X_test, y_test)))\n",
    "pred_probs = classifier.predict_proba(X_test)\n",
    "correct = 0\n",
    "for idx, pred in enumerate(pred_probs):\n",
    "    if is_correct_top_k(pred, 2, y_test[1100 + idx], classes):\n",
    "        correct += 1\n",
    "print (\"Top 2 Accuracy: \" + str((correct/len(y_test))))\n",
    "correct = 0\n",
    "for idx, pred in enumerate(pred_probs):\n",
    "    if is_correct_top_k(pred, 3, y_test[1100 + idx], classes):\n",
    "        correct += 1\n",
    "print (\"Top 3 Accuracy: \" + str((correct/len(y_test))))\n",
    "correct = 0\n",
    "for idx, pred in enumerate(pred_probs):\n",
    "    if is_correct_top_k(pred, 4, y_test[1100 + idx], classes):\n",
    "        correct += 1\n",
    "print (\"Top 4 Accuracy: \" + str((correct/len(y_test))))\n",
    "correct = 0\n",
    "for idx, pred in enumerate(pred_probs):\n",
    "    if is_correct_top_k(pred, 5, y_test[1100 + idx], classes):\n",
    "        correct += 1\n",
    "print (\"Top 5 Accuracy: \" + str((correct/len(y_test))))"
   ]
  },
  {
   "cell_type": "code",
   "execution_count": 2177,
   "metadata": {},
   "outputs": [
    {
     "name": "stdout",
     "output_type": "stream",
     "text": [
      "Top 1 Accuracy: 0.08902077151335312\n",
      "Top 2 Accuracy: 0.35311572700296734\n",
      "Top 3 Accuracy: 0.4391691394658754\n",
      "Top 4 Accuracy: 0.5281899109792285\n",
      "Top 5 Accuracy: 0.5905044510385756\n"
     ]
    }
   ],
   "source": [
    "#TODO: try SVC (might need to do something else)\n",
    "classifier = SVC(probability=True)\n",
    "classifier.fit(X_train, y_train)\n",
    "classes = classifier.classes_\n",
    "print(\"Top 1 Accuracy: \" + str(classifier.score(X_test, y_test)))\n",
    "pred_probs = classifier.predict_proba(X_test)\n",
    "correct = 0\n",
    "for idx, pred in enumerate(pred_probs):\n",
    "    if is_correct_top_k(pred, 2, y_test[1100 + idx], classes):\n",
    "        correct += 1\n",
    "print (\"Top 2 Accuracy: \" + str((correct/len(y_test))))\n",
    "correct = 0\n",
    "for idx, pred in enumerate(pred_probs):\n",
    "    if is_correct_top_k(pred, 3, y_test[1100 + idx], classes):\n",
    "        correct += 1\n",
    "print (\"Top 3 Accuracy: \" + str((correct/len(y_test))))\n",
    "correct = 0\n",
    "for idx, pred in enumerate(pred_probs):\n",
    "    if is_correct_top_k(pred, 4, y_test[1100 + idx], classes):\n",
    "        correct += 1\n",
    "print (\"Top 4 Accuracy: \" + str((correct/len(y_test))))\n",
    "correct = 0\n",
    "for idx, pred in enumerate(pred_probs):\n",
    "    if is_correct_top_k(pred, 5, y_test[1100 + idx], classes):\n",
    "        correct += 1\n",
    "print (\"Top 5 Accuracy: \" + str((correct/len(y_test))))"
   ]
  },
  {
   "cell_type": "markdown",
   "metadata": {},
   "source": [
    "# Analysis"
   ]
  },
  {
   "cell_type": "code",
   "execution_count": 2178,
   "metadata": {},
   "outputs": [
    {
     "name": "stdout",
     "output_type": "stream",
     "text": [
      "['szakarias' 'Hixie' 'Hixie' 'goderbauer' 'goderbauer' 'HansMuller'\n",
      " 'yjbanov' 'cbracken' 'jason-simmons' 'HansMuller' 'Hixie' 'HansMuller'\n",
      " 'xster' 'devoncarew' 'HansMuller' 'HansMuller' 'Hixie' 'HansMuller'\n",
      " 'Hixie' 'devoncarew' 'cbracken' 'jason-simmons' 'HansMuller' 'devoncarew'\n",
      " 'goderbauer' 'HansMuller' 'cbracken' 'HansMuller' 'HansMuller'\n",
      " 'HansMuller' 'goderbauer' 'HansMuller' 'yjbanov' 'HansMuller'\n",
      " 'HansMuller' 'HansMuller' 'HansMuller' 'HansMuller' 'HansMuller' 'Hixie'\n",
      " 'HansMuller' 'Hixie' 'tvolkert' 'Hixie' 'Hixie' 'cbracken' 'Hixie'\n",
      " 'Hixie' 'xster' 'Hixie' 'HansMuller' 'mravn-google' 'tvolkert' 'Hixie'\n",
      " 'devoncarew' 'devoncarew' 'HansMuller' 'xster' 'Hixie' 'goderbauer'\n",
      " 'goderbauer' 'Hixie' 'HansMuller' 'cbracken' 'Hixie' 'Hixie' 'devoncarew'\n",
      " 'HansMuller' 'Hixie' 'mravn-google' 'goderbauer' 'cbracken' 'yjbanov'\n",
      " 'yjbanov' 'Hixie' 'Hixie' 'goderbauer' 'devoncarew' 'Hixie'\n",
      " 'jason-simmons' 'HansMuller' 'devoncarew' 'devoncarew' 'HansMuller'\n",
      " 'tvolkert' 'devoncarew' 'HansMuller' 'Hixie' 'devoncarew' 'goderbauer'\n",
      " 'Hixie' 'jason-simmons' 'Hixie' 'jason-simmons' 'HansMuller' 'devoncarew'\n",
      " 'devoncarew' 'jason-simmons' 'goderbauer' 'gspencergoog' 'HansMuller'\n",
      " 'HansMuller' 'HansMuller' 'Hixie' 'goderbauer' 'devoncarew' 'cbracken'\n",
      " 'cbracken' 'mit-mit' 'HansMuller' 'HansMuller' 'HansMuller' 'devoncarew'\n",
      " 'goderbauer' 'HansMuller' 'cbracken' 'Hixie' 'devoncarew' 'HansMuller'\n",
      " 'Hixie' 'devoncarew' 'devoncarew' 'devoncarew' 'devoncarew' 'Hixie'\n",
      " 'goderbauer' 'yjbanov' 'Hixie' 'cbracken' 'devoncarew' 'devoncarew'\n",
      " 'jason-simmons' 'yjbanov' 'xster' 'Hixie' 'devoncarew' 'devoncarew'\n",
      " 'devoncarew' 'Hixie' 'aam' 'xster' 'cbracken' 'Hixie' 'devoncarew'\n",
      " 'devoncarew' 'devoncarew' 'mit-mit' 'cbracken' 'mravn-google'\n",
      " 'HansMuller' 'HansMuller' 'cbracken' 'xster' 'devoncarew' 'devoncarew'\n",
      " 'goderbauer' 'cbracken' 'jason-simmons' 'HansMuller' 'HansMuller' 'Hixie'\n",
      " 'devoncarew' 'devoncarew' 'mravn-google' 'mravn-google' 'devoncarew'\n",
      " 'HansMuller' 'goderbauer' 'HansMuller' 'Hixie' 'cbracken' 'devoncarew'\n",
      " 'jason-simmons' 'devoncarew' 'cbracken' 'cbracken' 'cbracken' 'Hixie'\n",
      " 'Hixie' 'Hixie' 'xster' 'Hixie' 'HansMuller' 'cbracken' 'cbracken'\n",
      " 'Hixie' 'goderbauer' 'Hixie' 'HansMuller' 'devoncarew' 'goderbauer'\n",
      " 'HansMuller' 'devoncarew' 'jason-simmons' 'devoncarew' 'jcollins-g'\n",
      " 'xster' 'HansMuller' 'jason-simmons' 'cbracken' 'Hixie' 'HansMuller'\n",
      " 'HansMuller' 'HansMuller' 'HansMuller' 'mravn-google' 'Hixie' 'cbracken'\n",
      " 'Hixie' 'Hixie' 'cbracken' 'goderbauer' 'cbracken' 'Hixie' 'devoncarew'\n",
      " 'HansMuller' 'HansMuller' 'Hixie' 'cbracken' 'Hixie' 'HansMuller'\n",
      " 'HansMuller' 'amirh' 'devoncarew' 'HansMuller' 'xster' 'tvolkert'\n",
      " 'cbracken' 'jason-simmons' 'Hixie' 'cbracken' 'devoncarew' 'Hixie'\n",
      " 'Hixie' 'xster' 'devoncarew' 'Hixie' 'xster' 'Hixie' 'devoncarew'\n",
      " 'cbracken' 'Hixie' 'Hixie' 'HansMuller' 'devoncarew' 'jason-simmons'\n",
      " 'yjbanov' 'xster' 'cbracken' 'jason-simmons' 'jason-simmons' 'cbracken'\n",
      " 'cbracken' 'Hixie' 'HansMuller' 'HansMuller' 'cbracken' 'devoncarew'\n",
      " 'Hixie' 'goderbauer' 'jason-simmons' 'HansMuller' 'goderbauer'\n",
      " 'devoncarew' 'Hixie' 'HansMuller' 'Hixie' 'xster' 'Hixie' 'HansMuller'\n",
      " 'goderbauer' 'yjbanov' 'yjbanov' 'yjbanov' 'Hixie' 'devoncarew'\n",
      " 'devoncarew' 'Hixie' 'Hixie' 'goderbauer' 'Hixie' 'mravn-google' 'Hixie'\n",
      " 'HansMuller' 'HansMuller' 'cbracken' 'Hixie' 'xster' 'devoncarew'\n",
      " 'cbracken' 'jason-simmons' 'HansMuller' 'Hixie' 'devoncarew' 'Hixie'\n",
      " 'Hixie' 'Hixie' 'goderbauer' 'Hixie' 'devoncarew' 'cbracken' 'cbracken'\n",
      " 'HansMuller' 'Hixie' 'goderbauer' 'goderbauer' 'jason-simmons' 'cbracken'\n",
      " 'devoncarew' 'HansMuller' 'devoncarew' 'HansMuller' 'HansMuller'\n",
      " 'jason-simmons' 'jason-simmons' 'devoncarew' 'HansMuller' 'xster' 'Hixie'\n",
      " 'tvolkert' 'HansMuller' 'jason-simmons' 'Hixie' 'Hixie' 'HansMuller'\n",
      " 'HansMuller' 'HansMuller' 'devoncarew' 'HansMuller' 'HansMuller'\n",
      " 'HansMuller' 'HansMuller' 'jason-simmons' 'jcollins-g' 'Hixie'\n",
      " 'devoncarew' 'goderbauer']\n"
     ]
    }
   ],
   "source": [
    "classifier = MLPClassifier(hidden_layer_sizes=(25,25))\n",
    "classifier.fit(X_train,y_train)\n",
    "preds = classifier.predict(X_test)\n",
    "print(preds)"
   ]
  },
  {
   "cell_type": "code",
   "execution_count": 2179,
   "metadata": {},
   "outputs": [
    {
     "data": {
      "text/plain": [
       "<matplotlib.axes._subplots.AxesSubplot at 0x13879f240>"
      ]
     },
     "execution_count": 2179,
     "metadata": {},
     "output_type": "execute_result"
    },
    {
     "data": {
      "image/png": "[encoded data removed]",
      "text/plain": [
       "<Figure size 432x288 with 1 Axes>"
      ]
     },
     "metadata": {},
     "output_type": "display_data"
    }
   ],
   "source": [
    "actual = test_df['completed_by']\n",
    "pd.value_counts(actual).plot.bar()"
   ]
  },
  {
   "cell_type": "code",
   "execution_count": 2180,
   "metadata": {},
   "outputs": [
    {
     "data": {
      "text/plain": [
       "<matplotlib.axes._subplots.AxesSubplot at 0x137d966a0>"
      ]
     },
     "execution_count": 2180,
     "metadata": {},
     "output_type": "execute_result"
    },
    {
     "data": {
      "image/png": "[encoded data removed]",
      "text/plain": [
       "<Figure size 432x288 with 1 Axes>"
      ]
     },
     "metadata": {},
     "output_type": "display_data"
    }
   ],
   "source": [
    "pd.value_counts(df['completed_by']).plot.bar()"
   ]
  },
  {
   "cell_type": "code",
   "execution_count": 2181,
   "metadata": {},
   "outputs": [
    {
     "data": {
      "text/plain": [
       "<matplotlib.axes._subplots.AxesSubplot at 0x131c94e10>"
      ]
     },
     "execution_count": 2181,
     "metadata": {},
     "output_type": "execute_result"
    },
    {
     "data": {
      "image/png": "[encoded data removed]",
      "text/plain": [
       "<Figure size 432x288 with 1 Axes>"
      ]
     },
     "metadata": {},
     "output_type": "display_data"
    }
   ],
   "source": [
    "pd.value_counts(preds).plot.bar()"
   ]
  },
  {
   "cell_type": "code",
   "execution_count": 2182,
   "metadata": {},
   "outputs": [
    {
     "name": "stdout",
     "output_type": "stream",
     "text": [
      "devs not included in predictions: \n",
      "['DanTup', 'mraleph', 'jonahwilliams', 'xqwzts']\n"
     ]
    }
   ],
   "source": [
    "overall_counts = pd.value_counts(df['completed_by'])\n",
    "# list of devs sorted in order of highest contribution\n",
    "sorted_dev_list = overall_counts.index.values\n",
    "pred_counts = pd.value_counts(preds)\n",
    "actual_counts = pd.value_counts(actual)\n",
    "\n",
    "percent_diff = {}\n",
    "vals = []\n",
    "counts = []\n",
    "missing = set()\n",
    "for dev in sorted_dev_list:\n",
    "    if dev in pred_counts:\n",
    "        val = 100 * (pred_counts[dev] - actual_counts[dev]) / (actual_counts[dev])\n",
    "        percent_diff[dev] = val\n",
    "        counts.append(overall_counts[dev])\n",
    "        vals.append(val)\n",
    "    else:\n",
    "        missing.add(dev)\n",
    "print(\"devs not included in predictions: \")\n",
    "print(list(missing))"
   ]
  },
  {
   "cell_type": "code",
   "execution_count": 2183,
   "metadata": {},
   "outputs": [
    {
     "data": {
      "image/png": "[encoded data removed]",
      "text/plain": [
       "<Figure size 432x288 with 1 Axes>"
      ]
     },
     "metadata": {},
     "output_type": "display_data"
    }
   ],
   "source": [
    "plt.bar(percent_diff.keys(), percent_diff.values())\n",
    "plt.title(\"Percent Difference Prediction Rate vs. Actual Rate\")\n",
    "plt.xticks(rotation=90)\n",
    "plt.show()"
   ]
  },
  {
   "cell_type": "code",
   "execution_count": 2184,
   "metadata": {},
   "outputs": [
    {
     "name": "stdout",
     "output_type": "stream",
     "text": [
      "R^2: 0.797709131119811\n"
     ]
    },
    {
     "data": {
      "image/png": "[encoded data removed]",
      "text/plain": [
       "<Figure size 432x288 with 1 Axes>"
      ]
     },
     "metadata": {},
     "output_type": "display_data"
    }
   ],
   "source": [
    "# remove the outlier\n",
    "del vals[2]\n",
    "del counts[2]\n",
    "# create best fit line\n",
    "z = np.polyfit(x=counts, y=vals, deg=1)\n",
    "p = np.poly1d(z)\n",
    "trend_line = p(counts)\n",
    "# test best fit\n",
    "yhat = trend_line    \n",
    "ybar = np.sum(vals)/len(vals)\n",
    "ssreg = np.sum((yhat-ybar)**2) \n",
    "sstot = np.sum((vals - ybar)**2)\n",
    "print(\"R^2: \" + str(ssreg / sstot))\n",
    "# create plots\n",
    "plt.scatter(counts, vals)\n",
    "plt.title(\"Percent Difference Between Prediction Rate and Actual Rate vs. Issue Count\")\n",
    "plt.xticks(rotation=90)\n",
    "plt.xlabel(\"Number of Issues Solved\")\n",
    "plt.ylabel(\"% diff. pred rate and actual rate\")\n",
    "plt.plot(counts, trend_line)\n",
    "plt.show()"
   ]
  },
  {
   "cell_type": "code",
   "execution_count": 2185,
   "metadata": {},
   "outputs": [],
   "source": [
    "#TODO: look at assigning open issues and seeing what overspecialization problem would look like."
   ]
  },
  {
   "cell_type": "code",
   "execution_count": 2186,
   "metadata": {},
   "outputs": [
    {
     "data": {
      "text/html": [
       "<div>\n",
       "<style scoped>\n",
       "    .dataframe tbody tr th:only-of-type {\n",
       "        vertical-align: middle;\n",
       "    }\n",
       "\n",
       "    .dataframe tbody tr th {\n",
       "        vertical-align: top;\n",
       "    }\n",
       "\n",
       "    .dataframe thead th {\n",
       "        text-align: right;\n",
       "    }\n",
       "</style>\n",
       "<table border=\"1\" class=\"dataframe\">\n",
       "  <thead>\n",
       "    <tr style=\"text-align: right;\">\n",
       "      <th></th>\n",
       "      <th>body</th>\n",
       "      <th>closed_date</th>\n",
       "      <th>comments</th>\n",
       "      <th>completed_by</th>\n",
       "      <th>created_date</th>\n",
       "      <th>title</th>\n",
       "      <th>0</th>\n",
       "      <th>1</th>\n",
       "      <th>2</th>\n",
       "      <th>3</th>\n",
       "      <th>...</th>\n",
       "      <th>4950</th>\n",
       "      <th>4951</th>\n",
       "      <th>4952</th>\n",
       "      <th>4953</th>\n",
       "      <th>4954</th>\n",
       "      <th>4955</th>\n",
       "      <th>4956</th>\n",
       "      <th>4957</th>\n",
       "      <th>4958</th>\n",
       "      <th>4959</th>\n",
       "    </tr>\n",
       "  </thead>\n",
       "  <tbody>\n",
       "    <tr>\n",
       "      <th>1100</th>\n",
       "      <td>per recommend convent in object C program http...</td>\n",
       "      <td>2017-12-01 12:30:03</td>\n",
       "      <td>13</td>\n",
       "      <td>mravn-google</td>\n",
       "      <td>2017-05-13 20:56:17</td>\n",
       "      <td>renam objc plugin to have flt prefix</td>\n",
       "      <td>0.0</td>\n",
       "      <td>0.0</td>\n",
       "      <td>0.0</td>\n",
       "      <td>0.0</td>\n",
       "      <td>...</td>\n",
       "      <td>0.0</td>\n",
       "      <td>0.0</td>\n",
       "      <td>0.0</td>\n",
       "      <td>0.0</td>\n",
       "      <td>0.0</td>\n",
       "      <td>0.0</td>\n",
       "      <td>0.0</td>\n",
       "      <td>0.0</td>\n",
       "      <td>0.0</td>\n",
       "      <td>0.0</td>\n",
       "    </tr>\n",
       "    <tr>\n",
       "      <th>1101</th>\n",
       "      <td>when we improv our color correct on older andr...</td>\n",
       "      <td>2017-12-04 20:03:43</td>\n",
       "      <td>2</td>\n",
       "      <td>jason-simmons</td>\n",
       "      <td>2017-08-02 22:36:05</td>\n",
       "      <td>consid faster mayb less accur way of handl col...</td>\n",
       "      <td>0.0</td>\n",
       "      <td>0.0</td>\n",
       "      <td>0.0</td>\n",
       "      <td>0.0</td>\n",
       "      <td>...</td>\n",
       "      <td>0.0</td>\n",
       "      <td>0.0</td>\n",
       "      <td>0.0</td>\n",
       "      <td>0.0</td>\n",
       "      <td>0.0</td>\n",
       "      <td>0.0</td>\n",
       "      <td>0.0</td>\n",
       "      <td>0.0</td>\n",
       "      <td>0.0</td>\n",
       "      <td>0.0</td>\n",
       "    </tr>\n",
       "    <tr>\n",
       "      <th>1102</th>\n",
       "      <td>I have a hard time understand whi the api is n...</td>\n",
       "      <td>2017-12-04 21:43:10</td>\n",
       "      <td>1</td>\n",
       "      <td>Hixie</td>\n",
       "      <td>2017-11-30 21:26:32</td>\n",
       "      <td>scaffold key current state show bottom sheet q...</td>\n",
       "      <td>0.0</td>\n",
       "      <td>0.0</td>\n",
       "      <td>0.0</td>\n",
       "      <td>0.0</td>\n",
       "      <td>...</td>\n",
       "      <td>0.0</td>\n",
       "      <td>0.0</td>\n",
       "      <td>0.0</td>\n",
       "      <td>0.0</td>\n",
       "      <td>0.0</td>\n",
       "      <td>0.0</td>\n",
       "      <td>0.0</td>\n",
       "      <td>0.0</td>\n",
       "      <td>0.0</td>\n",
       "      <td>0.0</td>\n",
       "    </tr>\n",
       "    <tr>\n",
       "      <th>1103</th>\n",
       "      <td>If you have two test in the same file the firs...</td>\n",
       "      <td>2017-12-05 03:49:15</td>\n",
       "      <td>0</td>\n",
       "      <td>yjbanov</td>\n",
       "      <td>2017-08-25 23:37:58</td>\n",
       "      <td>semant node id gener should be reset between test</td>\n",
       "      <td>0.0</td>\n",
       "      <td>0.0</td>\n",
       "      <td>0.0</td>\n",
       "      <td>0.0</td>\n",
       "      <td>...</td>\n",
       "      <td>0.0</td>\n",
       "      <td>0.0</td>\n",
       "      <td>0.0</td>\n",
       "      <td>0.0</td>\n",
       "      <td>0.0</td>\n",
       "      <td>0.0</td>\n",
       "      <td>0.0</td>\n",
       "      <td>0.0</td>\n",
       "      <td>0.0</td>\n",
       "      <td>0.0</td>\n",
       "    </tr>\n",
       "    <tr>\n",
       "      <th>1104</th>\n",
       "      <td>We need a way for custom painter to provid add...</td>\n",
       "      <td>2017-12-05 03:49:15</td>\n",
       "      <td>3</td>\n",
       "      <td>yjbanov</td>\n",
       "      <td>2016-02-08 18:55:48</td>\n",
       "      <td>make custom paint access</td>\n",
       "      <td>0.0</td>\n",
       "      <td>0.0</td>\n",
       "      <td>0.0</td>\n",
       "      <td>0.0</td>\n",
       "      <td>...</td>\n",
       "      <td>0.0</td>\n",
       "      <td>0.0</td>\n",
       "      <td>0.0</td>\n",
       "      <td>0.0</td>\n",
       "      <td>0.0</td>\n",
       "      <td>0.0</td>\n",
       "      <td>0.0</td>\n",
       "      <td>0.0</td>\n",
       "      <td>0.0</td>\n",
       "      <td>0.0</td>\n",
       "    </tr>\n",
       "  </tbody>\n",
       "</table>\n",
       "<p>5 rows × 6770 columns</p>\n",
       "</div>"
      ],
      "text/plain": [
       "                                                   body         closed_date  \\\n",
       "1100  per recommend convent in object C program http... 2017-12-01 12:30:03   \n",
       "1101  when we improv our color correct on older andr... 2017-12-04 20:03:43   \n",
       "1102  I have a hard time understand whi the api is n... 2017-12-04 21:43:10   \n",
       "1103  If you have two test in the same file the firs... 2017-12-05 03:49:15   \n",
       "1104  We need a way for custom painter to provid add... 2017-12-05 03:49:15   \n",
       "\n",
       "      comments   completed_by        created_date  \\\n",
       "1100        13   mravn-google 2017-05-13 20:56:17   \n",
       "1101         2  jason-simmons 2017-08-02 22:36:05   \n",
       "1102         1          Hixie 2017-11-30 21:26:32   \n",
       "1103         0        yjbanov 2017-08-25 23:37:58   \n",
       "1104         3        yjbanov 2016-02-08 18:55:48   \n",
       "\n",
       "                                                  title    0    1    2    3  \\\n",
       "1100               renam objc plugin to have flt prefix  0.0  0.0  0.0  0.0   \n",
       "1101  consid faster mayb less accur way of handl col...  0.0  0.0  0.0  0.0   \n",
       "1102  scaffold key current state show bottom sheet q...  0.0  0.0  0.0  0.0   \n",
       "1103  semant node id gener should be reset between test  0.0  0.0  0.0  0.0   \n",
       "1104                           make custom paint access  0.0  0.0  0.0  0.0   \n",
       "\n",
       "      ...   4950  4951  4952  4953  4954  4955  4956  4957  4958  4959  \n",
       "1100  ...    0.0   0.0   0.0   0.0   0.0   0.0   0.0   0.0   0.0   0.0  \n",
       "1101  ...    0.0   0.0   0.0   0.0   0.0   0.0   0.0   0.0   0.0   0.0  \n",
       "1102  ...    0.0   0.0   0.0   0.0   0.0   0.0   0.0   0.0   0.0   0.0  \n",
       "1103  ...    0.0   0.0   0.0   0.0   0.0   0.0   0.0   0.0   0.0   0.0  \n",
       "1104  ...    0.0   0.0   0.0   0.0   0.0   0.0   0.0   0.0   0.0   0.0  \n",
       "\n",
       "[5 rows x 6770 columns]"
      ]
     },
     "execution_count": 2186,
     "metadata": {},
     "output_type": "execute_result"
    }
   ],
   "source": [
    "test_df.head(5)"
   ]
  },
  {
   "cell_type": "code",
   "execution_count": 2187,
   "metadata": {},
   "outputs": [
    {
     "data": {
      "text/html": [
       "<div>\n",
       "<style scoped>\n",
       "    .dataframe tbody tr th:only-of-type {\n",
       "        vertical-align: middle;\n",
       "    }\n",
       "\n",
       "    .dataframe tbody tr th {\n",
       "        vertical-align: top;\n",
       "    }\n",
       "\n",
       "    .dataframe thead th {\n",
       "        text-align: right;\n",
       "    }\n",
       "</style>\n",
       "<table border=\"1\" class=\"dataframe\">\n",
       "  <thead>\n",
       "    <tr style=\"text-align: right;\">\n",
       "      <th></th>\n",
       "      <th>body</th>\n",
       "      <th>closed_date</th>\n",
       "      <th>comments</th>\n",
       "      <th>completed_by</th>\n",
       "      <th>created_date</th>\n",
       "      <th>title</th>\n",
       "      <th>0</th>\n",
       "      <th>1</th>\n",
       "      <th>2</th>\n",
       "      <th>3</th>\n",
       "      <th>...</th>\n",
       "      <th>4950</th>\n",
       "      <th>4951</th>\n",
       "      <th>4952</th>\n",
       "      <th>4953</th>\n",
       "      <th>4954</th>\n",
       "      <th>4955</th>\n",
       "      <th>4956</th>\n",
       "      <th>4957</th>\n",
       "      <th>4958</th>\n",
       "      <th>4959</th>\n",
       "    </tr>\n",
       "  </thead>\n",
       "  <tbody>\n",
       "    <tr>\n",
       "      <th>1432</th>\n",
       "      <td>flutter crash report pleas file at http github...</td>\n",
       "      <td>2018-05-24 20:42:47</td>\n",
       "      <td>7</td>\n",
       "      <td>devoncarew</td>\n",
       "      <td>2017-07-11 04:35:48</td>\n",
       "      <td>flutter tool should initi intl default local m...</td>\n",
       "      <td>0.0</td>\n",
       "      <td>0.0</td>\n",
       "      <td>0.0</td>\n",
       "      <td>0.0</td>\n",
       "      <td>...</td>\n",
       "      <td>0.0</td>\n",
       "      <td>0.0</td>\n",
       "      <td>0.0</td>\n",
       "      <td>0.0</td>\n",
       "      <td>0.0</td>\n",
       "      <td>0.0</td>\n",
       "      <td>0.0</td>\n",
       "      <td>0.0</td>\n",
       "      <td>0.0</td>\n",
       "      <td>0.0</td>\n",
       "    </tr>\n",
       "    <tr>\n",
       "      <th>1433</th>\n",
       "      <td>I m pop up a simpl dialog with prompt text and...</td>\n",
       "      <td>2018-05-25 16:56:25</td>\n",
       "      <td>2</td>\n",
       "      <td>goderbauer</td>\n",
       "      <td>2018-05-22 12:10:45</td>\n",
       "      <td>android text entri field under talk back doe n...</td>\n",
       "      <td>0.0</td>\n",
       "      <td>0.0</td>\n",
       "      <td>0.0</td>\n",
       "      <td>0.0</td>\n",
       "      <td>...</td>\n",
       "      <td>0.0</td>\n",
       "      <td>0.0</td>\n",
       "      <td>0.0</td>\n",
       "      <td>0.0</td>\n",
       "      <td>0.0</td>\n",
       "      <td>0.0</td>\n",
       "      <td>0.0</td>\n",
       "      <td>0.0</td>\n",
       "      <td>0.0</td>\n",
       "      <td>0.0</td>\n",
       "    </tr>\n",
       "    <tr>\n",
       "      <th>1434</th>\n",
       "      <td></td>\n",
       "      <td>2018-05-25 23:20:08</td>\n",
       "      <td>2</td>\n",
       "      <td>cbracken</td>\n",
       "      <td>2018-05-10 02:14:44</td>\n",
       "      <td>local engin build on io are broken becaus of f...</td>\n",
       "      <td>0.0</td>\n",
       "      <td>0.0</td>\n",
       "      <td>0.0</td>\n",
       "      <td>0.0</td>\n",
       "      <td>...</td>\n",
       "      <td>0.0</td>\n",
       "      <td>0.0</td>\n",
       "      <td>0.0</td>\n",
       "      <td>0.0</td>\n",
       "      <td>0.0</td>\n",
       "      <td>0.0</td>\n",
       "      <td>0.0</td>\n",
       "      <td>0.0</td>\n",
       "      <td>0.0</td>\n",
       "      <td>0.0</td>\n",
       "    </tr>\n",
       "    <tr>\n",
       "      <th>1435</th>\n",
       "      <td>In flutter exampl stock with an i pod touch co...</td>\n",
       "      <td>2018-05-25 23:42:39</td>\n",
       "      <td>6</td>\n",
       "      <td>aam</td>\n",
       "      <td>2016-08-08 22:13:50</td>\n",
       "      <td>flutter drive fail to detect io hardwar</td>\n",
       "      <td>0.0</td>\n",
       "      <td>0.0</td>\n",
       "      <td>0.0</td>\n",
       "      <td>0.0</td>\n",
       "      <td>...</td>\n",
       "      <td>0.0</td>\n",
       "      <td>0.0</td>\n",
       "      <td>0.0</td>\n",
       "      <td>0.0</td>\n",
       "      <td>0.0</td>\n",
       "      <td>0.0</td>\n",
       "      <td>0.0</td>\n",
       "      <td>0.0</td>\n",
       "      <td>0.0</td>\n",
       "      <td>0.0</td>\n",
       "    </tr>\n",
       "    <tr>\n",
       "      <th>1436</th>\n",
       "      <td>turn talk back on and doubl tap on a checkbox ...</td>\n",
       "      <td>2018-05-26 01:42:03</td>\n",
       "      <td>10</td>\n",
       "      <td>jonahwilliams</td>\n",
       "      <td>2018-05-21 17:36:14</td>\n",
       "      <td>activ a switch or checkbox with talk back no l...</td>\n",
       "      <td>0.0</td>\n",
       "      <td>0.0</td>\n",
       "      <td>0.0</td>\n",
       "      <td>0.0</td>\n",
       "      <td>...</td>\n",
       "      <td>0.0</td>\n",
       "      <td>0.0</td>\n",
       "      <td>0.0</td>\n",
       "      <td>0.0</td>\n",
       "      <td>0.0</td>\n",
       "      <td>0.0</td>\n",
       "      <td>0.0</td>\n",
       "      <td>0.0</td>\n",
       "      <td>0.0</td>\n",
       "      <td>0.0</td>\n",
       "    </tr>\n",
       "  </tbody>\n",
       "</table>\n",
       "<p>5 rows × 6770 columns</p>\n",
       "</div>"
      ],
      "text/plain": [
       "                                                   body         closed_date  \\\n",
       "1432  flutter crash report pleas file at http github... 2018-05-24 20:42:47   \n",
       "1433  I m pop up a simpl dialog with prompt text and... 2018-05-25 16:56:25   \n",
       "1434                                                    2018-05-25 23:20:08   \n",
       "1435  In flutter exampl stock with an i pod touch co... 2018-05-25 23:42:39   \n",
       "1436  turn talk back on and doubl tap on a checkbox ... 2018-05-26 01:42:03   \n",
       "\n",
       "      comments   completed_by        created_date  \\\n",
       "1432         7     devoncarew 2017-07-11 04:35:48   \n",
       "1433         2     goderbauer 2018-05-22 12:10:45   \n",
       "1434         2       cbracken 2018-05-10 02:14:44   \n",
       "1435         6            aam 2016-08-08 22:13:50   \n",
       "1436        10  jonahwilliams 2018-05-21 17:36:14   \n",
       "\n",
       "                                                  title    0    1    2    3  \\\n",
       "1432  flutter tool should initi intl default local m...  0.0  0.0  0.0  0.0   \n",
       "1433  android text entri field under talk back doe n...  0.0  0.0  0.0  0.0   \n",
       "1434  local engin build on io are broken becaus of f...  0.0  0.0  0.0  0.0   \n",
       "1435            flutter drive fail to detect io hardwar  0.0  0.0  0.0  0.0   \n",
       "1436  activ a switch or checkbox with talk back no l...  0.0  0.0  0.0  0.0   \n",
       "\n",
       "      ...   4950  4951  4952  4953  4954  4955  4956  4957  4958  4959  \n",
       "1432  ...    0.0   0.0   0.0   0.0   0.0   0.0   0.0   0.0   0.0   0.0  \n",
       "1433  ...    0.0   0.0   0.0   0.0   0.0   0.0   0.0   0.0   0.0   0.0  \n",
       "1434  ...    0.0   0.0   0.0   0.0   0.0   0.0   0.0   0.0   0.0   0.0  \n",
       "1435  ...    0.0   0.0   0.0   0.0   0.0   0.0   0.0   0.0   0.0   0.0  \n",
       "1436  ...    0.0   0.0   0.0   0.0   0.0   0.0   0.0   0.0   0.0   0.0  \n",
       "\n",
       "[5 rows x 6770 columns]"
      ]
     },
     "execution_count": 2187,
     "metadata": {},
     "output_type": "execute_result"
    }
   ],
   "source": [
    "test_df.tail(5)"
   ]
  }
 ],
 "metadata": {
  "kernelspec": {
   "display_name": "Python 3",
   "language": "python",
   "name": "python3"
  },
  "language_info": {
   "codemirror_mode": {
    "name": "ipython",
    "version": 3
   },
   "file_extension": ".py",
   "mimetype": "text/x-python",
   "name": "python",
   "nbconvert_exporter": "python",
   "pygments_lexer": "ipython3",
   "version": "3.6.5"
  }
 },
 "nbformat": 4,
 "nbformat_minor": 2
}
