{
 "cells": [
  {
   "cell_type": "code",
   "execution_count": 228,
   "metadata": {},
   "outputs": [],
   "source": [
    "import json\n",
    "import matplotlib.pyplot as plt\n",
    "import pandas as pd\n",
    "import seaborn as sns\n",
    "\n",
    "from issues import get_num_code_lines\n",
    "from classifier import *"
   ]
  },
  {
   "cell_type": "markdown",
   "metadata": {},
   "source": [
    "# Pre-Processing"
   ]
  },
  {
   "cell_type": "code",
   "execution_count": 229,
   "metadata": {},
   "outputs": [],
   "source": [
    "with open('../data/flutter/flutter_issues_labeled_2.json') as json_data:\n",
    "    data = json.load(json_data)"
   ]
  },
  {
   "cell_type": "code",
   "execution_count": 230,
   "metadata": {},
   "outputs": [
    {
     "data": {
      "text/html": [
       "<div>\n",
       "<style scoped>\n",
       "    .dataframe tbody tr th:only-of-type {\n",
       "        vertical-align: middle;\n",
       "    }\n",
       "\n",
       "    .dataframe tbody tr th {\n",
       "        vertical-align: top;\n",
       "    }\n",
       "\n",
       "    .dataframe thead th {\n",
       "        text-align: right;\n",
       "    }\n",
       "</style>\n",
       "<table border=\"1\" class=\"dataframe\">\n",
       "  <thead>\n",
       "    <tr style=\"text-align: right;\">\n",
       "      <th></th>\n",
       "      <th>assignee</th>\n",
       "      <th>comments</th>\n",
       "      <th>is_doc_change</th>\n",
       "      <th>label</th>\n",
       "      <th>len_body</th>\n",
       "      <th>len_code_in_body</th>\n",
       "    </tr>\n",
       "  </thead>\n",
       "  <tbody>\n",
       "    <tr>\n",
       "      <th>0</th>\n",
       "      <td>abarth</td>\n",
       "      <td>3</td>\n",
       "      <td>0</td>\n",
       "      <td>0</td>\n",
       "      <td>26</td>\n",
       "      <td>0</td>\n",
       "    </tr>\n",
       "    <tr>\n",
       "      <th>1</th>\n",
       "      <td>eseidelGoogle</td>\n",
       "      <td>6</td>\n",
       "      <td>0</td>\n",
       "      <td>0</td>\n",
       "      <td>953</td>\n",
       "      <td>0</td>\n",
       "    </tr>\n",
       "    <tr>\n",
       "      <th>2</th>\n",
       "      <td>abarth</td>\n",
       "      <td>2</td>\n",
       "      <td>0</td>\n",
       "      <td>0</td>\n",
       "      <td>435</td>\n",
       "      <td>0</td>\n",
       "    </tr>\n",
       "    <tr>\n",
       "      <th>3</th>\n",
       "      <td>jason-simmons</td>\n",
       "      <td>5</td>\n",
       "      <td>0</td>\n",
       "      <td>0</td>\n",
       "      <td>0</td>\n",
       "      <td>0</td>\n",
       "    </tr>\n",
       "    <tr>\n",
       "      <th>4</th>\n",
       "      <td>Hixie</td>\n",
       "      <td>3</td>\n",
       "      <td>0</td>\n",
       "      <td>0</td>\n",
       "      <td>1806</td>\n",
       "      <td>1466</td>\n",
       "    </tr>\n",
       "    <tr>\n",
       "      <th>5</th>\n",
       "      <td>Hixie</td>\n",
       "      <td>0</td>\n",
       "      <td>0</td>\n",
       "      <td>1</td>\n",
       "      <td>185</td>\n",
       "      <td>0</td>\n",
       "    </tr>\n",
       "    <tr>\n",
       "      <th>6</th>\n",
       "      <td>abarth</td>\n",
       "      <td>3</td>\n",
       "      <td>1</td>\n",
       "      <td>1</td>\n",
       "      <td>439</td>\n",
       "      <td>0</td>\n",
       "    </tr>\n",
       "    <tr>\n",
       "      <th>7</th>\n",
       "      <td>abarth</td>\n",
       "      <td>0</td>\n",
       "      <td>0</td>\n",
       "      <td>1</td>\n",
       "      <td>214</td>\n",
       "      <td>0</td>\n",
       "    </tr>\n",
       "    <tr>\n",
       "      <th>8</th>\n",
       "      <td>abarth</td>\n",
       "      <td>1</td>\n",
       "      <td>0</td>\n",
       "      <td>0</td>\n",
       "      <td>209</td>\n",
       "      <td>0</td>\n",
       "    </tr>\n",
       "    <tr>\n",
       "      <th>9</th>\n",
       "      <td>abarth</td>\n",
       "      <td>2</td>\n",
       "      <td>0</td>\n",
       "      <td>0</td>\n",
       "      <td>82</td>\n",
       "      <td>0</td>\n",
       "    </tr>\n",
       "    <tr>\n",
       "      <th>10</th>\n",
       "      <td>abarth</td>\n",
       "      <td>5</td>\n",
       "      <td>0</td>\n",
       "      <td>0</td>\n",
       "      <td>778</td>\n",
       "      <td>0</td>\n",
       "    </tr>\n",
       "    <tr>\n",
       "      <th>11</th>\n",
       "      <td>abarth</td>\n",
       "      <td>3</td>\n",
       "      <td>0</td>\n",
       "      <td>0</td>\n",
       "      <td>388</td>\n",
       "      <td>0</td>\n",
       "    </tr>\n",
       "    <tr>\n",
       "      <th>12</th>\n",
       "      <td>Hixie</td>\n",
       "      <td>3</td>\n",
       "      <td>0</td>\n",
       "      <td>0</td>\n",
       "      <td>452</td>\n",
       "      <td>0</td>\n",
       "    </tr>\n",
       "    <tr>\n",
       "      <th>13</th>\n",
       "      <td>Hixie</td>\n",
       "      <td>2</td>\n",
       "      <td>0</td>\n",
       "      <td>0</td>\n",
       "      <td>530</td>\n",
       "      <td>0</td>\n",
       "    </tr>\n",
       "    <tr>\n",
       "      <th>14</th>\n",
       "      <td>abarth</td>\n",
       "      <td>2</td>\n",
       "      <td>0</td>\n",
       "      <td>1</td>\n",
       "      <td>699</td>\n",
       "      <td>0</td>\n",
       "    </tr>\n",
       "    <tr>\n",
       "      <th>15</th>\n",
       "      <td>Hixie</td>\n",
       "      <td>17</td>\n",
       "      <td>1</td>\n",
       "      <td>0</td>\n",
       "      <td>571</td>\n",
       "      <td>0</td>\n",
       "    </tr>\n",
       "    <tr>\n",
       "      <th>16</th>\n",
       "      <td>abarth</td>\n",
       "      <td>2</td>\n",
       "      <td>0</td>\n",
       "      <td>1</td>\n",
       "      <td>497</td>\n",
       "      <td>0</td>\n",
       "    </tr>\n",
       "    <tr>\n",
       "      <th>17</th>\n",
       "      <td>abarth</td>\n",
       "      <td>1</td>\n",
       "      <td>0</td>\n",
       "      <td>0</td>\n",
       "      <td>459</td>\n",
       "      <td>0</td>\n",
       "    </tr>\n",
       "    <tr>\n",
       "      <th>18</th>\n",
       "      <td>abarth</td>\n",
       "      <td>1</td>\n",
       "      <td>0</td>\n",
       "      <td>1</td>\n",
       "      <td>2877</td>\n",
       "      <td>0</td>\n",
       "    </tr>\n",
       "    <tr>\n",
       "      <th>19</th>\n",
       "      <td>abarth</td>\n",
       "      <td>7</td>\n",
       "      <td>0</td>\n",
       "      <td>1</td>\n",
       "      <td>389</td>\n",
       "      <td>0</td>\n",
       "    </tr>\n",
       "  </tbody>\n",
       "</table>\n",
       "</div>"
      ],
      "text/plain": [
       "         assignee  comments  is_doc_change  label  len_body  len_code_in_body\n",
       "0          abarth         3              0      0        26                 0\n",
       "1   eseidelGoogle         6              0      0       953                 0\n",
       "2          abarth         2              0      0       435                 0\n",
       "3   jason-simmons         5              0      0         0                 0\n",
       "4           Hixie         3              0      0      1806              1466\n",
       "5           Hixie         0              0      1       185                 0\n",
       "6          abarth         3              1      1       439                 0\n",
       "7          abarth         0              0      1       214                 0\n",
       "8          abarth         1              0      0       209                 0\n",
       "9          abarth         2              0      0        82                 0\n",
       "10         abarth         5              0      0       778                 0\n",
       "11         abarth         3              0      0       388                 0\n",
       "12          Hixie         3              0      0       452                 0\n",
       "13          Hixie         2              0      0       530                 0\n",
       "14         abarth         2              0      1       699                 0\n",
       "15          Hixie        17              1      0       571                 0\n",
       "16         abarth         2              0      1       497                 0\n",
       "17         abarth         1              0      0       459                 0\n",
       "18         abarth         1              0      1      2877                 0\n",
       "19         abarth         7              0      1       389                 0"
      ]
     },
     "metadata": {},
     "output_type": "display_data"
    }
   ],
   "source": [
    "df_list = []\n",
    "for issue in data:\n",
    "    issue = preprocess_issue(issue)\n",
    "    for assignee in issue['training_labels']:\n",
    "        df_dict = {}\n",
    "        df_dict['comments'] = issue['comments']\n",
    "        df_dict['assignee'] = assignee\n",
    "        if (not issue['body']):\n",
    "            issue['body'] = \"\"\n",
    "        df_dict['len_body'] = len(issue['body'])\n",
    "        df_dict['len_code_in_body'] = get_num_code_lines(issue)\n",
    "        df_dict['is_doc_change'] = int(classify_issue(issue))\n",
    "        #TODO: figure out how to one-hot-encode labels!!!!!!!!\n",
    "        #TODO: sliding window for user statistics!!\n",
    "        df_dict['label'] = issue['training_labels'][assignee]\n",
    "        df_list.append(df_dict)\n",
    "df = pd.DataFrame(df_list)\n",
    "display(df.head(20))"
   ]
  },
  {
   "cell_type": "code",
   "execution_count": 231,
   "metadata": {},
   "outputs": [
    {
     "name": "stdout",
     "output_type": "stream",
     "text": [
      "num positive events: 819\n",
      "num total events: 2990\n"
     ]
    }
   ],
   "source": [
    "num_positive_labels = 0\n",
    "total_num_labels = 0\n",
    "for issue in data:\n",
    "    for assignee in issue['training_labels']:\n",
    "        if issue['training_labels'][assignee] == 1:\n",
    "            num_positive_labels += 1\n",
    "        total_num_labels += 1\n",
    "print(\"num positive events: \" + str(num_positive_labels))\n",
    "print(\"num total events: \" + str(total_num_labels))"
   ]
  },
  {
   "cell_type": "markdown",
   "metadata": {},
   "source": [
    "Now filter out any issues that never end up getting a commit/PR before they are closed. Idea being that these are not 'real' issues."
   ]
  },
  {
   "cell_type": "code",
   "execution_count": 232,
   "metadata": {},
   "outputs": [
    {
     "name": "stdout",
     "output_type": "stream",
     "text": [
      "num positive events: 819\n",
      "num total events: 937\n"
     ]
    }
   ],
   "source": [
    "num_positive_labels = 0\n",
    "total_num_labels = 0\n",
    "for issue in data:\n",
    "    for assignee in issue['training_labels']:\n",
    "        if len(issue['matching_prs']) != 0 or len(issue['matching_commits']) != 0:\n",
    "            if issue['training_labels'][assignee] == 1:\n",
    "                num_positive_labels += 1\n",
    "            total_num_labels += 1\n",
    "print(\"num positive events: \" + str(num_positive_labels))\n",
    "print(\"num total events: \" + str(total_num_labels))"
   ]
  },
  {
   "cell_type": "code",
   "execution_count": 233,
   "metadata": {},
   "outputs": [
    {
     "name": "stdout",
     "output_type": "stream",
     "text": [
      "Number of successful tasks: \n",
      "{'Hixie': 96, 'abarth': 422, 'collinjackson': 7, 'HansMuller': 66, 'devoncarew': 1, 'mpcomplete': 20, 'yjbanov': 14, 'krisgiesing': 4, 'danrubel': 8, 'xster': 6, 'sethladd': 4, 'jason-simmons': 18, 'dragostis': 5, 'jimbeveridge': 1, 'tvolkert': 19, 'chinmaygarde': 2, 'pq': 3, 'aghassemi': 3, 'jakobr-google': 11, 'cbracken': 33, 'gspencergoog': 20, 'dvdwasibi': 1, 'johnmccutchan': 4, 'goderbauer': 13, 'lequem': 1, 'mehmetf': 3, 'mravn-google': 4, 'B3rn475': 2, 'jcollins-g': 11, 'amirh': 3, 'szakarias': 4, 'jonahwilliams': 1, 'aam': 3, 'DanTup': 2, 'mraleph': 3, 'blasten': 1}\n",
      "Number of total tasks: \n",
      "{'abarth': 444, 'eseidelGoogle': 2, 'Hixie': 121, 'collinjackson': 11, 'HansMuller': 75, 'devoncarew': 2, 'vlidholt': 2, 'mpcomplete': 22, 'yjbanov': 20, 'krisgiesing': 5, 'danrubel': 9, 'xster': 17, 'sethladd': 7, 'jason-simmons': 19, 'aghassemi': 7, 'dragostis': 7, 'jimbeveridge': 1, 'tvolkert': 19, 'chinmaygarde': 7, 'pq': 3, 'jakobr-google': 11, 'johnmccutchan': 5, 'cbracken': 39, 'qchong': 1, 'gspencergoog': 22, 'dvdwasibi': 1, 'mit-mit': 2, 'goderbauer': 13, 'lequem': 1, 'LarkAscending': 1, 'mehmetf': 3, 'mravn-google': 5, 'B3rn475': 2, 'jcollins-g': 11, 'amirh': 3, 'szakarias': 4, 'jonahwilliams': 1, 'aam': 3, 'DanTup': 2, 'mraleph': 3, 'a-siva': 1, 'zanderso': 1, 'timsneath': 1, 'blasten': 1}\n",
      "Percentage of tasks completed: \n",
      "{'abarth': 0.9504504504504504, 'eseidelGoogle': 0.0, 'Hixie': 0.7933884297520661, 'collinjackson': 0.6363636363636364, 'HansMuller': 0.88, 'devoncarew': 0.5, 'vlidholt': 0.0, 'mpcomplete': 0.9090909090909091, 'yjbanov': 0.7, 'krisgiesing': 0.8, 'danrubel': 0.8888888888888888, 'xster': 0.35294117647058826, 'sethladd': 0.5714285714285714, 'jason-simmons': 0.9473684210526315, 'aghassemi': 0.42857142857142855, 'dragostis': 0.7142857142857143, 'jimbeveridge': 1.0, 'tvolkert': 1.0, 'chinmaygarde': 0.2857142857142857, 'pq': 1.0, 'jakobr-google': 1.0, 'johnmccutchan': 0.8, 'cbracken': 0.8461538461538461, 'qchong': 0.0, 'gspencergoog': 0.9090909090909091, 'dvdwasibi': 1.0, 'mit-mit': 0.0, 'goderbauer': 1.0, 'lequem': 1.0, 'LarkAscending': 0.0, 'mehmetf': 1.0, 'mravn-google': 0.8, 'B3rn475': 1.0, 'jcollins-g': 1.0, 'amirh': 1.0, 'szakarias': 1.0, 'jonahwilliams': 1.0, 'aam': 1.0, 'DanTup': 1.0, 'mraleph': 1.0, 'a-siva': 0.0, 'zanderso': 0.0, 'timsneath': 0.0, 'blasten': 1.0}\n"
     ]
    }
   ],
   "source": [
    "person_counts = {}\n",
    "person_totals = {}\n",
    "for issue in data:\n",
    "    for assignee in issue['training_labels']:\n",
    "        if len(issue['matching_prs']) != 0 or len(issue['matching_commits']) != 0:\n",
    "            if issue['training_labels'][assignee] == 1:\n",
    "                person_counts[assignee] = person_counts.get(assignee, 0) + 1\n",
    "            person_totals[assignee] = person_totals.get(assignee, 0) + 1\n",
    "person_percents = {}\n",
    "for person in person_totals:\n",
    "    person_percents[person] = person_counts.get(person, 0) / person_totals[person]\n",
    "    \n",
    "print(\"Number of successful tasks: \")\n",
    "print(person_counts)\n",
    "print(\"Number of total tasks: \")\n",
    "print(person_totals)\n",
    "print(\"Percentage of tasks completed: \")\n",
    "print(person_percents)"
   ]
  },
  {
   "cell_type": "code",
   "execution_count": 234,
   "metadata": {},
   "outputs": [
    {
     "name": "stdout",
     "output_type": "stream",
     "text": [
      "0.18181818181818182\n"
     ]
    }
   ],
   "source": [
    "zero_count = 0\n",
    "total_count = 0\n",
    "for person in person_percents:\n",
    "    if person_percents[person] == 0.0:\n",
    "        zero_count += 1\n",
    "    total_count += 1\n",
    "print(float(zero_count) / total_count)"
   ]
  },
  {
   "cell_type": "code",
   "execution_count": 235,
   "metadata": {},
   "outputs": [],
   "source": [
    "#TODO: compare characteristics of issues that are successfully completed."
   ]
  },
  {
   "cell_type": "code",
   "execution_count": 236,
   "metadata": {},
   "outputs": [],
   "source": [
    "# Think of Features - past history for dev, etc."
   ]
  },
  {
   "cell_type": "code",
   "execution_count": 237,
   "metadata": {},
   "outputs": [],
   "source": [
    "#TODOs:\n",
    "# One Hot Encode UserName, Labels, etc.\n",
    "# Sliding windows for previous events for user.\n",
    "# deal with String fields (e.g. assignee)\n",
    "# Use doc classifier as a feature\n",
    "# Use other features\n",
    "# Compare performance to naive model (just take previous % of completion for user...)\n",
    "# Move to 3 class classifier (two binary combined: can predict if they will get a PR up, will that PR be accepted)"
   ]
  },
  {
   "cell_type": "markdown",
   "metadata": {},
   "source": [
    "# Classifier"
   ]
  }
 ],
 "metadata": {
  "kernelspec": {
   "display_name": "Python 3",
   "language": "python",
   "name": "python3"
  },
  "language_info": {
   "codemirror_mode": {
    "name": "ipython",
    "version": 3
   },
   "file_extension": ".py",
   "mimetype": "text/x-python",
   "name": "python",
   "nbconvert_exporter": "python",
   "pygments_lexer": "ipython3",
   "version": "3.6.5"
  }
 },
 "nbformat": 4,
 "nbformat_minor": 2
}
