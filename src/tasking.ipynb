{
 "cells": [
  {
   "cell_type": "code",
   "execution_count": 192,
   "metadata": {
    "scrolled": true
   },
   "outputs": [],
   "source": [
    "import json\n",
    "import matplotlib.pyplot as plt\n",
    "import numpy as np\n",
    "import operator\n",
    "import pandas as pd\n",
    "import re\n",
    "import seaborn as sns\n",
    "\n",
    "from classifier import *\n",
    "from heapq import nlargest\n",
    "from issues import get_num_code_lines\n",
    "from nltk.stem import PorterStemmer\n",
    "from sklearn.ensemble import RandomForestClassifier\n",
    "from sklearn.feature_extraction.text import ENGLISH_STOP_WORDS, TfidfVectorizer\n",
    "from sklearn.linear_model import LogisticRegression\n",
    "from sklearn.metrics import accuracy_score, confusion_matrix, r2_score\n",
    "from sklearn.naive_bayes import BernoulliNB, GaussianNB\n",
    "from sklearn.neighbors import KNeighborsClassifier\n",
    "from sklearn.model_selection import train_test_split\n",
    "from sklearn.neural_network import MLPClassifier\n",
    "from sklearn.preprocessing import MultiLabelBinarizer\n",
    "from sklearn.svm import SVC\n",
    "from sklearn.tree import DecisionTreeClassifier"
   ]
  },
  {
   "cell_type": "markdown",
   "metadata": {},
   "source": [
    "# Pre-Processing"
   ]
  },
  {
   "cell_type": "code",
   "execution_count": 193,
   "metadata": {},
   "outputs": [
    {
     "name": "stdout",
     "output_type": "stream",
     "text": [
      "[{'issue_num': 83, 'merged_prs': [{'pull': '/flutter/engine/pull/2397', 'author': None}, {'pull': '/flutter/engine/pull/2397', 'author': None}], 'failed_prs': [{'pull': '/flutter/flutter/pull/1851', 'author': 'abarth'}], 'master_commits': [], 'local_commits': [{'commit': '/abarth/flutter/commit/3d51d6a6ff48a7c1a119bc82e6a3a7dea2121007', 'author': 'abarth'}]}, {'issue_num': 138, 'merged_prs': [{'pull': '/flutter/website/pull/164', 'author': 'eseidelGoogle'}, {'pull': '/flutter/flutter/pull/5484', 'author': None}, {'pull': '/flutter/flutter/pull/5484', 'author': None}], 'failed_prs': [{'pull': '/flutter/flutter/pull/5498', 'author': 'bbalet'}], 'master_commits': [], 'local_commits': []}, {'issue_num': 215, 'merged_prs': [{'pull': '/flutter/flutter/pull/1303', 'author': 'abarth'}, {'pull': '/flutter/flutter/pull/1078', 'author': None}, {'pull': '/flutter/flutter/pull/1078', 'author': None}], 'failed_prs': [{'pull': '/flutter/flutter/pull/1078', 'author': 'Hixie'}], 'master_commits': [], 'local_commits': [{'commit': '/abarth/flutter/commit/13bff2f2545874f5f596fb93974bcf8a7338f02f', 'author': 'abarth'}, {'commit': '/abarth/flutter/commit/c8f1174070c89fcc7d04928608b39c5f2b713cf0', 'author': 'abarth'}, {'commit': '/abarth/flutter/commit/bc20871cb954fcc7b9e96fdd20af76ad4a80572f', 'author': 'abarth'}]}, {'issue_num': 216, 'merged_prs': [{'pull': '/flutter/flutter/pull/924', 'author': 'abarth'}], 'failed_prs': [{'pull': '/flutter/flutter/pull/1078', 'author': 'abarth'}], 'master_commits': [], 'local_commits': [{'commit': '/abarth/flutter/commit/98a2410b0f4c77f5f30b6af569069f3db35c9bcf', 'author': 'abarth'}, {'commit': '/abarth/flutter/commit/a89282e745e27804e94dee157e1449332c67611a', 'author': 'abarth'}, {'commit': '/abarth/flutter/commit/2a6531cf82d7737e8ba17756e436c6a06f4645dd', 'author': 'abarth'}]}, {'issue_num': 430, 'merged_prs': [], 'failed_prs': [{'pull': '/flutter/plugins/pull/203', 'author': 'namn'}], 'master_commits': [], 'local_commits': []}]\n"
     ]
    }
   ],
   "source": [
    "with open('../data/flutter/flutter_issues_prs.json') as json_data:\n",
    "    issues_prs = json.load(json_data)\n",
    "ret = []\n",
    "for issue in issues_prs:\n",
    "    if issue['failed_prs']:\n",
    "        ret.append(issue)\n",
    "print(ret[:5])"
   ]
  },
  {
   "cell_type": "code",
   "execution_count": 194,
   "metadata": {
    "scrolled": true
   },
   "outputs": [],
   "source": [
    "with open('../data/flutter/flutter_issues_labeled.json') as json_data:\n",
    "    issues = json.load(json_data)"
   ]
  },
  {
   "cell_type": "code",
   "execution_count": 195,
   "metadata": {
    "scrolled": true
   },
   "outputs": [
    {
     "name": "stdout",
     "output_type": "stream",
     "text": [
      "Number of issues: 7170\n",
      "Number of labeled issues: 2504\n"
     ]
    }
   ],
   "source": [
    "print(\"Number of issues: \" + str(len(issues)))\n",
    "labeled_issues = [issue for issue in issues if len(issue['completed_by']) > 0]\n",
    "print(\"Number of labeled issues: \" + str(len(labeled_issues)))"
   ]
  },
  {
   "cell_type": "code",
   "execution_count": 196,
   "metadata": {
    "scrolled": true
   },
   "outputs": [
    {
     "data": {
      "text/html": [
       "<div>\n",
       "<style scoped>\n",
       "    .dataframe tbody tr th:only-of-type {\n",
       "        vertical-align: middle;\n",
       "    }\n",
       "\n",
       "    .dataframe tbody tr th {\n",
       "        vertical-align: top;\n",
       "    }\n",
       "\n",
       "    .dataframe thead th {\n",
       "        text-align: right;\n",
       "    }\n",
       "</style>\n",
       "<table border=\"1\" class=\"dataframe\">\n",
       "  <thead>\n",
       "    <tr style=\"text-align: right;\">\n",
       "      <th></th>\n",
       "      <th>assignees</th>\n",
       "      <th>body</th>\n",
       "      <th>closed_date</th>\n",
       "      <th>comments</th>\n",
       "      <th>completed_by</th>\n",
       "      <th>created_date</th>\n",
       "      <th>labels</th>\n",
       "      <th>title</th>\n",
       "    </tr>\n",
       "  </thead>\n",
       "  <tbody>\n",
       "    <tr>\n",
       "      <th>1</th>\n",
       "      <td>[abarth]</td>\n",
       "      <td>When I try to `flutter start` any of the examp...</td>\n",
       "      <td>2015-11-09 20:13:32</td>\n",
       "      <td>3</td>\n",
       "      <td>[abarth, DanTup]</td>\n",
       "      <td>2015-11-08 20:33:37</td>\n",
       "      <td>[easy fix, tool]</td>\n",
       "      <td>`flutter start` doesn't give good error messag...</td>\n",
       "    </tr>\n",
       "    <tr>\n",
       "      <th>6</th>\n",
       "      <td>[]</td>\n",
       "      <td>&lt;a href=\"https://github.com/Hixie\"&gt;&lt;img src=\"h...</td>\n",
       "      <td>2015-11-09 20:18:24</td>\n",
       "      <td>1</td>\n",
       "      <td>[yjbanov]</td>\n",
       "      <td>2015-11-09 20:16:52</td>\n",
       "      <td>[framework, severe: new feature]</td>\n",
       "      <td>Swipe to change between Tabs</td>\n",
       "    </tr>\n",
       "  </tbody>\n",
       "</table>\n",
       "</div>"
      ],
      "text/plain": [
       "  assignees                                               body  \\\n",
       "1  [abarth]  When I try to `flutter start` any of the examp...   \n",
       "6        []  <a href=\"https://github.com/Hixie\"><img src=\"h...   \n",
       "\n",
       "          closed_date  comments      completed_by        created_date  \\\n",
       "1 2015-11-09 20:13:32         3  [abarth, DanTup] 2015-11-08 20:33:37   \n",
       "6 2015-11-09 20:18:24         1         [yjbanov] 2015-11-09 20:16:52   \n",
       "\n",
       "                             labels  \\\n",
       "1                  [easy fix, tool]   \n",
       "6  [framework, severe: new feature]   \n",
       "\n",
       "                                               title  \n",
       "1  `flutter start` doesn't give good error messag...  \n",
       "6                       Swipe to change between Tabs  "
      ]
     },
     "execution_count": 196,
     "metadata": {},
     "output_type": "execute_result"
    }
   ],
   "source": [
    "# create a data frame from the list of issues\n",
    "df_list = []\n",
    "for issue in labeled_issues[25:]:\n",
    "        df_dict = {}\n",
    "        df_dict['comments'] = issue['comments']\n",
    "        if (not issue['body']):\n",
    "            issue['body'] = \"\"\n",
    "        df_dict['title'] = issue['title']\n",
    "        df_dict['body'] = issue['body']\n",
    "        df_dict['closed_date'] = pd.to_datetime(issue['closed_at'])\n",
    "        df_dict['created_date'] = pd.to_datetime(issue['created_at'])\n",
    "        df_dict['completed_by'] = issue['completed_by']\n",
    "        df_dict['labels'] = [label['name'] for label in issue['labels']]\n",
    "        df_dict['assignees'] = [assignee['login'] for assignee in issue['assignees']]\n",
    "        df_list.append(df_dict)\n",
    "df = pd.DataFrame(df_list).sort_values('closed_date')\n",
    "df.head(2)"
   ]
  },
  {
   "cell_type": "code",
   "execution_count": 197,
   "metadata": {
    "scrolled": true
   },
   "outputs": [
    {
     "name": "stdout",
     "output_type": "stream",
     "text": [
      "2479\n",
      "1540\n"
     ]
    },
    {
     "data": {
      "text/html": [
       "<div>\n",
       "<style scoped>\n",
       "    .dataframe tbody tr th:only-of-type {\n",
       "        vertical-align: middle;\n",
       "    }\n",
       "\n",
       "    .dataframe tbody tr th {\n",
       "        vertical-align: top;\n",
       "    }\n",
       "\n",
       "    .dataframe thead th {\n",
       "        text-align: right;\n",
       "    }\n",
       "</style>\n",
       "<table border=\"1\" class=\"dataframe\">\n",
       "  <thead>\n",
       "    <tr style=\"text-align: right;\">\n",
       "      <th></th>\n",
       "      <th>assignees</th>\n",
       "      <th>body</th>\n",
       "      <th>closed_date</th>\n",
       "      <th>comments</th>\n",
       "      <th>completed_by</th>\n",
       "      <th>created_date</th>\n",
       "      <th>labels</th>\n",
       "      <th>title</th>\n",
       "    </tr>\n",
       "  </thead>\n",
       "  <tbody>\n",
       "    <tr>\n",
       "      <th>0</th>\n",
       "      <td>[abarth]</td>\n",
       "      <td>When I try to `flutter start` any of the examp...</td>\n",
       "      <td>2015-11-09 20:13:32</td>\n",
       "      <td>3</td>\n",
       "      <td>[abarth, DanTup]</td>\n",
       "      <td>2015-11-08 20:33:37</td>\n",
       "      <td>[easy fix, tool]</td>\n",
       "      <td>`flutter start` doesn't give good error messag...</td>\n",
       "    </tr>\n",
       "    <tr>\n",
       "      <th>1</th>\n",
       "      <td>[abarth]</td>\n",
       "      <td>flutter start --debug\\nsevere: To copy files t...</td>\n",
       "      <td>2015-11-09 21:43:40</td>\n",
       "      <td>1</td>\n",
       "      <td>[abarth]</td>\n",
       "      <td>2015-11-09 20:50:45</td>\n",
       "      <td>[tool]</td>\n",
       "      <td>Exception running source build of engine on Mac</td>\n",
       "    </tr>\n",
       "    <tr>\n",
       "      <th>2</th>\n",
       "      <td>[collinjackson]</td>\n",
       "      <td>cc @tvolkert \\n</td>\n",
       "      <td>2015-11-10 00:40:38</td>\n",
       "      <td>1</td>\n",
       "      <td>[collinjackson]</td>\n",
       "      <td>2015-11-09 21:07:13</td>\n",
       "      <td>[]</td>\n",
       "      <td>Implement Dart's HTTP package in Flutter with ...</td>\n",
       "    </tr>\n",
       "    <tr>\n",
       "      <th>3</th>\n",
       "      <td>[abarth]</td>\n",
       "      <td>When the widget is created with an initial str...</td>\n",
       "      <td>2015-11-11 17:56:29</td>\n",
       "      <td>3</td>\n",
       "      <td>[abarth]</td>\n",
       "      <td>2015-11-11 00:57:05</td>\n",
       "      <td>[a: text input, framework, severe: regression]</td>\n",
       "      <td>Cursor in TextInput is displayed incorrectly</td>\n",
       "    </tr>\n",
       "    <tr>\n",
       "      <th>4</th>\n",
       "      <td>[abarth]</td>\n",
       "      <td>In components that take a `List&lt;T&gt;` and an `It...</td>\n",
       "      <td>2015-11-12 20:25:12</td>\n",
       "      <td>0</td>\n",
       "      <td>[abarth]</td>\n",
       "      <td>2015-11-12 06:10:10</td>\n",
       "      <td>[easy fix, framework]</td>\n",
       "      <td>ItemBuilder should also get the index of the i...</td>\n",
       "    </tr>\n",
       "    <tr>\n",
       "      <th>5</th>\n",
       "      <td>[HansMuller]</td>\n",
       "      <td>cc @HansMuller \\n</td>\n",
       "      <td>2015-11-13 00:40:47</td>\n",
       "      <td>0</td>\n",
       "      <td>[HansMuller]</td>\n",
       "      <td>2015-11-12 20:27:39</td>\n",
       "      <td>[framework, severe: regression, ⚠ TODAY]</td>\n",
       "      <td>closing the menu in stocks throws an exception</td>\n",
       "    </tr>\n",
       "    <tr>\n",
       "      <th>6</th>\n",
       "      <td>[abarth]</td>\n",
       "      <td>This is similar to an old issue from the old i...</td>\n",
       "      <td>2015-11-13 00:58:57</td>\n",
       "      <td>4</td>\n",
       "      <td>[abarth]</td>\n",
       "      <td>2015-11-12 22:25:34</td>\n",
       "      <td>[framework, severe: regression]</td>\n",
       "      <td>Updated Widget is sized wrong (but placed corr...</td>\n",
       "    </tr>\n",
       "    <tr>\n",
       "      <th>7</th>\n",
       "      <td>[abarth]</td>\n",
       "      <td>RenderEditableParagraph width looks as if it w...</td>\n",
       "      <td>2015-11-13 19:19:02</td>\n",
       "      <td>7</td>\n",
       "      <td>[abarth]</td>\n",
       "      <td>2015-11-11 11:50:37</td>\n",
       "      <td>[a: text input, framework]</td>\n",
       "      <td>When there's no text in an input widget, the c...</td>\n",
       "    </tr>\n",
       "    <tr>\n",
       "      <th>8</th>\n",
       "      <td>[HansMuller]</td>\n",
       "      <td>Currently if you tap on a stock row (to bring ...</td>\n",
       "      <td>2015-11-16 20:00:10</td>\n",
       "      <td>0</td>\n",
       "      <td>[HansMuller]</td>\n",
       "      <td>2015-11-16 19:28:51</td>\n",
       "      <td>[severe: regression]</td>\n",
       "      <td>Stocks demo tap fails if BottomSheet is visible</td>\n",
       "    </tr>\n",
       "    <tr>\n",
       "      <th>9</th>\n",
       "      <td>[collinjackson]</td>\n",
       "      <td></td>\n",
       "      <td>2015-11-16 22:35:59</td>\n",
       "      <td>0</td>\n",
       "      <td>[devoncarew, collinjackson]</td>\n",
       "      <td>2015-11-13 23:19:50</td>\n",
       "      <td>[easy fix, tool]</td>\n",
       "      <td>flutter logs --c should be a synonym for flutt...</td>\n",
       "    </tr>\n",
       "  </tbody>\n",
       "</table>\n",
       "</div>"
      ],
      "text/plain": [
       "         assignees                                               body  \\\n",
       "0         [abarth]  When I try to `flutter start` any of the examp...   \n",
       "1         [abarth]  flutter start --debug\\nsevere: To copy files t...   \n",
       "2  [collinjackson]                                    cc @tvolkert \\n   \n",
       "3         [abarth]  When the widget is created with an initial str...   \n",
       "4         [abarth]  In components that take a `List<T>` and an `It...   \n",
       "5     [HansMuller]                                  cc @HansMuller \\n   \n",
       "6         [abarth]  This is similar to an old issue from the old i...   \n",
       "7         [abarth]  RenderEditableParagraph width looks as if it w...   \n",
       "8     [HansMuller]  Currently if you tap on a stock row (to bring ...   \n",
       "9  [collinjackson]                                                      \n",
       "\n",
       "          closed_date  comments                 completed_by  \\\n",
       "0 2015-11-09 20:13:32         3             [abarth, DanTup]   \n",
       "1 2015-11-09 21:43:40         1                     [abarth]   \n",
       "2 2015-11-10 00:40:38         1              [collinjackson]   \n",
       "3 2015-11-11 17:56:29         3                     [abarth]   \n",
       "4 2015-11-12 20:25:12         0                     [abarth]   \n",
       "5 2015-11-13 00:40:47         0                 [HansMuller]   \n",
       "6 2015-11-13 00:58:57         4                     [abarth]   \n",
       "7 2015-11-13 19:19:02         7                     [abarth]   \n",
       "8 2015-11-16 20:00:10         0                 [HansMuller]   \n",
       "9 2015-11-16 22:35:59         0  [devoncarew, collinjackson]   \n",
       "\n",
       "         created_date                                          labels  \\\n",
       "0 2015-11-08 20:33:37                                [easy fix, tool]   \n",
       "1 2015-11-09 20:50:45                                          [tool]   \n",
       "2 2015-11-09 21:07:13                                              []   \n",
       "3 2015-11-11 00:57:05  [a: text input, framework, severe: regression]   \n",
       "4 2015-11-12 06:10:10                           [easy fix, framework]   \n",
       "5 2015-11-12 20:27:39        [framework, severe: regression, ⚠ TODAY]   \n",
       "6 2015-11-12 22:25:34                 [framework, severe: regression]   \n",
       "7 2015-11-11 11:50:37                      [a: text input, framework]   \n",
       "8 2015-11-16 19:28:51                            [severe: regression]   \n",
       "9 2015-11-13 23:19:50                                [easy fix, tool]   \n",
       "\n",
       "                                               title  \n",
       "0  `flutter start` doesn't give good error messag...  \n",
       "1    Exception running source build of engine on Mac  \n",
       "2  Implement Dart's HTTP package in Flutter with ...  \n",
       "3       Cursor in TextInput is displayed incorrectly  \n",
       "4  ItemBuilder should also get the index of the i...  \n",
       "5     closing the menu in stocks throws an exception  \n",
       "6  Updated Widget is sized wrong (but placed corr...  \n",
       "7  When there's no text in an input widget, the c...  \n",
       "8    Stocks demo tap fails if BottomSheet is visible  \n",
       "9  flutter logs --c should be a synonym for flutt...  "
      ]
     },
     "execution_count": 197,
     "metadata": {},
     "output_type": "execute_result"
    }
   ],
   "source": [
    "print(len(df))\n",
    "df_temp = df[df.apply(lambda x: len(x['assignees']) != 0, axis=1)].reset_index(drop=True)\n",
    "print(len(df_temp))\n",
    "df_temp.head(10)"
   ]
  },
  {
   "cell_type": "code",
   "execution_count": 198,
   "metadata": {
    "scrolled": true
   },
   "outputs": [
    {
     "name": "stdout",
     "output_type": "stream",
     "text": [
      "{2: 197, 1: 2268, 3: 14}\n",
      "Number of total issues: 2479\n",
      "Number of issues with single solver: 2268\n"
     ]
    }
   ],
   "source": [
    "# count number of issues with multiple completers\n",
    "counts = {}\n",
    "for index, row in df.iterrows():\n",
    "    count = len(row['completed_by'])\n",
    "    counts[count] = counts.get(count, 0) + 1\n",
    "print(counts)\n",
    "#TODO: confirm that filtering \"noise\" is best strategy here\n",
    "print(\"Number of total issues: \" + str(len(df)))\n",
    "df = df[df.apply(lambda x: len(x['completed_by']) == 1, axis=1)].reset_index(drop=True)\n",
    "df['completed_by'] = df['completed_by'].apply(lambda  x : x[0])\n",
    "print(\"Number of issues with single solver: \" + str(len(df)))"
   ]
  },
  {
   "cell_type": "code",
   "execution_count": 199,
   "metadata": {
    "scrolled": true
   },
   "outputs": [
    {
     "data": {
      "text/html": [
       "<div>\n",
       "<style scoped>\n",
       "    .dataframe tbody tr th:only-of-type {\n",
       "        vertical-align: middle;\n",
       "    }\n",
       "\n",
       "    .dataframe tbody tr th {\n",
       "        vertical-align: top;\n",
       "    }\n",
       "\n",
       "    .dataframe thead th {\n",
       "        text-align: right;\n",
       "    }\n",
       "</style>\n",
       "<table border=\"1\" class=\"dataframe\">\n",
       "  <thead>\n",
       "    <tr style=\"text-align: right;\">\n",
       "      <th></th>\n",
       "      <th>assignees</th>\n",
       "      <th>body</th>\n",
       "      <th>closed_date</th>\n",
       "      <th>comments</th>\n",
       "      <th>completed_by</th>\n",
       "      <th>created_date</th>\n",
       "      <th>title</th>\n",
       "      <th>a: accessibility</th>\n",
       "      <th>a: animation</th>\n",
       "      <th>a: china</th>\n",
       "      <th>...</th>\n",
       "      <th>team: gallery</th>\n",
       "      <th>tool</th>\n",
       "      <th>waiting for PR to land (fixed)</th>\n",
       "      <th>waiting for customer response</th>\n",
       "      <th>⌘‬ platform-mac</th>\n",
       "      <th>⌺‬ platform-ios</th>\n",
       "      <th>▣ platform-android</th>\n",
       "      <th>○ platform-fuchsia</th>\n",
       "      <th>⚠ TODAY</th>\n",
       "      <th>❖ platform-windows</th>\n",
       "    </tr>\n",
       "  </thead>\n",
       "  <tbody>\n",
       "    <tr>\n",
       "      <th>0</th>\n",
       "      <td>[]</td>\n",
       "      <td>&lt;a href=\"https://github.com/Hixie\"&gt;&lt;img src=\"h...</td>\n",
       "      <td>2015-11-09 20:18:24</td>\n",
       "      <td>1</td>\n",
       "      <td>yjbanov</td>\n",
       "      <td>2015-11-09 20:16:52</td>\n",
       "      <td>Swipe to change between Tabs</td>\n",
       "      <td>0</td>\n",
       "      <td>0</td>\n",
       "      <td>0</td>\n",
       "      <td>...</td>\n",
       "      <td>0</td>\n",
       "      <td>0</td>\n",
       "      <td>0</td>\n",
       "      <td>0</td>\n",
       "      <td>0</td>\n",
       "      <td>0</td>\n",
       "      <td>0</td>\n",
       "      <td>0</td>\n",
       "      <td>0</td>\n",
       "      <td>0</td>\n",
       "    </tr>\n",
       "    <tr>\n",
       "      <th>1</th>\n",
       "      <td>[abarth]</td>\n",
       "      <td>flutter start --debug\\nsevere: To copy files t...</td>\n",
       "      <td>2015-11-09 21:43:40</td>\n",
       "      <td>1</td>\n",
       "      <td>abarth</td>\n",
       "      <td>2015-11-09 20:50:45</td>\n",
       "      <td>Exception running source build of engine on Mac</td>\n",
       "      <td>0</td>\n",
       "      <td>0</td>\n",
       "      <td>0</td>\n",
       "      <td>...</td>\n",
       "      <td>0</td>\n",
       "      <td>1</td>\n",
       "      <td>0</td>\n",
       "      <td>0</td>\n",
       "      <td>0</td>\n",
       "      <td>0</td>\n",
       "      <td>0</td>\n",
       "      <td>0</td>\n",
       "      <td>0</td>\n",
       "      <td>0</td>\n",
       "    </tr>\n",
       "  </tbody>\n",
       "</table>\n",
       "<p>2 rows × 84 columns</p>\n",
       "</div>"
      ],
      "text/plain": [
       "  assignees                                               body  \\\n",
       "0        []  <a href=\"https://github.com/Hixie\"><img src=\"h...   \n",
       "1  [abarth]  flutter start --debug\\nsevere: To copy files t...   \n",
       "\n",
       "          closed_date  comments completed_by        created_date  \\\n",
       "0 2015-11-09 20:18:24         1      yjbanov 2015-11-09 20:16:52   \n",
       "1 2015-11-09 21:43:40         1       abarth 2015-11-09 20:50:45   \n",
       "\n",
       "                                             title  a: accessibility  \\\n",
       "0                     Swipe to change between Tabs                 0   \n",
       "1  Exception running source build of engine on Mac                 0   \n",
       "\n",
       "   a: animation  a: china         ...          team: gallery  tool  \\\n",
       "0             0         0         ...                      0     0   \n",
       "1             0         0         ...                      0     1   \n",
       "\n",
       "   waiting for PR to land (fixed)  waiting for customer response  \\\n",
       "0                               0                              0   \n",
       "1                               0                              0   \n",
       "\n",
       "   ⌘‬ platform-mac  ⌺‬ platform-ios  ▣ platform-android  ○ platform-fuchsia  \\\n",
       "0                0                0                   0                   0   \n",
       "1                0                0                   0                   0   \n",
       "\n",
       "   ⚠ TODAY  ❖ platform-windows  \n",
       "0        0                   0  \n",
       "1        0                   0  \n",
       "\n",
       "[2 rows x 84 columns]"
      ]
     },
     "execution_count": 199,
     "metadata": {},
     "output_type": "execute_result"
    }
   ],
   "source": [
    "# one hot encode the label column\n",
    "mlb = MultiLabelBinarizer()\n",
    "df = df.join(pd.DataFrame(mlb.fit_transform(df.pop('labels')),\n",
    "                          columns=mlb.classes_,\n",
    "                          index=df.index))\n",
    "df.head(2)"
   ]
  },
  {
   "cell_type": "code",
   "execution_count": 200,
   "metadata": {
    "scrolled": true
   },
   "outputs": [],
   "source": [
    "def preprocess(text):\n",
    "    stemmer = PorterStemmer()\n",
    "    # remove punctuation and non-alpha numeric characters\n",
    "    split1 = ' '.join([word for word in re.split('\\W+', text) if word.isalpha()])\n",
    "    # split camel case words apart (necessary for embedded code) and apply stemmer to all words\n",
    "    split2 = ' '.join([stemmer.stem(word) for word in re.sub('(?!^)([A-Z][a-z]+)', r' \\1', split1).split()])\n",
    "    return split2"
   ]
  },
  {
   "cell_type": "code",
   "execution_count": 201,
   "metadata": {
    "scrolled": true
   },
   "outputs": [
    {
     "name": "stdout",
     "output_type": "stream",
     "text": [
      "(2268, 4960)\n",
      "(2268, 1804)\n"
     ]
    }
   ],
   "source": [
    "# use tf-idf w/ stemming, stop-word removal, and non-alphabetic word removal to generate features\n",
    "df['body'] = df['body'].apply(preprocess)\n",
    "vectorizer_body = TfidfVectorizer(stop_words=ENGLISH_STOP_WORDS)\n",
    "vectorizer_body.fit(df['body'])\n",
    "vector_body = vectorizer_body.transform(df['body'])\n",
    "# summarize encoded vector\n",
    "print(vector_body.shape)\n",
    "df['title'] = df['title'].apply(preprocess)\n",
    "vectorizer_title = TfidfVectorizer(stop_words=ENGLISH_STOP_WORDS)\n",
    "vectorizer_title.fit(df['title'])\n",
    "vector_title = vectorizer_title.transform(df['title'])\n",
    "# summarize encoded vector\n",
    "print(vector_title.shape)"
   ]
  },
  {
   "cell_type": "code",
   "execution_count": 202,
   "metadata": {
    "scrolled": true
   },
   "outputs": [
    {
     "data": {
      "text/html": [
       "<div>\n",
       "<style scoped>\n",
       "    .dataframe tbody tr th:only-of-type {\n",
       "        vertical-align: middle;\n",
       "    }\n",
       "\n",
       "    .dataframe tbody tr th {\n",
       "        vertical-align: top;\n",
       "    }\n",
       "\n",
       "    .dataframe thead th {\n",
       "        text-align: right;\n",
       "    }\n",
       "</style>\n",
       "<table border=\"1\" class=\"dataframe\">\n",
       "  <thead>\n",
       "    <tr style=\"text-align: right;\">\n",
       "      <th></th>\n",
       "      <th>assignees</th>\n",
       "      <th>body</th>\n",
       "      <th>closed_date</th>\n",
       "      <th>comments</th>\n",
       "      <th>completed_by</th>\n",
       "      <th>created_date</th>\n",
       "      <th>title</th>\n",
       "      <th>a: accessibility</th>\n",
       "      <th>a: animation</th>\n",
       "      <th>a: china</th>\n",
       "      <th>...</th>\n",
       "      <th>4950</th>\n",
       "      <th>4951</th>\n",
       "      <th>4952</th>\n",
       "      <th>4953</th>\n",
       "      <th>4954</th>\n",
       "      <th>4955</th>\n",
       "      <th>4956</th>\n",
       "      <th>4957</th>\n",
       "      <th>4958</th>\n",
       "      <th>4959</th>\n",
       "    </tr>\n",
       "  </thead>\n",
       "  <tbody>\n",
       "    <tr>\n",
       "      <th>0</th>\n",
       "      <td>[]</td>\n",
       "      <td>a href http github com hixi img src http avata...</td>\n",
       "      <td>2015-11-09 20:18:24</td>\n",
       "      <td>1</td>\n",
       "      <td>yjbanov</td>\n",
       "      <td>2015-11-09 20:16:52</td>\n",
       "      <td>swipe to chang between tab</td>\n",
       "      <td>0</td>\n",
       "      <td>0</td>\n",
       "      <td>0</td>\n",
       "      <td>...</td>\n",
       "      <td>0.0</td>\n",
       "      <td>0.0</td>\n",
       "      <td>0.0</td>\n",
       "      <td>0.0</td>\n",
       "      <td>0.0</td>\n",
       "      <td>0.0</td>\n",
       "      <td>0.0</td>\n",
       "      <td>0.0</td>\n",
       "      <td>0.0</td>\n",
       "      <td>0.0</td>\n",
       "    </tr>\n",
       "    <tr>\n",
       "      <th>1</th>\n",
       "      <td>[abarth]</td>\n",
       "      <td>flutter start debug sever To copi file to io d...</td>\n",
       "      <td>2015-11-09 21:43:40</td>\n",
       "      <td>1</td>\n",
       "      <td>abarth</td>\n",
       "      <td>2015-11-09 20:50:45</td>\n",
       "      <td>except run sourc build of engin on mac</td>\n",
       "      <td>0</td>\n",
       "      <td>0</td>\n",
       "      <td>0</td>\n",
       "      <td>...</td>\n",
       "      <td>0.0</td>\n",
       "      <td>0.0</td>\n",
       "      <td>0.0</td>\n",
       "      <td>0.0</td>\n",
       "      <td>0.0</td>\n",
       "      <td>0.0</td>\n",
       "      <td>0.0</td>\n",
       "      <td>0.0</td>\n",
       "      <td>0.0</td>\n",
       "      <td>0.0</td>\n",
       "    </tr>\n",
       "  </tbody>\n",
       "</table>\n",
       "<p>2 rows × 6848 columns</p>\n",
       "</div>"
      ],
      "text/plain": [
       "  assignees                                               body  \\\n",
       "0        []  a href http github com hixi img src http avata...   \n",
       "1  [abarth]  flutter start debug sever To copi file to io d...   \n",
       "\n",
       "          closed_date  comments completed_by        created_date  \\\n",
       "0 2015-11-09 20:18:24         1      yjbanov 2015-11-09 20:16:52   \n",
       "1 2015-11-09 21:43:40         1       abarth 2015-11-09 20:50:45   \n",
       "\n",
       "                                    title  a: accessibility  a: animation  \\\n",
       "0              swipe to chang between tab                 0             0   \n",
       "1  except run sourc build of engin on mac                 0             0   \n",
       "\n",
       "   a: china  ...   4950  4951  4952  4953  4954  4955  4956  4957  4958  4959  \n",
       "0         0  ...    0.0   0.0   0.0   0.0   0.0   0.0   0.0   0.0   0.0   0.0  \n",
       "1         0  ...    0.0   0.0   0.0   0.0   0.0   0.0   0.0   0.0   0.0   0.0  \n",
       "\n",
       "[2 rows x 6848 columns]"
      ]
     },
     "execution_count": 202,
     "metadata": {},
     "output_type": "execute_result"
    }
   ],
   "source": [
    "title_df = pd.DataFrame(vector_title.todense())\n",
    "body_df = pd.DataFrame(vector_body.todense())\n",
    "df = pd.concat([df, title_df, body_df], axis=1)\n",
    "df.head(2)"
   ]
  },
  {
   "cell_type": "code",
   "execution_count": 203,
   "metadata": {
    "scrolled": true
   },
   "outputs": [
    {
     "name": "stdout",
     "output_type": "stream",
     "text": [
      "{'jason-simmons': 21, 'aam': 27, 'yjbanov': 16, 'cbracken': 34, 'Hixie': 33, 'gspencergoog': 10, 'xster': 50, 'goderbauer': 41, 'a-siva': 1, 'chinmaygarde': 1, 'mravn-google': 21, 'HansMuller': 35, 'abarth': 1, 'tvolkert': 17, 'amirh': 4, 'Skylled': 1, 'leobispo': 1, 'sigurdm': 1, 'mehmetf': 1, 'fredriks': 1, 'jakobr-google': 1, 'crelier': 1, 'alibitek': 1, 'mit-mit': 3, 'jcollins-g': 11, 'dnfield': 2, 'DanTup': 5, 'mraleph': 4, 'rmacnak-google': 1, 'DaveShuckerow': 2, 'szakarias': 3, 'xqwzts': 5, 'jonahwilliams': 27, 'danrubel': 1, 'konifar': 2, 'sroddy': 1, 'matanlurey': 1, 'srawlins': 1, 'sbaranov': 1, 'OhadRau': 1, 'scheglov': 2, 'filleduchaos': 1, 'blasten': 2, 'mattsarett': 1, 'devoncarew': 6, 'liyuqian': 1, 'slightfoot': 2, 'ng1905': 1, 'fmatosqg': 2, 'paulcbetts': 1}\n",
      "{'mravn-google', 'yjbanov', 'liyuqian', 'gspencergoog', 'amirh', 'ng1905', 'HansMuller', 'paulcbetts', 'OhadRau', 'DanTup', 'sroddy', 'fmatosqg', 'blasten', 'fredriks', 'sigurdm', 'szakarias', 'jonahwilliams', 'leobispo', 'Hixie', 'a-siva', 'slightfoot', 'mit-mit', 'dnfield', 'srawlins', 'abarth', 'cbracken', 'crelier', 'rmacnak-google', 'filleduchaos', 'tvolkert', 'mehmetf', 'sbaranov', 'devoncarew', 'alibitek', 'danrubel', 'xqwzts', 'aam', 'matanlurey', 'mraleph', 'xster', 'jason-simmons', 'chinmaygarde', 'Skylled', 'mattsarett', 'DaveShuckerow', 'jakobr-google', 'goderbauer', 'jcollins-g', 'konifar', 'scheglov'}\n",
      "2037\n"
     ]
    }
   ],
   "source": [
    "# get list of devs who solve an issue in last three months (from end of train set)\n",
    "active_devs = set()\n",
    "dev_counts = {}\n",
    "filter_date = df.iloc[2000]['closed_date'] - pd.to_timedelta(90, unit='d')\n",
    "for _, row in df.iterrows():\n",
    "    if (row['closed_date'] > filter_date):\n",
    "        dev_counts[row['completed_by']] = dev_counts.get(row['completed_by'], 0) + 1\n",
    "print(dev_counts)\n",
    "for dev in dev_counts:\n",
    "    if dev_counts[dev] >= 1:\n",
    "        active_devs.add(dev)\n",
    "print(active_devs)\n",
    "# remove all issues not solved by an active dev\n",
    "df = df[df['completed_by'].isin(active_devs)].reset_index(drop=True)\n",
    "print(len(df))"
   ]
  },
  {
   "cell_type": "markdown",
   "metadata": {},
   "source": [
    "# Machine Learning"
   ]
  },
  {
   "cell_type": "code",
   "execution_count": 204,
   "metadata": {
    "scrolled": true
   },
   "outputs": [
    {
     "name": "stdout",
     "output_type": "stream",
     "text": [
      "1100\n",
      "937\n"
     ]
    }
   ],
   "source": [
    "train_df = df[:1100]\n",
    "test_df = df[1100:]\n",
    "X_train = train_df.drop(['body', 'closed_date', 'completed_by', 'created_date', 'title', 'comments', 'assignees'], axis=1)\n",
    "y_train = train_df['completed_by']\n",
    "X_test = test_df.drop(['body', 'closed_date', 'completed_by', 'created_date', 'title', 'comments', 'assignees'], axis=1)\n",
    "y_test = test_df['completed_by']\n",
    "print(len(X_train))\n",
    "print(len(X_test))"
   ]
  },
  {
   "cell_type": "code",
   "execution_count": 205,
   "metadata": {
    "scrolled": true
   },
   "outputs": [],
   "source": [
    "def is_correct_top_k(pred_prob, k, actual, labels):\n",
    "    indices = [i for i in range(len(pred_prob))]\n",
    "    top_indices = nlargest(k, indices, key=lambda i: pred_prob[i])\n",
    "    top_choices = set([labels[i] for i in top_indices])\n",
    "    return actual in top_choices"
   ]
  },
  {
   "cell_type": "code",
   "execution_count": 206,
   "metadata": {
    "scrolled": true
   },
   "outputs": [
    {
     "name": "stdout",
     "output_type": "stream",
     "text": [
      "Top 1 Accuracy: 0.22411953041622198\n",
      "Top 2 Accuracy: 0.3287086446104589\n",
      "Top 3 Accuracy: 0.3810032017075774\n",
      "Top 4 Accuracy: 0.4247598719316969\n",
      "Top 5 Accuracy: 0.4621131270010672\n"
     ]
    }
   ],
   "source": [
    "classifier = MLPClassifier(hidden_layer_sizes=(25,25))\n",
    "classifier.fit(X_train,y_train)\n",
    "classes = classifier.classes_\n",
    "print(\"Top 1 Accuracy: \" + str(classifier.score(X_test, y_test)))\n",
    "pred_probs = classifier.predict_proba(X_test)\n",
    "correct = 0\n",
    "for idx, pred in enumerate(pred_probs):\n",
    "    if is_correct_top_k(pred, 2, y_test[1100 + idx], classes):\n",
    "        correct += 1\n",
    "print (\"Top 2 Accuracy: \" + str((correct/len(y_test))))\n",
    "correct = 0\n",
    "for idx, pred in enumerate(pred_probs):\n",
    "    if is_correct_top_k(pred, 3, y_test[1100 + idx], classes):\n",
    "        correct += 1\n",
    "print (\"Top 3 Accuracy: \" + str((correct/len(y_test))))\n",
    "correct = 0\n",
    "for idx, pred in enumerate(pred_probs):\n",
    "    if is_correct_top_k(pred, 4, y_test[1100 + idx], classes):\n",
    "        correct += 1\n",
    "print (\"Top 4 Accuracy: \" + str((correct/len(y_test))))\n",
    "correct = 0\n",
    "for idx, pred in enumerate(pred_probs):\n",
    "    if is_correct_top_k(pred, 5, y_test[1100 + idx], classes):\n",
    "        correct += 1\n",
    "print (\"Top 5 Accuracy: \" + str((correct/len(y_test))))"
   ]
  },
  {
   "cell_type": "code",
   "execution_count": 207,
   "metadata": {
    "scrolled": true
   },
   "outputs": [
    {
     "name": "stdout",
     "output_type": "stream",
     "text": [
      "Top 1 Accuracy: 0.13233724653148346\n",
      "Top 2 Accuracy: 0.1376734258271078\n",
      "Top 3 Accuracy: 0.21558164354322304\n",
      "Top 4 Accuracy: 0.288153681963714\n",
      "Top 5 Accuracy: 0.29242262540021347\n"
     ]
    }
   ],
   "source": [
    "classifier = GaussianNB()\n",
    "classifier.fit(X_train,y_train)\n",
    "classes = classifier.classes_\n",
    "print(\"Top 1 Accuracy: \" + str(classifier.score(X_test, y_test)))\n",
    "pred_probs = classifier.predict_proba(X_test)\n",
    "correct = 0\n",
    "for idx, pred in enumerate(pred_probs):\n",
    "    if is_correct_top_k(pred, 2, y_test[1100 + idx], classes):\n",
    "        correct += 1\n",
    "print (\"Top 2 Accuracy: \" + str((correct/len(y_test))))\n",
    "correct = 0\n",
    "for idx, pred in enumerate(pred_probs):\n",
    "    if is_correct_top_k(pred, 3, y_test[1100 + idx], classes):\n",
    "        correct += 1\n",
    "print (\"Top 3 Accuracy: \" + str((correct/len(y_test))))\n",
    "correct = 0\n",
    "for idx, pred in enumerate(pred_probs):\n",
    "    if is_correct_top_k(pred, 4, y_test[1100 + idx], classes):\n",
    "        correct += 1\n",
    "print (\"Top 4 Accuracy: \" + str((correct/len(y_test))))\n",
    "correct = 0\n",
    "for idx, pred in enumerate(pred_probs):\n",
    "    if is_correct_top_k(pred, 5, y_test[1100 + idx], classes):\n",
    "        correct += 1\n",
    "print (\"Top 5 Accuracy: \" + str((correct/len(y_test))))"
   ]
  },
  {
   "cell_type": "code",
   "execution_count": 208,
   "metadata": {
    "scrolled": true
   },
   "outputs": [
    {
     "name": "stdout",
     "output_type": "stream",
     "text": [
      "Top 1 Accuracy: 0.1056563500533618\n",
      "Top 2 Accuracy: 0.23372465314834578\n",
      "Top 3 Accuracy: 0.30202774813233724\n",
      "Top 4 Accuracy: 0.3265741728922092\n",
      "Top 5 Accuracy: 0.3810032017075774\n"
     ]
    }
   ],
   "source": [
    "classifier = BernoulliNB()\n",
    "classifier.fit(X_train,y_train)\n",
    "classes = classifier.classes_\n",
    "print(\"Top 1 Accuracy: \" + str(classifier.score(X_test, y_test)))\n",
    "pred_probs = classifier.predict_proba(X_test)\n",
    "correct = 0\n",
    "for idx, pred in enumerate(pred_probs):\n",
    "    if is_correct_top_k(pred, 2, y_test[1100 + idx], classes):\n",
    "        correct += 1\n",
    "print (\"Top 2 Accuracy: \" + str((correct/len(y_test))))\n",
    "correct = 0\n",
    "for idx, pred in enumerate(pred_probs):\n",
    "    if is_correct_top_k(pred, 3, y_test[1100 + idx], classes):\n",
    "        correct += 1\n",
    "print (\"Top 3 Accuracy: \" + str((correct/len(y_test))))\n",
    "correct = 0\n",
    "for idx, pred in enumerate(pred_probs):\n",
    "    if is_correct_top_k(pred, 4, y_test[1100 + idx], classes):\n",
    "        correct += 1\n",
    "print (\"Top 4 Accuracy: \" + str((correct/len(y_test))))\n",
    "correct = 0\n",
    "for idx, pred in enumerate(pred_probs):\n",
    "    if is_correct_top_k(pred, 5, y_test[1100 + idx], classes):\n",
    "        correct += 1\n",
    "print (\"Top 5 Accuracy: \" + str((correct/len(y_test))))"
   ]
  },
  {
   "cell_type": "code",
   "execution_count": 209,
   "metadata": {
    "scrolled": true
   },
   "outputs": [
    {
     "name": "stdout",
     "output_type": "stream",
     "text": [
      "Top 1 Accuracy: 0.19637139807897544\n",
      "Top 2 Accuracy: 0.2529348986125934\n",
      "Top 3 Accuracy: 0.3073639274279616\n",
      "Top 4 Accuracy: 0.33938100320170755\n",
      "Top 5 Accuracy: 0.3511205976520811\n"
     ]
    }
   ],
   "source": [
    "classifier = KNeighborsClassifier(n_neighbors=3)\n",
    "classifier.fit(X_train, y_train)\n",
    "classes = classifier.classes_\n",
    "print(\"Top 1 Accuracy: \" + str(classifier.score(X_test, y_test)))\n",
    "pred_probs = classifier.predict_proba(X_test)\n",
    "correct = 0\n",
    "for idx, pred in enumerate(pred_probs):\n",
    "    if is_correct_top_k(pred, 2, y_test[1100 + idx], classes):\n",
    "        correct += 1\n",
    "print (\"Top 2 Accuracy: \" + str((correct/len(y_test))))\n",
    "correct = 0\n",
    "for idx, pred in enumerate(pred_probs):\n",
    "    if is_correct_top_k(pred, 3, y_test[1100 + idx], classes):\n",
    "        correct += 1\n",
    "print (\"Top 3 Accuracy: \" + str((correct/len(y_test))))\n",
    "correct = 0\n",
    "for idx, pred in enumerate(pred_probs):\n",
    "    if is_correct_top_k(pred, 4, y_test[1100 + idx], classes):\n",
    "        correct += 1\n",
    "print (\"Top 4 Accuracy: \" + str((correct/len(y_test))))\n",
    "correct = 0\n",
    "for idx, pred in enumerate(pred_probs):\n",
    "    if is_correct_top_k(pred, 5, y_test[1100 + idx], classes):\n",
    "        correct += 1\n",
    "print (\"Top 5 Accuracy: \" + str((correct/len(y_test))))"
   ]
  },
  {
   "cell_type": "code",
   "execution_count": 210,
   "metadata": {
    "scrolled": true
   },
   "outputs": [
    {
     "name": "stdout",
     "output_type": "stream",
     "text": [
      "Top 1 Accuracy: 0.18569903948772679\n",
      "Top 2 Accuracy: 0.29242262540021347\n",
      "Top 3 Accuracy: 0.35432230522945574\n",
      "Top 4 Accuracy: 0.39807897545357523\n",
      "Top 5 Accuracy: 0.4407684098185699\n"
     ]
    }
   ],
   "source": [
    "classifier = RandomForestClassifier(n_estimators=1000)\n",
    "classifier.fit(X_train, y_train)\n",
    "classes = classifier.classes_\n",
    "print(\"Top 1 Accuracy: \" + str(classifier.score(X_test, y_test)))\n",
    "pred_probs = classifier.predict_proba(X_test)\n",
    "correct = 0\n",
    "for idx, pred in enumerate(pred_probs):\n",
    "    if is_correct_top_k(pred, 2, y_test[1100 + idx], classes):\n",
    "        correct += 1\n",
    "print (\"Top 2 Accuracy: \" + str((correct/len(y_test))))\n",
    "correct = 0\n",
    "for idx, pred in enumerate(pred_probs):\n",
    "    if is_correct_top_k(pred, 3, y_test[1100 + idx], classes):\n",
    "        correct += 1\n",
    "print (\"Top 3 Accuracy: \" + str((correct/len(y_test))))\n",
    "correct = 0\n",
    "for idx, pred in enumerate(pred_probs):\n",
    "    if is_correct_top_k(pred, 4, y_test[1100 + idx], classes):\n",
    "        correct += 1\n",
    "print (\"Top 4 Accuracy: \" + str((correct/len(y_test))))\n",
    "correct = 0\n",
    "for idx, pred in enumerate(pred_probs):\n",
    "    if is_correct_top_k(pred, 5, y_test[1100 + idx], classes):\n",
    "        correct += 1\n",
    "print (\"Top 5 Accuracy: \" + str((correct/len(y_test))))"
   ]
  },
  {
   "cell_type": "code",
   "execution_count": 211,
   "metadata": {
    "scrolled": true
   },
   "outputs": [
    {
     "data": {
      "text/plain": [
       "'\\n#TODO: try SVC (might need to do something else)\\nclassifier = SVC(probability=True)\\nclassifier.fit(X_train, y_train)\\nclasses = classifier.classes_\\nprint(\"Top 1 Accuracy: \" + str(classifier.score(X_test, y_test)))\\npred_probs = classifier.predict_proba(X_test)\\ncorrect = 0\\nfor idx, pred in enumerate(pred_probs):\\n    if is_correct_top_k(pred, 2, y_test[1100 + idx], classes):\\n        correct += 1\\nprint (\"Top 2 Accuracy: \" + str((correct/len(y_test))))\\ncorrect = 0\\nfor idx, pred in enumerate(pred_probs):\\n    if is_correct_top_k(pred, 3, y_test[1100 + idx], classes):\\n        correct += 1\\nprint (\"Top 3 Accuracy: \" + str((correct/len(y_test))))\\ncorrect = 0\\nfor idx, pred in enumerate(pred_probs):\\n    if is_correct_top_k(pred, 4, y_test[1100 + idx], classes):\\n        correct += 1\\nprint (\"Top 4 Accuracy: \" + str((correct/len(y_test))))\\ncorrect = 0\\nfor idx, pred in enumerate(pred_probs):\\n    if is_correct_top_k(pred, 5, y_test[1100 + idx], classes):\\n        correct += 1\\nprint (\"Top 5 Accuracy: \" + str((correct/len(y_test))))\\n'"
      ]
     },
     "execution_count": 211,
     "metadata": {},
     "output_type": "execute_result"
    }
   ],
   "source": [
    "'''\n",
    "#TODO: try SVC (might need to do something else)\n",
    "classifier = SVC(probability=True)\n",
    "classifier.fit(X_train, y_train)\n",
    "classes = classifier.classes_\n",
    "print(\"Top 1 Accuracy: \" + str(classifier.score(X_test, y_test)))\n",
    "pred_probs = classifier.predict_proba(X_test)\n",
    "correct = 0\n",
    "for idx, pred in enumerate(pred_probs):\n",
    "    if is_correct_top_k(pred, 2, y_test[1100 + idx], classes):\n",
    "        correct += 1\n",
    "print (\"Top 2 Accuracy: \" + str((correct/len(y_test))))\n",
    "correct = 0\n",
    "for idx, pred in enumerate(pred_probs):\n",
    "    if is_correct_top_k(pred, 3, y_test[1100 + idx], classes):\n",
    "        correct += 1\n",
    "print (\"Top 3 Accuracy: \" + str((correct/len(y_test))))\n",
    "correct = 0\n",
    "for idx, pred in enumerate(pred_probs):\n",
    "    if is_correct_top_k(pred, 4, y_test[1100 + idx], classes):\n",
    "        correct += 1\n",
    "print (\"Top 4 Accuracy: \" + str((correct/len(y_test))))\n",
    "correct = 0\n",
    "for idx, pred in enumerate(pred_probs):\n",
    "    if is_correct_top_k(pred, 5, y_test[1100 + idx], classes):\n",
    "        correct += 1\n",
    "print (\"Top 5 Accuracy: \" + str((correct/len(y_test))))\n",
    "'''"
   ]
  },
  {
   "cell_type": "markdown",
   "metadata": {},
   "source": [
    "# Analysis"
   ]
  },
  {
   "cell_type": "code",
   "execution_count": 212,
   "metadata": {
    "scrolled": true
   },
   "outputs": [
    {
     "name": "stdout",
     "output_type": "stream",
     "text": [
      "['abarth' 'chinmaygarde' 'abarth' 'aam' 'HansMuller' 'abarth' 'abarth'\n",
      " 'jakobr-google' 'devoncarew' 'devoncarew' 'abarth' 'devoncarew' 'Hixie'\n",
      " 'goderbauer' 'abarth' 'Hixie' 'tvolkert' 'abarth' 'danrubel' 'abarth'\n",
      " 'abarth' 'devoncarew' 'jason-simmons' 'danrubel' 'devoncarew' 'cbracken'\n",
      " 'aam' 'abarth' 'yjbanov' 'aam' 'abarth' 'jakobr-google' 'abarth'\n",
      " 'HansMuller' 'jakobr-google' 'abarth' 'yjbanov' 'abarth' 'aam' 'Hixie'\n",
      " 'abarth' 'tvolkert' 'jonahwilliams' 'abarth' 'tvolkert' 'cbracken'\n",
      " 'cbracken' 'devoncarew' 'devoncarew' 'goderbauer' 'abarth' 'Hixie'\n",
      " 'abarth' 'Hixie' 'Hixie' 'goderbauer' 'cbracken' 'Hixie' 'Hixie' 'Hixie'\n",
      " 'abarth' 'chinmaygarde' 'devoncarew' 'abarth' 'cbracken' 'HansMuller'\n",
      " 'abarth' 'cbracken' 'Hixie' 'tvolkert' 'HansMuller' 'Hixie' 'tvolkert'\n",
      " 'aam' 'devoncarew' 'Hixie' 'abarth' 'abarth' 'abarth' 'abarth' 'abarth'\n",
      " 'devoncarew' 'devoncarew' 'cbracken' 'abarth' 'goderbauer'\n",
      " 'jakobr-google' 'abarth' 'yjbanov' 'Hixie' 'abarth' 'abarth' 'abarth'\n",
      " 'abarth' 'HansMuller' 'abarth' 'mit-mit' 'danrubel' 'devoncarew' 'abarth'\n",
      " 'abarth' 'abarth' 'Hixie' 'abarth' 'abarth' 'abarth' 'HansMuller'\n",
      " 'abarth' 'Hixie' 'tvolkert' 'cbracken' 'aam' 'abarth' 'cbracken'\n",
      " 'devoncarew' 'abarth' 'devoncarew' 'abarth' 'yjbanov' 'abarth' 'abarth'\n",
      " 'HansMuller' 'Hixie' 'yjbanov' 'HansMuller' 'devoncarew' 'chinmaygarde'\n",
      " 'Hixie' 'abarth' 'HansMuller' 'abarth' 'HansMuller' 'abarth' 'aam'\n",
      " 'abarth' 'cbracken' 'devoncarew' 'HansMuller' 'abarth' 'abarth' 'abarth'\n",
      " 'Hixie' 'abarth' 'goderbauer' 'abarth' 'abarth' 'abarth' 'devoncarew'\n",
      " 'HansMuller' 'abarth' 'devoncarew' 'jakobr-google' 'cbracken' 'Hixie'\n",
      " 'HansMuller' 'abarth' 'devoncarew' 'abarth' 'abarth' 'devoncarew'\n",
      " 'cbracken' 'Hixie' 'Hixie' 'abarth' 'aam' 'abarth' 'abarth' 'devoncarew'\n",
      " 'abarth' 'tvolkert' 'HansMuller' 'Hixie' 'cbracken' 'aam' 'HansMuller'\n",
      " 'jason-simmons' 'abarth' 'Hixie' 'cbracken' 'abarth' 'abarth' 'abarth'\n",
      " 'abarth' 'abarth' 'mit-mit' 'jason-simmons' 'tvolkert' 'abarth' 'Hixie'\n",
      " 'abarth' 'abarth' 'devoncarew' 'Hixie' 'abarth' 'Hixie' 'abarth'\n",
      " 'jason-simmons' 'devoncarew' 'abarth' 'abarth' 'chinmaygarde' 'abarth'\n",
      " 'abarth' 'Hixie' 'abarth' 'Hixie' 'devoncarew' 'Hixie' 'Hixie'\n",
      " 'HansMuller' 'jason-simmons' 'abarth' 'Hixie' 'devoncarew' 'HansMuller'\n",
      " 'Hixie' 'abarth' 'abarth' 'abarth' 'devoncarew' 'danrubel' 'Hixie'\n",
      " 'devoncarew' 'abarth' 'HansMuller' 'Hixie' 'Hixie' 'Hixie' 'abarth'\n",
      " 'abarth' 'HansMuller' 'devoncarew' 'devoncarew' 'aam' 'cbracken'\n",
      " 'HansMuller' 'devoncarew' 'Hixie' 'abarth' 'abarth' 'abarth' 'abarth'\n",
      " 'tvolkert' 'devoncarew' 'Hixie' 'abarth' 'abarth' 'Hixie' 'aam' 'abarth'\n",
      " 'jason-simmons' 'abarth' 'abarth' 'devoncarew' 'cbracken' 'abarth'\n",
      " 'abarth' 'abarth' 'Hixie' 'Hixie' 'Hixie' 'HansMuller' 'cbracken'\n",
      " 'devoncarew' 'yjbanov' 'abarth' 'abarth' 'Hixie' 'Hixie' 'Hixie' 'Hixie'\n",
      " 'Hixie' 'abarth' 'Hixie' 'devoncarew' 'abarth' 'cbracken' 'abarth'\n",
      " 'HansMuller' 'devoncarew' 'abarth' 'devoncarew' 'abarth' 'Hixie'\n",
      " 'danrubel' 'Hixie' 'devoncarew' 'abarth' 'danrubel' 'Hixie' 'tvolkert'\n",
      " 'devoncarew' 'devoncarew' 'HansMuller' 'HansMuller' 'Hixie' 'Hixie'\n",
      " 'Hixie' 'Hixie' 'Hixie' 'Hixie' 'Hixie' 'abarth' 'abarth' 'HansMuller'\n",
      " 'yjbanov' 'yjbanov' 'devoncarew' 'devoncarew' 'cbracken' 'cbracken'\n",
      " 'yjbanov' 'Hixie' 'Hixie' 'Hixie' 'Hixie' 'jakobr-google' 'abarth'\n",
      " 'HansMuller' 'devoncarew' 'abarth' 'srawlins' 'abarth' 'devoncarew' 'aam'\n",
      " 'abarth' 'devoncarew' 'HansMuller' 'Hixie' 'abarth' 'abarth' 'abarth'\n",
      " 'jakobr-google' 'jakobr-google' 'Hixie' 'jakobr-google' 'abarth'\n",
      " 'HansMuller' 'Hixie' 'Hixie' 'cbracken' 'abarth' 'abarth' 'abarth'\n",
      " 'jakobr-google' 'devoncarew' 'chinmaygarde' 'HansMuller' 'chinmaygarde'\n",
      " 'abarth' 'cbracken' 'abarth' 'cbracken' 'abarth' 'chinmaygarde'\n",
      " 'cbracken' 'abarth' 'HansMuller' 'devoncarew' 'aam' 'cbracken' 'tvolkert'\n",
      " 'abarth' 'abarth' 'abarth' 'Hixie' 'abarth' 'Hixie' 'aam' 'abarth'\n",
      " 'abarth' 'Hixie' 'devoncarew' 'jakobr-google' 'abarth' 'devoncarew'\n",
      " 'abarth' 'abarth' 'abarth' 'HansMuller' 'chinmaygarde' 'Hixie' 'abarth'\n",
      " 'abarth' 'aam' 'devoncarew' 'tvolkert' 'aam' 'abarth' 'devoncarew'\n",
      " 'danrubel' 'Hixie' 'devoncarew' 'tvolkert' 'jason-simmons' 'devoncarew'\n",
      " 'abarth' 'aam' 'jakobr-google' 'tvolkert' 'Hixie' 'abarth' 'abarth'\n",
      " 'Hixie' 'Hixie' 'HansMuller' 'Hixie' 'abarth' 'abarth' 'devoncarew'\n",
      " 'Hixie' 'HansMuller' 'Hixie' 'Hixie' 'Hixie' 'Hixie' 'cbracken'\n",
      " 'cbracken' 'Hixie' 'Hixie' 'Hixie' 'abarth' 'Hixie' 'Hixie' 'Hixie'\n",
      " 'Hixie' 'Hixie' 'Hixie' 'abarth' 'cbracken' 'jason-simmons' 'cbracken'\n",
      " 'devoncarew' 'devoncarew' 'abarth' 'danrubel' 'abarth' 'Hixie'\n",
      " 'HansMuller' 'Hixie' 'abarth' 'Hixie' 'Hixie' 'devoncarew' 'abarth'\n",
      " 'HansMuller' 'abarth' 'abarth' 'abarth' 'cbracken' 'HansMuller'\n",
      " 'cbracken' 'abarth' 'abarth' 'aam' 'abarth' 'abarth' 'HansMuller'\n",
      " 'tvolkert' 'HansMuller' 'abarth' 'abarth' 'Hixie' 'abarth' 'HansMuller'\n",
      " 'abarth' 'Hixie' 'Hixie' 'abarth' 'Hixie' 'abarth' 'Hixie' 'aam' 'abarth'\n",
      " 'HansMuller' 'aam' 'abarth' 'abarth' 'abarth' 'abarth' 'aam' 'abarth'\n",
      " 'abarth' 'abarth' 'devoncarew' 'abarth' 'aam' 'Hixie' 'Hixie' 'abarth'\n",
      " 'HansMuller' 'Hixie' 'abarth' 'abarth' 'HansMuller' 'abarth' 'devoncarew'\n",
      " 'chinmaygarde' 'abarth' 'abarth' 'tvolkert' 'abarth' 'abarth'\n",
      " 'devoncarew' 'abarth' 'abarth' 'tvolkert' 'HansMuller' 'Hixie' 'abarth'\n",
      " 'abarth' 'danrubel' 'abarth' 'abarth' 'abarth' 'HansMuller' 'abarth'\n",
      " 'abarth' 'Hixie' 'devoncarew' 'HansMuller' 'devoncarew' 'abarth'\n",
      " 'devoncarew' 'abarth' 'devoncarew' 'tvolkert' 'devoncarew' 'cbracken'\n",
      " 'abarth' 'devoncarew' 'cbracken' 'Hixie' 'Hixie' 'abarth' 'abarth'\n",
      " 'jason-simmons' 'Hixie' 'Hixie' 'HansMuller' 'tvolkert' 'cbracken'\n",
      " 'abarth' 'HansMuller' 'HansMuller' 'danrubel' 'HansMuller' 'cbracken'\n",
      " 'abarth' 'Hixie' 'Hixie' 'devoncarew' 'Hixie' 'HansMuller' 'cbracken'\n",
      " 'chinmaygarde' 'jason-simmons' 'abarth' 'abarth' 'Hixie' 'abarth'\n",
      " 'goderbauer' 'chinmaygarde' 'yjbanov' 'devoncarew' 'HansMuller'\n",
      " 'HansMuller' 'devoncarew' 'abarth' 'Hixie' 'Hixie' 'abarth' 'abarth'\n",
      " 'abarth' 'HansMuller' 'tvolkert' 'tvolkert' 'abarth' 'abarth' 'abarth'\n",
      " 'Hixie' 'cbracken' 'abarth' 'abarth' 'abarth' 'Hixie' 'abarth' 'abarth'\n",
      " 'tvolkert' 'Hixie' 'devoncarew' 'devoncarew' 'abarth' 'HansMuller'\n",
      " 'devoncarew' 'abarth' 'abarth' 'abarth' 'abarth' 'HansMuller' 'tvolkert'\n",
      " 'abarth' 'Hixie' 'yjbanov' 'abarth' 'tvolkert' 'abarth' 'abarth' 'Hixie'\n",
      " 'Hixie' 'abarth' 'HansMuller' 'Hixie' 'Hixie' 'Hixie' 'abarth' 'Hixie'\n",
      " 'Hixie' 'Hixie' 'Hixie' 'Hixie' 'abarth' 'HansMuller' 'abarth' 'aam'\n",
      " 'HansMuller' 'devoncarew' 'Hixie' 'tvolkert' 'abarth' 'Hixie'\n",
      " 'jason-simmons' 'abarth' 'abarth' 'Hixie' 'Hixie' 'HansMuller' 'cbracken'\n",
      " 'Hixie' 'Hixie' 'abarth' 'Hixie' 'Hixie' 'abarth' 'chinmaygarde'\n",
      " 'cbracken' 'abarth' 'Hixie' 'Hixie' 'HansMuller' 'Hixie' 'yjbanov'\n",
      " 'Hixie' 'abarth' 'amirh' 'HansMuller' 'abarth' 'devoncarew' 'HansMuller'\n",
      " 'devoncarew' 'devoncarew' 'HansMuller' 'HansMuller' 'tvolkert' 'abarth'\n",
      " 'devoncarew' 'devoncarew' 'tvolkert' 'Hixie' 'abarth' 'aam' 'devoncarew'\n",
      " 'HansMuller' 'danrubel' 'abarth' 'abarth' 'HansMuller' 'Hixie'\n",
      " 'devoncarew' 'jason-simmons' 'devoncarew' 'cbracken' 'HansMuller'\n",
      " 'abarth' 'HansMuller' 'abarth' 'HansMuller' 'abarth' 'jakobr-google'\n",
      " 'abarth' 'abarth' 'abarth' 'danrubel' 'abarth' 'devoncarew' 'abarth'\n",
      " 'cbracken' 'devoncarew' 'aam' 'Hixie' 'Hixie' 'devoncarew' 'cbracken'\n",
      " 'cbracken' 'jakobr-google' 'abarth' 'tvolkert' 'Hixie' 'cbracken'\n",
      " 'abarth' 'aam' 'devoncarew' 'aam' 'devoncarew' 'cbracken' 'devoncarew'\n",
      " 'abarth' 'cbracken' 'devoncarew' 'abarth' 'abarth' 'abarth' 'aam' 'Hixie'\n",
      " 'cbracken' 'cbracken' 'cbracken' 'Hixie' 'cbracken' 'cbracken' 'aam'\n",
      " 'danrubel' 'danrubel' 'devoncarew' 'Hixie' 'HansMuller' 'abarth'\n",
      " 'devoncarew' 'abarth' 'danrubel' 'mit-mit' 'jason-simmons' 'devoncarew'\n",
      " 'Hixie' 'devoncarew' 'abarth' 'abarth' 'abarth' 'Hixie' 'devoncarew'\n",
      " 'devoncarew' 'chinmaygarde' 'devoncarew' 'danrubel' 'danrubel'\n",
      " 'goderbauer' 'abarth' 'devoncarew' 'Hixie' 'abarth' 'abarth' 'abarth'\n",
      " 'devoncarew' 'devoncarew' 'HansMuller' 'devoncarew' 'devoncarew'\n",
      " 'HansMuller' 'abarth' 'Hixie' 'aam' 'abarth' 'abarth' 'devoncarew'\n",
      " 'abarth' 'abarth' 'cbracken' 'tvolkert' 'HansMuller' 'danrubel'\n",
      " 'HansMuller' 'HansMuller' 'Hixie' 'HansMuller' 'HansMuller' 'Hixie'\n",
      " 'abarth' 'cbracken' 'abarth' 'Hixie' 'cbracken' 'devoncarew' 'Hixie'\n",
      " 'aam' 'Hixie' 'devoncarew' 'HansMuller' 'HansMuller' 'Hixie' 'abarth'\n",
      " 'Hixie' 'abarth' 'HansMuller' 'Hixie' 'devoncarew' 'abarth' 'abarth'\n",
      " 'HansMuller' 'yjbanov' 'Hixie' 'Hixie' 'abarth' 'Hixie' 'abarth' 'abarth'\n",
      " 'danrubel' 'abarth' 'abarth' 'abarth' 'devoncarew' 'abarth' 'abarth'\n",
      " 'devoncarew' 'HansMuller' 'abarth' 'tvolkert' 'Hixie' 'cbracken'\n",
      " 'HansMuller' 'cbracken' 'HansMuller' 'abarth' 'abarth' 'abarth'\n",
      " 'devoncarew' 'danrubel' 'Hixie' 'devoncarew' 'Hixie' 'danrubel'\n",
      " 'HansMuller' 'abarth' 'Hixie' 'cbracken' 'devoncarew' 'abarth' 'aam'\n",
      " 'danrubel' 'abarth' 'tvolkert' 'danrubel' 'Hixie' 'HansMuller' 'abarth'\n",
      " 'cbracken' 'abarth' 'devoncarew' 'abarth' 'abarth' 'abarth' 'abarth'\n",
      " 'abarth' 'abarth' 'abarth' 'HansMuller' 'abarth' 'Hixie' 'jason-simmons'\n",
      " 'cbracken' 'abarth' 'Hixie' 'danrubel' 'devoncarew' 'abarth' 'abarth'\n",
      " 'abarth' 'abarth' 'abarth' 'cbracken' 'devoncarew' 'jason-simmons'\n",
      " 'HansMuller' 'abarth' 'abarth' 'abarth' 'yjbanov' 'abarth' 'abarth'\n",
      " 'Hixie' 'HansMuller' 'cbracken' 'tvolkert' 'HansMuller' 'HansMuller'\n",
      " 'HansMuller' 'abarth' 'Hixie' 'abarth' 'cbracken' 'devoncarew' 'abarth'\n",
      " 'devoncarew' 'HansMuller' 'HansMuller' 'HansMuller' 'abarth' 'abarth'\n",
      " 'danrubel' 'abarth' 'tvolkert' 'aam' 'danrubel' 'devoncarew' 'abarth'\n",
      " 'cbracken' 'aam' 'Hixie' 'abarth' 'abarth' 'jason-simmons' 'abarth'\n",
      " 'HansMuller' 'abarth' 'HansMuller' 'abarth' 'HansMuller' 'devoncarew'\n",
      " 'abarth' 'HansMuller' 'devoncarew' 'devoncarew' 'abarth' 'abarth'\n",
      " 'tvolkert' 'tvolkert' 'yjbanov' 'abarth']\n"
     ]
    }
   ],
   "source": [
    "classifier = MLPClassifier(hidden_layer_sizes=(25,25))\n",
    "classifier.fit(X_train,y_train)\n",
    "preds = classifier.predict(X_test)\n",
    "print(preds)"
   ]
  },
  {
   "cell_type": "code",
   "execution_count": 213,
   "metadata": {
    "scrolled": true
   },
   "outputs": [
    {
     "data": {
      "text/plain": [
       "<matplotlib.axes._subplots.AxesSubplot at 0x17810f860>"
      ]
     },
     "execution_count": 213,
     "metadata": {},
     "output_type": "execute_result"
    },
    {
     "data": {
      "image/png": "[encoded data removed]",
      "text/plain": [
       "<Figure size 432x288 with 1 Axes>"
      ]
     },
     "metadata": {},
     "output_type": "display_data"
    }
   ],
   "source": [
    "actual = test_df['completed_by']\n",
    "pd.value_counts(actual).plot.bar()"
   ]
  },
  {
   "cell_type": "code",
   "execution_count": 214,
   "metadata": {
    "scrolled": true
   },
   "outputs": [
    {
     "data": {
      "text/plain": [
       "<matplotlib.axes._subplots.AxesSubplot at 0x113e57c88>"
      ]
     },
     "execution_count": 214,
     "metadata": {},
     "output_type": "execute_result"
    },
    {
     "data": {
      "image/png": "[encoded data removed]",
      "text/plain": [
       "<Figure size 432x288 with 1 Axes>"
      ]
     },
     "metadata": {},
     "output_type": "display_data"
    }
   ],
   "source": [
    "pd.value_counts(df['completed_by']).plot.bar()"
   ]
  },
  {
   "cell_type": "code",
   "execution_count": 215,
   "metadata": {
    "scrolled": true
   },
   "outputs": [
    {
     "data": {
      "text/plain": [
       "<matplotlib.axes._subplots.AxesSubplot at 0x11beff400>"
      ]
     },
     "execution_count": 215,
     "metadata": {},
     "output_type": "execute_result"
    },
    {
     "data": {
      "image/png": "[encoded data removed]",
      "text/plain": [
       "<Figure size 432x288 with 1 Axes>"
      ]
     },
     "metadata": {},
     "output_type": "display_data"
    }
   ],
   "source": [
    "pd.value_counts(preds).plot.bar()"
   ]
  },
  {
   "cell_type": "code",
   "execution_count": 216,
   "metadata": {
    "scrolled": true
   },
   "outputs": [
    {
     "name": "stdout",
     "output_type": "stream",
     "text": [
      "devs not included in predictions: \n",
      "['mravn-google', 'liyuqian', 'gspencergoog', 'ng1905', 'paulcbetts', 'OhadRau', 'DanTup', 'sroddy', 'fmatosqg', 'blasten', 'fredriks', 'sigurdm', 'szakarias', 'leobispo', 'a-siva', 'slightfoot', 'dnfield', 'crelier', 'rmacnak-google', 'filleduchaos', 'mehmetf', 'sbaranov', 'alibitek', 'xqwzts', 'matanlurey', 'mraleph', 'xster', 'Skylled', 'mattsarett', 'DaveShuckerow', 'jcollins-g', 'konifar', 'scheglov']\n"
     ]
    }
   ],
   "source": [
    "overall_counts = pd.value_counts(df['completed_by'])\n",
    "# list of devs sorted in order of highest contribution\n",
    "sorted_dev_list = overall_counts.index.values\n",
    "pred_counts = pd.value_counts(preds)\n",
    "actual_counts = pd.value_counts(actual)\n",
    "\n",
    "percent_diff = {}\n",
    "vals = []\n",
    "counts = []\n",
    "missing = set()\n",
    "for dev in sorted_dev_list:\n",
    "    if dev in pred_counts:\n",
    "        val = 100 * (pred_counts[dev] - actual_counts[dev]) / (actual_counts[dev])\n",
    "        percent_diff[dev] = val\n",
    "        counts.append(overall_counts[dev])\n",
    "        vals.append(val)\n",
    "    else:\n",
    "        missing.add(dev)\n",
    "print(\"devs not included in predictions: \")\n",
    "print(list(missing))"
   ]
  },
  {
   "cell_type": "code",
   "execution_count": 217,
   "metadata": {
    "scrolled": true
   },
   "outputs": [
    {
     "data": {
      "image/png": "[encoded data removed]",
      "text/plain": [
       "<Figure size 432x288 with 1 Axes>"
      ]
     },
     "metadata": {},
     "output_type": "display_data"
    }
   ],
   "source": [
    "plt.bar(percent_diff.keys(), percent_diff.values())\n",
    "plt.title(\"Percent Difference Prediction Rate vs. Actual Rate\")\n",
    "plt.xticks(rotation=90)\n",
    "plt.show()"
   ]
  },
  {
   "cell_type": "code",
   "execution_count": 218,
   "metadata": {
    "scrolled": true
   },
   "outputs": [
    {
     "name": "stdout",
     "output_type": "stream",
     "text": [
      "R^2: 1.7007984266280246e-06\n"
     ]
    },
    {
     "data": {
      "image/png": "[encoded data removed]",
      "text/plain": [
       "<Figure size 432x288 with 1 Axes>"
      ]
     },
     "metadata": {},
     "output_type": "display_data"
    }
   ],
   "source": [
    "# remove the outlier\n",
    "del vals[2]\n",
    "del counts[2]\n",
    "# create best fit line\n",
    "z = np.polyfit(x=counts, y=vals, deg=1)\n",
    "p = np.poly1d(z)\n",
    "trend_line = p(counts)\n",
    "# test best fit\n",
    "yhat = trend_line    \n",
    "ybar = np.sum(vals)/len(vals)\n",
    "ssreg = np.sum((yhat-ybar)**2) \n",
    "sstot = np.sum((vals - ybar)**2)\n",
    "print(\"R^2: \" + str(ssreg / sstot))\n",
    "# create plots\n",
    "plt.scatter(counts, vals)\n",
    "plt.title(\"Percent Difference Between Prediction Rate and Actual Rate vs. Issue Count\")\n",
    "plt.xticks(rotation=90)\n",
    "plt.xlabel(\"Number of Issues Solved\")\n",
    "plt.ylabel(\"% diff. pred rate and actual rate\")\n",
    "plt.plot(counts, trend_line)\n",
    "plt.show()"
   ]
  },
  {
   "cell_type": "code",
   "execution_count": 219,
   "metadata": {
    "scrolled": true
   },
   "outputs": [],
   "source": [
    "#TODO: look at assigning open issues and seeing what overspecialization problem would look like."
   ]
  },
  {
   "cell_type": "code",
   "execution_count": 220,
   "metadata": {
    "scrolled": true
   },
   "outputs": [
    {
     "data": {
      "text/html": [
       "<div>\n",
       "<style scoped>\n",
       "    .dataframe tbody tr th:only-of-type {\n",
       "        vertical-align: middle;\n",
       "    }\n",
       "\n",
       "    .dataframe tbody tr th {\n",
       "        vertical-align: top;\n",
       "    }\n",
       "\n",
       "    .dataframe thead th {\n",
       "        text-align: right;\n",
       "    }\n",
       "</style>\n",
       "<table border=\"1\" class=\"dataframe\">\n",
       "  <thead>\n",
       "    <tr style=\"text-align: right;\">\n",
       "      <th></th>\n",
       "      <th>assignees</th>\n",
       "      <th>body</th>\n",
       "      <th>closed_date</th>\n",
       "      <th>comments</th>\n",
       "      <th>completed_by</th>\n",
       "      <th>created_date</th>\n",
       "      <th>title</th>\n",
       "      <th>a: accessibility</th>\n",
       "      <th>a: animation</th>\n",
       "      <th>a: china</th>\n",
       "      <th>...</th>\n",
       "      <th>4950</th>\n",
       "      <th>4951</th>\n",
       "      <th>4952</th>\n",
       "      <th>4953</th>\n",
       "      <th>4954</th>\n",
       "      <th>4955</th>\n",
       "      <th>4956</th>\n",
       "      <th>4957</th>\n",
       "      <th>4958</th>\n",
       "      <th>4959</th>\n",
       "    </tr>\n",
       "  </thead>\n",
       "  <tbody>\n",
       "    <tr>\n",
       "      <th>1100</th>\n",
       "      <td>[]</td>\n",
       "      <td></td>\n",
       "      <td>2017-02-22 19:33:03</td>\n",
       "      <td>0</td>\n",
       "      <td>xster</td>\n",
       "      <td>2017-02-18 04:56:19</td>\n",
       "      <td>icon button s minimum default size should be</td>\n",
       "      <td>0</td>\n",
       "      <td>0</td>\n",
       "      <td>0</td>\n",
       "      <td>...</td>\n",
       "      <td>0.0</td>\n",
       "      <td>0.0</td>\n",
       "      <td>0.0</td>\n",
       "      <td>0.0</td>\n",
       "      <td>0.0</td>\n",
       "      <td>0.0</td>\n",
       "      <td>0.0</td>\n",
       "      <td>0.0</td>\n",
       "      <td>0.0</td>\n",
       "      <td>0.0</td>\n",
       "    </tr>\n",
       "    <tr>\n",
       "      <th>1101</th>\n",
       "      <td>[cbracken]</td>\n",
       "      <td>date picker on io buzz I don t think it s supp...</td>\n",
       "      <td>2017-02-22 20:41:37</td>\n",
       "      <td>1</td>\n",
       "      <td>cbracken</td>\n",
       "      <td>2017-02-18 05:16:17</td>\n",
       "      <td>date picker buzz a lot</td>\n",
       "      <td>0</td>\n",
       "      <td>0</td>\n",
       "      <td>0</td>\n",
       "      <td>...</td>\n",
       "      <td>0.0</td>\n",
       "      <td>0.0</td>\n",
       "      <td>0.0</td>\n",
       "      <td>0.0</td>\n",
       "      <td>0.0</td>\n",
       "      <td>0.0</td>\n",
       "      <td>0.0</td>\n",
       "      <td>0.0</td>\n",
       "      <td>0.0</td>\n",
       "      <td>0.0</td>\n",
       "    </tr>\n",
       "    <tr>\n",
       "      <th>1102</th>\n",
       "      <td>[abarth]</td>\n",
       "      <td>while develop http fuchsia review googlesourc ...</td>\n",
       "      <td>2017-02-22 21:29:13</td>\n",
       "      <td>4</td>\n",
       "      <td>abarth</td>\n",
       "      <td>2017-02-21 11:03:31</td>\n",
       "      <td>packag flutter src render sliver dart fail ass...</td>\n",
       "      <td>0</td>\n",
       "      <td>0</td>\n",
       "      <td>0</td>\n",
       "      <td>...</td>\n",
       "      <td>0.0</td>\n",
       "      <td>0.0</td>\n",
       "      <td>0.0</td>\n",
       "      <td>0.0</td>\n",
       "      <td>0.0</td>\n",
       "      <td>0.0</td>\n",
       "      <td>0.0</td>\n",
       "      <td>0.0</td>\n",
       "      <td>0.0</td>\n",
       "      <td>0.0</td>\n",
       "    </tr>\n",
       "    <tr>\n",
       "      <th>1103</th>\n",
       "      <td>[xster]</td>\n",
       "      <td>step to reproduc flutter creat myapp cd myapp ...</td>\n",
       "      <td>2017-02-22 22:54:02</td>\n",
       "      <td>5</td>\n",
       "      <td>xster</td>\n",
       "      <td>2017-02-22 21:44:38</td>\n",
       "      <td>app bar with no drawer ha too much left pad on...</td>\n",
       "      <td>0</td>\n",
       "      <td>0</td>\n",
       "      <td>0</td>\n",
       "      <td>...</td>\n",
       "      <td>0.0</td>\n",
       "      <td>0.0</td>\n",
       "      <td>0.0</td>\n",
       "      <td>0.0</td>\n",
       "      <td>0.0</td>\n",
       "      <td>0.0</td>\n",
       "      <td>0.0</td>\n",
       "      <td>0.0</td>\n",
       "      <td>0.0</td>\n",
       "      <td>0.0</td>\n",
       "    </tr>\n",
       "    <tr>\n",
       "      <th>1104</th>\n",
       "      <td>[HansMuller]</td>\n",
       "      <td>hixi when use a sliver app bar in custom scrol...</td>\n",
       "      <td>2017-02-23 00:19:37</td>\n",
       "      <td>7</td>\n",
       "      <td>HansMuller</td>\n",
       "      <td>2017-02-14 22:16:53</td>\n",
       "      <td>sliver app bar doe not support titl bar and bo...</td>\n",
       "      <td>0</td>\n",
       "      <td>0</td>\n",
       "      <td>0</td>\n",
       "      <td>...</td>\n",
       "      <td>0.0</td>\n",
       "      <td>0.0</td>\n",
       "      <td>0.0</td>\n",
       "      <td>0.0</td>\n",
       "      <td>0.0</td>\n",
       "      <td>0.0</td>\n",
       "      <td>0.0</td>\n",
       "      <td>0.0</td>\n",
       "      <td>0.0</td>\n",
       "      <td>0.0</td>\n",
       "    </tr>\n",
       "  </tbody>\n",
       "</table>\n",
       "<p>5 rows × 6848 columns</p>\n",
       "</div>"
      ],
      "text/plain": [
       "         assignees                                               body  \\\n",
       "1100            []                                                      \n",
       "1101    [cbracken]  date picker on io buzz I don t think it s supp...   \n",
       "1102      [abarth]  while develop http fuchsia review googlesourc ...   \n",
       "1103       [xster]  step to reproduc flutter creat myapp cd myapp ...   \n",
       "1104  [HansMuller]  hixi when use a sliver app bar in custom scrol...   \n",
       "\n",
       "             closed_date  comments completed_by        created_date  \\\n",
       "1100 2017-02-22 19:33:03         0        xster 2017-02-18 04:56:19   \n",
       "1101 2017-02-22 20:41:37         1     cbracken 2017-02-18 05:16:17   \n",
       "1102 2017-02-22 21:29:13         4       abarth 2017-02-21 11:03:31   \n",
       "1103 2017-02-22 22:54:02         5        xster 2017-02-22 21:44:38   \n",
       "1104 2017-02-23 00:19:37         7   HansMuller 2017-02-14 22:16:53   \n",
       "\n",
       "                                                  title  a: accessibility  \\\n",
       "1100       icon button s minimum default size should be                 0   \n",
       "1101                             date picker buzz a lot                 0   \n",
       "1102  packag flutter src render sliver dart fail ass...                 0   \n",
       "1103  app bar with no drawer ha too much left pad on...                 0   \n",
       "1104  sliver app bar doe not support titl bar and bo...                 0   \n",
       "\n",
       "      a: animation  a: china  ...   4950  4951  4952  4953  4954  4955  4956  \\\n",
       "1100             0         0  ...    0.0   0.0   0.0   0.0   0.0   0.0   0.0   \n",
       "1101             0         0  ...    0.0   0.0   0.0   0.0   0.0   0.0   0.0   \n",
       "1102             0         0  ...    0.0   0.0   0.0   0.0   0.0   0.0   0.0   \n",
       "1103             0         0  ...    0.0   0.0   0.0   0.0   0.0   0.0   0.0   \n",
       "1104             0         0  ...    0.0   0.0   0.0   0.0   0.0   0.0   0.0   \n",
       "\n",
       "      4957  4958  4959  \n",
       "1100   0.0   0.0   0.0  \n",
       "1101   0.0   0.0   0.0  \n",
       "1102   0.0   0.0   0.0  \n",
       "1103   0.0   0.0   0.0  \n",
       "1104   0.0   0.0   0.0  \n",
       "\n",
       "[5 rows x 6848 columns]"
      ]
     },
     "execution_count": 220,
     "metadata": {},
     "output_type": "execute_result"
    }
   ],
   "source": [
    "test_df.head(5)"
   ]
  },
  {
   "cell_type": "code",
   "execution_count": 221,
   "metadata": {
    "scrolled": true
   },
   "outputs": [
    {
     "data": {
      "text/html": [
       "<div>\n",
       "<style scoped>\n",
       "    .dataframe tbody tr th:only-of-type {\n",
       "        vertical-align: middle;\n",
       "    }\n",
       "\n",
       "    .dataframe tbody tr th {\n",
       "        vertical-align: top;\n",
       "    }\n",
       "\n",
       "    .dataframe thead th {\n",
       "        text-align: right;\n",
       "    }\n",
       "</style>\n",
       "<table border=\"1\" class=\"dataframe\">\n",
       "  <thead>\n",
       "    <tr style=\"text-align: right;\">\n",
       "      <th></th>\n",
       "      <th>assignees</th>\n",
       "      <th>body</th>\n",
       "      <th>closed_date</th>\n",
       "      <th>comments</th>\n",
       "      <th>completed_by</th>\n",
       "      <th>created_date</th>\n",
       "      <th>title</th>\n",
       "      <th>a: accessibility</th>\n",
       "      <th>a: animation</th>\n",
       "      <th>a: china</th>\n",
       "      <th>...</th>\n",
       "      <th>4950</th>\n",
       "      <th>4951</th>\n",
       "      <th>4952</th>\n",
       "      <th>4953</th>\n",
       "      <th>4954</th>\n",
       "      <th>4955</th>\n",
       "      <th>4956</th>\n",
       "      <th>4957</th>\n",
       "      <th>4958</th>\n",
       "      <th>4959</th>\n",
       "    </tr>\n",
       "  </thead>\n",
       "  <tbody>\n",
       "    <tr>\n",
       "      <th>2032</th>\n",
       "      <td>[]</td>\n",
       "      <td>I m pop up a simpl dialog with prompt text and...</td>\n",
       "      <td>2018-05-25 16:56:25</td>\n",
       "      <td>2</td>\n",
       "      <td>goderbauer</td>\n",
       "      <td>2018-05-22 12:10:45</td>\n",
       "      <td>android text entri field under talk back doe n...</td>\n",
       "      <td>0</td>\n",
       "      <td>0</td>\n",
       "      <td>0</td>\n",
       "      <td>...</td>\n",
       "      <td>0.0</td>\n",
       "      <td>0.0</td>\n",
       "      <td>0.0</td>\n",
       "      <td>0.0</td>\n",
       "      <td>0.0</td>\n",
       "      <td>0.0</td>\n",
       "      <td>0.0</td>\n",
       "      <td>0.0</td>\n",
       "      <td>0.0</td>\n",
       "      <td>0.0</td>\n",
       "    </tr>\n",
       "    <tr>\n",
       "      <th>2033</th>\n",
       "      <td>[cbracken]</td>\n",
       "      <td></td>\n",
       "      <td>2018-05-25 23:20:08</td>\n",
       "      <td>2</td>\n",
       "      <td>cbracken</td>\n",
       "      <td>2018-05-10 02:14:44</td>\n",
       "      <td>local engin build on io are broken becaus of f...</td>\n",
       "      <td>0</td>\n",
       "      <td>0</td>\n",
       "      <td>0</td>\n",
       "      <td>...</td>\n",
       "      <td>0.0</td>\n",
       "      <td>0.0</td>\n",
       "      <td>0.0</td>\n",
       "      <td>0.0</td>\n",
       "      <td>0.0</td>\n",
       "      <td>0.0</td>\n",
       "      <td>0.0</td>\n",
       "      <td>0.0</td>\n",
       "      <td>0.0</td>\n",
       "      <td>0.0</td>\n",
       "    </tr>\n",
       "    <tr>\n",
       "      <th>2034</th>\n",
       "      <td>[cbracken]</td>\n",
       "      <td>step to reproduc navig to the galleri folder c...</td>\n",
       "      <td>2018-05-25 23:30:08</td>\n",
       "      <td>1</td>\n",
       "      <td>slightfoot</td>\n",
       "      <td>2018-04-30 17:15:57</td>\n",
       "      <td>build order problem for io build</td>\n",
       "      <td>0</td>\n",
       "      <td>0</td>\n",
       "      <td>0</td>\n",
       "      <td>...</td>\n",
       "      <td>0.0</td>\n",
       "      <td>0.0</td>\n",
       "      <td>0.0</td>\n",
       "      <td>0.0</td>\n",
       "      <td>0.0</td>\n",
       "      <td>0.0</td>\n",
       "      <td>0.0</td>\n",
       "      <td>0.0</td>\n",
       "      <td>0.0</td>\n",
       "      <td>0.0</td>\n",
       "    </tr>\n",
       "    <tr>\n",
       "      <th>2035</th>\n",
       "      <td>[yjbanov]</td>\n",
       "      <td>In flutter exampl stock with an i pod touch co...</td>\n",
       "      <td>2018-05-25 23:42:39</td>\n",
       "      <td>6</td>\n",
       "      <td>aam</td>\n",
       "      <td>2016-08-08 22:13:50</td>\n",
       "      <td>flutter drive fail to detect io hardwar</td>\n",
       "      <td>0</td>\n",
       "      <td>0</td>\n",
       "      <td>0</td>\n",
       "      <td>...</td>\n",
       "      <td>0.0</td>\n",
       "      <td>0.0</td>\n",
       "      <td>0.0</td>\n",
       "      <td>0.0</td>\n",
       "      <td>0.0</td>\n",
       "      <td>0.0</td>\n",
       "      <td>0.0</td>\n",
       "      <td>0.0</td>\n",
       "      <td>0.0</td>\n",
       "      <td>0.0</td>\n",
       "    </tr>\n",
       "    <tr>\n",
       "      <th>2036</th>\n",
       "      <td>[jonahwilliams]</td>\n",
       "      <td>turn talk back on and doubl tap on a checkbox ...</td>\n",
       "      <td>2018-05-26 01:42:03</td>\n",
       "      <td>10</td>\n",
       "      <td>jonahwilliams</td>\n",
       "      <td>2018-05-21 17:36:14</td>\n",
       "      <td>activ a switch or checkbox with talk back no l...</td>\n",
       "      <td>1</td>\n",
       "      <td>0</td>\n",
       "      <td>0</td>\n",
       "      <td>...</td>\n",
       "      <td>0.0</td>\n",
       "      <td>0.0</td>\n",
       "      <td>0.0</td>\n",
       "      <td>0.0</td>\n",
       "      <td>0.0</td>\n",
       "      <td>0.0</td>\n",
       "      <td>0.0</td>\n",
       "      <td>0.0</td>\n",
       "      <td>0.0</td>\n",
       "      <td>0.0</td>\n",
       "    </tr>\n",
       "  </tbody>\n",
       "</table>\n",
       "<p>5 rows × 6848 columns</p>\n",
       "</div>"
      ],
      "text/plain": [
       "            assignees                                               body  \\\n",
       "2032               []  I m pop up a simpl dialog with prompt text and...   \n",
       "2033       [cbracken]                                                      \n",
       "2034       [cbracken]  step to reproduc navig to the galleri folder c...   \n",
       "2035        [yjbanov]  In flutter exampl stock with an i pod touch co...   \n",
       "2036  [jonahwilliams]  turn talk back on and doubl tap on a checkbox ...   \n",
       "\n",
       "             closed_date  comments   completed_by        created_date  \\\n",
       "2032 2018-05-25 16:56:25         2     goderbauer 2018-05-22 12:10:45   \n",
       "2033 2018-05-25 23:20:08         2       cbracken 2018-05-10 02:14:44   \n",
       "2034 2018-05-25 23:30:08         1     slightfoot 2018-04-30 17:15:57   \n",
       "2035 2018-05-25 23:42:39         6            aam 2016-08-08 22:13:50   \n",
       "2036 2018-05-26 01:42:03        10  jonahwilliams 2018-05-21 17:36:14   \n",
       "\n",
       "                                                  title  a: accessibility  \\\n",
       "2032  android text entri field under talk back doe n...                 0   \n",
       "2033  local engin build on io are broken becaus of f...                 0   \n",
       "2034                   build order problem for io build                 0   \n",
       "2035            flutter drive fail to detect io hardwar                 0   \n",
       "2036  activ a switch or checkbox with talk back no l...                 1   \n",
       "\n",
       "      a: animation  a: china  ...   4950  4951  4952  4953  4954  4955  4956  \\\n",
       "2032             0         0  ...    0.0   0.0   0.0   0.0   0.0   0.0   0.0   \n",
       "2033             0         0  ...    0.0   0.0   0.0   0.0   0.0   0.0   0.0   \n",
       "2034             0         0  ...    0.0   0.0   0.0   0.0   0.0   0.0   0.0   \n",
       "2035             0         0  ...    0.0   0.0   0.0   0.0   0.0   0.0   0.0   \n",
       "2036             0         0  ...    0.0   0.0   0.0   0.0   0.0   0.0   0.0   \n",
       "\n",
       "      4957  4958  4959  \n",
       "2032   0.0   0.0   0.0  \n",
       "2033   0.0   0.0   0.0  \n",
       "2034   0.0   0.0   0.0  \n",
       "2035   0.0   0.0   0.0  \n",
       "2036   0.0   0.0   0.0  \n",
       "\n",
       "[5 rows x 6848 columns]"
      ]
     },
     "execution_count": 221,
     "metadata": {},
     "output_type": "execute_result"
    }
   ],
   "source": [
    "test_df.tail(5)"
   ]
  },
  {
   "cell_type": "markdown",
   "metadata": {},
   "source": [
    "## Open Issues"
   ]
  },
  {
   "cell_type": "code",
   "execution_count": 222,
   "metadata": {
    "scrolled": true
   },
   "outputs": [
    {
     "name": "stdout",
     "output_type": "stream",
     "text": [
      "Number of open issues: 3479\n"
     ]
    }
   ],
   "source": [
    "with open('../data/flutter/flutter_issues_open.json') as json_data:\n",
    "    issues = json.load(json_data)\n",
    "print(\"Number of open issues: \" + str(len(issues)))"
   ]
  },
  {
   "cell_type": "code",
   "execution_count": 223,
   "metadata": {
    "scrolled": true
   },
   "outputs": [
    {
     "data": {
      "text/html": [
       "<div>\n",
       "<style scoped>\n",
       "    .dataframe tbody tr th:only-of-type {\n",
       "        vertical-align: middle;\n",
       "    }\n",
       "\n",
       "    .dataframe tbody tr th {\n",
       "        vertical-align: top;\n",
       "    }\n",
       "\n",
       "    .dataframe thead th {\n",
       "        text-align: right;\n",
       "    }\n",
       "</style>\n",
       "<table border=\"1\" class=\"dataframe\">\n",
       "  <thead>\n",
       "    <tr style=\"text-align: right;\">\n",
       "      <th></th>\n",
       "      <th>body</th>\n",
       "      <th>comments</th>\n",
       "      <th>created_date</th>\n",
       "      <th>labels</th>\n",
       "      <th>title</th>\n",
       "    </tr>\n",
       "  </thead>\n",
       "  <tbody>\n",
       "    <tr>\n",
       "      <th>0</th>\n",
       "      <td>&lt;a href=\"https://github.com/Hixie\"&gt;&lt;img src=\"h...</td>\n",
       "      <td>148</td>\n",
       "      <td>2015-11-09 20:30:33</td>\n",
       "      <td>[]</td>\n",
       "      <td>Inline Google Maps support</td>\n",
       "    </tr>\n",
       "    <tr>\n",
       "      <th>1</th>\n",
       "      <td>&lt;a href=\"https://github.com/Hixie\"&gt;&lt;img src=\"h...</td>\n",
       "      <td>2</td>\n",
       "      <td>2015-11-09 20:30:43</td>\n",
       "      <td>[]</td>\n",
       "      <td>We should support ideographic, hanging, and ma...</td>\n",
       "    </tr>\n",
       "  </tbody>\n",
       "</table>\n",
       "</div>"
      ],
      "text/plain": [
       "                                                body  comments  \\\n",
       "0  <a href=\"https://github.com/Hixie\"><img src=\"h...       148   \n",
       "1  <a href=\"https://github.com/Hixie\"><img src=\"h...         2   \n",
       "\n",
       "         created_date labels  \\\n",
       "0 2015-11-09 20:30:33     []   \n",
       "1 2015-11-09 20:30:43     []   \n",
       "\n",
       "                                               title  \n",
       "0                         Inline Google Maps support  \n",
       "1  We should support ideographic, hanging, and ma...  "
      ]
     },
     "execution_count": 223,
     "metadata": {},
     "output_type": "execute_result"
    }
   ],
   "source": [
    "# create a data frame from the list of issues\n",
    "df_list = []\n",
    "for issue in issues:\n",
    "        df_dict = {}\n",
    "        df_dict['comments'] = issue['comments']\n",
    "        if (not issue['body']):\n",
    "            issue['body'] = \"\"\n",
    "        df_dict['title'] = issue['title']\n",
    "        df_dict['body'] = issue['body']\n",
    "        #df_dict['closed_date'] = pd.to_datetime(issue['closed_at'])\n",
    "        df_dict['created_date'] = pd.to_datetime(issue['created_at'])\n",
    "        #df_dict['completed_by'] = issue['completed_by']\n",
    "        df_dict['labels'] = [label['name'] for label in issue['labels'] if label in mlb.classes_]\n",
    "        df_list.append(df_dict)\n",
    "df = pd.DataFrame(df_list).sort_values('created_date')\n",
    "df.head(2)"
   ]
  },
  {
   "cell_type": "code",
   "execution_count": 224,
   "metadata": {
    "scrolled": true
   },
   "outputs": [
    {
     "data": {
      "text/html": [
       "<div>\n",
       "<style scoped>\n",
       "    .dataframe tbody tr th:only-of-type {\n",
       "        vertical-align: middle;\n",
       "    }\n",
       "\n",
       "    .dataframe tbody tr th {\n",
       "        vertical-align: top;\n",
       "    }\n",
       "\n",
       "    .dataframe thead th {\n",
       "        text-align: right;\n",
       "    }\n",
       "</style>\n",
       "<table border=\"1\" class=\"dataframe\">\n",
       "  <thead>\n",
       "    <tr style=\"text-align: right;\">\n",
       "      <th></th>\n",
       "      <th>body</th>\n",
       "      <th>comments</th>\n",
       "      <th>created_date</th>\n",
       "      <th>title</th>\n",
       "      <th>a: accessibility</th>\n",
       "      <th>a: animation</th>\n",
       "      <th>a: china</th>\n",
       "      <th>a: fidelity</th>\n",
       "      <th>a: first hour</th>\n",
       "      <th>a: internationalization</th>\n",
       "      <th>...</th>\n",
       "      <th>team: gallery</th>\n",
       "      <th>tool</th>\n",
       "      <th>waiting for PR to land (fixed)</th>\n",
       "      <th>waiting for customer response</th>\n",
       "      <th>⌘‬ platform-mac</th>\n",
       "      <th>⌺‬ platform-ios</th>\n",
       "      <th>▣ platform-android</th>\n",
       "      <th>○ platform-fuchsia</th>\n",
       "      <th>⚠ TODAY</th>\n",
       "      <th>❖ platform-windows</th>\n",
       "    </tr>\n",
       "  </thead>\n",
       "  <tbody>\n",
       "    <tr>\n",
       "      <th>0</th>\n",
       "      <td>&lt;a href=\"https://github.com/Hixie\"&gt;&lt;img src=\"h...</td>\n",
       "      <td>148</td>\n",
       "      <td>2015-11-09 20:30:33</td>\n",
       "      <td>Inline Google Maps support</td>\n",
       "      <td>0</td>\n",
       "      <td>0</td>\n",
       "      <td>0</td>\n",
       "      <td>0</td>\n",
       "      <td>0</td>\n",
       "      <td>0</td>\n",
       "      <td>...</td>\n",
       "      <td>0</td>\n",
       "      <td>0</td>\n",
       "      <td>0</td>\n",
       "      <td>0</td>\n",
       "      <td>0</td>\n",
       "      <td>0</td>\n",
       "      <td>0</td>\n",
       "      <td>0</td>\n",
       "      <td>0</td>\n",
       "      <td>0</td>\n",
       "    </tr>\n",
       "    <tr>\n",
       "      <th>1</th>\n",
       "      <td>&lt;a href=\"https://github.com/Hixie\"&gt;&lt;img src=\"h...</td>\n",
       "      <td>2</td>\n",
       "      <td>2015-11-09 20:30:43</td>\n",
       "      <td>We should support ideographic, hanging, and ma...</td>\n",
       "      <td>0</td>\n",
       "      <td>0</td>\n",
       "      <td>0</td>\n",
       "      <td>0</td>\n",
       "      <td>0</td>\n",
       "      <td>0</td>\n",
       "      <td>...</td>\n",
       "      <td>0</td>\n",
       "      <td>0</td>\n",
       "      <td>0</td>\n",
       "      <td>0</td>\n",
       "      <td>0</td>\n",
       "      <td>0</td>\n",
       "      <td>0</td>\n",
       "      <td>0</td>\n",
       "      <td>0</td>\n",
       "      <td>0</td>\n",
       "    </tr>\n",
       "  </tbody>\n",
       "</table>\n",
       "<p>2 rows × 81 columns</p>\n",
       "</div>"
      ],
      "text/plain": [
       "                                                body  comments  \\\n",
       "0  <a href=\"https://github.com/Hixie\"><img src=\"h...       148   \n",
       "1  <a href=\"https://github.com/Hixie\"><img src=\"h...         2   \n",
       "\n",
       "         created_date                                              title  \\\n",
       "0 2015-11-09 20:30:33                         Inline Google Maps support   \n",
       "1 2015-11-09 20:30:43  We should support ideographic, hanging, and ma...   \n",
       "\n",
       "   a: accessibility  a: animation  a: china  a: fidelity  a: first hour  \\\n",
       "0                 0             0         0            0              0   \n",
       "1                 0             0         0            0              0   \n",
       "\n",
       "   a: internationalization         ...          team: gallery  tool  \\\n",
       "0                        0         ...                      0     0   \n",
       "1                        0         ...                      0     0   \n",
       "\n",
       "   waiting for PR to land (fixed)  waiting for customer response  \\\n",
       "0                               0                              0   \n",
       "1                               0                              0   \n",
       "\n",
       "   ⌘‬ platform-mac  ⌺‬ platform-ios  ▣ platform-android  ○ platform-fuchsia  \\\n",
       "0                0                0                   0                   0   \n",
       "1                0                0                   0                   0   \n",
       "\n",
       "   ⚠ TODAY  ❖ platform-windows  \n",
       "0        0                   0  \n",
       "1        0                   0  \n",
       "\n",
       "[2 rows x 81 columns]"
      ]
     },
     "execution_count": 224,
     "metadata": {},
     "output_type": "execute_result"
    }
   ],
   "source": [
    "# one hot encode the label column\n",
    "df = df.join(pd.DataFrame(mlb.transform(df.pop('labels')),\n",
    "                          columns=mlb.classes_,\n",
    "                          index=df.index))\n",
    "df.head(2)"
   ]
  },
  {
   "cell_type": "code",
   "execution_count": 225,
   "metadata": {
    "scrolled": true
   },
   "outputs": [
    {
     "name": "stdout",
     "output_type": "stream",
     "text": [
      "(3479, 4960)\n",
      "(3479, 1804)\n"
     ]
    }
   ],
   "source": [
    "# use tf-idf w/ stemming, stop-word removal, and non-alphabetic word removal to generate features\n",
    "df['body'] = df['body'].apply(preprocess)\n",
    "vector_body = vectorizer_body.transform(df['body'])\n",
    "# summarize encoded vector\n",
    "print(vector_body.shape)\n",
    "df['title'] = df['title'].apply(preprocess)\n",
    "vector_title = vectorizer_title.transform(df['title'])\n",
    "# summarize encoded vector\n",
    "print(vector_title.shape)"
   ]
  },
  {
   "cell_type": "code",
   "execution_count": 226,
   "metadata": {
    "scrolled": true
   },
   "outputs": [
    {
     "data": {
      "text/html": [
       "<div>\n",
       "<style scoped>\n",
       "    .dataframe tbody tr th:only-of-type {\n",
       "        vertical-align: middle;\n",
       "    }\n",
       "\n",
       "    .dataframe tbody tr th {\n",
       "        vertical-align: top;\n",
       "    }\n",
       "\n",
       "    .dataframe thead th {\n",
       "        text-align: right;\n",
       "    }\n",
       "</style>\n",
       "<table border=\"1\" class=\"dataframe\">\n",
       "  <thead>\n",
       "    <tr style=\"text-align: right;\">\n",
       "      <th></th>\n",
       "      <th>body</th>\n",
       "      <th>comments</th>\n",
       "      <th>created_date</th>\n",
       "      <th>title</th>\n",
       "      <th>a: accessibility</th>\n",
       "      <th>a: animation</th>\n",
       "      <th>a: china</th>\n",
       "      <th>a: fidelity</th>\n",
       "      <th>a: first hour</th>\n",
       "      <th>a: internationalization</th>\n",
       "      <th>...</th>\n",
       "      <th>4950</th>\n",
       "      <th>4951</th>\n",
       "      <th>4952</th>\n",
       "      <th>4953</th>\n",
       "      <th>4954</th>\n",
       "      <th>4955</th>\n",
       "      <th>4956</th>\n",
       "      <th>4957</th>\n",
       "      <th>4958</th>\n",
       "      <th>4959</th>\n",
       "    </tr>\n",
       "  </thead>\n",
       "  <tbody>\n",
       "    <tr>\n",
       "      <th>0</th>\n",
       "      <td>a href http github com hixi img src http avata...</td>\n",
       "      <td>148</td>\n",
       "      <td>2015-11-09 20:30:33</td>\n",
       "      <td>inlin googl map support</td>\n",
       "      <td>0</td>\n",
       "      <td>0</td>\n",
       "      <td>0</td>\n",
       "      <td>0</td>\n",
       "      <td>0</td>\n",
       "      <td>0</td>\n",
       "      <td>...</td>\n",
       "      <td>0.0</td>\n",
       "      <td>0.0</td>\n",
       "      <td>0.0</td>\n",
       "      <td>0.0</td>\n",
       "      <td>0.0</td>\n",
       "      <td>0.0</td>\n",
       "      <td>0.0</td>\n",
       "      <td>0.0</td>\n",
       "      <td>0.0</td>\n",
       "      <td>0.0</td>\n",
       "    </tr>\n",
       "    <tr>\n",
       "      <th>1</th>\n",
       "      <td>a href http github com hixi img src http avata...</td>\n",
       "      <td>2</td>\n",
       "      <td>2015-11-09 20:30:43</td>\n",
       "      <td>We should support ideograph hang and mathemat ...</td>\n",
       "      <td>0</td>\n",
       "      <td>0</td>\n",
       "      <td>0</td>\n",
       "      <td>0</td>\n",
       "      <td>0</td>\n",
       "      <td>0</td>\n",
       "      <td>...</td>\n",
       "      <td>0.0</td>\n",
       "      <td>0.0</td>\n",
       "      <td>0.0</td>\n",
       "      <td>0.0</td>\n",
       "      <td>0.0</td>\n",
       "      <td>0.0</td>\n",
       "      <td>0.0</td>\n",
       "      <td>0.0</td>\n",
       "      <td>0.0</td>\n",
       "      <td>0.0</td>\n",
       "    </tr>\n",
       "  </tbody>\n",
       "</table>\n",
       "<p>2 rows × 6845 columns</p>\n",
       "</div>"
      ],
      "text/plain": [
       "                                                body  comments  \\\n",
       "0  a href http github com hixi img src http avata...       148   \n",
       "1  a href http github com hixi img src http avata...         2   \n",
       "\n",
       "         created_date                                              title  \\\n",
       "0 2015-11-09 20:30:33                            inlin googl map support   \n",
       "1 2015-11-09 20:30:43  We should support ideograph hang and mathemat ...   \n",
       "\n",
       "   a: accessibility  a: animation  a: china  a: fidelity  a: first hour  \\\n",
       "0                 0             0         0            0              0   \n",
       "1                 0             0         0            0              0   \n",
       "\n",
       "   a: internationalization  ...   4950  4951  4952  4953  4954  4955  4956  \\\n",
       "0                        0  ...    0.0   0.0   0.0   0.0   0.0   0.0   0.0   \n",
       "1                        0  ...    0.0   0.0   0.0   0.0   0.0   0.0   0.0   \n",
       "\n",
       "   4957  4958  4959  \n",
       "0   0.0   0.0   0.0  \n",
       "1   0.0   0.0   0.0  \n",
       "\n",
       "[2 rows x 6845 columns]"
      ]
     },
     "execution_count": 226,
     "metadata": {},
     "output_type": "execute_result"
    }
   ],
   "source": [
    "title_df = pd.DataFrame(vector_title.todense())\n",
    "body_df = pd.DataFrame(vector_body.todense())\n",
    "df = pd.concat([df, title_df, body_df], axis=1)\n",
    "df.head(2)"
   ]
  },
  {
   "cell_type": "code",
   "execution_count": 227,
   "metadata": {
    "scrolled": true
   },
   "outputs": [
    {
     "name": "stdout",
     "output_type": "stream",
     "text": [
      "(3479, 6841)\n",
      "['abarth' 'Hixie' 'abarth' ... 'HansMuller' 'jason-simmons' 'abarth']\n"
     ]
    }
   ],
   "source": [
    "X = df.drop(['body', 'closed_date', 'completed_by', 'created_date', 'title', 'comments'], axis=1)\n",
    "print(X.shape)\n",
    "preds = classifier.predict(X)\n",
    "print(preds)"
   ]
  },
  {
   "cell_type": "code",
   "execution_count": 228,
   "metadata": {
    "scrolled": true
   },
   "outputs": [
    {
     "data": {
      "text/plain": [
       "<matplotlib.axes._subplots.AxesSubplot at 0x16b864c88>"
      ]
     },
     "execution_count": 228,
     "metadata": {},
     "output_type": "execute_result"
    },
    {
     "data": {
      "image/png": "[encoded data removed]",
      "text/plain": [
       "<Figure size 432x288 with 1 Axes>"
      ]
     },
     "metadata": {},
     "output_type": "display_data"
    }
   ],
   "source": [
    "pd.value_counts(preds).plot.bar()"
   ]
  }
 ],
 "metadata": {
  "kernelspec": {
   "display_name": "Python 3",
   "language": "python",
   "name": "python3"
  },
  "language_info": {
   "codemirror_mode": {
    "name": "ipython",
    "version": 3
   },
   "file_extension": ".py",
   "mimetype": "text/x-python",
   "name": "python",
   "nbconvert_exporter": "python",
   "pygments_lexer": "ipython3",
   "version": "3.6.5"
  }
 },
 "nbformat": 4,
 "nbformat_minor": 2
}
