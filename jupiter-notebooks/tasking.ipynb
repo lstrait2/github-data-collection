{
 "cells": [
  {
   "cell_type": "code",
   "execution_count": 86,
   "metadata": {},
   "outputs": [],
   "source": [
    "import json\n",
    "import matplotlib.pyplot as plt\n",
    "import seaborn as sns"
   ]
  },
  {
   "cell_type": "code",
   "execution_count": 87,
   "metadata": {},
   "outputs": [
    {
     "name": "stdout",
     "output_type": "stream",
     "text": [
      "{'url': 'https://api.github.com/repos/flutter/flutter/issues/3764', 'repository_url': 'https://api.github.com/repos/flutter/flutter', 'labels_url': 'https://api.github.com/repos/flutter/flutter/issues/3764/labels{/name}', 'comments_url': 'https://api.github.com/repos/flutter/flutter/issues/3764/comments', 'events_url': 'https://api.github.com/repos/flutter/flutter/issues/3764/events', 'html_url': 'https://github.com/flutter/flutter/issues/3764', 'id': 153358960, 'number': 3764, 'title': 'Determining which widgets to wrap in padding to acheive margins seems arbitrary', 'user': {'login': 'drewwarren', 'id': 85351, 'avatar_url': 'https://avatars0.githubusercontent.com/u/85351?v=4', 'gravatar_id': '', 'url': 'https://api.github.com/users/drewwarren', 'html_url': 'https://github.com/drewwarren', 'followers_url': 'https://api.github.com/users/drewwarren/followers', 'following_url': 'https://api.github.com/users/drewwarren/following{/other_user}', 'gists_url': 'https://api.github.com/users/drewwarren/gists{/gist_id}', 'starred_url': 'https://api.github.com/users/drewwarren/starred{/owner}{/repo}', 'subscriptions_url': 'https://api.github.com/users/drewwarren/subscriptions', 'organizations_url': 'https://api.github.com/users/drewwarren/orgs', 'repos_url': 'https://api.github.com/users/drewwarren/repos', 'events_url': 'https://api.github.com/users/drewwarren/events{/privacy}', 'received_events_url': 'https://api.github.com/users/drewwarren/received_events', 'type': 'User', 'site_admin': False}, 'labels': [], 'state': 'closed', 'locked': False, 'assignee': None, 'assignees': [], 'milestone': {'url': 'https://api.github.com/repos/flutter/flutter/milestones/1', 'html_url': 'https://github.com/flutter/flutter/milestone/1', 'labels_url': 'https://api.github.com/repos/flutter/flutter/milestones/1/labels', 'id': 1402982, 'number': 1, 'title': 'Stretch Goals', 'description': 'This milestone is for features and bugs we do not intend to address before releasing 1.0, but that we want to address soon after.\\r\\n\\r\\nThe date on this milestone is utterly arbitrary and just intended to sort the milestone appropriately.', 'creator': {'login': 'FlutterIssues', 'id': 15744020, 'avatar_url': 'https://avatars1.githubusercontent.com/u/15744020?v=4', 'gravatar_id': '', 'url': 'https://api.github.com/users/FlutterIssues', 'html_url': 'https://github.com/FlutterIssues', 'followers_url': 'https://api.github.com/users/FlutterIssues/followers', 'following_url': 'https://api.github.com/users/FlutterIssues/following{/other_user}', 'gists_url': 'https://api.github.com/users/FlutterIssues/gists{/gist_id}', 'starred_url': 'https://api.github.com/users/FlutterIssues/starred{/owner}{/repo}', 'subscriptions_url': 'https://api.github.com/users/FlutterIssues/subscriptions', 'organizations_url': 'https://api.github.com/users/FlutterIssues/orgs', 'repos_url': 'https://api.github.com/users/FlutterIssues/repos', 'events_url': 'https://api.github.com/users/FlutterIssues/events{/privacy}', 'received_events_url': 'https://api.github.com/users/FlutterIssues/received_events', 'type': 'User', 'site_admin': False}, 'open_issues': 327, 'closed_issues': 1361, 'state': 'open', 'created_at': '2015-11-09T20:19:58Z', 'updated_at': '2018-05-26T08:17:17Z', 'due_on': '2030-12-31T08:00:00Z', 'closed_at': None}, 'comments': 8, 'created_at': '2016-05-06T01:12:00Z', 'updated_at': '2017-01-28T20:29:41Z', 'closed_at': '2017-01-28T20:29:41Z', 'author_association': 'NONE', 'body': 'Let\\'s say I want to have an icon and some text with 5.0 spacing between them.\\n\\n```\\nnew Row(\\n  children: [\\n    new Icon(...),\\n    new Padding(\\n      padding: const EdgeInsets.only(left: 5.0),\\n      child: new Text(\"Hello\")\\n    )\\n  ]\\n)\\n```\\n\\nEasy enough to achieve, but why did I wrap the Text in the padding? I could have just as easily wrapped the Icon in a padding right of 5.0. It feels very unnatural to me coming from a web development background to do this. I guess if it was HTML I would make a similar arbitrary choice in the CSS on which element to apply margin to, but at least that was abstracted away from my markup. Without having this abstraction layer I feel like I want a HorizontalSpacing(5.0) widget to put between the elements. I could easily write that widget (or use a Container) but I prefer using paradigms that are built into the framework. In fact before I learned about the Padding widget I was using an empty Container(width: 5.0) to achieve this spacing.\\n', 'score': 1.0, 'training_labels': {}}\n"
     ]
    }
   ],
   "source": [
    "with open('../data/flutter/flutter_issues_labeled_1.json') as json_data:\n",
    "    data1 = json.load(json_data)\n",
    "with open('../data/flutter/flutter_issues_labeled_2.json') as json_data:\n",
    "    data2 = json.load(json_data)\n",
    "with open('../data/flutter/flutter_issues_labeled_3.json') as json_data:\n",
    "    data3 = json.load(json_data)\n",
    "data1 = [issue for issue in data1 if 'training_labels' in issue]\n",
    "data2 = [issue for issue in data2 if 'training_labels' in issue]\n",
    "data3 = [issue for issue in data3 if 'training_labels' in issue]\n",
    "print(data3[0])\n",
    "data = data1 + data2 + data3"
   ]
  },
  {
   "cell_type": "markdown",
   "metadata": {},
   "source": [
    "TODO: concat the above dicts into one file..."
   ]
  },
  {
   "cell_type": "code",
   "execution_count": 88,
   "metadata": {},
   "outputs": [
    {
     "name": "stdout",
     "output_type": "stream",
     "text": [
      "num positive events: 488\n",
      "num total events: 1439\n"
     ]
    }
   ],
   "source": [
    "num_positive_labels = 0\n",
    "total_num_labels = 0\n",
    "for issue in data:\n",
    "    for assignee in issue['training_labels']:\n",
    "        if issue['training_labels'][assignee] == 1:\n",
    "            num_positive_labels += 1\n",
    "        total_num_labels += 1\n",
    "print(\"num positive events: \" + str(num_positive_labels))\n",
    "print(\"num total events: \" + str(total_num_labels))"
   ]
  },
  {
   "cell_type": "markdown",
   "metadata": {},
   "source": [
    "Now filter out any issues that never end up getting a commit/PR before they are closed. Idea being that these are not 'real' issues."
   ]
  },
  {
   "cell_type": "code",
   "execution_count": 89,
   "metadata": {},
   "outputs": [
    {
     "name": "stdout",
     "output_type": "stream",
     "text": [
      "num positive events: 488\n",
      "num total events: 560\n"
     ]
    }
   ],
   "source": [
    "num_positive_labels = 0\n",
    "total_num_labels = 0\n",
    "for issue in data:\n",
    "    for assignee in issue['training_labels']:\n",
    "        if len(issue['matching_prs']) != 0 or len(issue['matching_commits']) != 0:\n",
    "            if issue['training_labels'][assignee] == 1:\n",
    "                num_positive_labels += 1\n",
    "            total_num_labels += 1\n",
    "print(\"num positive events: \" + str(num_positive_labels))\n",
    "print(\"num total events: \" + str(total_num_labels))"
   ]
  },
  {
   "cell_type": "code",
   "execution_count": 90,
   "metadata": {},
   "outputs": [
    {
     "name": "stdout",
     "output_type": "stream",
     "text": [
      "Number of successful tasks: \n",
      "{'Hixie': 59, 'abarth': 307, 'collinjackson': 6, 'HansMuller': 58, 'devoncarew': 1, 'mpcomplete': 14, 'yjbanov': 7, 'krisgiesing': 4, 'danrubel': 6, 'xster': 1, 'sethladd': 3, 'jason-simmons': 4, 'dragostis': 4, 'jimbeveridge': 1, 'tvolkert': 5, 'pq': 2, 'aghassemi': 3, 'jakobr-google': 2, 'chinmaygarde': 1}\n",
      "Number of total tasks: \n",
      "{'abarth': 324, 'eseidelGoogle': 2, 'Hixie': 74, 'collinjackson': 10, 'HansMuller': 67, 'devoncarew': 2, 'vlidholt': 2, 'mpcomplete': 15, 'yjbanov': 8, 'krisgiesing': 5, 'danrubel': 6, 'xster': 3, 'sethladd': 6, 'jason-simmons': 5, 'aghassemi': 7, 'dragostis': 6, 'jimbeveridge': 1, 'tvolkert': 5, 'chinmaygarde': 5, 'pq': 2, 'jakobr-google': 2, 'johnmccutchan': 1, 'qchong': 1, 'cbracken': 1}\n",
      "Percentage of tasks completed: \n",
      "{'abarth': 0.9475308641975309, 'eseidelGoogle': 0.0, 'Hixie': 0.7972972972972973, 'collinjackson': 0.6, 'HansMuller': 0.8656716417910447, 'devoncarew': 0.5, 'vlidholt': 0.0, 'mpcomplete': 0.9333333333333333, 'yjbanov': 0.875, 'krisgiesing': 0.8, 'danrubel': 1.0, 'xster': 0.3333333333333333, 'sethladd': 0.5, 'jason-simmons': 0.8, 'aghassemi': 0.42857142857142855, 'dragostis': 0.6666666666666666, 'jimbeveridge': 1.0, 'tvolkert': 1.0, 'chinmaygarde': 0.2, 'pq': 1.0, 'jakobr-google': 1.0, 'johnmccutchan': 0.0, 'qchong': 0.0, 'cbracken': 0.0}\n"
     ]
    }
   ],
   "source": [
    "person_counts = {}\n",
    "person_totals = {}\n",
    "for issue in data:\n",
    "    for assignee in issue['training_labels']:\n",
    "        if len(issue['matching_prs']) != 0 or len(issue['matching_commits']) != 0:\n",
    "            if issue['training_labels'][assignee] == 1:\n",
    "                person_counts[assignee] = person_counts.get(assignee, 0) + 1\n",
    "            person_totals[assignee] = person_totals.get(assignee, 0) + 1\n",
    "person_percents = {}\n",
    "for person in person_totals:\n",
    "    person_percents[person] = person_counts.get(person, 0) / person_totals[person]\n",
    "    \n",
    "print(\"Number of successful tasks: \")\n",
    "print(person_counts)\n",
    "print(\"Number of total tasks: \")\n",
    "print(person_totals)\n",
    "print(\"Percentage of tasks completed: \")\n",
    "print(person_percents)"
   ]
  },
  {
   "cell_type": "code",
   "execution_count": null,
   "metadata": {},
   "outputs": [],
   "source": []
  },
  {
   "cell_type": "code",
   "execution_count": 91,
   "metadata": {},
   "outputs": [],
   "source": [
    "#TODO: compare characteristics of issues that are successfully completed."
   ]
  },
  {
   "cell_type": "code",
   "execution_count": null,
   "metadata": {},
   "outputs": [],
   "source": []
  },
  {
   "cell_type": "code",
   "execution_count": null,
   "metadata": {},
   "outputs": [],
   "source": []
  }
 ],
 "metadata": {
  "kernelspec": {
   "display_name": "Python 3",
   "language": "python",
   "name": "python3"
  },
  "language_info": {
   "codemirror_mode": {
    "name": "ipython",
    "version": 3
   },
   "file_extension": ".py",
   "mimetype": "text/x-python",
   "name": "python",
   "nbconvert_exporter": "python",
   "pygments_lexer": "ipython3",
   "version": "3.6.5"
  }
 },
 "nbformat": 4,
 "nbformat_minor": 2
}
