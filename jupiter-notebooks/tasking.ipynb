{
 "cells": [
  {
   "cell_type": "code",
   "execution_count": 93,
   "metadata": {},
   "outputs": [],
   "source": [
    "import json\n",
    "import matplotlib.pyplot as plt\n",
    "import seaborn as sns"
   ]
  },
  {
   "cell_type": "code",
   "execution_count": 94,
   "metadata": {},
   "outputs": [],
   "source": [
    "with open('../data/flutter/flutter_issues_labeled.json') as json_data:\n",
    "    data = json.load(json_data)"
   ]
  },
  {
   "cell_type": "code",
   "execution_count": 95,
   "metadata": {},
   "outputs": [
    {
     "name": "stdout",
     "output_type": "stream",
     "text": [
      "num positive events: 780\n",
      "num total events: 2990\n"
     ]
    }
   ],
   "source": [
    "num_positive_labels = 0\n",
    "total_num_labels = 0\n",
    "for issue in data:\n",
    "    for assignee in issue['training_labels']:\n",
    "        if issue['training_labels'][assignee] == 1:\n",
    "            num_positive_labels += 1\n",
    "        total_num_labels += 1\n",
    "print(\"num positive events: \" + str(num_positive_labels))\n",
    "print(\"num total events: \" + str(total_num_labels))"
   ]
  },
  {
   "cell_type": "markdown",
   "metadata": {},
   "source": [
    "Now filter out any issues that never end up getting a commit/PR before they are closed. Idea being that these are not 'real' issues."
   ]
  },
  {
   "cell_type": "code",
   "execution_count": 96,
   "metadata": {},
   "outputs": [
    {
     "name": "stdout",
     "output_type": "stream",
     "text": [
      "num positive events: 780\n",
      "num total events: 890\n"
     ]
    }
   ],
   "source": [
    "num_positive_labels = 0\n",
    "total_num_labels = 0\n",
    "for issue in data:\n",
    "    for assignee in issue['training_labels']:\n",
    "        if len(issue['matching_prs']) != 0 or len(issue['matching_commits']) != 0:\n",
    "            if issue['training_labels'][assignee] == 1:\n",
    "                num_positive_labels += 1\n",
    "            total_num_labels += 1\n",
    "print(\"num positive events: \" + str(num_positive_labels))\n",
    "print(\"num total events: \" + str(total_num_labels))"
   ]
  },
  {
   "cell_type": "code",
   "execution_count": 97,
   "metadata": {},
   "outputs": [
    {
     "name": "stdout",
     "output_type": "stream",
     "text": [
      "Number of successful tasks: \n",
      "{'Hixie': 88, 'abarth': 422, 'collinjackson': 7, 'HansMuller': 63, 'devoncarew': 1, 'mpcomplete': 20, 'yjbanov': 14, 'krisgiesing': 4, 'danrubel': 8, 'xster': 5, 'sethladd': 4, 'jason-simmons': 18, 'dragostis': 5, 'jimbeveridge': 1, 'tvolkert': 18, 'pq': 3, 'aghassemi': 3, 'jakobr-google': 10, 'chinmaygarde': 1, 'gspencergoog': 20, 'dvdwasibi': 1, 'cbracken': 9, 'johnmccutchan': 4, 'goderbauer': 13, 'lequem': 1, 'mehmetf': 3, 'mravn-google': 4, 'B3rn475': 2, 'jcollins-g': 11, 'amirh': 3, 'szakarias': 4, 'jonahwilliams': 1, 'aam': 3, 'DanTup': 2, 'mraleph': 3, 'blasten': 1}\n",
      "Number of total tasks: \n",
      "{'abarth': 441, 'eseidelGoogle': 2, 'Hixie': 112, 'collinjackson': 11, 'HansMuller': 72, 'devoncarew': 2, 'vlidholt': 2, 'mpcomplete': 22, 'yjbanov': 20, 'krisgiesing': 5, 'danrubel': 9, 'xster': 12, 'sethladd': 7, 'jason-simmons': 19, 'aghassemi': 7, 'dragostis': 7, 'jimbeveridge': 1, 'tvolkert': 18, 'chinmaygarde': 6, 'pq': 3, 'jakobr-google': 10, 'johnmccutchan': 5, 'qchong': 1, 'cbracken': 15, 'gspencergoog': 22, 'dvdwasibi': 1, 'mit-mit': 2, 'goderbauer': 13, 'lequem': 1, 'LarkAscending': 1, 'mehmetf': 3, 'mravn-google': 5, 'B3rn475': 2, 'jcollins-g': 11, 'amirh': 3, 'szakarias': 4, 'jonahwilliams': 1, 'aam': 3, 'DanTup': 2, 'mraleph': 3, 'a-siva': 1, 'zanderso': 1, 'timsneath': 1, 'blasten': 1}\n",
      "Percentage of tasks completed: \n",
      "{'abarth': 0.9569160997732427, 'eseidelGoogle': 0.0, 'Hixie': 0.7857142857142857, 'collinjackson': 0.6363636363636364, 'HansMuller': 0.875, 'devoncarew': 0.5, 'vlidholt': 0.0, 'mpcomplete': 0.9090909090909091, 'yjbanov': 0.7, 'krisgiesing': 0.8, 'danrubel': 0.8888888888888888, 'xster': 0.4166666666666667, 'sethladd': 0.5714285714285714, 'jason-simmons': 0.9473684210526315, 'aghassemi': 0.42857142857142855, 'dragostis': 0.7142857142857143, 'jimbeveridge': 1.0, 'tvolkert': 1.0, 'chinmaygarde': 0.16666666666666666, 'pq': 1.0, 'jakobr-google': 1.0, 'johnmccutchan': 0.8, 'qchong': 0.0, 'cbracken': 0.6, 'gspencergoog': 0.9090909090909091, 'dvdwasibi': 1.0, 'mit-mit': 0.0, 'goderbauer': 1.0, 'lequem': 1.0, 'LarkAscending': 0.0, 'mehmetf': 1.0, 'mravn-google': 0.8, 'B3rn475': 1.0, 'jcollins-g': 1.0, 'amirh': 1.0, 'szakarias': 1.0, 'jonahwilliams': 1.0, 'aam': 1.0, 'DanTup': 1.0, 'mraleph': 1.0, 'a-siva': 0.0, 'zanderso': 0.0, 'timsneath': 0.0, 'blasten': 1.0}\n"
     ]
    }
   ],
   "source": [
    "person_counts = {}\n",
    "person_totals = {}\n",
    "for issue in data:\n",
    "    for assignee in issue['training_labels']:\n",
    "        if len(issue['matching_prs']) != 0 or len(issue['matching_commits']) != 0:\n",
    "            if issue['training_labels'][assignee] == 1:\n",
    "                person_counts[assignee] = person_counts.get(assignee, 0) + 1\n",
    "            person_totals[assignee] = person_totals.get(assignee, 0) + 1\n",
    "person_percents = {}\n",
    "for person in person_totals:\n",
    "    person_percents[person] = person_counts.get(person, 0) / person_totals[person]\n",
    "    \n",
    "print(\"Number of successful tasks: \")\n",
    "print(person_counts)\n",
    "print(\"Number of total tasks: \")\n",
    "print(person_totals)\n",
    "print(\"Percentage of tasks completed: \")\n",
    "print(person_percents)"
   ]
  },
  {
   "cell_type": "code",
   "execution_count": null,
   "metadata": {},
   "outputs": [],
   "source": []
  },
  {
   "cell_type": "code",
   "execution_count": 98,
   "metadata": {},
   "outputs": [],
   "source": [
    "#TODO: compare characteristics of issues that are successfully completed."
   ]
  },
  {
   "cell_type": "code",
   "execution_count": null,
   "metadata": {},
   "outputs": [],
   "source": []
  },
  {
   "cell_type": "code",
   "execution_count": null,
   "metadata": {},
   "outputs": [],
   "source": []
  }
 ],
 "metadata": {
  "kernelspec": {
   "display_name": "Python 3",
   "language": "python",
   "name": "python3"
  },
  "language_info": {
   "codemirror_mode": {
    "name": "ipython",
    "version": 3
   },
   "file_extension": ".py",
   "mimetype": "text/x-python",
   "name": "python",
   "nbconvert_exporter": "python",
   "pygments_lexer": "ipython3",
   "version": "3.6.5"
  }
 },
 "nbformat": 4,
 "nbformat_minor": 2
}
