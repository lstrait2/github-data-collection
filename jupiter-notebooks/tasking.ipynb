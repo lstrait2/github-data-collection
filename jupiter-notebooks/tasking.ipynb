{
 "cells": [
  {
   "cell_type": "code",
   "execution_count": 16,
   "metadata": {},
   "outputs": [],
   "source": [
    "import json"
   ]
  },
  {
   "cell_type": "code",
   "execution_count": 17,
   "metadata": {},
   "outputs": [
    {
     "name": "stdout",
     "output_type": "stream",
     "text": [
      "1000\n",
      "1000\n",
      "2000\n",
      "{'url': 'https://api.github.com/repos/flutter/flutter/issues/1762', 'repository_url': 'https://api.github.com/repos/flutter/flutter', 'labels_url': 'https://api.github.com/repos/flutter/flutter/issues/1762/labels{/name}', 'comments_url': 'https://api.github.com/repos/flutter/flutter/issues/1762/comments', 'events_url': 'https://api.github.com/repos/flutter/flutter/issues/1762/events', 'html_url': 'https://github.com/flutter/flutter/issues/1762', 'id': 132811185, 'number': 1762, 'title': 'ScrollableMixedWidgetList should support reversing the direction', 'user': {'login': 'collinjackson', 'id': 394889, 'avatar_url': 'https://avatars2.githubusercontent.com/u/394889?v=4', 'gravatar_id': '', 'url': 'https://api.github.com/users/collinjackson', 'html_url': 'https://github.com/collinjackson', 'followers_url': 'https://api.github.com/users/collinjackson/followers', 'following_url': 'https://api.github.com/users/collinjackson/following{/other_user}', 'gists_url': 'https://api.github.com/users/collinjackson/gists{/gist_id}', 'starred_url': 'https://api.github.com/users/collinjackson/starred{/owner}{/repo}', 'subscriptions_url': 'https://api.github.com/users/collinjackson/subscriptions', 'organizations_url': 'https://api.github.com/users/collinjackson/orgs', 'repos_url': 'https://api.github.com/users/collinjackson/repos', 'events_url': 'https://api.github.com/users/collinjackson/events{/privacy}', 'received_events_url': 'https://api.github.com/users/collinjackson/received_events', 'type': 'User', 'site_admin': False}, 'labels': [{'id': 448556278, 'url': 'https://api.github.com/repos/flutter/flutter/labels/f:%20scrolling', 'name': 'f: scrolling', 'color': '207de5', 'default': False}, {'id': 284437560, 'url': 'https://api.github.com/repos/flutter/flutter/labels/framework', 'name': 'framework', 'color': '207de5', 'default': False}, {'id': 283479235, 'url': 'https://api.github.com/repos/flutter/flutter/labels/severe:%20new%20feature', 'name': 'severe: new feature', 'color': 'ffff00', 'default': False}], 'state': 'closed', 'locked': False, 'assignee': {'login': 'Hixie', 'id': 551196, 'avatar_url': 'https://avatars2.githubusercontent.com/u/551196?v=4', 'gravatar_id': '', 'url': 'https://api.github.com/users/Hixie', 'html_url': 'https://github.com/Hixie', 'followers_url': 'https://api.github.com/users/Hixie/followers', 'following_url': 'https://api.github.com/users/Hixie/following{/other_user}', 'gists_url': 'https://api.github.com/users/Hixie/gists{/gist_id}', 'starred_url': 'https://api.github.com/users/Hixie/starred{/owner}{/repo}', 'subscriptions_url': 'https://api.github.com/users/Hixie/subscriptions', 'organizations_url': 'https://api.github.com/users/Hixie/orgs', 'repos_url': 'https://api.github.com/users/Hixie/repos', 'events_url': 'https://api.github.com/users/Hixie/events{/privacy}', 'received_events_url': 'https://api.github.com/users/Hixie/received_events', 'type': 'User', 'site_admin': False}, 'assignees': [{'login': 'Hixie', 'id': 551196, 'avatar_url': 'https://avatars2.githubusercontent.com/u/551196?v=4', 'gravatar_id': '', 'url': 'https://api.github.com/users/Hixie', 'html_url': 'https://github.com/Hixie', 'followers_url': 'https://api.github.com/users/Hixie/followers', 'following_url': 'https://api.github.com/users/Hixie/following{/other_user}', 'gists_url': 'https://api.github.com/users/Hixie/gists{/gist_id}', 'starred_url': 'https://api.github.com/users/Hixie/starred{/owner}{/repo}', 'subscriptions_url': 'https://api.github.com/users/Hixie/subscriptions', 'organizations_url': 'https://api.github.com/users/Hixie/orgs', 'repos_url': 'https://api.github.com/users/Hixie/repos', 'events_url': 'https://api.github.com/users/Hixie/events{/privacy}', 'received_events_url': 'https://api.github.com/users/Hixie/received_events', 'type': 'User', 'site_admin': False}], 'milestone': {'url': 'https://api.github.com/repos/flutter/flutter/milestones/20', 'html_url': 'https://github.com/flutter/flutter/milestone/20', 'labels_url': 'https://api.github.com/repos/flutter/flutter/milestones/20/labels', 'id': 2005336, 'number': 20, 'title': '2: Make Early Adopters happy', 'description': 'Support enough for us to feel confident inviting early-adopter developers to start using Flutter for their applications. They may not have every feature they need to take their app to production, but they can start their journey and we support their workflows.', 'creator': {'login': 'Hixie', 'id': 551196, 'avatar_url': 'https://avatars2.githubusercontent.com/u/551196?v=4', 'gravatar_id': '', 'url': 'https://api.github.com/users/Hixie', 'html_url': 'https://github.com/Hixie', 'followers_url': 'https://api.github.com/users/Hixie/followers', 'following_url': 'https://api.github.com/users/Hixie/following{/other_user}', 'gists_url': 'https://api.github.com/users/Hixie/gists{/gist_id}', 'starred_url': 'https://api.github.com/users/Hixie/starred{/owner}{/repo}', 'subscriptions_url': 'https://api.github.com/users/Hixie/subscriptions', 'organizations_url': 'https://api.github.com/users/Hixie/orgs', 'repos_url': 'https://api.github.com/users/Hixie/repos', 'events_url': 'https://api.github.com/users/Hixie/events{/privacy}', 'received_events_url': 'https://api.github.com/users/Hixie/received_events', 'type': 'User', 'site_admin': False}, 'open_issues': 0, 'closed_issues': 384, 'state': 'closed', 'created_at': '2016-09-14T22:22:01Z', 'updated_at': '2018-02-01T13:57:55Z', 'due_on': '2017-05-05T07:00:00Z', 'closed_at': '2017-05-22T18:00:32Z'}, 'comments': 7, 'created_at': '2016-02-10T20:35:14Z', 'updated_at': '2017-02-10T05:34:47Z', 'closed_at': '2017-02-10T05:34:47Z', 'author_association': 'CONTRIBUTOR', 'body': 'Continuation of #136 for ScrollableMixedWidgetList\\n', 'score': 1.0, 'training_labels': {'abarth': 0, 'Hixie': 0}, 'matching_prs': [], 'matching_commits': []}\n"
     ]
    }
   ],
   "source": [
    "with open('../data/flutter/flutter_issues_labeled_1.json') as json_data:\n",
    "    data1 = json.load(json_data)\n",
    "with open('../data/flutter/flutter_issues_labeled_2.json') as json_data:\n",
    "    data2 = json.load(json_data)\n",
    "data1 = [issue for issue in data1 if 'training_labels' in issue]\n",
    "data2 = [issue for issue in data2 if 'training_labels' in issue]\n",
    "data = data1 + data2"
   ]
  },
  {
   "cell_type": "code",
   "execution_count": null,
   "metadata": {},
   "outputs": [],
   "source": [
    "num_positive_labels = 0\n",
    "total_num_labels = 0\n",
    "for issue in data:\n",
    "    for assignee in issue['training_labels']:\n",
    "        if issue['training_labels'][assignee] == 1:\n",
    "            num_positive_labels += 1\n",
    "        total_num_labels += 1\n",
    "print(num_positive_labels)\n",
    "print(total_num_labels)"
   ]
  }
 ],
 "metadata": {
  "kernelspec": {
   "display_name": "Python 3",
   "language": "python",
   "name": "python3"
  },
  "language_info": {
   "codemirror_mode": {
    "name": "ipython",
    "version": 3
   },
   "file_extension": ".py",
   "mimetype": "text/x-python",
   "name": "python",
   "nbconvert_exporter": "python",
   "pygments_lexer": "ipython3",
   "version": "3.6.5"
  }
 },
 "nbformat": 4,
 "nbformat_minor": 2
}
