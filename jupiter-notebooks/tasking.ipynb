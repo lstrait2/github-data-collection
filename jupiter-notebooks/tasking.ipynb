{
 "cells": [
  {
   "cell_type": "code",
   "execution_count": 14,
   "metadata": {},
   "outputs": [],
   "source": [
    "import \n",
    "import json\n",
    "import matplotlib.pyplot as plt\n",
    "import seaborn as sns"
   ]
  },
  {
   "cell_type": "code",
   "execution_count": 15,
   "metadata": {},
   "outputs": [
    {
     "name": "stdout",
     "output_type": "stream",
     "text": [
      "{'url': 'https://api.github.com/repos/flutter/flutter/issues/10800', 'repository_url': 'https://api.github.com/repos/flutter/flutter', 'labels_url': 'https://api.github.com/repos/flutter/flutter/issues/10800/labels{/name}', 'comments_url': 'https://api.github.com/repos/flutter/flutter/issues/10800/comments', 'events_url': 'https://api.github.com/repos/flutter/flutter/issues/10800/events', 'html_url': 'https://github.com/flutter/flutter/issues/10800', 'id': 236610802, 'number': 10800, 'title': '\"index out of bounds\" java exception when working in step 5 of UI codelab', 'user': {'login': 'sethladd', 'id': 5479, 'avatar_url': 'https://avatars3.githubusercontent.com/u/5479?v=4', 'gravatar_id': '', 'url': 'https://api.github.com/users/sethladd', 'html_url': 'https://github.com/sethladd', 'followers_url': 'https://api.github.com/users/sethladd/followers', 'following_url': 'https://api.github.com/users/sethladd/following{/other_user}', 'gists_url': 'https://api.github.com/users/sethladd/gists{/gist_id}', 'starred_url': 'https://api.github.com/users/sethladd/starred{/owner}{/repo}', 'subscriptions_url': 'https://api.github.com/users/sethladd/subscriptions', 'organizations_url': 'https://api.github.com/users/sethladd/orgs', 'repos_url': 'https://api.github.com/users/sethladd/repos', 'events_url': 'https://api.github.com/users/sethladd/events{/privacy}', 'received_events_url': 'https://api.github.com/users/sethladd/received_events', 'type': 'User', 'site_admin': False}, 'labels': [{'id': 328855780, 'url': 'https://api.github.com/repos/flutter/flutter/labels/d:%20codelabs', 'name': 'd: codelabs', 'color': '0e8a16', 'default': False}], 'state': 'closed', 'locked': False, 'assignee': None, 'assignees': [], 'milestone': None, 'comments': 1, 'created_at': '2017-06-16T22:10:43Z', 'updated_at': '2017-06-19T23:50:15Z', 'closed_at': '2017-06-19T23:50:15Z', 'author_association': 'CONTRIBUTOR', 'body': \"As reported by someone who tried this yesterday on Android. Confirmed on both Android N and Android O.\\r\\n\\r\\nThis was the chunk of code that when added, lead to the exception:\\r\\n\\r\\n```\\r\\n// Modify the _buildTextComposer method with the code below to define the \\r\\n// send button.\\r\\n\\r\\n// ...\\r\\n       new Container(                                          //new\\r\\n         margin: new EdgeInsets.symmetric(horizontal: 4.0),    //new\\r\\n         child: new IconButton(                                //new\\r\\n           icon: new Icon(Icons.send),\\r\\n           onPressed: () => _handleSubmitted(_textController.text)),//new\\r\\n       ),  \\r\\n```\\r\\n\\r\\nAfter this step in the codelab, the user can type into the text field, but when they hit the arrow button, they get this exception:\\r\\n\\r\\nhere's the log from adb logcat from Android N 7.1.2:\\r\\n\\r\\n```\\r\\n06-16 15:09:41.380 29675 29751 W GAv4    : Discarding hit. Too many hits sent too quickly, rate limiting invoked: sr=1080x1794,sf=100.0,ec=sync,ev=0,cid=6aeba2c7-3c46-492c-91a4-e84f0b5e5dae,_v=ma10.2.98,av=1.7.232.05.40,aip=1,v=1,a=1129632470,an=Slides,ul=en-us,t=event,tid=UA-21125203-7,aiid=com.android.vending,ea=entriesChanged,aid=com.google.android.apps.docs.editors.slides,el=null\\r\\n06-16 15:09:42.255 29524 29524 E MethodChannel#flutter/textinput: Failed to handle method call\\r\\n06-16 15:09:42.255 29524 29524 E MethodChannel#flutter/textinput: java.lang.IndexOutOfBoundsException: setSpan (-1 ... -1) starts before 0\\r\\n06-16 15:09:42.255 29524 29524 E MethodChannel#flutter/textinput: \\tat android.text.SpannableStringBuilder.checkRange(SpannableStringBuilder.java:1325)\\r\\n06-16 15:09:42.255 29524 29524 E MethodChannel#flutter/textinput: \\tat android.text.SpannableStringBuilder.setSpan(SpannableStringBuilder.java:683)\\r\\n06-16 15:09:42.255 29524 29524 E MethodChannel#flutter/textinput: \\tat android.text.SpannableStringBuilder.setSpan(SpannableStringBuilder.java:676)\\r\\n06-16 15:09:42.255 29524 29524 E MethodChannel#flutter/textinput: \\tat android.text.Selection.setSelection(Selection.java:76)\\r\\n06-16 15:09:42.255 29524 29524 E MethodChannel#flutter/textinput: \\tat io.flutter.plugin.editing.TextInputPlugin.setTextInputEditingState(TextInputPlugin.java:147)\\r\\n06-16 15:09:42.255 29524 29524 E MethodChannel#flutter/textinput: \\tat io.flutter.plugin.editing.TextInputPlugin.onMethodCall(TextInputPlugin.java:66)\\r\\n06-16 15:09:42.255 29524 29524 E MethodChannel#flutter/textinput: \\tat io.flutter.plugin.common.MethodChannel$IncomingMethodCallHandler.onMessage(MethodChannel.java:191)\\r\\n06-16 15:09:42.255 29524 29524 E MethodChannel#flutter/textinput: \\tat io.flutter.view.FlutterView.handlePlatformMessage(FlutterView.java:643)\\r\\n06-16 15:09:42.255 29524 29524 E MethodChannel#flutter/textinput: \\tat android.os.MessageQueue.nativePollOnce(Native Method)\\r\\n06-16 15:09:42.255 29524 29524 E MethodChannel#flutter/textinput: \\tat android.os.MessageQueue.next(MessageQueue.java:323)\\r\\n06-16 15:09:42.255 29524 29524 E MethodChannel#flutter/textinput: \\tat android.os.Looper.loop(Looper.java:136)\\r\\n06-16 15:09:42.255 29524 29524 E MethodChannel#flutter/textinput: \\tat android.app.ActivityThread.main(ActivityThread.java:6121)\\r\\n06-16 15:09:42.255 29524 29524 E MethodChannel#flutter/textinput: \\tat java.lang.reflect.Method.invoke(Native Method)\\r\\n06-16 15:09:42.255 29524 29524 E MethodChannel#flutter/textinput: \\tat com.android.internal.os.ZygoteInit$MethodAndArgsCaller.run(ZygoteInit.java:889)\\r\\n06-16 15:09:42.255 29524 29524 E MethodChannel#flutter/textinput: \\tat com.android.internal.os.ZygoteInit.main(ZygoteInit.java:779)\\r\\n06-16 15:09:42.277 29524 29544 I flutter : ══╡ EXCEPTION CAUGHT BY RENDERING LIBRARY ╞═════════════════════════════════════════════════════════\\r\\n06-16 15:09:42.295 29524 29544 I flutter : The following assertion was thrown during paint():\\r\\n06-16 15:09:42.295 29524 29544 I flutter : 'package:flutter/src/rendering/object.dart': Failed assertion: line 2110: 'owner == null ||\\r\\n06-16 15:09:42.295 29524 29544 I flutter : !owner.debugDoingPaint': is not true.\\r\\n06-16 15:09:42.302 29524 29544 I flutter : \\r\\n06-16 15:09:42.302 29524 29544 I flutter : Either the assertion indicates an error in the framework itself, or we should provide substantially\\r\\n06-16 15:09:42.302 29524 29544 I flutter : more information in this error message to help you determine and fix the underlying cause.\\r\\n06-16 15:09:42.303 29524 29544 I flutter : In either case, please report this assertion by filing a bug on GitHub:\\r\\n06-16 15:09:42.303 29524 29544 I flutter :   https://github.com/flutter/flutter/issues/new\\r\\n06-16 15:09:42.303 29524 29544 I flutter : \\r\\n06-16 15:09:42.303 29524 29544 I flutter : When the exception was thrown, this was the stack:\\r\\n06-16 15:09:42.311 29524 29544 I flutter : #2      RenderObject.markNeedsPaint (package:flutter/src/rendering/object.dart:2110)\\r\\n06-16 15:09:42.312 29524 29544 I flutter : #3      _RenderInkFeatures._didChangeLayout (package:flutter/src/material/material.dart:315)\\r\\n06-16 15:09:42.312 29524 29544 I flutter : #4      _MaterialState.build.<anonymous closure> (package:flutter/src/material/material.dart:228)\\r\\n06-16 15:09:42.312 29524 29544 I flutter : #5      NotificationListener._dispatch (package:flutter/src/widgets/notification_listener.dart:110)\\r\\n06-16 15:09:42.312 29524 29544 I flutter : #6      Notification.visitAncestor (package:flutter/src/widgets/notification_listener.dart:43)\\r\\n06-16 15:09:42.312 29524 29544 I flutter : #7      LayoutChangedNotification&ViewportNotificationMixin.visitAncestor (package:flutter/src/widgets/scroll_notification.dart:36)\\r\\n06-16 15:09:42.312 29524 29544 I flutter : #8      Element.visitAncestorElements (package:flutter/src/widgets/framework.dart:3103)\\r\\n06-16 15:09:42.312 29524 29544 I flutter : #9      Notification.dispatch (package:flutter/src/widgets/notification_listener.dart:57)\\r\\n06-16 15:09:42.312 29524 29544 I flutter : #10     ScrollActivity.dispatchScrollStartNotification (package:flutter/src/widgets/scroll_activity.dart:90)\\r\\n06-16 15:09:42.312 29524 29544 I flutter : #11     ScrollPosition.didStartScroll (package:flutter/src/widgets/scroll_position.dart:543)\\r\\n06-16 15:09:42.312 29524 29544 I flutter : #12     ScrollPosition.beginActivity (package:flutter/src/widgets/scroll_position.dart:535)\\r\\n06-16 15:09:42.312 29524 29544 I flutter : #13     ScrollPositionWithSingleContext.beginActivity (package:flutter/src/widgets/scroll_position_with_single_context.dart:119)\\r\\n06-16 15:09:42.312 29524 29544 I flutter : #14     ScrollPositionWithSingleContext.animateTo (package:flutter/src/widgets/scroll_position_with_single_context.dart:186)\\r\\n06-16 15:09:42.312 29524 29544 I flutter : #15     ScrollController.animateTo (package:flutter/src/widgets/scroll_controller.dart:143)\\r\\n06-16 15:09:42.312 29524 29544 I flutter : #16     EditableTextState._handleCaretChanged (package:flutter/src/widgets/editable_text.dart:463)\\r\\n06-16 15:09:42.312 29524 29544 I flutter : #17     RenderEditable._paintCaret (package:flutter/src/rendering/editable.dart:497)\\r\\n06-16 15:09:42.312 29524 29544 I flutter : #18     RenderEditable._paintContents (package:flutter/src/rendering/editable.dart:515)\\r\\n06-16 15:09:42.312 29524 29544 I flutter : #19     RenderEditable.paint (package:flutter/src/rendering/editable.dart:531)\\r\\n06-16 15:09:42.312 29524 29544 I flutter : #20     RenderObject._paintWithContext (package:flutter/src/rendering/object.dart:2259)\\r\\n06-16 15:09:42.313 29524 29544 I flutter : #21     PaintingContext.paintChild (package:flutter/src/rendering/object.dart:116)\\r\\n06-16 15:09:42.313 29524 29544 I flutter : #22     RenderBox&RenderObjectWithChildMixin&RenderProxyBoxMixin.paint (package:flutter/src/rendering/proxy_box.dart:123)\\r\\n06-16 15:09:42.313 29524 29544 I flutter : #23     RenderObject._paintWithContext (package:flutter/src/rendering/object.dart:2259)\\r\\n06-16 15:09:42.313 29524 29544 I flutter : #24     PaintingContext.paintChild (package:flutter/src/rendering/object.dart:116)\\r\\n06-16 15:09:42.313 29524 29544 I flutter : #25     RenderBox&RenderObjectWithChildMixin&RenderProxyBoxMixin.paint (package:flutter/src/rendering/proxy_box.dart:123)\\r\\n06-16 15:09:42.313 29524 29544 I flutter : #26     RenderObject._paintWithContext (package:flutter/src/rendering/object.dart:2259)\\r\\n06-16 15:09:42.313 29524 29544 I flutter : #27     PaintingContext.paintChild (package:flutter/src/rendering/object.dart:116)\\r\\n06-16 15:09:42.313 29524 29544 I flutter : #28     RenderBox&RenderObjectWithChildMixin&RenderProxyBoxMixin.paint (package:flutter/src/rendering/proxy_box.dart:123)\\r\\n06-16 15:09:42.313 29524 29544 I flutter : #29     RenderObject._paintWithContext (package:flutter/src/rendering/object.dart:2259)\\r\\n06-16 15:09:42.313 29524 29544 I flutter : #30     PaintingContext.paintChild (package:flutter/src/rendering/object.dart:116)\\r\\n06-16 15:09:42.313 29524 29544 I flutter : #31     RenderBox&RenderObjectWithChildMixin&RenderProxyBoxMixin.paint (package:flutter/src/rendering/proxy_box.dart:123)\\r\\n06-16 15:09:42.313 29524 29544 I flutter : #32     RenderObject._paintWithContext (package:flutter/src/rendering/object.dart:2259)\\r\\n06-16 15:09:42.313 29524 29544 I flutter : #33     PaintingContext.repaintCompositedChild (package:flutter/src/rendering/object.dart:96)\\r\\n06-16 15:09:42.313 29524 29544 I flutter : #34     PipelineOwner.flushPaint (package:flutter/src/rendering/object.dart:1085)\\r\\n06-16 15:09:42.313 29524 29544 I flutter : #35     BindingBase&SchedulerBinding&GestureBinding&ServicesBinding&RendererBinding.drawFrame (package:flutter/src/rendering/binding.dart:253)\\r\\n06-16 15:09:42.313 29524 29544 I flutter : #36     BindingBase&SchedulerBinding&GestureBinding&ServicesBinding&RendererBinding&WidgetsBinding.drawFrame (package:flutter/src/widgets/binding.dart:504)\\r\\n06-16 15:09:42.313 29524 29544 I flutter : #37     BindingBase&SchedulerBinding&GestureBinding&ServicesBinding&RendererBinding._handlePersistentFrameCallback (package:flutter/src/rendering/binding.dart:189)\\r\\n06-16 15:09:42.314 29524 29544 I flutter : #38     BindingBase&SchedulerBinding._invokeFrameCallback (package:flutter/src/scheduler/binding.dart:688)\\r\\n06-16 15:09:42.314 29524 29544 I flutter : #39     BindingBase&SchedulerBinding.handleDrawFrame (package:flutter/src/scheduler/binding.dart:636)\\r\\n06-16 15:09:42.314 29524 29544 I flutter : #40     _drawFrame (file:///b/build/slave/Linux_Engine/build/src/flutter/lib/ui/hooks.dart:70)\\r\\n06-16 15:09:42.314 29524 29544 I flutter : (elided 2 frames from class _AssertionError)\\r\\n06-16 15:09:42.334 29524 29544 I flutter : \\r\\n06-16 15:09:42.334 29524 29544 I flutter : The following RenderObject was being processed when the exception was fired:\\r\\n06-16 15:09:42.334 29524 29544 I flutter :   RenderEditable#1023788513 relayoutBoundary=up14\\r\\n06-16 15:09:42.334 29524 29544 I flutter :   creator: _Editable ← _ScrollableScope ← IgnorePointer-[GlobalKey#548512129] ← Listener ←\\r\\n06-16 15:09:42.334 29524 29544 I flutter :   _GestureSemantics ← RawGestureDetector-[LabeledGlobalKey<RawGestureDetectorState>#404540233] ←\\r\\n06-16 15:09:42.334 29524 29544 I flutter :   RepaintBoundary ← CustomPaint ← RepaintBoundary ← NotificationListener<ScrollNotification> ←\\r\\n06-16 15:09:42.334 29524 29544 I flutter :   GlowingOverscrollIndicator ← Scrollable ← ⋯\\r\\n06-16 15:09:42.334 29524 29544 I flutter :   parentData: <none> (can use size)\\r\\n06-16 15:09:42.334 29524 29544 I flutter :   constraints: BoxConstraints(w=339.4, 0.0<=h<=321.1)\\r\\n06-16 15:09:42.334 29524 29544 I flutter :   size: Size(339.4, 38.0)\\r\\n06-16 15:09:42.334 29524 29544 I flutter :   cursorColor: Color(0xff90caf9)\\r\\n06-16 15:09:42.334 29524 29544 I flutter :   showCursor: ValueNotifier<bool>#369763540(true)\\r\\n06-16 15:09:42.334 29524 29544 I flutter :   maxLines: 2\\r\\n06-16 15:09:42.334 29524 29544 I flutter :   selectionColor: Color(0xff90caf9)\\r\\n06-16 15:09:42.334 29524 29544 I flutter :   textScaleFactor: 1.0\\r\\n06-16 15:09:42.334 29524 29544 I flutter :   selection: TextSelection(baseOffset: -1, extentOffset: -1, affinity: TextAffinity.downstream,\\r\\n06-16 15:09:42.334 29524 29544 I flutter :   isDirectional: false)\\r\\n06-16 15:09:42.334 29524 29544 I flutter :   offset: ScrollPositionWithSingleContext#309474994(offset: 0.0, range: 0.0..0.0, viewport: 38.0,\\r\\n06-16 15:09:42.334 29524 29544 I flutter :   ScrollableState, ClampingScrollPhysics -> ClampingScrollPhysics,\\r\\n06-16 15:09:42.334 29524 29544 I flutter :   DrivenScrollActivity#359018454(AnimationController#111705517(▶ 0.000; for DrivenScrollActivity)),\\r\\n06-16 15:09:42.334 29524 29544 I flutter :   ScrollDirection.idle)\\r\\n06-16 15:09:42.334 29524 29544 I flutter : This RenderObject has no descendants.\\r\\n06-16 15:09:42.334 29524 29544 I flutter : ════════════════════════════════════════════════════════════════════════════════════════════════════\\r\\n06-16 15:09:42.345 29524 29544 E flutter : [ERROR:../../lib/tonic/logging/dart_error.cc(16)] Unhandled exception:\\r\\n06-16 15:09:42.345 29524 29544 E flutter : PlatformException(error, setSpan (-1 ... -1) starts before 0, null)\\r\\n06-16 15:09:42.345 29524 29544 E flutter : #0      JSONMethodCodec.decodeEnvelope (package:flutter/src/services/message_codecs.dart:145)\\r\\n06-16 15:09:42.345 29524 29544 E flutter : #1      MethodChannel.invokeMethod (package:flutter/src/services/platform_channel.dart:154)\\r\\n06-16 15:09:42.345 29524 29544 E flutter : <asynchronous suspension>\\r\\n06-16 15:09:42.345 29524 29544 E flutter : #2      OptionalMethodChannel.invokeMethod (package:flutter/src/services/platform_channel.dart:228)\\r\\n06-16 15:09:42.345 29524 29544 E flutter : <asynchronous suspension>\\r\\n06-16 15:09:42.345 29524 29544 E flutter : #3      TextInputConnection.setEditingState (package:flutter/src/services/text_input.dart:248)\\r\\n06-16 15:09:42.345 29524 29544 E flutter : #4      EditableTextState._updateRemoteEditingValueIfNeeded (package:flutter/src/widgets/editable_text.dart:342)\\r\\n06-16 15:09:42.345 29524 29544 E flutter : #5      EditableTextState._didChangeTextEditingValue (package:flutter/src/widgets/editable_text.dart:516)\\r\\n06-16 15:09:42.345 29524 29544 E flutter : #6      ChangeNotifier.notifyListeners (package:flutter/src/foundation/change_notifier.dart:129)\\r\\n06-16 15:09:42.345 29524 29544 E flutter : #7      ValueNotifier.value= (package:flutter/src/foundation/change_notifier.dart:184)\\r\\n06-16 15:09:42.345 29524 29544 E flutter : #8      TextEditingController.clear (package:flutter/src/widgets/editable_text.dart:95)\\r\\n06-16 15:09:42.345 29524 29544 E flutter : #9      ChatScreenState._handleSubmitted (file:///Users/nasir/flutter-work/my_friendlychat/lib/main.dart:67)\\r\\n06-16 15:09:42.345 29524 29544 E flutter : #10     ChatScreenState._buildTextComposer.<anonymous closure> (file:///Users/nasir/flutter-work/my_friendlychat/lib/main.dart:58)\\r\\n06-16 15:09:42.345 29524 29544 E flutter : #11     _InkResponseState._handleTap (package:flutter/src/material/ink_well.dart:229)\\r\\n06-16 15:09:42.345 29524 29544 E flutter : #12     GestureRecognizer.invokeCallback (package:flutter/src/gestures/recognizer.dart:67)\\r\\n06-16 15:09:42.345 29524 29544 E flutter : #13     TapGestureRecognizer._checkUp (package:flutter/src/gestures/tap.dart:149)\\r\\n06-16 15:09:42.345 29524 29544 E flutter : #14     TapGestureRecognizer.handlePrimaryPointer (package:flutter/src/gestures/tap.dart:92)\\r\\n06-16 15:09:42.345 29524 29544 E flutter : #15     PrimaryPointerGestureRecognizer.handleEvent (package:flutter/src/gestures/recognizer.dart:268)\\r\\n06-16 15:09:42.345 29524 29544 E flutter : #16     PointerRouter._dispatch (package:flutter/src/gestures/pointer_router.dart:73)\\r\\n06-16 15:09:42.345 29524 29544 E flutter : #17     PointerRouter.route (package:flutter/src/gestures/pointer_router.dart:101)\\r\\n06-16 15:09:42.345 29524 29544 E flutter : #18     BindingBase&SchedulerBinding&GestureBinding.handleEvent (package:flutter/src/gestures/binding.dart:127)\\r\\n06-16 15:09:42.345 29524 29544 E flutter : #19     BindingBase&SchedulerBinding&GestureBinding.dispatchEvent (package:flutter/src/gestures/binding.dart:105)\\r\\n06-16 15:09:42.345 29524 29544 E flutter : #20     BindingBase&SchedulerBinding&GestureBinding._handlePointerEvent (package:flutter/src/gestures/binding.dart:86)\\r\\n06-16 15:09:42.345 29524 29544 E flutter : #21     BindingBase&SchedulerBinding&GestureBinding._flushPointerEventQueue (package:flutter/src/gestures/binding.dart:45)\\r\\n06-16 15:09:42.345 29524 29544 E flutter : #22     BindingBase&SchedulerBinding&GestureBinding._handlePointerDataPacket (package:flutter/src/gestures/binding.dart:38)\\r\\n06-16 15:09:42.345 29524 29544 E flutter : #23     _dispatchPointerDataPacket (file:///b/build/slave/Linux_Engine/build/src/flutter/lib/ui/hooks.dart:55)\\r\\n06-16 15:09:44.684  1058  1068 I art     : Background sticky concurrent mark sweep GC freed 71424(4MB) AllocSpace objects, 42(4MB) LOS objects, 14% free, 50MB/59MB, paused 2.829ms total 102.627ms\\r\\n06-16 15:09:44.862 29675 29874 W JSVM    : JSVM cleanup: hasContext=true, isCleaned=false\\r\\n\\r\\n```\", 'score': 1.0, 'training_labels': {}}\n"
     ]
    }
   ],
   "source": [
    "#TODO: concat these and write to one file.\n",
    "with open('../data/flutter/flutter_issues_labeled_1.json') as json_data:\n",
    "    data1 = json.load(json_data)\n",
    "with open('../data/flutter/flutter_issues_labeled_2.json') as json_data:\n",
    "    data2 = json.load(json_data)\n",
    "with open('../data/flutter/flutter_issues_labeled_3.json') as json_data:\n",
    "    data3 = json.load(json_data)\n",
    "with open('../data/flutter/flutter_issues_labeled_4.json') as json_data:\n",
    "    data4 = json.load(json_data)\n",
    "with open('../data/flutter/flutter_issues_labeled_5.json') as json_data:\n",
    "    data5 = json.load(json_data)\n",
    "with open('../data/flutter/flutter_issues_labeled_6.json') as json_data:\n",
    "    data6 = json.load(json_data)\n",
    "data1 = [issue for issue in data1 if 'training_labels' in issue]\n",
    "data2 = [issue for issue in data2 if 'training_labels' in issue]\n",
    "data3 = [issue for issue in data3 if 'training_labels' in issue]\n",
    "data4 = [issue for issue in data4 if 'training_labels' in issue]\n",
    "data5 = [issue for issue in data5 if 'training_labels' in issue]\n",
    "data6 = [issue for issue in data6 if 'training_labels' in issue]\n",
    "print(data6[0])\n",
    "data = data1 + data2 + data3 + data4 + data5 + data6"
   ]
  },
  {
   "cell_type": "code",
   "execution_count": 16,
   "metadata": {},
   "outputs": [
    {
     "name": "stdout",
     "output_type": "stream",
     "text": [
      "num positive events: 746\n",
      "num total events: 2728\n"
     ]
    }
   ],
   "source": [
    "num_positive_labels = 0\n",
    "total_num_labels = 0\n",
    "for issue in data:\n",
    "    for assignee in issue['training_labels']:\n",
    "        if issue['training_labels'][assignee] == 1:\n",
    "            num_positive_labels += 1\n",
    "        total_num_labels += 1\n",
    "print(\"num positive events: \" + str(num_positive_labels))\n",
    "print(\"num total events: \" + str(total_num_labels))"
   ]
  },
  {
   "cell_type": "markdown",
   "metadata": {},
   "source": [
    "Now filter out any issues that never end up getting a commit/PR before they are closed. Idea being that these are not 'real' issues."
   ]
  },
  {
   "cell_type": "code",
   "execution_count": 17,
   "metadata": {},
   "outputs": [
    {
     "name": "stdout",
     "output_type": "stream",
     "text": [
      "num positive events: 746\n",
      "num total events: 846\n"
     ]
    }
   ],
   "source": [
    "num_positive_labels = 0\n",
    "total_num_labels = 0\n",
    "for issue in data:\n",
    "    for assignee in issue['training_labels']:\n",
    "        if len(issue['matching_prs']) != 0 or len(issue['matching_commits']) != 0:\n",
    "            if issue['training_labels'][assignee] == 1:\n",
    "                num_positive_labels += 1\n",
    "            total_num_labels += 1\n",
    "print(\"num positive events: \" + str(num_positive_labels))\n",
    "print(\"num total events: \" + str(total_num_labels))"
   ]
  },
  {
   "cell_type": "code",
   "execution_count": 18,
   "metadata": {},
   "outputs": [
    {
     "name": "stdout",
     "output_type": "stream",
     "text": [
      "Number of successful tasks: \n",
      "{'Hixie': 86, 'abarth': 422, 'collinjackson': 7, 'HansMuller': 63, 'devoncarew': 1, 'mpcomplete': 20, 'yjbanov': 13, 'krisgiesing': 4, 'danrubel': 8, 'xster': 5, 'sethladd': 4, 'jason-simmons': 17, 'dragostis': 5, 'jimbeveridge': 1, 'tvolkert': 13, 'pq': 3, 'aghassemi': 3, 'jakobr-google': 10, 'chinmaygarde': 1, 'gspencergoog': 15, 'dvdwasibi': 1, 'cbracken': 9, 'johnmccutchan': 4, 'goderbauer': 9, 'lequem': 1, 'mehmetf': 3, 'mravn-google': 4, 'B3rn475': 2, 'jcollins-g': 6, 'amirh': 2, 'szakarias': 4}\n",
      "Number of total tasks: \n",
      "{'abarth': 441, 'eseidelGoogle': 2, 'Hixie': 107, 'collinjackson': 11, 'HansMuller': 72, 'devoncarew': 2, 'vlidholt': 2, 'mpcomplete': 22, 'yjbanov': 18, 'krisgiesing': 5, 'danrubel': 9, 'xster': 11, 'sethladd': 7, 'jason-simmons': 18, 'aghassemi': 7, 'dragostis': 7, 'jimbeveridge': 1, 'tvolkert': 13, 'chinmaygarde': 6, 'pq': 3, 'jakobr-google': 10, 'johnmccutchan': 5, 'qchong': 1, 'cbracken': 14, 'gspencergoog': 17, 'dvdwasibi': 1, 'mit-mit': 2, 'goderbauer': 9, 'lequem': 1, 'LarkAscending': 1, 'mehmetf': 3, 'mravn-google': 4, 'B3rn475': 2, 'jcollins-g': 6, 'amirh': 2, 'szakarias': 4}\n",
      "Percentage of tasks completed: \n",
      "{'abarth': 0.9569160997732427, 'eseidelGoogle': 0.0, 'Hixie': 0.8037383177570093, 'collinjackson': 0.6363636363636364, 'HansMuller': 0.875, 'devoncarew': 0.5, 'vlidholt': 0.0, 'mpcomplete': 0.9090909090909091, 'yjbanov': 0.7222222222222222, 'krisgiesing': 0.8, 'danrubel': 0.8888888888888888, 'xster': 0.45454545454545453, 'sethladd': 0.5714285714285714, 'jason-simmons': 0.9444444444444444, 'aghassemi': 0.42857142857142855, 'dragostis': 0.7142857142857143, 'jimbeveridge': 1.0, 'tvolkert': 1.0, 'chinmaygarde': 0.16666666666666666, 'pq': 1.0, 'jakobr-google': 1.0, 'johnmccutchan': 0.8, 'qchong': 0.0, 'cbracken': 0.6428571428571429, 'gspencergoog': 0.8823529411764706, 'dvdwasibi': 1.0, 'mit-mit': 0.0, 'goderbauer': 1.0, 'lequem': 1.0, 'LarkAscending': 0.0, 'mehmetf': 1.0, 'mravn-google': 1.0, 'B3rn475': 1.0, 'jcollins-g': 1.0, 'amirh': 1.0, 'szakarias': 1.0}\n"
     ]
    }
   ],
   "source": [
    "person_counts = {}\n",
    "person_totals = {}\n",
    "for issue in data:\n",
    "    for assignee in issue['training_labels']:\n",
    "        if len(issue['matching_prs']) != 0 or len(issue['matching_commits']) != 0:\n",
    "            if issue['training_labels'][assignee] == 1:\n",
    "                person_counts[assignee] = person_counts.get(assignee, 0) + 1\n",
    "            person_totals[assignee] = person_totals.get(assignee, 0) + 1\n",
    "person_percents = {}\n",
    "for person in person_totals:\n",
    "    person_percents[person] = person_counts.get(person, 0) / person_totals[person]\n",
    "    \n",
    "print(\"Number of successful tasks: \")\n",
    "print(person_counts)\n",
    "print(\"Number of total tasks: \")\n",
    "print(person_totals)\n",
    "print(\"Percentage of tasks completed: \")\n",
    "print(person_percents)"
   ]
  },
  {
   "cell_type": "code",
   "execution_count": null,
   "metadata": {},
   "outputs": [],
   "source": []
  },
  {
   "cell_type": "code",
   "execution_count": 19,
   "metadata": {},
   "outputs": [],
   "source": [
    "#TODO: compare characteristics of issues that are successfully completed."
   ]
  },
  {
   "cell_type": "code",
   "execution_count": null,
   "metadata": {},
   "outputs": [],
   "source": []
  },
  {
   "cell_type": "code",
   "execution_count": null,
   "metadata": {},
   "outputs": [],
   "source": []
  }
 ],
 "metadata": {
  "kernelspec": {
   "display_name": "Python 3",
   "language": "python",
   "name": "python3"
  },
  "language_info": {
   "codemirror_mode": {
    "name": "ipython",
    "version": 3
   },
   "file_extension": ".py",
   "mimetype": "text/x-python",
   "name": "python",
   "nbconvert_exporter": "python",
   "pygments_lexer": "ipython3",
   "version": "3.6.5"
  }
 },
 "nbformat": 4,
 "nbformat_minor": 2
}
