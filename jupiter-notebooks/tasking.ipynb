{
 "cells": [
  {
   "cell_type": "code",
   "execution_count": 130,
   "metadata": {},
   "outputs": [],
   "source": [
    "import json\n",
    "import matplotlib.pyplot as plt\n",
    "import seaborn as sns"
   ]
  },
  {
   "cell_type": "code",
   "execution_count": 131,
   "metadata": {},
   "outputs": [
    {
     "name": "stdout",
     "output_type": "stream",
     "text": [
      "{'url': 'https://api.github.com/repos/flutter/flutter/issues/8235', 'repository_url': 'https://api.github.com/repos/flutter/flutter', 'labels_url': 'https://api.github.com/repos/flutter/flutter/issues/8235/labels{/name}', 'comments_url': 'https://api.github.com/repos/flutter/flutter/issues/8235/comments', 'events_url': 'https://api.github.com/repos/flutter/flutter/issues/8235/events', 'html_url': 'https://github.com/flutter/flutter/issues/8235', 'id': 208313759, 'number': 8235, 'title': 'Provide a constant for the padding in a material ListView', 'user': {'login': 'Hixie', 'id': 551196, 'avatar_url': 'https://avatars2.githubusercontent.com/u/551196?v=4', 'gravatar_id': '', 'url': 'https://api.github.com/users/Hixie', 'html_url': 'https://github.com/Hixie', 'followers_url': 'https://api.github.com/users/Hixie/followers', 'following_url': 'https://api.github.com/users/Hixie/following{/other_user}', 'gists_url': 'https://api.github.com/users/Hixie/gists{/gist_id}', 'starred_url': 'https://api.github.com/users/Hixie/starred{/owner}{/repo}', 'subscriptions_url': 'https://api.github.com/users/Hixie/subscriptions', 'organizations_url': 'https://api.github.com/users/Hixie/orgs', 'repos_url': 'https://api.github.com/users/Hixie/repos', 'events_url': 'https://api.github.com/users/Hixie/events{/privacy}', 'received_events_url': 'https://api.github.com/users/Hixie/received_events', 'type': 'User', 'site_admin': False}, 'labels': [{'id': 448556278, 'url': 'https://api.github.com/repos/flutter/flutter/labels/f:%20scrolling', 'name': 'f: scrolling', 'color': '207de5', 'default': False}, {'id': 284437560, 'url': 'https://api.github.com/repos/flutter/flutter/labels/framework', 'name': 'framework', 'color': '207de5', 'default': False}, {'id': 295704306, 'url': 'https://api.github.com/repos/flutter/flutter/labels/severe:%20API%20break', 'name': 'severe: API break', 'color': '900000', 'default': False}], 'state': 'closed', 'locked': False, 'assignee': {'login': 'abarth', 'id': 112007, 'avatar_url': 'https://avatars3.githubusercontent.com/u/112007?v=4', 'gravatar_id': '', 'url': 'https://api.github.com/users/abarth', 'html_url': 'https://github.com/abarth', 'followers_url': 'https://api.github.com/users/abarth/followers', 'following_url': 'https://api.github.com/users/abarth/following{/other_user}', 'gists_url': 'https://api.github.com/users/abarth/gists{/gist_id}', 'starred_url': 'https://api.github.com/users/abarth/starred{/owner}{/repo}', 'subscriptions_url': 'https://api.github.com/users/abarth/subscriptions', 'organizations_url': 'https://api.github.com/users/abarth/orgs', 'repos_url': 'https://api.github.com/users/abarth/repos', 'events_url': 'https://api.github.com/users/abarth/events{/privacy}', 'received_events_url': 'https://api.github.com/users/abarth/received_events', 'type': 'User', 'site_admin': False}, 'assignees': [{'login': 'abarth', 'id': 112007, 'avatar_url': 'https://avatars3.githubusercontent.com/u/112007?v=4', 'gravatar_id': '', 'url': 'https://api.github.com/users/abarth', 'html_url': 'https://github.com/abarth', 'followers_url': 'https://api.github.com/users/abarth/followers', 'following_url': 'https://api.github.com/users/abarth/following{/other_user}', 'gists_url': 'https://api.github.com/users/abarth/gists{/gist_id}', 'starred_url': 'https://api.github.com/users/abarth/starred{/owner}{/repo}', 'subscriptions_url': 'https://api.github.com/users/abarth/subscriptions', 'organizations_url': 'https://api.github.com/users/abarth/orgs', 'repos_url': 'https://api.github.com/users/abarth/repos', 'events_url': 'https://api.github.com/users/abarth/events{/privacy}', 'received_events_url': 'https://api.github.com/users/abarth/received_events', 'type': 'User', 'site_admin': False}], 'milestone': {'url': 'https://api.github.com/repos/flutter/flutter/milestones/20', 'html_url': 'https://github.com/flutter/flutter/milestone/20', 'labels_url': 'https://api.github.com/repos/flutter/flutter/milestones/20/labels', 'id': 2005336, 'number': 20, 'title': '2: Make Early Adopters happy', 'description': 'Support enough for us to feel confident inviting early-adopter developers to start using Flutter for their applications. They may not have every feature they need to take their app to production, but they can start their journey and we support their workflows.', 'creator': {'login': 'Hixie', 'id': 551196, 'avatar_url': 'https://avatars2.githubusercontent.com/u/551196?v=4', 'gravatar_id': '', 'url': 'https://api.github.com/users/Hixie', 'html_url': 'https://github.com/Hixie', 'followers_url': 'https://api.github.com/users/Hixie/followers', 'following_url': 'https://api.github.com/users/Hixie/following{/other_user}', 'gists_url': 'https://api.github.com/users/Hixie/gists{/gist_id}', 'starred_url': 'https://api.github.com/users/Hixie/starred{/owner}{/repo}', 'subscriptions_url': 'https://api.github.com/users/Hixie/subscriptions', 'organizations_url': 'https://api.github.com/users/Hixie/orgs', 'repos_url': 'https://api.github.com/users/Hixie/repos', 'events_url': 'https://api.github.com/users/Hixie/events{/privacy}', 'received_events_url': 'https://api.github.com/users/Hixie/received_events', 'type': 'User', 'site_admin': False}, 'open_issues': 0, 'closed_issues': 384, 'state': 'closed', 'created_at': '2016-09-14T22:22:01Z', 'updated_at': '2018-02-01T13:57:55Z', 'due_on': '2017-05-05T07:00:00Z', 'closed_at': '2017-05-22T18:00:32Z'}, 'comments': 0, 'created_at': '2017-02-17T02:21:37Z', 'updated_at': '2017-03-20T23:18:41Z', 'closed_at': '2017-03-20T23:18:41Z', 'author_association': 'CONTRIBUTOR', 'body': \"It's weird that you have to say 8.0 everywhere you use a ListView in a material app.\", 'score': 1.0, 'training_labels': {'abarth': 1}, 'matching_prs': [], 'matching_commits': [{'sha': '269538df5888a42921e5274ffdde87ac78948533', 'node_id': 'MDY6Q29tbWl0MzE3OTI4MjQ6MjY5NTM4ZGY1ODg4YTQyOTIxZTUyNzRmZmRkZTg3YWM3ODk0ODUzMw==', 'commit': {'author': {'name': 'Adam Barth', 'email': 'github@adambarth.com', 'date': '2017-03-20T23:18:41Z'}, 'committer': {'name': 'GitHub', 'email': 'noreply@github.com', 'date': '2017-03-20T23:18:41Z'}, 'message': 'Add a constant for padding in a Material ListView (#8918)\\n\\nFixes #8235', 'tree': {'sha': 'b87c4abcbb04b44f2eab5e446896beffc639e3fc', 'url': 'https://api.github.com/repos/flutter/flutter/git/trees/b87c4abcbb04b44f2eab5e446896beffc639e3fc'}, 'url': 'https://api.github.com/repos/flutter/flutter/git/commits/269538df5888a42921e5274ffdde87ac78948533', 'comment_count': 0, 'verification': {'verified': False, 'reason': 'unsigned', 'signature': None, 'payload': None}}, 'url': 'https://api.github.com/repos/flutter/flutter/commits/269538df5888a42921e5274ffdde87ac78948533', 'html_url': 'https://github.com/flutter/flutter/commit/269538df5888a42921e5274ffdde87ac78948533', 'comments_url': 'https://api.github.com/repos/flutter/flutter/commits/269538df5888a42921e5274ffdde87ac78948533/comments', 'author': {'login': 'abarth', 'id': 112007, 'node_id': 'MDQ6VXNlcjExMjAwNw==', 'avatar_url': 'https://avatars3.githubusercontent.com/u/112007?v=4', 'gravatar_id': '', 'url': 'https://api.github.com/users/abarth', 'html_url': 'https://github.com/abarth', 'followers_url': 'https://api.github.com/users/abarth/followers', 'following_url': 'https://api.github.com/users/abarth/following{/other_user}', 'gists_url': 'https://api.github.com/users/abarth/gists{/gist_id}', 'starred_url': 'https://api.github.com/users/abarth/starred{/owner}{/repo}', 'subscriptions_url': 'https://api.github.com/users/abarth/subscriptions', 'organizations_url': 'https://api.github.com/users/abarth/orgs', 'repos_url': 'https://api.github.com/users/abarth/repos', 'events_url': 'https://api.github.com/users/abarth/events{/privacy}', 'received_events_url': 'https://api.github.com/users/abarth/received_events', 'type': 'User', 'site_admin': False}, 'committer': {'login': 'web-flow', 'id': 19864447, 'node_id': 'MDQ6VXNlcjE5ODY0NDQ3', 'avatar_url': 'https://avatars3.githubusercontent.com/u/19864447?v=4', 'gravatar_id': '', 'url': 'https://api.github.com/users/web-flow', 'html_url': 'https://github.com/web-flow', 'followers_url': 'https://api.github.com/users/web-flow/followers', 'following_url': 'https://api.github.com/users/web-flow/following{/other_user}', 'gists_url': 'https://api.github.com/users/web-flow/gists{/gist_id}', 'starred_url': 'https://api.github.com/users/web-flow/starred{/owner}{/repo}', 'subscriptions_url': 'https://api.github.com/users/web-flow/subscriptions', 'organizations_url': 'https://api.github.com/users/web-flow/orgs', 'repos_url': 'https://api.github.com/users/web-flow/repos', 'events_url': 'https://api.github.com/users/web-flow/events{/privacy}', 'received_events_url': 'https://api.github.com/users/web-flow/received_events', 'type': 'User', 'site_admin': False}, 'parents': [{'sha': '31fd74230ec98efefb416106966a2bbd9014046f', 'url': 'https://api.github.com/repos/flutter/flutter/commits/31fd74230ec98efefb416106966a2bbd9014046f', 'html_url': 'https://github.com/flutter/flutter/commit/31fd74230ec98efefb416106966a2bbd9014046f'}], 'stats': {'total': 18, 'additions': 11, 'deletions': 7}, 'files': [{'sha': 'edc04da35a1e18ec74de180d82e8d6cb2e4454cd', 'filename': 'examples/flutter_gallery/lib/demo/material/menu_demo.dart', 'status': 'modified', 'additions': 1, 'deletions': 1, 'changes': 2, 'blob_url': 'https://github.com/flutter/flutter/blob/269538df5888a42921e5274ffdde87ac78948533/examples/flutter_gallery/lib/demo/material/menu_demo.dart', 'raw_url': 'https://github.com/flutter/flutter/raw/269538df5888a42921e5274ffdde87ac78948533/examples/flutter_gallery/lib/demo/material/menu_demo.dart', 'contents_url': 'https://api.github.com/repos/flutter/flutter/contents/examples/flutter_gallery/lib/demo/material/menu_demo.dart?ref=269538df5888a42921e5274ffdde87ac78948533', 'patch': '@@ -84,7 +84,7 @@ class MenuDemoState extends State<MenuDemo> {\\n         ]\\n       ),\\n       body: new ListView(\\n-        padding: const EdgeInsets.symmetric(vertical: 8.0),\\n+        padding: kMaterialListPadding,\\n         children: <Widget>[\\n           // Pressing the PopupMenuButton on the right of this item shows\\n           // a simple menu with one disabled item. Typically the contents'}, {'sha': '21ff0a75cf1f3b61ab805f5ade755ae07cb269ce', 'filename': 'examples/flutter_gallery/lib/demo/material/overscroll_demo.dart', 'status': 'modified', 'additions': 1, 'deletions': 1, 'changes': 2, 'blob_url': 'https://github.com/flutter/flutter/blob/269538df5888a42921e5274ffdde87ac78948533/examples/flutter_gallery/lib/demo/material/overscroll_demo.dart', 'raw_url': 'https://github.com/flutter/flutter/raw/269538df5888a42921e5274ffdde87ac78948533/examples/flutter_gallery/lib/demo/material/overscroll_demo.dart', 'contents_url': 'https://api.github.com/repos/flutter/flutter/contents/examples/flutter_gallery/lib/demo/material/overscroll_demo.dart?ref=269538df5888a42921e5274ffdde87ac78948533', 'patch': '@@ -60,7 +60,7 @@ class OverscrollDemoState extends State<OverscrollDemo> {\\n         key: _refreshIndicatorKey,\\n         onRefresh: _handleRefresh,\\n         child: new ListView.builder(\\n-          padding: const EdgeInsets.all(8.0),\\n+          padding: kMaterialListPadding,\\n           itemCount: _items.length,\\n           itemBuilder: (BuildContext context, int index) {\\n             final String item = _items[index];'}, {'sha': '5fadb7666ad77490197821090c45d7d7572cfade', 'filename': 'examples/flutter_gallery/lib/demo/shrine/shrine_page.dart', 'status': 'modified', 'additions': 1, 'deletions': 1, 'changes': 2, 'blob_url': 'https://github.com/flutter/flutter/blob/269538df5888a42921e5274ffdde87ac78948533/examples/flutter_gallery/lib/demo/shrine/shrine_page.dart', 'raw_url': 'https://github.com/flutter/flutter/raw/269538df5888a42921e5274ffdde87ac78948533/examples/flutter_gallery/lib/demo/shrine/shrine_page.dart', 'contents_url': 'https://api.github.com/repos/flutter/flutter/contents/examples/flutter_gallery/lib/demo/shrine/shrine_page.dart?ref=269538df5888a42921e5274ffdde87ac78948533', 'patch': '@@ -59,7 +59,7 @@ class ShrinePageState extends State<ShrinePage> {\\n         );\\n       }\\n       return new ListView(\\n-        padding: const EdgeInsets.symmetric(vertical: 8.0),\\n+        padding: kMaterialListPadding,\\n         children: config.shoppingCart.values.map((Order order) {\\n           return new ListTile(\\n             title: new Text(order.product.name),'}, {'sha': 'a1564101140b605907a4b26c9d03d6d71479be8c', 'filename': 'packages/flutter/lib/src/material/constants.dart', 'status': 'modified', 'additions': 4, 'deletions': 0, 'changes': 4, 'blob_url': 'https://github.com/flutter/flutter/blob/269538df5888a42921e5274ffdde87ac78948533/packages/flutter/lib/src/material/constants.dart', 'raw_url': 'https://github.com/flutter/flutter/raw/269538df5888a42921e5274ffdde87ac78948533/packages/flutter/lib/src/material/constants.dart', 'contents_url': 'https://api.github.com/repos/flutter/flutter/contents/packages/flutter/lib/src/material/constants.dart?ref=269538df5888a42921e5274ffdde87ac78948533', 'patch': \"@@ -2,6 +2,8 @@\\n // Use of this source code is governed by a BSD-style license that can be\\n // found in the LICENSE file.\\n \\n+import 'package:flutter/painting.dart';\\n+\\n /// The height of the toolbar component of the [AppBar].\\n const double kToolbarHeight = 56.0;\\n \\n@@ -25,3 +27,5 @@ const int kRadialReactionAlpha = 0x33;\\n \\n /// The duration\\n const Duration kTabScrollDuration = const Duration(milliseconds: 200);\\n+\\n+const EdgeInsets kMaterialListPadding = const EdgeInsets.symmetric(vertical: 8.0);\"}, {'sha': 'e0fc5d8b0818df2bdb9478737114b5f8493a3793', 'filename': 'packages/flutter/lib/src/material/dropdown.dart', 'status': 'modified', 'additions': 4, 'deletions': 4, 'changes': 8, 'blob_url': 'https://github.com/flutter/flutter/blob/269538df5888a42921e5274ffdde87ac78948533/packages/flutter/lib/src/material/dropdown.dart', 'raw_url': 'https://github.com/flutter/flutter/raw/269538df5888a42921e5274ffdde87ac78948533/packages/flutter/lib/src/material/dropdown.dart', 'contents_url': 'https://api.github.com/repos/flutter/flutter/contents/packages/flutter/lib/src/material/dropdown.dart?ref=269538df5888a42921e5274ffdde87ac78948533', 'patch': \"@@ -9,6 +9,7 @@ import 'package:flutter/scheduler.dart';\\n import 'package:flutter/widgets.dart';\\n \\n import 'colors.dart';\\n+import 'constants.dart';\\n import 'debug.dart';\\n import 'icon.dart';\\n import 'icons.dart';\\n@@ -21,7 +22,6 @@ import 'theme.dart';\\n const Duration _kDropdownMenuDuration = const Duration(milliseconds: 300);\\n const double _kMenuItemHeight = 48.0;\\n const double _kDenseButtonHeight = 24.0;\\n-const EdgeInsets _kMenuVerticalPadding = const EdgeInsets.symmetric(vertical: 8.0);\\n const EdgeInsets _kMenuHorizontalPadding = const EdgeInsets.symmetric(horizontal: 16.0);\\n \\n class _DropdownMenuPainter extends CustomPainter {\\n@@ -49,7 +49,7 @@ class _DropdownMenuPainter extends CustomPainter {\\n \\n   @override\\n   void paint(Canvas canvas, Size size) {\\n-    final double selectedItemOffset = selectedIndex * _kMenuItemHeight + _kMenuVerticalPadding.top;\\n+    final double selectedItemOffset = selectedIndex * _kMenuItemHeight + kMaterialListPadding.top;\\n     final Tween<double> top = new Tween<double>(\\n       begin: selectedItemOffset.clamp(0.0, size.height - _kMenuItemHeight),\\n       end: 0.0,\\n@@ -178,7 +178,7 @@ class _DropdownMenuState<T> extends State<_DropdownMenu<T>> {\\n             child: new Scrollbar(\\n               child: new ListView(\\n                 controller: config.route.scrollController,\\n-                padding: _kMenuVerticalPadding,\\n+                padding: kMaterialListPadding,\\n                 itemExtent: _kMenuItemHeight,\\n                 shrinkWrap: true,\\n                 children: children,\\n@@ -219,7 +219,7 @@ class _DropdownMenuRouteLayout<T> extends SingleChildLayoutDelegate {\\n   @override\\n   Offset getPositionForChild(Size size, Size childSize) {\\n     final double buttonTop = buttonRect.top;\\n-    final double selectedItemOffset = selectedIndex * _kMenuItemHeight + _kMenuVerticalPadding.top;\\n+    final double selectedItemOffset = selectedIndex * _kMenuItemHeight + kMaterialListPadding.top;\\n     double top = (buttonTop - selectedItemOffset) - (_kMenuItemHeight - buttonRect.height) / 2.0;\\n     final double topPreferredLimit = _kMenuItemHeight;\\n     if (top < topPreferredLimit)\"}]}]}\n"
     ]
    }
   ],
   "source": [
    "#TODO: concat these and write to one file.\n",
    "with open('../data/flutter/flutter_issues_labeled_1.json') as json_data:\n",
    "    data1 = json.load(json_data)\n",
    "with open('../data/flutter/flutter_issues_labeled_2.json') as json_data:\n",
    "    data2 = json.load(json_data)\n",
    "with open('../data/flutter/flutter_issues_labeled_3.json') as json_data:\n",
    "    data3 = json.load(json_data)\n",
    "with open('../data/flutter/flutter_issues_labeled_4.json') as json_data:\n",
    "    data4 = json.load(json_data)\n",
    "with open('../data/flutter/flutter_issues_labeled_5.json') as json_data:\n",
    "    data5 = json.load(json_data)\n",
    "data1 = [issue for issue in data1 if 'training_labels' in issue]\n",
    "data2 = [issue for issue in data2 if 'training_labels' in issue]\n",
    "data3 = [issue for issue in data3 if 'training_labels' in issue]\n",
    "data4 = [issue for issue in data4 if 'training_labels' in issue]\n",
    "data5 = [issue for issue in data5 if 'training_labels' in issue]\n",
    "print(data5[0])\n",
    "data = data1 + data2 + data3 + data4 + data5"
   ]
  },
  {
   "cell_type": "markdown",
   "metadata": {},
   "source": [
    "TODO: concat the above dicts into one file..."
   ]
  },
  {
   "cell_type": "code",
   "execution_count": 132,
   "metadata": {},
   "outputs": [
    {
     "name": "stdout",
     "output_type": "stream",
     "text": [
      "num positive events: 713\n",
      "num total events: 2434\n"
     ]
    }
   ],
   "source": [
    "num_positive_labels = 0\n",
    "total_num_labels = 0\n",
    "for issue in data:\n",
    "    for assignee in issue['training_labels']:\n",
    "        if issue['training_labels'][assignee] == 1:\n",
    "            num_positive_labels += 1\n",
    "        total_num_labels += 1\n",
    "print(\"num positive events: \" + str(num_positive_labels))\n",
    "print(\"num total events: \" + str(total_num_labels))"
   ]
  },
  {
   "cell_type": "markdown",
   "metadata": {},
   "source": [
    "Now filter out any issues that never end up getting a commit/PR before they are closed. Idea being that these are not 'real' issues."
   ]
  },
  {
   "cell_type": "code",
   "execution_count": 133,
   "metadata": {},
   "outputs": [
    {
     "name": "stdout",
     "output_type": "stream",
     "text": [
      "num positive events: 713\n",
      "num total events: 809\n"
     ]
    }
   ],
   "source": [
    "num_positive_labels = 0\n",
    "total_num_labels = 0\n",
    "for issue in data:\n",
    "    for assignee in issue['training_labels']:\n",
    "        if len(issue['matching_prs']) != 0 or len(issue['matching_commits']) != 0:\n",
    "            if issue['training_labels'][assignee] == 1:\n",
    "                num_positive_labels += 1\n",
    "            total_num_labels += 1\n",
    "print(\"num positive events: \" + str(num_positive_labels))\n",
    "print(\"num total events: \" + str(total_num_labels))"
   ]
  },
  {
   "cell_type": "code",
   "execution_count": 134,
   "metadata": {},
   "outputs": [
    {
     "name": "stdout",
     "output_type": "stream",
     "text": [
      "Number of successful tasks: \n",
      "{'Hixie': 85, 'abarth': 414, 'collinjackson': 12, 'HansMuller': 63, 'devoncarew': 1, 'mpcomplete': 20, 'yjbanov': 10, 'krisgiesing': 4, 'danrubel': 8, 'xster': 3, 'sethladd': 4, 'jason-simmons': 13, 'dragostis': 5, 'jimbeveridge': 1, 'tvolkert': 10, 'pq': 6, 'aghassemi': 3, 'jakobr-google': 24, 'chinmaygarde': 1, 'gspencergoog': 3, 'dvdwasibi': 1, 'cbracken': 3, 'johnmccutchan': 9, 'goderbauer': 2, 'lequem': 1, 'mehmetf': 2, 'sivachandra': 1, 'mravn-google': 3, 'jcollins-g': 1}\n",
      "Number of total tasks: \n",
      "{'abarth': 433, 'eseidelGoogle': 2, 'Hixie': 103, 'collinjackson': 17, 'HansMuller': 73, 'devoncarew': 2, 'vlidholt': 2, 'mpcomplete': 22, 'yjbanov': 11, 'krisgiesing': 5, 'danrubel': 9, 'xster': 5, 'sethladd': 8, 'jason-simmons': 14, 'aghassemi': 7, 'dragostis': 7, 'jimbeveridge': 1, 'tvolkert': 11, 'chinmaygarde': 7, 'pq': 6, 'jakobr-google': 24, 'johnmccutchan': 10, 'qchong': 1, 'cbracken': 6, 'gspencergoog': 3, 'dvdwasibi': 1, 'mit-mit': 2, 'goderbauer': 3, 'lequem': 1, 'LarkAscending': 2, 'mehmetf': 2, 'mravn-google': 4, 'sivachandra': 1, 'szakarias': 1, 'kevmoo': 1, 'a-siva': 1, 'jcollins-g': 1}\n",
      "Percentage of tasks completed: \n",
      "{'abarth': 0.9561200923787528, 'eseidelGoogle': 0.0, 'Hixie': 0.8252427184466019, 'collinjackson': 0.7058823529411765, 'HansMuller': 0.863013698630137, 'devoncarew': 0.5, 'vlidholt': 0.0, 'mpcomplete': 0.9090909090909091, 'yjbanov': 0.9090909090909091, 'krisgiesing': 0.8, 'danrubel': 0.8888888888888888, 'xster': 0.6, 'sethladd': 0.5, 'jason-simmons': 0.9285714285714286, 'aghassemi': 0.42857142857142855, 'dragostis': 0.7142857142857143, 'jimbeveridge': 1.0, 'tvolkert': 0.9090909090909091, 'chinmaygarde': 0.14285714285714285, 'pq': 1.0, 'jakobr-google': 1.0, 'johnmccutchan': 0.9, 'qchong': 0.0, 'cbracken': 0.5, 'gspencergoog': 1.0, 'dvdwasibi': 1.0, 'mit-mit': 0.0, 'goderbauer': 0.6666666666666666, 'lequem': 1.0, 'LarkAscending': 0.0, 'mehmetf': 1.0, 'mravn-google': 0.75, 'sivachandra': 1.0, 'szakarias': 0.0, 'kevmoo': 0.0, 'a-siva': 0.0, 'jcollins-g': 1.0}\n"
     ]
    }
   ],
   "source": [
    "person_counts = {}\n",
    "person_totals = {}\n",
    "for issue in data:\n",
    "    for assignee in issue['training_labels']:\n",
    "        if len(issue['matching_prs']) != 0 or len(issue['matching_commits']) != 0:\n",
    "            if issue['training_labels'][assignee] == 1:\n",
    "                person_counts[assignee] = person_counts.get(assignee, 0) + 1\n",
    "            person_totals[assignee] = person_totals.get(assignee, 0) + 1\n",
    "person_percents = {}\n",
    "for person in person_totals:\n",
    "    person_percents[person] = person_counts.get(person, 0) / person_totals[person]\n",
    "    \n",
    "print(\"Number of successful tasks: \")\n",
    "print(person_counts)\n",
    "print(\"Number of total tasks: \")\n",
    "print(person_totals)\n",
    "print(\"Percentage of tasks completed: \")\n",
    "print(person_percents)"
   ]
  },
  {
   "cell_type": "code",
   "execution_count": null,
   "metadata": {},
   "outputs": [],
   "source": []
  },
  {
   "cell_type": "code",
   "execution_count": 135,
   "metadata": {},
   "outputs": [],
   "source": [
    "#TODO: compare characteristics of issues that are successfully completed."
   ]
  },
  {
   "cell_type": "code",
   "execution_count": null,
   "metadata": {},
   "outputs": [],
   "source": []
  },
  {
   "cell_type": "code",
   "execution_count": null,
   "metadata": {},
   "outputs": [],
   "source": []
  }
 ],
 "metadata": {
  "kernelspec": {
   "display_name": "Python 3",
   "language": "python",
   "name": "python3"
  },
  "language_info": {
   "codemirror_mode": {
    "name": "ipython",
    "version": 3
   },
   "file_extension": ".py",
   "mimetype": "text/x-python",
   "name": "python",
   "nbconvert_exporter": "python",
   "pygments_lexer": "ipython3",
   "version": "3.6.5"
  }
 },
 "nbformat": 4,
 "nbformat_minor": 2
}
