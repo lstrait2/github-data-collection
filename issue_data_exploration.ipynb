{
 "cells": [
  {
   "cell_type": "markdown",
   "metadata": {},
   "source": [
    "# Exploration of Issue Data from React Repository"
   ]
  },
  {
   "cell_type": "code",
   "execution_count": 1,
   "metadata": {},
   "outputs": [],
   "source": [
    "import operator\n",
    "import json\n",
    "import matplotlib.pyplot as plt\n",
    "import numpy as np\n",
    "import pandas as pd\n",
    "import seaborn as sns\n",
    "from classifier import *\n",
    "from issues import *"
   ]
  },
  {
   "cell_type": "markdown",
   "metadata": {},
   "source": [
    "## Issue Data Summary"
   ]
  },
  {
   "cell_type": "code",
   "execution_count": 2,
   "metadata": {},
   "outputs": [
    {
     "name": "stdout",
     "output_type": "stream",
     "text": [
      "5575 closed issues\n",
      "379 open issues\n"
     ]
    }
   ],
   "source": [
    "with open('data/react/react_issues_closed.json') as f:\n",
    "    closed_issues = json.load(f)\n",
    "print(str(len(closed_issues)) + ' closed issues')\n",
    "with open('data/react/react_issues_open.json') as f:\n",
    "    open_issues = json.load(f)\n",
    "print(str(len(open_issues)) + ' open issues')"
   ]
  },
  {
   "cell_type": "code",
   "execution_count": 3,
   "metadata": {},
   "outputs": [
    {
     "data": {
      "text/plain": [
       "[{'url': 'https://api.github.com/repos/facebook/react/issues/12903',\n",
       "  'repository_url': 'https://api.github.com/repos/facebook/react',\n",
       "  'labels_url': 'https://api.github.com/repos/facebook/react/issues/12903/labels{/name}',\n",
       "  'comments_url': 'https://api.github.com/repos/facebook/react/issues/12903/comments',\n",
       "  'events_url': 'https://api.github.com/repos/facebook/react/issues/12903/events',\n",
       "  'html_url': 'https://github.com/facebook/react/issues/12903',\n",
       "  'id': 326290102,\n",
       "  'number': 12903,\n",
       "  'title': 'Extract react prop from ref',\n",
       "  'user': {'login': 'gk159yo',\n",
       "   'id': 18729755,\n",
       "   'avatar_url': 'https://avatars3.githubusercontent.com/u/18729755?v=4',\n",
       "   'gravatar_id': '',\n",
       "   'url': 'https://api.github.com/users/gk159yo',\n",
       "   'html_url': 'https://github.com/gk159yo',\n",
       "   'followers_url': 'https://api.github.com/users/gk159yo/followers',\n",
       "   'following_url': 'https://api.github.com/users/gk159yo/following{/other_user}',\n",
       "   'gists_url': 'https://api.github.com/users/gk159yo/gists{/gist_id}',\n",
       "   'starred_url': 'https://api.github.com/users/gk159yo/starred{/owner}{/repo}',\n",
       "   'subscriptions_url': 'https://api.github.com/users/gk159yo/subscriptions',\n",
       "   'organizations_url': 'https://api.github.com/users/gk159yo/orgs',\n",
       "   'repos_url': 'https://api.github.com/users/gk159yo/repos',\n",
       "   'events_url': 'https://api.github.com/users/gk159yo/events{/privacy}',\n",
       "   'received_events_url': 'https://api.github.com/users/gk159yo/received_events',\n",
       "   'type': 'User',\n",
       "   'site_admin': False},\n",
       "  'labels': [],\n",
       "  'state': 'closed',\n",
       "  'locked': False,\n",
       "  'assignee': None,\n",
       "  'assignees': [],\n",
       "  'milestone': None,\n",
       "  'comments': 1,\n",
       "  'created_at': '2018-05-24T20:53:24Z',\n",
       "  'updated_at': '2018-05-25T01:21:59Z',\n",
       "  'closed_at': '2018-05-25T01:21:41Z',\n",
       "  'author_association': 'NONE',\n",
       "  'body': \"Hello, I have the following problem and was wondering if this is a documentation issue, or if react doesn't support this behavior.\\r\\nLet's say you have the following HTML:\\r\\n```HTML\\r\\n<span onMouseDown=bound clearValue> /* onMouseDown appears to be a prop */\\r\\n</span>\\r\\n```\\r\\nAnd you have a library that allows you to specify the child of the `span` node. Namely, passing in the following function to the library\\r\\n```JavaScript\\r\\nspanChildRenderer = () => {\\r\\n    return <div ref = (element) => this.spanRef = element.parentNode;\\r\\n};\\r\\n```\\r\\nwould render the following:\\r\\n```HTML\\r\\n<span ...>\\r\\n    <div ...>\\r\\n    </div>\\r\\n</span>\\r\\n```\\r\\nNow, when I use the following, the click event isn't happening:\\r\\n```JavaScript\\r\\nthis.spanRef.click()\\r\\n```\\r\\n\\r\\nI've tried many variations of the above (tried using `element.parentElement` instead of `element.parentNode`; the behavior didn't change, so I'm not sure the two attributes are different anymore).\\r\\n\\r\\nSo the problem is inability to refer to the react prop using the ref.\\r\\nThanks!\\r\\n\\r\\n\\r\\n__If anything in the explanation above is confusing/under-clarified, please let me know.__\",\n",
       "  'score': 1.0}]"
      ]
     },
     "execution_count": 3,
     "metadata": {},
     "output_type": "execute_result"
    }
   ],
   "source": [
    "get_issue_by_title(closed_issues, \"Extract react prop from ref\")"
   ]
  },
  {
   "cell_type": "markdown",
   "metadata": {},
   "source": [
    "### Issues that are classified as trivial or documentation changes are labeled 'True', all other issues are labeled as 'False'."
   ]
  },
  {
   "cell_type": "code",
   "execution_count": 4,
   "metadata": {},
   "outputs": [
    {
     "data": {
      "text/plain": [
       "Text(0.5,1,'open issue labels')"
      ]
     },
     "execution_count": 4,
     "metadata": {},
     "output_type": "execute_result"
    },
    {
     "data": {
      "image/png": "[encoded data removed]",
      "text/plain": [
       "<Figure size 432x288 with 2 Axes>"
      ]
     },
     "metadata": {},
     "output_type": "display_data"
    }
   ],
   "source": [
    "closed_labels = classify_issues(closed_issues)\n",
    "open_labels = classify_issues(open_issues)\n",
    "\n",
    "ig, (ax1, ax2) = plt.subplots(ncols=2, sharey=True)\n",
    "sns.countplot(closed_labels, ax=ax1).set_title(\"closed issue labels\")\n",
    "sns.countplot(open_labels, ax=ax2).set_title(\"open issue labels\")"
   ]
  },
  {
   "cell_type": "code",
   "execution_count": 5,
   "metadata": {},
   "outputs": [],
   "source": [
    "pos_issues_closed = [issue for (i,issue) in enumerate(closed_issues) if closed_labels[i]]\n",
    "neg_issues_closed = [issue for (i,issue) in enumerate(closed_issues) if not closed_labels[i]]\n",
    "pos_issues_open = [issue for (i,issue) in enumerate(open_issues) if open_labels[i]]\n",
    "neg_issues_open = [issue for (i,issue) in enumerate(open_issues) if not open_labels[i]]"
   ]
  },
  {
   "cell_type": "markdown",
   "metadata": {},
   "source": [
    "## Exploration of Positive Labeled Issues"
   ]
  },
  {
   "cell_type": "code",
   "execution_count": 6,
   "metadata": {},
   "outputs": [
    {
     "name": "stdout",
     "output_type": "stream",
     "text": [
      "positive label titles: \n",
      "\t\"fix docs rake \"update_version\" command to strip trailing spaces\"\n",
      "\t\"docs don't even mention reconciliation!\"\n",
      "\t\"jsx page gives 404 - linked from \"why react\" blog post\"\n",
      "\t\"stop requiring docblock for jsx transformer\"\n",
      "\t\"document forms changes / best practices\"\n",
      "\t\"better event docs\"\n",
      "\t\"few issues in the (upcoming) doc\"\n",
      "\t\"docblock parsing fails with \\r\\n\"\n",
      "\t\"link to cdnjs in docs\"\n",
      "\t\"old jsfiddle links in docs\"\n",
      "\t\"generate docs using jsdoc (or something).\"\n",
      "\t\"react broken in safari 5.1.1\"\n",
      "\t\"fails on whole-document rendering\"\n",
      "\t\"support onmouseover\"\n",
      "\t\"docco-style documentation\"\n",
      "\t\"documentation - createclass and rendercomponent too vague, add more links\"\n",
      "\t\"fix direct uses of document and global\"\n",
      "\t\"get rid of sanitize dependency in docs\"\n",
      "\t\"add a link in each warning to doc pages \"\n",
      "\t\"document selection and composition events on reference page\"\n"
     ]
    }
   ],
   "source": [
    "# Print a sample of positive label titles\n",
    "print(\"positive label titles: \")\n",
    "for issue in pos_issues_closed[:20]:\n",
    "    print (\"\\t\" + \"\\\"\" + issue['title'] + \"\\\"\")"
   ]
  },
  {
   "cell_type": "markdown",
   "metadata": {},
   "source": [
    "### The classifier misclassifies some examples as documentation/trivial issues that are more complex upon manual inspection. Example below is an issue that was flagged despite being a significant code change with a lot of discussion around it."
   ]
  },
  {
   "cell_type": "code",
   "execution_count": 7,
   "metadata": {},
   "outputs": [
    {
     "name": "stdout",
     "output_type": "stream",
     "text": [
      "title: null props considered differently in getdefaultprops vs. isrequired\n",
      "\n",
      "body: in the case a `null` argument is passed to a property marked as `isrequired`:http://jsfiddle.net/jeanlauliac/0n6snb6b/1/we'll get a proper warning in the console: `warning: required prop `name` was not specified in `hello`.` (though it should probably be \"prop was null\" and not \"prop was not specified\", but anyway)on the other hand, the default value is only used when the prop is `undefined`, but not when it's `null`. is this the explicitly wanted behavior? if it is, then we should probably make the documentation explicit about it (http://facebook.github.io/react/docs/reusable-components.html), giving the entire responsibility to component callers of safeguarding against `null`.\n"
     ]
    }
   ],
   "source": [
    "misclass_issue = get_issue_by_title(pos_issues_closed, \"null props considered differently in getdefaultprops vs. isrequired\")\n",
    "print('title: ' + misclass_issue[0]['title'])\n",
    "print('')\n",
    "print('body: ' + misclass_issue[0]['body'])"
   ]
  },
  {
   "cell_type": "markdown",
   "metadata": {},
   "source": [
    "## Exploration of Negative Labeled Issues"
   ]
  },
  {
   "cell_type": "code",
   "execution_count": 8,
   "metadata": {},
   "outputs": [
    {
     "name": "stdout",
     "output_type": "stream",
     "text": [
      "negative label titles: \n",
      "\t\"can't require() react-tools module\"\n",
      "\t\"write tests for react-tools module\"\n",
      "\t\"must adding comments for jsx?\"\n",
      "\t\"small update to bower command\"\n",
      "\t\"make valid npm release\"\n",
      "\t\"react in requirejs ?\"\n",
      "\t\"is es5-sham required for ie8?\"\n",
      "\t\"uncaught syntaxerror: unexpected token < \"\n",
      "\t\"work with compile-to-js languages (like coffeescript)\"\n",
      "\t\"the name \"jsx\" is already taken, use \"xjs\" instead?\"\n",
      "\t\"jsx not able to watch subdirs\"\n",
      "\t\"jsx whitespace coalescing should work like regular html\"\n",
      "\t\"automatically bind scope of all user provided methods.\"\n",
      "\t\"jsx offline transform exits with error code 1 on any change (ubuntu 12.10)\"\n",
      "\t\"allow namespacing in component names in jsx\"\n",
      "\t\"ordering of componentdidmount events\"\n",
      "\t\"preserve line numbers in \"grunt test\"\"\n",
      "\t\"grunt test just hangs\"\n",
      "\t\"bin/jsx should not relativize required module ids unless --relativize is passed\"\n",
      "\t\"support comments in jsx\"\n"
     ]
    }
   ],
   "source": [
    "print(\"negative label titles: \")\n",
    "for issue in neg_issues_closed[:20]:\n",
    "    print (\"\\t\" + \"\\\"\" + issue['title'] + \"\\\"\")"
   ]
  },
  {
   "cell_type": "markdown",
   "metadata": {},
   "source": [
    "### The classifier misses some examples that upon further inspection are clearly simple changes. Example below is an issue that was resolved by simply changing a single URL in a markdown file."
   ]
  },
  {
   "cell_type": "code",
   "execution_count": 9,
   "metadata": {},
   "outputs": [
    {
     "name": "stdout",
     "output_type": "stream",
     "text": [
      "title: small update to bower command\n",
      "\n",
      "body: it could be preferable to use:```bower install --save react```so that the installation is automatically saved in the `bower.json`.\n"
     ]
    }
   ],
   "source": [
    "misclass_issue = get_issue_by_title(neg_issues_closed, 'small update to bower command')\n",
    "print('title: ' + misclass_issue[0]['title'])\n",
    "print('')\n",
    "print('body: ' + misclass_issue[0]['body'])"
   ]
  },
  {
   "cell_type": "markdown",
   "metadata": {},
   "source": [
    "## Comparsion of Issue Classes"
   ]
  },
  {
   "cell_type": "code",
   "execution_count": 10,
   "metadata": {},
   "outputs": [
    {
     "name": "stdout",
     "output_type": "stream",
     "text": [
      "Top words in Negative Issue Titles: \n",
      "\treact: 0.024837738859276984\n",
      "\tcomponent: 0.01232822074767033\n",
      "\terror: 0.010624025526668843\n",
      "\twarning: 0.007324413503027666\n",
      "\trender: 0.007251894557453135\n",
      "\tusing: 0.00645418615613329\n",
      "\tevent: 0.00645418615613329\n",
      "\tdom: 0.0063816672105587585\n",
      "\tjsx: 0.006345407737771493\n",
      "\tcomponents: 0.006309148264984227\n",
      "\tinput: 0.005874034591537039\n",
      "\telement: 0.005438920918089851\n",
      "\tdoesnt: 0.005402661445302585\n",
      "\tproperty: 0.005148845135791726\n",
      "\trendering: 0.004931288299068131\n",
      "\tadd: 0.004895028826280866\n",
      "\tsupport: 0.004532434098408209\n",
      "\tattribute: 0.004532434098408209\n",
      "\tvalue: 0.004459915152833678\n",
      "\tprops: 0.0042786177888973495\n",
      "\tstate: 0.004242358316110084\n",
      "\twork: 0.004133579897748286\n",
      "\tfunction: 0.004097320424961021\n",
      "\tsetstate: 0.004024801479386489\n",
      "\tupdate: 0.003879763588237427\n",
      "\tnull: 0.0038435041154501613\n",
      "\tundefined: 0.0038072446426628955\n",
      "\tcannot: 0.0036259472787265675\n",
      "\thtml: 0.00351716886036477\n",
      "\tchildren: 0.003444649914790239\n",
      "\n",
      "Top words in Positive Issue Titles: \n",
      "\tdocs: 0.0423981450811527\n",
      "\tdocumentation: 0.025173898641934415\n",
      "\tdocument: 0.02285525008280888\n",
      "\treact: 0.022524014574362372\n",
      "\tlink: 0.010268300761841669\n",
      "\tupdate: 0.009937065253395164\n",
      "\tcomponent: 0.009937065253395164\n",
      "\tjsx: 0.0076184166942696255\n",
      "\tadd: 0.0076184166942696255\n",
      "\tdoc: 0.006955945677376615\n",
      "\tcomponents: 0.006624710168930109\n",
      "\tlinks: 0.0059622391520370984\n",
      "\tpage: 0.005631003643590593\n",
      "\trender: 0.005299768135144088\n",
      "\tevent: 0.004637297118251077\n",
      "\tdoesnt: 0.004637297118251077\n",
      "\tnew: 0.004637297118251077\n",
      "\trendering: 0.004306061609804571\n",
      "\tinput: 0.004306061609804571\n",
      "\terror: 0.004306061609804571\n",
      "\tstate: 0.004306061609804571\n",
      "\tusing: 0.003974826101358066\n",
      "\tsupport: 0.003974826101358066\n",
      "\twarning: 0.003974826101358066\n",
      "\tcallback: 0.003974826101358066\n",
      "\ttutorial: 0.003974826101358066\n",
      "\trefs: 0.003974826101358066\n",
      "\tabout: 0.00364359059291156\n",
      "\trequest: 0.00364359059291156\n",
      "\tcode: 0.00364359059291156\n"
     ]
    }
   ],
   "source": [
    "neg_issues_freqs = sorted(get_word_freq_title(neg_issues_closed).items(), key=lambda x: x[1], reverse=True)\n",
    "pos_issues_freqs = sorted(get_word_freq_title(pos_issues_closed).items(), key=lambda x: x[1], reverse=True)\n",
    "\n",
    "# print top 20 words for negative issues\n",
    "print(\"Top words in Negative Issue Titles: \")\n",
    "for (word, freq) in neg_issues_freqs[:30]:\n",
    "    print(\"\\t\" + word + \": \" + str(freq))\n",
    "print(\"\")\n",
    "# print top 20 words for positive issues\n",
    "print(\"Top words in Positive Issue Titles: \")\n",
    "for (word, freq) in pos_issues_freqs[:30]:\n",
    "    print(\"\\t\" + word + \": \" + str(freq))"
   ]
  },
  {
   "cell_type": "code",
   "execution_count": 11,
   "metadata": {},
   "outputs": [],
   "source": [
    "#TODO: list words with biggest differences between the two classes"
   ]
  },
  {
   "cell_type": "code",
   "execution_count": 12,
   "metadata": {},
   "outputs": [
    {
     "name": "stdout",
     "output_type": "stream",
     "text": [
      "Top words in Negative Issue Bodies: \n",
      "\treact: 0.01586811577096404\n",
      "\tcomponent: 0.007496723777356081\n",
      "\trender: 0.006416251274927288\n",
      "\treturn: 0.006337561400800821\n",
      "\tdiv: 0.006155969383585897\n",
      "\tfunction: 0.005471972785409686\n",
      "\tlike: 0.005223797028549292\n",
      "\tusing: 0.004564012699335071\n",
      "\terror: 0.004488349358828853\n",
      "\tversions: 0.004473216690727609\n",
      "\tissue: 0.004267412404550696\n",
      "\texpected: 0.004267412404550696\n",
      "\tcurrent: 0.00420990826576597\n",
      "\twork: 0.004001077445968808\n",
      "\tcode: 0.0035652566046529928\n",
      "\tmodule: 0.003435115658982298\n",
      "\tbehavior: 0.003389717654678567\n",
      "\tget: 0.003087064292653695\n",
      "\tbrowser: 0.0030658785573119537\n",
      "\tone: 0.0030325866874892178\n",
      "\tother: 0.002978109082324741\n",
      "\tbug: 0.002890339607337528\n",
      "\tproblem: 0.002817702800451559\n",
      "\tim: 0.0028086231995908127\n",
      "\tcomponents: 0.002775331329768077\n",
      "\tvalue: 0.002757172128046584\n",
      "\tonly: 0.002754145594426336\n",
      "\tjust: 0.0027329598590845948\n",
      "\tall: 0.0027238802582238487\n",
      "\trequest: 0.002693614922021361\n",
      "\n",
      "Top words in Positive Issue Bodies: \n",
      "\treact: 0.0170586328154226\n",
      "\tx: 0.00972641344739008\n",
      "\tcomponent: 0.007407037933012445\n",
      "\tlike: 0.005461755243534429\n",
      "\tdocumentation: 0.005312118113574581\n",
      "\tversions: 0.0048133276803750905\n",
      "\tcurrent: 0.00458887198543532\n",
      "\twork: 0.004489113898795421\n",
      "\tdocs: 0.004414295333815497\n",
      "\tissue: 0.004115021073895803\n",
      "\tfunction: 0.004115021073895803\n",
      "\tusing: 0.004015262987255904\n",
      "\trender: 0.003865625857296057\n",
      "\tcode: 0.003541412075716388\n",
      "\tjust: 0.0035164725540564132\n",
      "\tcomponents: 0.0034416539890764894\n",
      "\terror: 0.0031423797291567947\n",
      "\tnew: 0.00311744020749682\n",
      "\treturn: 0.00311744020749682\n",
      "\tabout: 0.003092500685836846\n",
      "\texpected: 0.003067561164176871\n",
      "\tall: 0.0029927425991969473\n",
      "\texample: 0.002917924034217024\n",
      "\tupdate: 0.0028929845125570492\n",
      "\trequest: 0.0027932264259171507\n",
      "\tdom: 0.002743347382597202\n",
      "\tbrowser: 0.002743347382597202\n",
      "\tbug: 0.0027184078609372273\n",
      "\tany: 0.0027184078609372273\n",
      "\treport: 0.0026934683392772526\n"
     ]
    }
   ],
   "source": [
    "neg_issues_freqs = sorted(get_word_freq_body(neg_issues_closed).items(), key=lambda x: x[1], reverse=True)\n",
    "pos_issues_freqs = sorted(get_word_freq_body(pos_issues_closed).items(), key=lambda x: x[1], reverse=True)\n",
    "\n",
    "# print top 20 words for negative issues\n",
    "print(\"Top words in Negative Issue Bodies: \")\n",
    "for (word, freq) in neg_issues_freqs[:30]:\n",
    "    print(\"\\t\" + word + \": \" + str(freq))\n",
    "print(\"\")\n",
    "# print top 20 words for positive issues\n",
    "print(\"Top words in Positive Issue Bodies: \")\n",
    "for (word, freq) in pos_issues_freqs[:30]:\n",
    "    print(\"\\t\" + word + \": \" + str(freq))"
   ]
  },
  {
   "cell_type": "code",
   "execution_count": 13,
   "metadata": {},
   "outputs": [
    {
     "name": "stdout",
     "output_type": "stream",
     "text": [
      "Top words in Negative Issue Bodies compared to Positive Issues: \n",
      "\tdiv: 0.003911412434188187\n",
      "\treturn: 0.0032201211933040007\n",
      "\tmodule: 0.0031857204423825524\n",
      "\trender: 0.0025506254176312308\n",
      "\tequal: 0.0019499324269664703\n",
      "\t0: 0.0014042894840672789\n",
      "\tfunction: 0.0013569517115138837\n",
      "\terror: 0.0013459696296720582\n",
      "\tvar: 0.0013173426688782325\n",
      "\tother: 0.0012074030444665469\n",
      "\texpected: 0.0011998512403738246\n",
      "\tunexpected: 0.001174412567484813\n",
      "\tmultiple: 0.001133003395155935\n",
      "\tone: 0.0010873039980112019\n",
      "\t1: 0.0010662800169540258\n",
      "\tmodules: 0.0010458436500383973\n",
      "\tcase: 0.0010376821160759998\n",
      "\telement: 0.0010307842733092078\n",
      "\tname: 0.0009992040702671882\n",
      "\tcompiling: 0.0009836234265808341\n",
      "\n",
      "Top words in Positive Issue Bodies compared to Negative Issues: \n",
      "\tx: -0.007901413674380102\n",
      "\tdocumentation: -0.005312118113574581\n",
      "\tdocs: -0.00407532356834764\n",
      "\trelease: -0.0018201149898649047\n",
      "\tupdate: -0.001627893459293084\n",
      "\tabout: -0.0015156766696872625\n",
      "\trepo: -0.0014605451031968546\n",
      "\tlink: -0.001318672707258221\n",
      "\tdocument: -0.0011996534819857896\n",
      "\tpage: -0.0011950770358693894\n",
      "\treact: -0.0011905170444585604\n",
      "\tsection: -0.0011500094843224595\n",
      "\tnow: -0.001020992591290933\n",
      "\tgit: -0.0010193763316103989\n",
      "\t16: -0.0009997847402210647\n",
      "\trun: -0.0009363671727522784\n",
      "\tnpm: -0.000931041358209766\n",
      "\tmake: -0.000903332464314289\n",
      "\texamples: -0.0008537617580230135\n"
     ]
    }
   ],
   "source": [
    "#TODO: list words with biggest differences between the two classes\n",
    "neg_freqs = get_word_freq_body(neg_issues_closed)\n",
    "pos_freqs = get_word_freq_body(pos_issues_closed)\n",
    "freq_diffs = {}\n",
    "for word in neg_freqs:\n",
    "    freq_diffs[word] = neg_freqs[word] - pos_freqs.get(word, 0)\n",
    "for word in pos_freqs:\n",
    "    if word not in neg_freqs:\n",
    "        freq_diffs[word] = - pos_freqs[word]\n",
    "freq_diffs = sorted(freq_diffs.items(), key=lambda x: x[1], reverse=True)\n",
    "# print top 20 words for negative issues\n",
    "print(\"Top words in Negative Issue Bodies compared to Positive Issues: \")\n",
    "for (word, freq) in freq_diffs[:20]:\n",
    "    print(\"\\t\" + word + \": \" + str(freq))\n",
    "print(\"\")\n",
    "# print top 20 words for positive issues\n",
    "print(\"Top words in Positive Issue Bodies compared to Negative Issues: \")\n",
    "for (word, freq) in freq_diffs[:-20:-1]:\n",
    "    print(\"\\t\" + word + \": \" + str(freq))"
   ]
  },
  {
   "cell_type": "code",
   "execution_count": 14,
   "metadata": {},
   "outputs": [
    {
     "name": "stdout",
     "output_type": "stream",
     "text": [
      "Top words in Negative Issue Titles compared to Positive Issues: \n",
      "\terror: 0.006317963916864271\n",
      "\tdom: 0.00406301865143322\n",
      "\tattribute: 0.0035387275730686925\n",
      "\twarning: 0.0033495874016695997\n",
      "\telement: 0.003120272358964313\n",
      "\tsvg: 0.002673400479535431\n",
      "\tusing: 0.002479360054775224\n",
      "\twork: 0.0024774023555157593\n",
      "\tattributes: 0.0024195841700245715\n",
      "\tcomponent: 0.002391155494275165\n",
      "\treact: 0.0023137242849146124\n",
      "\tproperty: 0.0021677255597731767\n",
      "\tvalue: 0.0021412665937081397\n",
      "\trender: 0.0019521264223090473\n",
      "\tcontext: 0.0019021510442806232\n",
      "\telements: 0.0018658915714933574\n",
      "\tinside: 0.0018492331121505493\n",
      "\tevent: 0.0018168890378822133\n",
      "\terrors: 0.0018129736393632837\n",
      "\tchild: 0.0017933726259188258\n",
      "\n",
      "Top words in Positive Issue Titles compared to Negative Issues: \n",
      "\tdocs: -0.042253107190003636\n",
      "\tdocumentation: -0.02513763916914715\n",
      "\tdocument: -0.022818990610021614\n",
      "\tlink: -0.010268300761841669\n",
      "\tdoc: -0.006955945677376615\n",
      "\tupdate: -0.006057301665157737\n",
      "\tlinks: -0.0059622391520370984\n",
      "\tpage: -0.004108105786525435\n",
      "\treactlink: -0.0029811195760185492\n",
      "\ttutorial: -0.002814522972165564\n",
      "\tadd: -0.0027233878679887597\n",
      "\texamples: -0.002654784320933158\n",
      "\texample: -0.002519546936506324\n",
      "\ttestutilsrenderintodocument: -0.0023186485591255384\n",
      "\trefs: -0.0021981119347820478\n",
      "\twebsite: -0.0021883114280598186\n",
      "\tcode: -0.0021206927358464016\n",
      "\tnew: -0.0020991340231424796\n",
      "\tcallback: -0.002089333516420251\n"
     ]
    }
   ],
   "source": [
    "#TODO: list words with biggest differences between the two classes\n",
    "neg_freqs = get_word_freq_title(neg_issues_closed)\n",
    "pos_freqs = get_word_freq_title(pos_issues_closed)\n",
    "freq_diffs = {}\n",
    "for word in neg_freqs:\n",
    "    freq_diffs[word] = neg_freqs[word] - pos_freqs.get(word, 0)\n",
    "for word in pos_freqs:\n",
    "    if word not in neg_freqs:\n",
    "        freq_diffs[word] = - pos_freqs[word]\n",
    "freq_diffs = sorted(freq_diffs.items(), key=lambda x: x[1], reverse=True)\n",
    "# print top 20 words for negative issues\n",
    "print(\"Top words in Negative Issue Titles compared to Positive Issues: \")\n",
    "for (word, freq) in freq_diffs[:20]:\n",
    "    print(\"\\t\" + word + \": \" + str(freq))\n",
    "print(\"\")\n",
    "# print top 20 words for positive issues\n",
    "print(\"Top words in Positive Issue Titles compared to Negative Issues: \")\n",
    "for (word, freq) in freq_diffs[:-20:-1]:\n",
    "    print(\"\\t\" + word + \": \" + str(freq))"
   ]
  },
  {
   "cell_type": "code",
   "execution_count": 15,
   "metadata": {},
   "outputs": [
    {
     "name": "stdout",
     "output_type": "stream",
     "text": [
      "Positive issue data summary \n"
     ]
    },
    {
     "data": {
      "text/html": [
       "<div>\n",
       "<style scoped>\n",
       "    .dataframe tbody tr th:only-of-type {\n",
       "        vertical-align: middle;\n",
       "    }\n",
       "\n",
       "    .dataframe tbody tr th {\n",
       "        vertical-align: top;\n",
       "    }\n",
       "\n",
       "    .dataframe thead th {\n",
       "        text-align: right;\n",
       "    }\n",
       "</style>\n",
       "<table border=\"1\" class=\"dataframe\">\n",
       "  <thead>\n",
       "    <tr style=\"text-align: right;\">\n",
       "      <th></th>\n",
       "      <th>body length</th>\n",
       "      <th>comments</th>\n",
       "      <th>lines of code</th>\n",
       "    </tr>\n",
       "  </thead>\n",
       "  <tbody>\n",
       "    <tr>\n",
       "      <th>count</th>\n",
       "      <td>587.000000</td>\n",
       "      <td>587.000000</td>\n",
       "      <td>587.000000</td>\n",
       "    </tr>\n",
       "    <tr>\n",
       "      <th>mean</th>\n",
       "      <td>905.272572</td>\n",
       "      <td>5.954003</td>\n",
       "      <td>145.047700</td>\n",
       "    </tr>\n",
       "    <tr>\n",
       "      <th>std</th>\n",
       "      <td>1282.587430</td>\n",
       "      <td>13.377797</td>\n",
       "      <td>606.042647</td>\n",
       "    </tr>\n",
       "    <tr>\n",
       "      <th>min</th>\n",
       "      <td>11.000000</td>\n",
       "      <td>0.000000</td>\n",
       "      <td>0.000000</td>\n",
       "    </tr>\n",
       "    <tr>\n",
       "      <th>25%</th>\n",
       "      <td>318.000000</td>\n",
       "      <td>2.000000</td>\n",
       "      <td>0.000000</td>\n",
       "    </tr>\n",
       "    <tr>\n",
       "      <th>50%</th>\n",
       "      <td>562.000000</td>\n",
       "      <td>3.000000</td>\n",
       "      <td>0.000000</td>\n",
       "    </tr>\n",
       "    <tr>\n",
       "      <th>75%</th>\n",
       "      <td>1048.000000</td>\n",
       "      <td>6.000000</td>\n",
       "      <td>0.000000</td>\n",
       "    </tr>\n",
       "    <tr>\n",
       "      <th>max</th>\n",
       "      <td>14900.000000</td>\n",
       "      <td>254.000000</td>\n",
       "      <td>7643.000000</td>\n",
       "    </tr>\n",
       "  </tbody>\n",
       "</table>\n",
       "</div>"
      ],
      "text/plain": [
       "        body length    comments  lines of code\n",
       "count    587.000000  587.000000     587.000000\n",
       "mean     905.272572    5.954003     145.047700\n",
       "std     1282.587430   13.377797     606.042647\n",
       "min       11.000000    0.000000       0.000000\n",
       "25%      318.000000    2.000000       0.000000\n",
       "50%      562.000000    3.000000       0.000000\n",
       "75%     1048.000000    6.000000       0.000000\n",
       "max    14900.000000  254.000000    7643.000000"
      ]
     },
     "execution_count": 15,
     "metadata": {},
     "output_type": "execute_result"
    }
   ],
   "source": [
    "print(\"Positive issue data summary \")\n",
    "pos_df = pd.DataFrame({'body length': [len(issue['body']) for issue in pos_issues_closed],\n",
    "                      'comments': [issue['comments'] for issue in pos_issues_closed],\n",
    "                      'lines of code': [get_num_code_lines(issue) for issue in pos_issues_closed]})\n",
    "pos_df.describe()"
   ]
  },
  {
   "cell_type": "code",
   "execution_count": 16,
   "metadata": {},
   "outputs": [
    {
     "name": "stdout",
     "output_type": "stream",
     "text": [
      "Negative issue datary summary: \n"
     ]
    },
    {
     "data": {
      "text/html": [
       "<div>\n",
       "<style scoped>\n",
       "    .dataframe tbody tr th:only-of-type {\n",
       "        vertical-align: middle;\n",
       "    }\n",
       "\n",
       "    .dataframe tbody tr th {\n",
       "        vertical-align: top;\n",
       "    }\n",
       "\n",
       "    .dataframe thead th {\n",
       "        text-align: right;\n",
       "    }\n",
       "</style>\n",
       "<table border=\"1\" class=\"dataframe\">\n",
       "  <thead>\n",
       "    <tr style=\"text-align: right;\">\n",
       "      <th></th>\n",
       "      <th>body length</th>\n",
       "      <th>comments</th>\n",
       "      <th>lines of code</th>\n",
       "    </tr>\n",
       "  </thead>\n",
       "  <tbody>\n",
       "    <tr>\n",
       "      <th>count</th>\n",
       "      <td>4988.000000</td>\n",
       "      <td>4988.000000</td>\n",
       "      <td>4988.000000</td>\n",
       "    </tr>\n",
       "    <tr>\n",
       "      <th>mean</th>\n",
       "      <td>877.527666</td>\n",
       "      <td>5.412791</td>\n",
       "      <td>244.212711</td>\n",
       "    </tr>\n",
       "    <tr>\n",
       "      <th>std</th>\n",
       "      <td>1691.129912</td>\n",
       "      <td>8.913067</td>\n",
       "      <td>1499.309825</td>\n",
       "    </tr>\n",
       "    <tr>\n",
       "      <th>min</th>\n",
       "      <td>0.000000</td>\n",
       "      <td>0.000000</td>\n",
       "      <td>0.000000</td>\n",
       "    </tr>\n",
       "    <tr>\n",
       "      <th>25%</th>\n",
       "      <td>306.000000</td>\n",
       "      <td>2.000000</td>\n",
       "      <td>0.000000</td>\n",
       "    </tr>\n",
       "    <tr>\n",
       "      <th>50%</th>\n",
       "      <td>601.500000</td>\n",
       "      <td>3.000000</td>\n",
       "      <td>0.000000</td>\n",
       "    </tr>\n",
       "    <tr>\n",
       "      <th>75%</th>\n",
       "      <td>1064.000000</td>\n",
       "      <td>6.000000</td>\n",
       "      <td>202.000000</td>\n",
       "    </tr>\n",
       "    <tr>\n",
       "      <th>max</th>\n",
       "      <td>91176.000000</td>\n",
       "      <td>259.000000</td>\n",
       "      <td>91090.000000</td>\n",
       "    </tr>\n",
       "  </tbody>\n",
       "</table>\n",
       "</div>"
      ],
      "text/plain": [
       "        body length     comments  lines of code\n",
       "count   4988.000000  4988.000000    4988.000000\n",
       "mean     877.527666     5.412791     244.212711\n",
       "std     1691.129912     8.913067    1499.309825\n",
       "min        0.000000     0.000000       0.000000\n",
       "25%      306.000000     2.000000       0.000000\n",
       "50%      601.500000     3.000000       0.000000\n",
       "75%     1064.000000     6.000000     202.000000\n",
       "max    91176.000000   259.000000   91090.000000"
      ]
     },
     "execution_count": 16,
     "metadata": {},
     "output_type": "execute_result"
    }
   ],
   "source": [
    "print(\"Negative issue datary summary: \")\n",
    "neg_df = pd.DataFrame({'body length': [len(issue['body']) for issue in neg_issues_closed],\n",
    "                      'comments': [issue['comments'] for issue in neg_issues_closed],\n",
    "                      'lines of code': [get_num_code_lines(issue) for issue in neg_issues_closed]})\n",
    "neg_df.describe()"
   ]
  },
  {
   "cell_type": "code",
   "execution_count": 17,
   "metadata": {},
   "outputs": [],
   "source": [
    "#TODO: Manually look at recent issues in React to determine normal use case."
   ]
  },
  {
   "cell_type": "code",
   "execution_count": 18,
   "metadata": {},
   "outputs": [],
   "source": [
    "#TODO: other statistics that may be meaningful?????"
   ]
  }
 ],
 "metadata": {
  "kernelspec": {
   "display_name": "Python 3",
   "language": "python",
   "name": "python3"
  },
  "language_info": {
   "codemirror_mode": {
    "name": "ipython",
    "version": 3
   },
   "file_extension": ".py",
   "mimetype": "text/x-python",
   "name": "python",
   "nbconvert_exporter": "python",
   "pygments_lexer": "ipython3",
   "version": "3.6.5"
  }
 },
 "nbformat": 4,
 "nbformat_minor": 2
}
