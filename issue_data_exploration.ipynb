{
 "cells": [
  {
   "cell_type": "markdown",
   "metadata": {},
   "source": [
    "# Exploration of Issue Data from React Repository"
   ]
  },
  {
   "cell_type": "code",
   "execution_count": 10,
   "metadata": {},
   "outputs": [],
   "source": [
    "import operator\n",
    "import json\n",
    "import matplotlib.pyplot as plt\n",
    "import numpy as np\n",
    "import pandas as pd\n",
    "import seaborn as sns\n",
    "from classifier import *\n",
    "from issues import *"
   ]
  },
  {
   "cell_type": "markdown",
   "metadata": {},
   "source": [
    "## Issue Data Summary"
   ]
  },
  {
   "cell_type": "code",
   "execution_count": 11,
   "metadata": {},
   "outputs": [
    {
     "name": "stdout",
     "output_type": "stream",
     "text": [
      "5575 closed issues\n",
      "379 open issues\n"
     ]
    }
   ],
   "source": [
    "with open('data/react/react_issues_closed.json') as f:\n",
    "    closed_issues = json.load(f)\n",
    "print(str(len(closed_issues)) + ' closed issues')\n",
    "with open('data/react/react_issues_open.json') as f:\n",
    "    open_issues = json.load(f)\n",
    "print(str(len(open_issues)) + ' open issues')"
   ]
  },
  {
   "cell_type": "code",
   "execution_count": 12,
   "metadata": {},
   "outputs": [
    {
     "data": {
      "text/plain": [
       "[{'url': 'https://api.github.com/repos/facebook/react/issues/12903',\n",
       "  'repository_url': 'https://api.github.com/repos/facebook/react',\n",
       "  'labels_url': 'https://api.github.com/repos/facebook/react/issues/12903/labels{/name}',\n",
       "  'comments_url': 'https://api.github.com/repos/facebook/react/issues/12903/comments',\n",
       "  'events_url': 'https://api.github.com/repos/facebook/react/issues/12903/events',\n",
       "  'html_url': 'https://github.com/facebook/react/issues/12903',\n",
       "  'id': 326290102,\n",
       "  'number': 12903,\n",
       "  'title': 'Extract react prop from ref',\n",
       "  'user': {'login': 'gk159yo',\n",
       "   'id': 18729755,\n",
       "   'avatar_url': 'https://avatars3.githubusercontent.com/u/18729755?v=4',\n",
       "   'gravatar_id': '',\n",
       "   'url': 'https://api.github.com/users/gk159yo',\n",
       "   'html_url': 'https://github.com/gk159yo',\n",
       "   'followers_url': 'https://api.github.com/users/gk159yo/followers',\n",
       "   'following_url': 'https://api.github.com/users/gk159yo/following{/other_user}',\n",
       "   'gists_url': 'https://api.github.com/users/gk159yo/gists{/gist_id}',\n",
       "   'starred_url': 'https://api.github.com/users/gk159yo/starred{/owner}{/repo}',\n",
       "   'subscriptions_url': 'https://api.github.com/users/gk159yo/subscriptions',\n",
       "   'organizations_url': 'https://api.github.com/users/gk159yo/orgs',\n",
       "   'repos_url': 'https://api.github.com/users/gk159yo/repos',\n",
       "   'events_url': 'https://api.github.com/users/gk159yo/events{/privacy}',\n",
       "   'received_events_url': 'https://api.github.com/users/gk159yo/received_events',\n",
       "   'type': 'User',\n",
       "   'site_admin': False},\n",
       "  'labels': [],\n",
       "  'state': 'closed',\n",
       "  'locked': False,\n",
       "  'assignee': None,\n",
       "  'assignees': [],\n",
       "  'milestone': None,\n",
       "  'comments': 1,\n",
       "  'created_at': '2018-05-24T20:53:24Z',\n",
       "  'updated_at': '2018-05-25T01:21:59Z',\n",
       "  'closed_at': '2018-05-25T01:21:41Z',\n",
       "  'author_association': 'NONE',\n",
       "  'body': \"Hello, I have the following problem and was wondering if this is a documentation issue, or if react doesn't support this behavior.\\r\\nLet's say you have the following HTML:\\r\\n```HTML\\r\\n<span onMouseDown=bound clearValue> /* onMouseDown appears to be a prop */\\r\\n</span>\\r\\n```\\r\\nAnd you have a library that allows you to specify the child of the `span` node. Namely, passing in the following function to the library\\r\\n```JavaScript\\r\\nspanChildRenderer = () => {\\r\\n    return <div ref = (element) => this.spanRef = element.parentNode;\\r\\n};\\r\\n```\\r\\nwould render the following:\\r\\n```HTML\\r\\n<span ...>\\r\\n    <div ...>\\r\\n    </div>\\r\\n</span>\\r\\n```\\r\\nNow, when I use the following, the click event isn't happening:\\r\\n```JavaScript\\r\\nthis.spanRef.click()\\r\\n```\\r\\n\\r\\nI've tried many variations of the above (tried using `element.parentElement` instead of `element.parentNode`; the behavior didn't change, so I'm not sure the two attributes are different anymore).\\r\\n\\r\\nSo the problem is inability to refer to the react prop using the ref.\\r\\nThanks!\\r\\n\\r\\n\\r\\n__If anything in the explanation above is confusing/under-clarified, please let me know.__\",\n",
       "  'score': 1.0}]"
      ]
     },
     "execution_count": 12,
     "metadata": {},
     "output_type": "execute_result"
    }
   ],
   "source": [
    "get_issue_by_title(closed_issues, \"Extract react prop from ref\")"
   ]
  },
  {
   "cell_type": "markdown",
   "metadata": {},
   "source": [
    "### Issues that are classified as trivial or documentation changes are labeled 'True', all other issues are labeled as 'False'."
   ]
  },
  {
   "cell_type": "code",
   "execution_count": 13,
   "metadata": {},
   "outputs": [
    {
     "data": {
      "text/plain": [
       "Text(0.5,1,'open issue labels')"
      ]
     },
     "execution_count": 13,
     "metadata": {},
     "output_type": "execute_result"
    },
    {
     "data": {
      "image/png": "[encoded data removed]",
      "text/plain": [
       "<Figure size 432x288 with 2 Axes>"
      ]
     },
     "metadata": {},
     "output_type": "display_data"
    }
   ],
   "source": [
    "closed_labels = classify_issues(closed_issues)\n",
    "open_labels = classify_issues(open_issues)\n",
    "\n",
    "ig, (ax1, ax2) = plt.subplots(ncols=2, sharey=True)\n",
    "sns.countplot(closed_labels, ax=ax1).set_title(\"closed issue labels\")\n",
    "sns.countplot(open_labels, ax=ax2).set_title(\"open issue labels\")"
   ]
  },
  {
   "cell_type": "code",
   "execution_count": 14,
   "metadata": {},
   "outputs": [],
   "source": [
    "pos_issues_closed = [issue for (i,issue) in enumerate(closed_issues) if closed_labels[i]]\n",
    "neg_issues_closed = [issue for (i,issue) in enumerate(closed_issues) if not closed_labels[i]]\n",
    "pos_issues_open = [issue for (i,issue) in enumerate(open_issues) if open_labels[i]]\n",
    "neg_issues_open = [issue for (i,issue) in enumerate(open_issues) if not open_labels[i]]"
   ]
  },
  {
   "cell_type": "markdown",
   "metadata": {},
   "source": [
    "## Exploration of Positive Labeled Issues"
   ]
  },
  {
   "cell_type": "code",
   "execution_count": 15,
   "metadata": {},
   "outputs": [
    {
     "name": "stdout",
     "output_type": "stream",
     "text": [
      "positive label titles: \n",
      "\t\"fix docs rake \"update_version\" command to strip trailing spaces\"\n",
      "\t\"docs don't even mention reconciliation!\"\n",
      "\t\"jsx page gives 404 - linked from \"why react\" blog post\"\n",
      "\t\"stop requiring docblock for jsx transformer\"\n",
      "\t\"document forms changes / best practices\"\n",
      "\t\"better event docs\"\n",
      "\t\"few issues in the (upcoming) doc\"\n",
      "\t\"docblock parsing fails with \\r\\n\"\n",
      "\t\"link to cdnjs in docs\"\n",
      "\t\"old jsfiddle links in docs\"\n",
      "\t\"generate docs using jsdoc (or something).\"\n",
      "\t\"react broken in safari 5.1.1\"\n",
      "\t\"fails on whole-document rendering\"\n",
      "\t\"support onmouseover\"\n",
      "\t\"docco-style documentation\"\n",
      "\t\"documentation - createclass and rendercomponent too vague, add more links\"\n",
      "\t\"fix direct uses of document and global\"\n",
      "\t\"get rid of sanitize dependency in docs\"\n",
      "\t\"add a link in each warning to doc pages \"\n",
      "\t\"document selection and composition events on reference page\"\n"
     ]
    }
   ],
   "source": [
    "# Print a sample of positive label titles\n",
    "print(\"positive label titles: \")\n",
    "for issue in pos_issues_closed[:20]:\n",
    "    print (\"\\t\" + \"\\\"\" + issue['title'] + \"\\\"\")"
   ]
  },
  {
   "cell_type": "markdown",
   "metadata": {},
   "source": [
    "### The classifier misclassifies some examples as documentation/trivial issues that are more complex upon manual inspection. Example below is an issue that was flagged despite being a significant code change with a lot of discussion around it."
   ]
  },
  {
   "cell_type": "code",
   "execution_count": 16,
   "metadata": {},
   "outputs": [
    {
     "name": "stdout",
     "output_type": "stream",
     "text": [
      "title: null props considered differently in getdefaultprops vs. isrequired\n",
      "\n",
      "body: in the case a `null` argument is passed to a property marked as `isrequired`:http://jsfiddle.net/jeanlauliac/0n6snb6b/1/we'll get a proper warning in the console: `warning: required prop `name` was not specified in `hello`.` (though it should probably be \"prop was null\" and not \"prop was not specified\", but anyway)on the other hand, the default value is only used when the prop is `undefined`, but not when it's `null`. is this the explicitly wanted behavior? if it is, then we should probably make the documentation explicit about it (http://facebook.github.io/react/docs/reusable-components.html), giving the entire responsibility to component callers of safeguarding against `null`.\n"
     ]
    }
   ],
   "source": [
    "misclass_issue = get_issue_by_title(pos_issues_closed, \"null props considered differently in getdefaultprops vs. isrequired\")\n",
    "print('title: ' + misclass_issue[0]['title'])\n",
    "print('')\n",
    "print('body: ' + misclass_issue[0]['body'])"
   ]
  },
  {
   "cell_type": "markdown",
   "metadata": {},
   "source": [
    "## Exploration of Negative Labeled Issues"
   ]
  },
  {
   "cell_type": "code",
   "execution_count": 17,
   "metadata": {},
   "outputs": [
    {
     "name": "stdout",
     "output_type": "stream",
     "text": [
      "negative label titles: \n",
      "\t\"can't require() react-tools module\"\n",
      "\t\"write tests for react-tools module\"\n",
      "\t\"must adding comments for jsx?\"\n",
      "\t\"small update to bower command\"\n",
      "\t\"make valid npm release\"\n",
      "\t\"react in requirejs ?\"\n",
      "\t\"is es5-sham required for ie8?\"\n",
      "\t\"uncaught syntaxerror: unexpected token < \"\n",
      "\t\"work with compile-to-js languages (like coffeescript)\"\n",
      "\t\"the name \"jsx\" is already taken, use \"xjs\" instead?\"\n",
      "\t\"jsx not able to watch subdirs\"\n",
      "\t\"jsx whitespace coalescing should work like regular html\"\n",
      "\t\"automatically bind scope of all user provided methods.\"\n",
      "\t\"jsx offline transform exits with error code 1 on any change (ubuntu 12.10)\"\n",
      "\t\"allow namespacing in component names in jsx\"\n",
      "\t\"ordering of componentdidmount events\"\n",
      "\t\"preserve line numbers in \"grunt test\"\"\n",
      "\t\"grunt test just hangs\"\n",
      "\t\"bin/jsx should not relativize required module ids unless --relativize is passed\"\n",
      "\t\"support comments in jsx\"\n"
     ]
    }
   ],
   "source": [
    "print(\"negative label titles: \")\n",
    "for issue in neg_issues_closed[:20]:\n",
    "    print (\"\\t\" + \"\\\"\" + issue['title'] + \"\\\"\")"
   ]
  },
  {
   "cell_type": "markdown",
   "metadata": {},
   "source": [
    "### The classifier misses some examples that upon further inspection are clearly simple changes. Example below is an issue that was resolved by simply changing a single URL in a markdown file."
   ]
  },
  {
   "cell_type": "code",
   "execution_count": 18,
   "metadata": {},
   "outputs": [
    {
     "name": "stdout",
     "output_type": "stream",
     "text": [
      "title: small update to bower command\n",
      "\n",
      "body: it could be preferable to use:```bower install --save react```so that the installation is automatically saved in the `bower.json`.\n"
     ]
    }
   ],
   "source": [
    "misclass_issue = get_issue_by_title(neg_issues_closed, 'small update to bower command')\n",
    "print('title: ' + misclass_issue[0]['title'])\n",
    "print('')\n",
    "print('body: ' + misclass_issue[0]['body'])"
   ]
  },
  {
   "cell_type": "markdown",
   "metadata": {},
   "source": [
    "## Comparsion of Issue Classes"
   ]
  },
  {
   "cell_type": "code",
   "execution_count": 19,
   "metadata": {},
   "outputs": [
    {
     "name": "stdout",
     "output_type": "stream",
     "text": [
      "Top words in Negative Issue Titles: \n",
      "\treact: 0.024793686258964286\n",
      "\tcomponent: 0.012396843129482143\n",
      "\terror: 0.01066705106490324\n",
      "\twarning: 0.007279541605102887\n",
      "\trender: 0.007207466935745433\n",
      "\tusing: 0.006414645572813435\n",
      "\tevent: 0.006414645572813435\n",
      "\tjsx: 0.006378608238134707\n",
      "\tdom: 0.006378608238134707\n",
      "\tcomponents: 0.006270496234098526\n",
      "\tinput: 0.005910122887311254\n",
      "\tdoesnt: 0.005441637536487801\n",
      "\telement: 0.005405600201809074\n",
      "\tproperty: 0.0051893761937367115\n",
      "\trendering: 0.004901077516306894\n",
      "\tadd: 0.004865040181628167\n",
      "\tsupport: 0.004504666834840895\n",
      "\tattribute: 0.004504666834840895\n",
      "\tvalue: 0.004468629500162168\n",
      "\tprops: 0.004288442826768532\n",
      "\tstate: 0.004216368157411078\n",
      "\tfunction: 0.004144293488053624\n",
      "\twork: 0.004108256153374896\n",
      "\tsetstate: 0.004000144149338715\n",
      "\tupdate: 0.0038920321453025336\n",
      "\tundefined: 0.0038920321453025336\n",
      "\tnull: 0.003819957475945079\n",
      "\tcannot: 0.0036397708025514433\n",
      "\thtml: 0.0034956214638365347\n",
      "\tchildren: 0.0034595841291578076\n",
      "\n",
      "Top words in Positive Issue Titles: \n",
      "\tdocs: 0.044928044928044926\n",
      "\tdocumentation: 0.026676026676026678\n",
      "\tdocument: 0.024219024219024218\n",
      "\treact: 0.022815022815022814\n",
      "\tlink: 0.01088101088101088\n",
      "\tupdate: 0.010179010179010179\n",
      "\tcomponent: 0.009126009126009126\n",
      "\tadd: 0.008073008073008073\n",
      "\tjsx: 0.007371007371007371\n",
      "\tdoc: 0.007371007371007371\n",
      "\tcomponents: 0.00702000702000702\n",
      "\tlinks: 0.006318006318006318\n",
      "\tpage: 0.005616005616005616\n",
      "\trender: 0.005616005616005616\n",
      "\tevent: 0.004914004914004914\n",
      "\tnew: 0.004914004914004914\n",
      "\trendering: 0.004563004563004563\n",
      "\tstate: 0.004563004563004563\n",
      "\tusing: 0.004212004212004212\n",
      "\tsupport: 0.004212004212004212\n",
      "\twarning: 0.004212004212004212\n",
      "\tdoesnt: 0.004212004212004212\n",
      "\tcallback: 0.004212004212004212\n",
      "\ttutorial: 0.004212004212004212\n",
      "\trefs: 0.004212004212004212\n",
      "\tinput: 0.003861003861003861\n",
      "\tabout: 0.003861003861003861\n",
      "\trequest: 0.003861003861003861\n",
      "\tcode: 0.003861003861003861\n",
      "\tcalled: 0.003861003861003861\n"
     ]
    }
   ],
   "source": [
    "neg_issues_freqs = sorted(get_word_freq_title(neg_issues_closed).items(), key=lambda x: x[1], reverse=True)\n",
    "pos_issues_freqs = sorted(get_word_freq_title(pos_issues_closed).items(), key=lambda x: x[1], reverse=True)\n",
    "\n",
    "# print top 20 words for negative issues\n",
    "print(\"Top words in Negative Issue Titles: \")\n",
    "for (word, freq) in neg_issues_freqs[:30]:\n",
    "    print(\"\\t\" + word + \": \" + str(freq))\n",
    "print(\"\")\n",
    "# print top 20 words for positive issues\n",
    "print(\"Top words in Positive Issue Titles: \")\n",
    "for (word, freq) in pos_issues_freqs[:30]:\n",
    "    print(\"\\t\" + word + \": \" + str(freq))"
   ]
  },
  {
   "cell_type": "code",
   "execution_count": 20,
   "metadata": {},
   "outputs": [],
   "source": [
    "#TODO: list words with biggest differences between the two classes"
   ]
  },
  {
   "cell_type": "code",
   "execution_count": 21,
   "metadata": {},
   "outputs": [
    {
     "name": "stdout",
     "output_type": "stream",
     "text": [
      "Top words in Negative Issue Bodies: \n",
      "\treact: 0.015860528243871387\n",
      "\tcomponent: 0.007476848793494841\n",
      "\trender: 0.006389853105444587\n",
      "\treturn: 0.006305776090899264\n",
      "\tdiv: 0.006125611059730713\n",
      "\tfunction: 0.005443986691809698\n",
      "\tlike: 0.005221783153368485\n",
      "\tusing: 0.0045701862906422286\n",
      "\terror: 0.004510131280252711\n",
      "\tversions: 0.00446809277298005\n",
      "\texpected: 0.00425189473557779\n",
      "\tissue: 0.004248891985058313\n",
      "\tcurrent: 0.004197845226227224\n",
      "\twork: 0.004002666442461294\n",
      "\tcode: 0.0035732731181762492\n",
      "\tmodule: 0.003411124590124554\n",
      "\tbehavior: 0.003372088833371368\n",
      "\tget: 0.0030808220329822116\n",
      "\tbrowser: 0.0030658082803848327\n",
      "\tone: 0.0030117587710342675\n",
      "\tother: 0.002960712012203178\n",
      "\tbug: 0.002891648750255234\n",
      "\tproblem: 0.0028105744862293863\n",
      "\tim: 0.002798563484151483\n",
      "\tcomponents: 0.0027715387294762004\n",
      "\tvalue: 0.002750519475839869\n",
      "\tonly: 0.0027475167253203934\n",
      "\tjust: 0.002738508473761966\n",
      "\tall: 0.002711483719086683\n",
      "\trequest: 0.0026904644654503524\n",
      "\n",
      "Top words in Positive Issue Bodies: \n",
      "\treact: 0.017209178228388473\n",
      "\tx: 0.009658484525080042\n",
      "\tcomponent: 0.0075773745997865525\n",
      "\tdocumentation: 0.0056830309498399146\n",
      "\tlike: 0.005496264674493063\n",
      "\tversions: 0.004882604055496264\n",
      "\tcurrent: 0.004722518676627535\n",
      "\tdocs: 0.004642475987193169\n",
      "\twork: 0.004509071504802562\n",
      "\tissue: 0.004268943436499467\n",
      "\tfunction: 0.004268943436499467\n",
      "\tusing: 0.003922091782283884\n",
      "\trender: 0.003922091782283884\n",
      "\tcomponents: 0.0035218783351120596\n",
      "\tjust: 0.0035218783351120596\n",
      "\tcode: 0.0034685165421558164\n",
      "\tnew: 0.0032017075773745998\n",
      "\treturn: 0.003175026680896478\n",
      "\tall: 0.003121664887940235\n",
      "\texpected: 0.003121664887940235\n",
      "\texample: 0.003014941302027748\n",
      "\tabout: 0.0029882604055496264\n",
      "\terror: 0.0028548559231590183\n",
      "\trequest: 0.0028281750266808967\n",
      "\tdom: 0.0028014941302027746\n",
      "\tany: 0.002774813233724653\n",
      "\treport: 0.0027481323372465314\n",
      "\tbrowser: 0.0027214514407684098\n",
      "\tupdate: 0.0027214514407684098\n",
      "\tbug: 0.002694770544290288\n"
     ]
    }
   ],
   "source": [
    "neg_issues_freqs = sorted(get_word_freq_body(neg_issues_closed).items(), key=lambda x: x[1], reverse=True)\n",
    "pos_issues_freqs = sorted(get_word_freq_body(pos_issues_closed).items(), key=lambda x: x[1], reverse=True)\n",
    "\n",
    "# print top 20 words for negative issues\n",
    "print(\"Top words in Negative Issue Bodies: \")\n",
    "for (word, freq) in neg_issues_freqs[:30]:\n",
    "    print(\"\\t\" + word + \": \" + str(freq))\n",
    "print(\"\")\n",
    "# print top 20 words for positive issues\n",
    "print(\"Top words in Positive Issue Bodies: \")\n",
    "for (word, freq) in pos_issues_freqs[:30]:\n",
    "    print(\"\\t\" + word + \": \" + str(freq))"
   ]
  },
  {
   "cell_type": "code",
   "execution_count": 22,
   "metadata": {},
   "outputs": [
    {
     "ename": "SyntaxError",
     "evalue": "invalid syntax (<ipython-input-22-1c178aab0d4c>, line 18)",
     "output_type": "error",
     "traceback": [
      "\u001b[0;36m  File \u001b[0;32m\"<ipython-input-22-1c178aab0d4c>\"\u001b[0;36m, line \u001b[0;32m18\u001b[0m\n\u001b[0;31m    for (word, freq) in freq_diffs[:-20:-1ß]:\u001b[0m\n\u001b[0m                                          ^\u001b[0m\n\u001b[0;31mSyntaxError\u001b[0m\u001b[0;31m:\u001b[0m invalid syntax\n"
     ]
    }
   ],
   "source": [
    "#TODO: list words with biggest differences between the two classes\n",
    "neg_freqs = get_word_freq_body(neg_issues_closed)\n",
    "pos_freqs = get_word_freq_body(pos_issues_closed)\n",
    "freq_diffs = {}\n",
    "for word in neg_freqs:\n",
    "    freq_diffs[word] = neg_freqs[word] - pos_freqs.get(word, 0)\n",
    "for word in pos_freqs:\n",
    "    if word not in neg_freqs:\n",
    "        freq_diffs[word] = - pos_freqs[word]\n",
    "freq_diffs = sorted(freq_diffs.items(), key=lambda x: x[1], reverse=True)\n",
    "# print top 20 words for negative issues\n",
    "print(\"Top words in Negative Issue Bodies compared to Positive Issues: \")\n",
    "for (word, freq) in freq_diffs[:20]:\n",
    "    print(\"\\t\" + word + \": \" + str(freq))\n",
    "print(\"\")\n",
    "# print top 20 words for positive issues\n",
    "print(\"Top words in Positive Issue Bodies compared to Negative Issues: \")\n",
    "for (word, freq) in freq_diffs[:-20:-1]:\n",
    "    print(\"\\t\" + word + \": \" + str(freq))"
   ]
  },
  {
   "cell_type": "code",
   "execution_count": null,
   "metadata": {},
   "outputs": [],
   "source": [
    "#TODO: list words with biggest differences between the two classes\n",
    "neg_freqs = get_word_freq_title(neg_issues_closed)\n",
    "pos_freqs = get_word_freq_title(pos_issues_closed)\n",
    "freq_diffs = {}\n",
    "for word in neg_freqs:\n",
    "    freq_diffs[word] = neg_freqs[word] - pos_freqs.get(word, 0)\n",
    "for word in pos_freqs:\n",
    "    if word not in neg_freqs:\n",
    "        freq_diffs[word] = - pos_freqs[word]\n",
    "freq_diffs = sorted(freq_diffs.items(), key=lambda x: x[1], reverse=True)\n",
    "# print top 20 words for negative issues\n",
    "print(\"Top words in Negative Issue Titles compared to Positive Issues: \")\n",
    "for (word, freq) in freq_diffs[:20]:\n",
    "    print(\"\\t\" + word + \": \" + str(freq))\n",
    "print(\"\")\n",
    "# print top 20 words for positive issues\n",
    "print(\"Top words in Positive Issue Titles compared to Negative Issues: \")\n",
    "for (word, freq) in freq_diffs[:-20:-1]:\n",
    "    print(\"\\t\" + word + \": \" + str(freq))"
   ]
  },
  {
   "cell_type": "code",
   "execution_count": null,
   "metadata": {},
   "outputs": [],
   "source": [
    "print(\"Positive issue data summary \")\n",
    "pos_df = pd.DataFrame({'body length': [len(issue['body']) for issue in pos_issues_closed],\n",
    "                      'comments': [issue['comments'] for issue in pos_issues_closed],\n",
    "                      'lines of code': [get_num_code_lines(issue) for issue in pos_issues_closed]})\n",
    "pos_df.describe()"
   ]
  },
  {
   "cell_type": "code",
   "execution_count": null,
   "metadata": {},
   "outputs": [],
   "source": [
    "print(\"Negative issue datary summary: \")\n",
    "neg_df = pd.DataFrame({'body length': [len(issue['body']) for issue in neg_issues_closed],\n",
    "                      'comments': [issue['comments'] for issue in neg_issues_closed],\n",
    "                      'lines of code': [get_num_code_lines(issue) for issue in neg_issues_closed]})\n",
    "neg_df.describe()"
   ]
  },
  {
   "cell_type": "code",
   "execution_count": null,
   "metadata": {},
   "outputs": [],
   "source": [
    "#TODO: Manually look at recent issues in React to determine normal use case."
   ]
  },
  {
   "cell_type": "code",
   "execution_count": null,
   "metadata": {},
   "outputs": [],
   "source": [
    "#TODO: other statistics that may be meaningful?????"
   ]
  }
 ],
 "metadata": {
  "kernelspec": {
   "display_name": "Python 3",
   "language": "python",
   "name": "python3"
  },
  "language_info": {
   "codemirror_mode": {
    "name": "ipython",
    "version": 3
   },
   "file_extension": ".py",
   "mimetype": "text/x-python",
   "name": "python",
   "nbconvert_exporter": "python",
   "pygments_lexer": "ipython3",
   "version": "3.6.5"
  }
 },
 "nbformat": 4,
 "nbformat_minor": 2
}
