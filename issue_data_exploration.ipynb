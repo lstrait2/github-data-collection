{
 "cells": [
  {
   "cell_type": "markdown",
   "metadata": {},
   "source": [
    "# Exploration of Issue Data from React Repository"
   ]
  },
  {
   "cell_type": "code",
   "execution_count": null,
   "metadata": {},
   "outputs": [],
   "source": [
    "import operator\n",
    "import json\n",
    "import matplotlib.pyplot as plt\n",
    "import numpy as np\n",
    "import pandas as pd\n",
    "import seaborn as sns\n",
    "from classifier import *\n",
    "from issues import *"
   ]
  },
  {
   "cell_type": "markdown",
   "metadata": {},
   "source": [
    "## Issue Data Summary"
   ]
  },
  {
   "cell_type": "code",
   "execution_count": null,
   "metadata": {},
   "outputs": [],
   "source": [
    "with open('data/react/react_issues_closed.json') as f:\n",
    "    closed_issues = json.load(f)\n",
    "print(str(len(closed_issues)) + ' closed issues')\n",
    "with open('data/react/react_issues_open.json') as f:\n",
    "    open_issues = json.load(f)\n",
    "print(str(len(open_issues)) + ' open issues')"
   ]
  },
  {
   "cell_type": "code",
   "execution_count": null,
   "metadata": {},
   "outputs": [],
   "source": [
    "get_issue_by_title(closed_issues, \"Extract react prop from ref\")"
   ]
  },
  {
   "cell_type": "markdown",
   "metadata": {},
   "source": [
    "### Issues that are classified as trivial or documentation changes are labeled 'True', all other issues are labeled as 'False'."
   ]
  },
  {
   "cell_type": "code",
   "execution_count": null,
   "metadata": {},
   "outputs": [],
   "source": [
    "closed_labels = classify_issues(closed_issues)\n",
    "open_labels = classify_issues(open_issues)\n",
    "\n",
    "ig, (ax1, ax2) = plt.subplots(ncols=2, sharey=True)\n",
    "sns.countplot(closed_labels, ax=ax1).set_title(\"closed issue labels\")\n",
    "sns.countplot(open_labels, ax=ax2).set_title(\"open issue labels\")"
   ]
  },
  {
   "cell_type": "code",
   "execution_count": null,
   "metadata": {},
   "outputs": [],
   "source": [
    "pos_issues_closed = [issue for (i,issue) in enumerate(closed_issues) if closed_labels[i]]\n",
    "neg_issues_closed = [issue for (i,issue) in enumerate(closed_issues) if not closed_labels[i]]\n",
    "pos_issues_open = [issue for (i,issue) in enumerate(open_issues) if open_labels[i]]\n",
    "neg_issues_open = [issue for (i,issue) in enumerate(open_issues) if not open_labels[i]]"
   ]
  },
  {
   "cell_type": "markdown",
   "metadata": {},
   "source": [
    "## Exploration of Positive Labeled Issues"
   ]
  },
  {
   "cell_type": "code",
   "execution_count": null,
   "metadata": {},
   "outputs": [],
   "source": [
    "# Print a sample of positive label titles\n",
    "print(\"positive label titles: \")\n",
    "for issue in pos_issues_closed[:20]:\n",
    "    print (\"\\t\" + \"\\\"\" + issue['title'] + \"\\\"\")"
   ]
  },
  {
   "cell_type": "markdown",
   "metadata": {},
   "source": [
    "### The classifier misclassifies some examples as documentation/trivial issues that are more complex upon manual inspection. Example below is an issue that was flagged despite being a significant code change with a lot of discussion around it."
   ]
  },
  {
   "cell_type": "code",
   "execution_count": null,
   "metadata": {},
   "outputs": [],
   "source": [
    "misclass_issue = get_issue_by_title(pos_issues_closed, \"null props considered differently in getdefaultprops vs. isrequired\")\n",
    "print('title: ' + misclass_issue[0]['title'])\n",
    "print('')\n",
    "print('body: ' + misclass_issue[0]['body'])"
   ]
  },
  {
   "cell_type": "markdown",
   "metadata": {},
   "source": [
    "## Exploration of Negative Labeled Issues"
   ]
  },
  {
   "cell_type": "code",
   "execution_count": null,
   "metadata": {},
   "outputs": [],
   "source": [
    "print(\"negative label titles: \")\n",
    "for issue in neg_issues_closed[:20]:\n",
    "    print (\"\\t\" + \"\\\"\" + issue['title'] + \"\\\"\")"
   ]
  },
  {
   "cell_type": "markdown",
   "metadata": {},
   "source": [
    "### The classifier misses some examples that upon further inspection are clearly simple changes. Example below is an issue that was resolved by simply changing a single URL in a markdown file."
   ]
  },
  {
   "cell_type": "code",
   "execution_count": null,
   "metadata": {},
   "outputs": [],
   "source": [
    "misclass_issue = get_issue_by_title(neg_issues_closed, 'small update to bower command')\n",
    "print('title: ' + misclass_issue[0]['title'])\n",
    "print('')\n",
    "print('body: ' + misclass_issue[0]['body'])"
   ]
  },
  {
   "cell_type": "markdown",
   "metadata": {},
   "source": [
    "## Comparsion of Issue Classes"
   ]
  },
  {
   "cell_type": "code",
   "execution_count": null,
   "metadata": {},
   "outputs": [],
   "source": [
    "neg_issues_freqs = sorted(get_word_freq_title(neg_issues_closed).items(), key=lambda x: x[1], reverse=True)\n",
    "pos_issues_freqs = sorted(get_word_freq_title(pos_issues_closed).items(), key=lambda x: x[1], reverse=True)\n",
    "\n",
    "# print top 20 words for negative issues\n",
    "print(\"Top words in Negative Issue Titles: \")\n",
    "for (word, freq) in neg_issues_freqs[:30]:\n",
    "    print(\"\\t\" + word + \": \" + str(freq))\n",
    "print(\"\")\n",
    "# print top 20 words for positive issues\n",
    "print(\"Top words in Positive Issue Titles: \")\n",
    "for (word, freq) in pos_issues_freqs[:30]:\n",
    "    print(\"\\t\" + word + \": \" + str(freq))"
   ]
  },
  {
   "cell_type": "code",
   "execution_count": null,
   "metadata": {},
   "outputs": [],
   "source": [
    "#TODO: list words with biggest differences between the two classes"
   ]
  },
  {
   "cell_type": "code",
   "execution_count": null,
   "metadata": {},
   "outputs": [],
   "source": [
    "neg_issues_freqs = sorted(get_word_freq_body(neg_issues_closed).items(), key=lambda x: x[1], reverse=True)\n",
    "pos_issues_freqs = sorted(get_word_freq_body(pos_issues_closed).items(), key=lambda x: x[1], reverse=True)\n",
    "\n",
    "# print top 20 words for negative issues\n",
    "print(\"Top words in Negative Issue Bodies: \")\n",
    "for (word, freq) in neg_issues_freqs[:30]:\n",
    "    print(\"\\t\" + word + \": \" + str(freq))\n",
    "print(\"\")\n",
    "# print top 20 words for positive issues\n",
    "print(\"Top words in Positive Issue Bodies: \")\n",
    "for (word, freq) in pos_issues_freqs[:30]:\n",
    "    print(\"\\t\" + word + \": \" + str(freq))"
   ]
  },
  {
   "cell_type": "code",
   "execution_count": null,
   "metadata": {},
   "outputs": [],
   "source": [
    "#TODO: list words with biggest differences between the two classes\n",
    "neg_freqs = get_word_freq_body(neg_issues_closed)\n",
    "pos_freqs = get_word_freq_body(pos_issues_closed)\n",
    "freq_diffs = {}\n",
    "for word in neg_freqs:\n",
    "    freq_diffs[word] = neg_freqs[word] - pos_freqs.get(word, 0)\n",
    "for word in pos_freqs:\n",
    "    if word not in neg_freqs:\n",
    "        freq_diffs[word] = - pos_freqs[word]\n",
    "freq_diffs = sorted(freq_diffs.items(), key=lambda x: x[1], reverse=True)\n",
    "# print top 20 words for negative issues\n",
    "print(\"Top words in Negative Issue Bodies compared to Positive Issues: \")\n",
    "for (word, freq) in freq_diffs[:20]:\n",
    "    print(\"\\t\" + word + \": \" + str(freq))\n",
    "print(\"\")\n",
    "# print top 20 words for positive issues\n",
    "print(\"Top words in Positive Issue Bodies compared to Negative Issues: \")\n",
    "for (word, freq) in freq_diffs[:-20:-1]:\n",
    "    print(\"\\t\" + word + \": \" + str(freq))"
   ]
  },
  {
   "cell_type": "code",
   "execution_count": null,
   "metadata": {},
   "outputs": [],
   "source": [
    "#TODO: list words with biggest differences between the two classes\n",
    "neg_freqs = get_word_freq_title(neg_issues_closed)\n",
    "pos_freqs = get_word_freq_title(pos_issues_closed)\n",
    "freq_diffs = {}\n",
    "for word in neg_freqs:\n",
    "    freq_diffs[word] = neg_freqs[word] - pos_freqs.get(word, 0)\n",
    "for word in pos_freqs:\n",
    "    if word not in neg_freqs:\n",
    "        freq_diffs[word] = - pos_freqs[word]\n",
    "freq_diffs = sorted(freq_diffs.items(), key=lambda x: x[1], reverse=True)\n",
    "# print top 20 words for negative issues\n",
    "print(\"Top words in Negative Issue Titles compared to Positive Issues: \")\n",
    "for (word, freq) in freq_diffs[:20]:\n",
    "    print(\"\\t\" + word + \": \" + str(freq))\n",
    "print(\"\")\n",
    "# print top 20 words for positive issues\n",
    "print(\"Top words in Positive Issue Titles compared to Negative Issues: \")\n",
    "for (word, freq) in freq_diffs[:-20:-1]:\n",
    "    print(\"\\t\" + word + \": \" + str(freq))"
   ]
  },
  {
   "cell_type": "code",
   "execution_count": null,
   "metadata": {},
   "outputs": [],
   "source": [
    "print(\"Positive issue data summary \")\n",
    "pos_df = pd.DataFrame({'body length': [len(issue['body']) for issue in pos_issues_closed],\n",
    "                      'comments': [issue['comments'] for issue in pos_issues_closed],\n",
    "                      'lines of code': [get_num_code_lines(issue) for issue in pos_issues_closed]})\n",
    "pos_df.describe()"
   ]
  },
  {
   "cell_type": "code",
   "execution_count": null,
   "metadata": {},
   "outputs": [],
   "source": [
    "print(\"Negative issue datary summary: \")\n",
    "neg_df = pd.DataFrame({'body length': [len(issue['body']) for issue in neg_issues_closed],\n",
    "                      'comments': [issue['comments'] for issue in neg_issues_closed],\n",
    "                      'lines of code': [get_num_code_lines(issue) for issue in neg_issues_closed]})\n",
    "neg_df.describe()"
   ]
  },
  {
   "cell_type": "code",
   "execution_count": null,
   "metadata": {},
   "outputs": [],
   "source": [
    "#TODO: Manually look at recent issues in React to determine normal use case."
   ]
  },
  {
   "cell_type": "code",
   "execution_count": null,
   "metadata": {},
   "outputs": [],
   "source": [
    "#TODO: other statistics that may be meaningful?????"
   ]
  }
 ],
 "metadata": {
  "kernelspec": {
   "display_name": "Python 3",
   "language": "python",
   "name": "python3"
  },
  "language_info": {
   "codemirror_mode": {
    "name": "ipython",
    "version": 3
   },
   "file_extension": ".py",
   "mimetype": "text/x-python",
   "name": "python",
   "nbconvert_exporter": "python",
   "pygments_lexer": "ipython3",
   "version": "3.6.5"
  }
 },
 "nbformat": 4,
 "nbformat_minor": 2
}
