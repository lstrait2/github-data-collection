{
 "cells": [
  {
   "cell_type": "markdown",
   "metadata": {},
   "source": [
    "# Exploration of Issue Data from React Repository"
   ]
  },
  {
   "cell_type": "code",
   "execution_count": 1,
   "metadata": {},
   "outputs": [],
   "source": [
    "import operator\n",
    "import json\n",
    "import matplotlib.pyplot as plt\n",
    "import numpy as np\n",
    "import pandas as pd\n",
    "import seaborn as sns\n",
    "from classifier import *\n",
    "from issues import *"
   ]
  },
  {
   "cell_type": "markdown",
   "metadata": {},
   "source": [
    "## Issue Data Summary"
   ]
  },
  {
   "cell_type": "code",
   "execution_count": 2,
   "metadata": {},
   "outputs": [
    {
     "name": "stdout",
     "output_type": "stream",
     "text": [
      "5575 closed issues\n",
      "379 open issues\n"
     ]
    }
   ],
   "source": [
    "with open('data/react/react_issues_closed.json') as f:\n",
    "    closed_issues = json.load(f)\n",
    "print(str(len(closed_issues)) + ' closed issues')\n",
    "with open('data/react/react_issues_open.json') as f:\n",
    "    open_issues = json.load(f)\n",
    "print(str(len(open_issues)) + ' open issues')"
   ]
  },
  {
   "cell_type": "code",
   "execution_count": 3,
   "metadata": {},
   "outputs": [
    {
     "data": {
      "text/plain": [
       "[{'url': 'https://api.github.com/repos/facebook/react/issues/12903',\n",
       "  'repository_url': 'https://api.github.com/repos/facebook/react',\n",
       "  'labels_url': 'https://api.github.com/repos/facebook/react/issues/12903/labels{/name}',\n",
       "  'comments_url': 'https://api.github.com/repos/facebook/react/issues/12903/comments',\n",
       "  'events_url': 'https://api.github.com/repos/facebook/react/issues/12903/events',\n",
       "  'html_url': 'https://github.com/facebook/react/issues/12903',\n",
       "  'id': 326290102,\n",
       "  'number': 12903,\n",
       "  'title': 'Extract react prop from ref',\n",
       "  'user': {'login': 'gk159yo',\n",
       "   'id': 18729755,\n",
       "   'avatar_url': 'https://avatars3.githubusercontent.com/u/18729755?v=4',\n",
       "   'gravatar_id': '',\n",
       "   'url': 'https://api.github.com/users/gk159yo',\n",
       "   'html_url': 'https://github.com/gk159yo',\n",
       "   'followers_url': 'https://api.github.com/users/gk159yo/followers',\n",
       "   'following_url': 'https://api.github.com/users/gk159yo/following{/other_user}',\n",
       "   'gists_url': 'https://api.github.com/users/gk159yo/gists{/gist_id}',\n",
       "   'starred_url': 'https://api.github.com/users/gk159yo/starred{/owner}{/repo}',\n",
       "   'subscriptions_url': 'https://api.github.com/users/gk159yo/subscriptions',\n",
       "   'organizations_url': 'https://api.github.com/users/gk159yo/orgs',\n",
       "   'repos_url': 'https://api.github.com/users/gk159yo/repos',\n",
       "   'events_url': 'https://api.github.com/users/gk159yo/events{/privacy}',\n",
       "   'received_events_url': 'https://api.github.com/users/gk159yo/received_events',\n",
       "   'type': 'User',\n",
       "   'site_admin': False},\n",
       "  'labels': [],\n",
       "  'state': 'closed',\n",
       "  'locked': False,\n",
       "  'assignee': None,\n",
       "  'assignees': [],\n",
       "  'milestone': None,\n",
       "  'comments': 1,\n",
       "  'created_at': '2018-05-24T20:53:24Z',\n",
       "  'updated_at': '2018-05-25T01:21:59Z',\n",
       "  'closed_at': '2018-05-25T01:21:41Z',\n",
       "  'author_association': 'NONE',\n",
       "  'body': \"Hello, I have the following problem and was wondering if this is a documentation issue, or if react doesn't support this behavior.\\r\\nLet's say you have the following HTML:\\r\\n```HTML\\r\\n<span onMouseDown=bound clearValue> /* onMouseDown appears to be a prop */\\r\\n</span>\\r\\n```\\r\\nAnd you have a library that allows you to specify the child of the `span` node. Namely, passing in the following function to the library\\r\\n```JavaScript\\r\\nspanChildRenderer = () => {\\r\\n    return <div ref = (element) => this.spanRef = element.parentNode;\\r\\n};\\r\\n```\\r\\nwould render the following:\\r\\n```HTML\\r\\n<span ...>\\r\\n    <div ...>\\r\\n    </div>\\r\\n</span>\\r\\n```\\r\\nNow, when I use the following, the click event isn't happening:\\r\\n```JavaScript\\r\\nthis.spanRef.click()\\r\\n```\\r\\n\\r\\nI've tried many variations of the above (tried using `element.parentElement` instead of `element.parentNode`; the behavior didn't change, so I'm not sure the two attributes are different anymore).\\r\\n\\r\\nSo the problem is inability to refer to the react prop using the ref.\\r\\nThanks!\\r\\n\\r\\n\\r\\n__If anything in the explanation above is confusing/under-clarified, please let me know.__\",\n",
       "  'score': 1.0}]"
      ]
     },
     "execution_count": 3,
     "metadata": {},
     "output_type": "execute_result"
    }
   ],
   "source": [
    "get_issue_by_title(closed_issues, \"Extract react prop from ref\")"
   ]
  },
  {
   "cell_type": "markdown",
   "metadata": {},
   "source": [
    "### Issues that are classified as trivial or documentation changes are labeled 'True', all other issues are labeled as 'False'."
   ]
  },
  {
   "cell_type": "code",
   "execution_count": 4,
   "metadata": {},
   "outputs": [
    {
     "name": "stdout",
     "output_type": "stream",
     "text": [
      "{'refactor': 4, 'readme': 90, 'doc': 481, 'easy': 0, 'typo': 12, 'deprecated': 15}\n",
      "{'refactor': 4, 'readme': 92, 'doc': 492, 'easy': 0, 'typo': 12, 'deprecated': 16}\n"
     ]
    },
    {
     "data": {
      "text/plain": [
       "Text(0.5,1,'open issue labels')"
      ]
     },
     "execution_count": 4,
     "metadata": {},
     "output_type": "execute_result"
    },
    {
     "data": {
      "image/png": "[encoded data removed]",
      "text/plain": [
       "<Figure size 432x288 with 2 Axes>"
      ]
     },
     "metadata": {},
     "output_type": "display_data"
    }
   ],
   "source": [
    "closed_labels = classify_issues(closed_issues)\n",
    "open_labels = classify_issues(open_issues)\n",
    "\n",
    "ig, (ax1, ax2) = plt.subplots(ncols=2, sharey=True)\n",
    "sns.countplot(closed_labels, ax=ax1).set_title(\"closed issue labels\")\n",
    "sns.countplot(open_labels, ax=ax2).set_title(\"open issue labels\")"
   ]
  },
  {
   "cell_type": "code",
   "execution_count": 5,
   "metadata": {},
   "outputs": [],
   "source": [
    "pos_issues_closed = [issue for (i,issue) in enumerate(closed_issues) if closed_labels[i]]\n",
    "neg_issues_closed = [issue for (i,issue) in enumerate(closed_issues) if not closed_labels[i]]\n",
    "pos_issues_open = [issue for (i,issue) in enumerate(open_issues) if open_labels[i]]\n",
    "neg_issues_open = [issue for (i,issue) in enumerate(open_issues) if not open_labels[i]]"
   ]
  },
  {
   "cell_type": "markdown",
   "metadata": {},
   "source": [
    "## Exploration of Positive Labeled Issues"
   ]
  },
  {
   "cell_type": "code",
   "execution_count": 6,
   "metadata": {},
   "outputs": [
    {
     "name": "stdout",
     "output_type": "stream",
     "text": [
      "positive label titles: \n",
      "\t\"fix docs rake \"update_version\" command to strip trailing spaces\"\n",
      "\t\"docs don't even mention reconciliation!\"\n",
      "\t\"jsx page gives 404 - linked from \"why react\" blog post\"\n",
      "\t\"stop requiring docblock for jsx transformer\"\n",
      "\t\"document forms changes / best practices\"\n",
      "\t\"better event docs\"\n",
      "\t\"few issues in the (upcoming) doc\"\n",
      "\t\"docblock parsing fails with \\r\\n\"\n",
      "\t\"link to cdnjs in docs\"\n",
      "\t\"old jsfiddle links in docs\"\n",
      "\t\"generate docs using jsdoc (or something).\"\n",
      "\t\"react broken in safari 5.1.1\"\n",
      "\t\"fails on whole-document rendering\"\n",
      "\t\"support onmouseover\"\n",
      "\t\"docco-style documentation\"\n",
      "\t\"documentation - createclass and rendercomponent too vague, add more links\"\n",
      "\t\"fix direct uses of document and global\"\n",
      "\t\"get rid of sanitize dependency in docs\"\n",
      "\t\"add a link in each warning to doc pages \"\n",
      "\t\"document selection and composition events on reference page\"\n"
     ]
    }
   ],
   "source": [
    "# Print a sample of positive label titles\n",
    "print(\"positive label titles: \")\n",
    "for issue in pos_issues_closed[:20]:\n",
    "    print (\"\\t\" + \"\\\"\" + issue['title'] + \"\\\"\")"
   ]
  },
  {
   "cell_type": "markdown",
   "metadata": {},
   "source": [
    "### The classifier misclassifies some examples as documentation/trivial issues that are more complex upon manual inspection. Example below is an issue that was flagged despite being a significant code change with a lot of discussion around it."
   ]
  },
  {
   "cell_type": "code",
   "execution_count": 7,
   "metadata": {},
   "outputs": [
    {
     "name": "stdout",
     "output_type": "stream",
     "text": [
      "title: null props considered differently in getdefaultprops vs. isrequired\n",
      "\n",
      "body: in the case a `null` argument is passed to a property marked as `isrequired`:http://jsfiddle.net/jeanlauliac/0n6snb6b/1/we'll get a proper warning in the console: `warning: required prop `name` was not specified in `hello`.` (though it should probably be \"prop was null\" and not \"prop was not specified\", but anyway)on the other hand, the default value is only used when the prop is `undefined`, but not when it's `null`. is this the explicitly wanted behavior? if it is, then we should probably make the documentation explicit about it (http://facebook.github.io/react/docs/reusable-components.html), giving the entire responsibility to component callers of safeguarding against `null`.\n"
     ]
    }
   ],
   "source": [
    "misclass_issue = get_issue_by_title(pos_issues_closed, \"null props considered differently in getdefaultprops vs. isrequired\")\n",
    "print('title: ' + misclass_issue[0]['title'])\n",
    "print('')\n",
    "print('body: ' + misclass_issue[0]['body'])"
   ]
  },
  {
   "cell_type": "markdown",
   "metadata": {},
   "source": [
    "## Exploration of Negative Labeled Issues"
   ]
  },
  {
   "cell_type": "code",
   "execution_count": 8,
   "metadata": {},
   "outputs": [
    {
     "name": "stdout",
     "output_type": "stream",
     "text": [
      "negative label titles: \n",
      "\t\"can't require() react-tools module\"\n",
      "\t\"write tests for react-tools module\"\n",
      "\t\"must adding comments for jsx?\"\n",
      "\t\"small update to bower command\"\n",
      "\t\"make valid npm release\"\n",
      "\t\"react in requirejs ?\"\n",
      "\t\"is es5-sham required for ie8?\"\n",
      "\t\"uncaught syntaxerror: unexpected token < \"\n",
      "\t\"work with compile-to-js languages (like coffeescript)\"\n",
      "\t\"the name \"jsx\" is already taken, use \"xjs\" instead?\"\n",
      "\t\"jsx not able to watch subdirs\"\n",
      "\t\"jsx whitespace coalescing should work like regular html\"\n",
      "\t\"automatically bind scope of all user provided methods.\"\n",
      "\t\"jsx offline transform exits with error code 1 on any change (ubuntu 12.10)\"\n",
      "\t\"allow namespacing in component names in jsx\"\n",
      "\t\"ordering of componentdidmount events\"\n",
      "\t\"preserve line numbers in \"grunt test\"\"\n",
      "\t\"grunt test just hangs\"\n",
      "\t\"bin/jsx should not relativize required module ids unless --relativize is passed\"\n",
      "\t\"support comments in jsx\"\n"
     ]
    }
   ],
   "source": [
    "print(\"negative label titles: \")\n",
    "for issue in neg_issues_closed[:20]:\n",
    "    print (\"\\t\" + \"\\\"\" + issue['title'] + \"\\\"\")"
   ]
  },
  {
   "cell_type": "markdown",
   "metadata": {},
   "source": [
    "### The classifier misses some examples that upon further inspection are clearly simple changes. Example below is an issue that was resolved by simply changing a single URL in a markdown file."
   ]
  },
  {
   "cell_type": "code",
   "execution_count": 9,
   "metadata": {},
   "outputs": [
    {
     "name": "stdout",
     "output_type": "stream",
     "text": [
      "title: small update to bower command\n",
      "\n",
      "body: it could be preferable to use:```bower install --save react```so that the installation is automatically saved in the `bower.json`.\n"
     ]
    }
   ],
   "source": [
    "misclass_issue = get_issue_by_title(neg_issues_closed, 'small update to bower command')\n",
    "print('title: ' + misclass_issue[0]['title'])\n",
    "print('')\n",
    "print('body: ' + misclass_issue[0]['body'])"
   ]
  },
  {
   "cell_type": "markdown",
   "metadata": {},
   "source": [
    "## Comparsion of Issue Classes"
   ]
  },
  {
   "cell_type": "code",
   "execution_count": 10,
   "metadata": {},
   "outputs": [
    {
     "name": "stdout",
     "output_type": "stream",
     "text": [
      "Top words in Negative Issue Titles: \n",
      "\treact: 0.024803607797497816\n",
      "\tcomponent: 0.012365434972359616\n",
      "\terror: 0.010619726505673553\n",
      "\trender: 0.007273785277858598\n",
      "\twarning: 0.007237416351469305\n",
      "\tevent: 0.006473668897294152\n",
      "\tusing: 0.006400931044515566\n",
      "\tdom: 0.006400931044515566\n",
      "\tjsx: 0.00632819319173698\n",
      "\tcomponents: 0.00632819319173698\n",
      "\tinput: 0.005891766075065464\n",
      "\telement: 0.005455338958393948\n",
      "\tdoesnt: 0.005382601105615362\n",
      "\tproperty: 0.005128018620890311\n",
      "\trendering: 0.004946173988943846\n",
      "\tadd: 0.004909805062554553\n",
      "\tsupport: 0.004546115798661624\n",
      "\tattribute: 0.004546115798661624\n",
      "\tvalue: 0.004473377945883037\n",
      "\tprops: 0.004291533313936572\n",
      "\tstate: 0.0042551643875472795\n",
      "\twork: 0.0041460576083794005\n",
      "\tfunction: 0.004109688681990108\n",
      "\tsetstate: 0.004036950829211522\n",
      "\tupdate: 0.00389147512365435\n",
      "\tnull: 0.003855106197265057\n",
      "\tundefined: 0.0038187372708757637\n",
      "\tcannot: 0.003636892638929299\n",
      "\thtml: 0.00352778585976142\n",
      "\tchildren: 0.003455048006982834\n",
      "\n",
      "Top words in Positive Issue Titles: \n",
      "\tdocs: 0.041263700838168924\n",
      "\tdocumentation: 0.024500322372662798\n",
      "\treact: 0.022888459058671824\n",
      "\tdocument: 0.022243713733075435\n",
      "\tlink: 0.009993552546744036\n",
      "\tupdate: 0.009671179883945842\n",
      "\tcomponent: 0.009671179883945842\n",
      "\tjsx: 0.007736943907156673\n",
      "\tadd: 0.007414571244358479\n",
      "\tdoc: 0.006769825918762089\n",
      "\tcomponents: 0.006447453255963894\n",
      "\tlinks: 0.005802707930367505\n",
      "\tpage: 0.00548033526756931\n",
      "\tdeprecated: 0.0051579626047711154\n",
      "\trender: 0.0051579626047711154\n",
      "\twarning: 0.004835589941972921\n",
      "\tdoesnt: 0.004835589941972921\n",
      "\tevent: 0.004513217279174726\n",
      "\tusing: 0.004513217279174726\n",
      "\terror: 0.004513217279174726\n",
      "\tnew: 0.004513217279174726\n",
      "\trendering: 0.004190844616376531\n",
      "\tinput: 0.004190844616376531\n",
      "\tstate: 0.004190844616376531\n",
      "\tsupport: 0.0038684719535783366\n",
      "\tcallback: 0.0038684719535783366\n",
      "\ttutorial: 0.0038684719535783366\n",
      "\trefs: 0.0038684719535783366\n",
      "\tabout: 0.0035460992907801418\n",
      "\trequest: 0.0035460992907801418\n"
     ]
    }
   ],
   "source": [
    "neg_issues_freqs = sorted(get_word_freq_title(neg_issues_closed).items(), key=lambda x: x[1], reverse=True)\n",
    "pos_issues_freqs = sorted(get_word_freq_title(pos_issues_closed).items(), key=lambda x: x[1], reverse=True)\n",
    "\n",
    "# print top 20 words for negative issues\n",
    "print(\"Top words in Negative Issue Titles: \")\n",
    "for (word, freq) in neg_issues_freqs[:30]:\n",
    "    print(\"\\t\" + word + \": \" + str(freq))\n",
    "print(\"\")\n",
    "# print top 20 words for positive issues\n",
    "print(\"Top words in Positive Issue Titles: \")\n",
    "for (word, freq) in pos_issues_freqs[:30]:\n",
    "    print(\"\\t\" + word + \": \" + str(freq))"
   ]
  },
  {
   "cell_type": "code",
   "execution_count": 11,
   "metadata": {},
   "outputs": [],
   "source": [
    "#TODO: list words with biggest differences between the two classes"
   ]
  },
  {
   "cell_type": "code",
   "execution_count": 12,
   "metadata": {},
   "outputs": [
    {
     "name": "stdout",
     "output_type": "stream",
     "text": [
      "Top words in Negative Issue Bodies: \n",
      "\treact: 0.01410491860624914\n",
      "\tcomponent: 0.007739589970390915\n",
      "\trender: 0.006612071011831141\n",
      "\treturn: 0.006530864660245118\n",
      "\tdiv: 0.006349712029783991\n",
      "\tfunction: 0.005643841435228564\n",
      "\tlike: 0.005387729095611109\n",
      "\tusing: 0.004709968391989306\n",
      "\terror: 0.004622515397973589\n",
      "\tcode: 0.003666779106230401\n",
      "\tmodule: 0.0035449695788513673\n",
      "\tbehavior: 0.0034106667666129456\n",
      "\tget: 0.003176417675499419\n",
      "\tone: 0.0031201978936321725\n",
      "\tother: 0.0030702247541946203\n",
      "\tbug: 0.00300775832989768\n",
      "\tproblem: 0.0029046887298077285\n",
      "\tim: 0.0028984420873780343\n",
      "\tcomponents: 0.00286096223279987\n",
      "\tvalue: 0.002848468947940482\n",
      "\tonly: 0.002842222305510788\n",
      "\tall: 0.002814112414577165\n",
      "\tjust: 0.0028109890933623177\n",
      "\trequest: 0.0027766325599990005\n",
      "\tvar: 0.002723536099346601\n",
      "\tcase: 0.002686056244768437\n",
      "\tany: 0.002657946353834814\n",
      "\tinput: 0.0026516997114051197\n",
      "\telement: 0.0026048498931824145\n",
      "\tnew: 0.0025986032507527203\n",
      "\n",
      "Top words in Positive Issue Bodies: \n",
      "\treact: 0.01532848564696344\n",
      "\tx: 0.009881172565811143\n",
      "\tcomponent: 0.007524892953963871\n",
      "\tlike: 0.005573994780713978\n",
      "\tdocumentation: 0.005396640401327624\n",
      "\tdocs: 0.004484532164483519\n",
      "\tusing: 0.00420583242544782\n",
      "\tfunction: 0.00420583242544782\n",
      "\trender: 0.004028478046061466\n",
      "\tcode: 0.0036991056272010947\n",
      "\tjust: 0.003648432947376422\n",
      "\tcomponents: 0.0035217512478147406\n",
      "\terror: 0.0032937241886037143\n",
      "\treturn: 0.0032430515087790417\n",
      "\tnew: 0.003192378828954369\n",
      "\tabout: 0.003167042489042033\n",
      "\tall: 0.0031163698092173606\n",
      "\texample: 0.002989688109655679\n",
      "\tupdate: 0.002964351769743343\n",
      "\tdom: 0.0028376700701816617\n",
      "\tbug: 0.0028376700701816617\n",
      "\tany: 0.0028376700701816617\n",
      "\trequest: 0.0028376700701816617\n",
      "\treport: 0.0027616610504446527\n",
      "\tproblem: 0.00271098837061998\n",
      "\tmake: 0.00271098837061998\n",
      "\tobject: 0.00271098837061998\n",
      "\tim: 0.002685652030707644\n",
      "\tfeature: 0.0026603156907953076\n",
      "\tversion: 0.0026349793508829715\n"
     ]
    }
   ],
   "source": [
    "neg_issues_freqs = sorted(get_word_freq_body(neg_issues_closed).items(), key=lambda x: x[1], reverse=True)\n",
    "pos_issues_freqs = sorted(get_word_freq_body(pos_issues_closed).items(), key=lambda x: x[1], reverse=True)\n",
    "\n",
    "# print top 20 words for negative issues\n",
    "print(\"Top words in Negative Issue Bodies: \")\n",
    "for (word, freq) in neg_issues_freqs[:30]:\n",
    "    print(\"\\t\" + word + \": \" + str(freq))\n",
    "print(\"\")\n",
    "# print top 20 words for positive issues\n",
    "print(\"Top words in Positive Issue Bodies: \")\n",
    "for (word, freq) in pos_issues_freqs[:30]:\n",
    "    print(\"\\t\" + word + \": \" + str(freq))"
   ]
  },
  {
   "cell_type": "code",
   "execution_count": 13,
   "metadata": {},
   "outputs": [
    {
     "name": "stdout",
     "output_type": "stream",
     "text": [
      "Top words in Negative Issue Bodies compared to Positive Issues: \n",
      "\tdiv: 0.00404410509776139\n",
      "\tmodule: 0.0032916061797280045\n",
      "\treturn: 0.0032878131514660763\n",
      "\trender: 0.002583592965769675\n",
      "\tequal: 0.0020134928729956475\n",
      "\t0: 0.0014592167161390965\n",
      "\tfunction: 0.0014380090097807444\n",
      "\texpected: 0.0014151158384104843\n",
      "\tvar: 0.0013807100839927791\n",
      "\terror: 0.0013287912093698745\n",
      "\tother: 0.0012460082805064092\n",
      "\tunexpected: 0.0012135728718012501\n",
      "\tmultiple: 0.0011736446258681654\n",
      "\tbehavior: 0.001155732514415018\n",
      "\t1: 0.0010878666512386674\n",
      "\tmodules: 0.0010816938403905552\n",
      "\tone: 0.0010679543607329351\n",
      "\telement: 0.0010593331585299025\n",
      "\tcase: 0.0010391941504665797\n",
      "\tname: 0.001019128973984839\n",
      "\n",
      "Top words in Positive Issue Bodies compared to Negative Issues: \n",
      "\tx: -0.00799780987325839\n",
      "\tdocumentation: -0.005396640401327624\n",
      "\tdocs: -0.004134720188420653\n",
      "\trelease: -0.001842655851838121\n",
      "\tupdate: -0.0016588035019372888\n",
      "\tabout: -0.001542915457321583\n",
      "\trepo: -0.0014796018294743586\n",
      "\tlink: -0.0013564424423754722\n",
      "\treact: -0.0012235670407143\n",
      "\tpage: -0.0012221642406642442\n",
      "\tdocument: -0.0012123706752445612\n",
      "\tsection: -0.001165146476301102\n",
      "\tgit: -0.0010908616970046997\n",
      "\tnow: -0.0010701708117174208\n",
      "\tnpm: -0.0010670474905025737\n",
      "\trun: -0.0010129017192694939\n",
      "\t16: -0.0010045072346240515\n",
      "\tmake: -0.0009182019932977908\n",
      "\texamples: -0.0008642337185679138\n"
     ]
    }
   ],
   "source": [
    "#TODO: list words with biggest differences between the two classes\n",
    "neg_freqs = get_word_freq_body(neg_issues_closed)\n",
    "pos_freqs = get_word_freq_body(pos_issues_closed)\n",
    "freq_diffs = {}\n",
    "for word in neg_freqs:\n",
    "    freq_diffs[word] = neg_freqs[word] - pos_freqs.get(word, 0)\n",
    "for word in pos_freqs:\n",
    "    if word not in neg_freqs:\n",
    "        freq_diffs[word] = - pos_freqs[word]\n",
    "freq_diffs = sorted(freq_diffs.items(), key=lambda x: x[1], reverse=True)\n",
    "# print top 20 words for negative issues\n",
    "print(\"Top words in Negative Issue Bodies compared to Positive Issues: \")\n",
    "for (word, freq) in freq_diffs[:20]:\n",
    "    print(\"\\t\" + word + \": \" + str(freq))\n",
    "print(\"\")\n",
    "# print top 20 words for positive issues\n",
    "print(\"Top words in Positive Issue Bodies compared to Negative Issues: \")\n",
    "for (word, freq) in freq_diffs[:-20:-1]:\n",
    "    print(\"\\t\" + word + \": \" + str(freq))"
   ]
  },
  {
   "cell_type": "code",
   "execution_count": 14,
   "metadata": {},
   "outputs": [
    {
     "name": "stdout",
     "output_type": "stream",
     "text": [
      "Top words in Negative Issue Titles compared to Positive Issues: \n",
      "\terror: 0.006106509226498827\n",
      "\tdom: 0.004144322404928203\n",
      "\tattribute: 0.0035789978102670397\n",
      "\telement: 0.003198730318806585\n",
      "\tcomponent: 0.002694255088413774\n",
      "\twork: 0.002534194294388427\n",
      "\tattributes: 0.002446613417493515\n",
      "\twarning: 0.002401826409496384\n",
      "\tsvg: 0.002342454313031078\n",
      "\tvalue: 0.0022167693062956745\n",
      "\trender: 0.0021158226730874823\n",
      "\tevent: 0.0019604516181194265\n",
      "\treact: 0.001915148738825992\n",
      "\telements: 0.0019109748710650042\n",
      "\tproperty: 0.0019042919929083643\n",
      "\tusing: 0.0018877137653408402\n",
      "\tinside: 0.0018548152458539423\n",
      "\tobject: 0.0018431846929918606\n",
      "\tchild: 0.0018382370182864183\n",
      "\terrors: 0.0018184463194646494\n",
      "\n",
      "Top words in Positive Issue Titles compared to Negative Issues: \n",
      "\tdocs: -0.04111822513261175\n",
      "\tdocumentation: -0.024463953446273504\n",
      "\tdocument: -0.022207344806686142\n",
      "\tlink: -0.009993552546744036\n",
      "\tdoc: -0.006769825918762089\n",
      "\tlinks: -0.005802707930367505\n",
      "\tupdate: -0.005779704760291492\n",
      "\tdeprecated: -0.005121593678381823\n",
      "\tpage: -0.003952840359219004\n",
      "\treactlink: -0.0029013539651837525\n",
      "\ttutorial: -0.002704666309120961\n",
      "\texamples: -0.0025740336276801157\n",
      "\tadd: -0.0025047661818039255\n",
      "\texample: -0.0024186625727120594\n",
      "\ttestutilsrenderintodocument: -0.002256608639587363\n",
      "\twebsite: -0.002096289909913864\n",
      "\trefs: -0.00208639456050298\n",
      "\tcode: -0.0020186043824298363\n",
      "\timprove: -0.0019970784801568698\n"
     ]
    }
   ],
   "source": [
    "#TODO: list words with biggest differences between the two classes\n",
    "neg_freqs = get_word_freq_title(neg_issues_closed)\n",
    "pos_freqs = get_word_freq_title(pos_issues_closed)\n",
    "freq_diffs = {}\n",
    "for word in neg_freqs:\n",
    "    freq_diffs[word] = neg_freqs[word] - pos_freqs.get(word, 0)\n",
    "for word in pos_freqs:\n",
    "    if word not in neg_freqs:\n",
    "        freq_diffs[word] = - pos_freqs[word]\n",
    "freq_diffs = sorted(freq_diffs.items(), key=lambda x: x[1], reverse=True)\n",
    "# print top 20 words for negative issues\n",
    "print(\"Top words in Negative Issue Titles compared to Positive Issues: \")\n",
    "for (word, freq) in freq_diffs[:20]:\n",
    "    print(\"\\t\" + word + \": \" + str(freq))\n",
    "print(\"\")\n",
    "# print top 20 words for positive issues\n",
    "print(\"Top words in Positive Issue Titles compared to Negative Issues: \")\n",
    "for (word, freq) in freq_diffs[:-20:-1]:\n",
    "    print(\"\\t\" + word + \": \" + str(freq))"
   ]
  },
  {
   "cell_type": "code",
   "execution_count": 15,
   "metadata": {},
   "outputs": [
    {
     "name": "stdout",
     "output_type": "stream",
     "text": [
      "Positive issue data summary \n"
     ]
    },
    {
     "data": {
      "text/html": [
       "<div>\n",
       "<style scoped>\n",
       "    .dataframe tbody tr th:only-of-type {\n",
       "        vertical-align: middle;\n",
       "    }\n",
       "\n",
       "    .dataframe tbody tr th {\n",
       "        vertical-align: top;\n",
       "    }\n",
       "\n",
       "    .dataframe thead th {\n",
       "        text-align: right;\n",
       "    }\n",
       "</style>\n",
       "<table border=\"1\" class=\"dataframe\">\n",
       "  <thead>\n",
       "    <tr style=\"text-align: right;\">\n",
       "      <th></th>\n",
       "      <th>body length</th>\n",
       "      <th>comments</th>\n",
       "      <th>lines of code</th>\n",
       "    </tr>\n",
       "  </thead>\n",
       "  <tbody>\n",
       "    <tr>\n",
       "      <th>count</th>\n",
       "      <td>602.000000</td>\n",
       "      <td>602.000000</td>\n",
       "      <td>602.000000</td>\n",
       "    </tr>\n",
       "    <tr>\n",
       "      <th>mean</th>\n",
       "      <td>873.073090</td>\n",
       "      <td>5.991694</td>\n",
       "      <td>142.509967</td>\n",
       "    </tr>\n",
       "    <tr>\n",
       "      <th>std</th>\n",
       "      <td>1266.261993</td>\n",
       "      <td>13.279346</td>\n",
       "      <td>598.767915</td>\n",
       "    </tr>\n",
       "    <tr>\n",
       "      <th>min</th>\n",
       "      <td>11.000000</td>\n",
       "      <td>0.000000</td>\n",
       "      <td>0.000000</td>\n",
       "    </tr>\n",
       "    <tr>\n",
       "      <th>25%</th>\n",
       "      <td>313.000000</td>\n",
       "      <td>2.000000</td>\n",
       "      <td>0.000000</td>\n",
       "    </tr>\n",
       "    <tr>\n",
       "      <th>50%</th>\n",
       "      <td>534.500000</td>\n",
       "      <td>3.000000</td>\n",
       "      <td>0.000000</td>\n",
       "    </tr>\n",
       "    <tr>\n",
       "      <th>75%</th>\n",
       "      <td>982.500000</td>\n",
       "      <td>6.000000</td>\n",
       "      <td>0.000000</td>\n",
       "    </tr>\n",
       "    <tr>\n",
       "      <th>max</th>\n",
       "      <td>14900.000000</td>\n",
       "      <td>254.000000</td>\n",
       "      <td>7643.000000</td>\n",
       "    </tr>\n",
       "  </tbody>\n",
       "</table>\n",
       "</div>"
      ],
      "text/plain": [
       "        body length    comments  lines of code\n",
       "count    602.000000  602.000000     602.000000\n",
       "mean     873.073090    5.991694     142.509967\n",
       "std     1266.261993   13.279346     598.767915\n",
       "min       11.000000    0.000000       0.000000\n",
       "25%      313.000000    2.000000       0.000000\n",
       "50%      534.500000    3.000000       0.000000\n",
       "75%      982.500000    6.000000       0.000000\n",
       "max    14900.000000  254.000000    7643.000000"
      ]
     },
     "execution_count": 15,
     "metadata": {},
     "output_type": "execute_result"
    }
   ],
   "source": [
    "print(\"Positive issue data summary \")\n",
    "pos_df = pd.DataFrame({'body length': [len(issue['body']) for issue in pos_issues_closed],\n",
    "                      'comments': [issue['comments'] for issue in pos_issues_closed],\n",
    "                      'lines of code': [get_num_code_lines(issue) for issue in pos_issues_closed]})\n",
    "pos_df.describe()"
   ]
  },
  {
   "cell_type": "code",
   "execution_count": 16,
   "metadata": {},
   "outputs": [
    {
     "name": "stdout",
     "output_type": "stream",
     "text": [
      "Negative issue datary summary: \n"
     ]
    },
    {
     "data": {
      "text/html": [
       "<div>\n",
       "<style scoped>\n",
       "    .dataframe tbody tr th:only-of-type {\n",
       "        vertical-align: middle;\n",
       "    }\n",
       "\n",
       "    .dataframe tbody tr th {\n",
       "        vertical-align: top;\n",
       "    }\n",
       "\n",
       "    .dataframe thead th {\n",
       "        text-align: right;\n",
       "    }\n",
       "</style>\n",
       "<table border=\"1\" class=\"dataframe\">\n",
       "  <thead>\n",
       "    <tr style=\"text-align: right;\">\n",
       "      <th></th>\n",
       "      <th>body length</th>\n",
       "      <th>comments</th>\n",
       "      <th>lines of code</th>\n",
       "    </tr>\n",
       "  </thead>\n",
       "  <tbody>\n",
       "    <tr>\n",
       "      <th>count</th>\n",
       "      <td>4973.000000</td>\n",
       "      <td>4973.000000</td>\n",
       "      <td>4973.000000</td>\n",
       "    </tr>\n",
       "    <tr>\n",
       "      <th>mean</th>\n",
       "      <td>854.844963</td>\n",
       "      <td>5.406596</td>\n",
       "      <td>244.819023</td>\n",
       "    </tr>\n",
       "    <tr>\n",
       "      <th>std</th>\n",
       "      <td>1689.656103</td>\n",
       "      <td>8.913681</td>\n",
       "      <td>1501.523008</td>\n",
       "    </tr>\n",
       "    <tr>\n",
       "      <th>min</th>\n",
       "      <td>0.000000</td>\n",
       "      <td>0.000000</td>\n",
       "      <td>0.000000</td>\n",
       "    </tr>\n",
       "    <tr>\n",
       "      <th>25%</th>\n",
       "      <td>298.000000</td>\n",
       "      <td>2.000000</td>\n",
       "      <td>0.000000</td>\n",
       "    </tr>\n",
       "    <tr>\n",
       "      <th>50%</th>\n",
       "      <td>573.000000</td>\n",
       "      <td>3.000000</td>\n",
       "      <td>0.000000</td>\n",
       "    </tr>\n",
       "    <tr>\n",
       "      <th>75%</th>\n",
       "      <td>1019.000000</td>\n",
       "      <td>6.000000</td>\n",
       "      <td>202.000000</td>\n",
       "    </tr>\n",
       "    <tr>\n",
       "      <th>max</th>\n",
       "      <td>91176.000000</td>\n",
       "      <td>259.000000</td>\n",
       "      <td>91090.000000</td>\n",
       "    </tr>\n",
       "  </tbody>\n",
       "</table>\n",
       "</div>"
      ],
      "text/plain": [
       "        body length     comments  lines of code\n",
       "count   4973.000000  4973.000000    4973.000000\n",
       "mean     854.844963     5.406596     244.819023\n",
       "std     1689.656103     8.913681    1501.523008\n",
       "min        0.000000     0.000000       0.000000\n",
       "25%      298.000000     2.000000       0.000000\n",
       "50%      573.000000     3.000000       0.000000\n",
       "75%     1019.000000     6.000000     202.000000\n",
       "max    91176.000000   259.000000   91090.000000"
      ]
     },
     "execution_count": 16,
     "metadata": {},
     "output_type": "execute_result"
    }
   ],
   "source": [
    "print(\"Negative issue datary summary: \")\n",
    "neg_df = pd.DataFrame({'body length': [len(issue['body']) for issue in neg_issues_closed],\n",
    "                      'comments': [issue['comments'] for issue in neg_issues_closed],\n",
    "                      'lines of code': [get_num_code_lines(issue) for issue in neg_issues_closed]})\n",
    "neg_df.describe()"
   ]
  },
  {
   "cell_type": "code",
   "execution_count": 17,
   "metadata": {},
   "outputs": [],
   "source": [
    "#TODO: Manually look at recent issues in React to determine normal use case."
   ]
  },
  {
   "cell_type": "code",
   "execution_count": 18,
   "metadata": {},
   "outputs": [],
   "source": [
    "#TODO: other statistics that may be meaningful?????"
   ]
  }
 ],
 "metadata": {
  "kernelspec": {
   "display_name": "Python 3",
   "language": "python",
   "name": "python3"
  },
  "language_info": {
   "codemirror_mode": {
    "name": "ipython",
    "version": 3
   },
   "file_extension": ".py",
   "mimetype": "text/x-python",
   "name": "python",
   "nbconvert_exporter": "python",
   "pygments_lexer": "ipython3",
   "version": "3.6.5"
  }
 },
 "nbformat": 4,
 "nbformat_minor": 2
}
