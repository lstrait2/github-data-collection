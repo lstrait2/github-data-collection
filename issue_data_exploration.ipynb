{
 "cells": [
  {
   "cell_type": "markdown",
   "metadata": {},
   "source": [
    "# Exploration of Issue Data from React Repository"
   ]
  },
  {
   "cell_type": "code",
   "execution_count": 55,
   "metadata": {},
   "outputs": [],
   "source": [
    "import json\n",
    "import matplotlib.pyplot as plt\n",
    "import seaborn as sns\n",
    "from classifier import *\n",
    "from issues import *"
   ]
  },
  {
   "cell_type": "markdown",
   "metadata": {},
   "source": [
    "## Issue Data Summary"
   ]
  },
  {
   "cell_type": "code",
   "execution_count": 56,
   "metadata": {},
   "outputs": [
    {
     "name": "stdout",
     "output_type": "stream",
     "text": [
      "5575 closed issues\n",
      "379 open issues\n"
     ]
    }
   ],
   "source": [
    "with open('data/react/react_issues_closed.json') as f:\n",
    "    closed_issues = json.load(f)\n",
    "print(str(len(closed_issues)) + ' closed issues')\n",
    "with open('data/react/react_issues_open.json') as f:\n",
    "    open_issues = json.load(f)\n",
    "print(str(len(open_issues)) + ' open issues')"
   ]
  },
  {
   "cell_type": "code",
   "execution_count": 57,
   "metadata": {},
   "outputs": [
    {
     "data": {
      "text/plain": [
       "[{'url': 'https://api.github.com/repos/facebook/react/issues/12903',\n",
       "  'repository_url': 'https://api.github.com/repos/facebook/react',\n",
       "  'labels_url': 'https://api.github.com/repos/facebook/react/issues/12903/labels{/name}',\n",
       "  'comments_url': 'https://api.github.com/repos/facebook/react/issues/12903/comments',\n",
       "  'events_url': 'https://api.github.com/repos/facebook/react/issues/12903/events',\n",
       "  'html_url': 'https://github.com/facebook/react/issues/12903',\n",
       "  'id': 326290102,\n",
       "  'number': 12903,\n",
       "  'title': 'Extract react prop from ref',\n",
       "  'user': {'login': 'gk159yo',\n",
       "   'id': 18729755,\n",
       "   'avatar_url': 'https://avatars3.githubusercontent.com/u/18729755?v=4',\n",
       "   'gravatar_id': '',\n",
       "   'url': 'https://api.github.com/users/gk159yo',\n",
       "   'html_url': 'https://github.com/gk159yo',\n",
       "   'followers_url': 'https://api.github.com/users/gk159yo/followers',\n",
       "   'following_url': 'https://api.github.com/users/gk159yo/following{/other_user}',\n",
       "   'gists_url': 'https://api.github.com/users/gk159yo/gists{/gist_id}',\n",
       "   'starred_url': 'https://api.github.com/users/gk159yo/starred{/owner}{/repo}',\n",
       "   'subscriptions_url': 'https://api.github.com/users/gk159yo/subscriptions',\n",
       "   'organizations_url': 'https://api.github.com/users/gk159yo/orgs',\n",
       "   'repos_url': 'https://api.github.com/users/gk159yo/repos',\n",
       "   'events_url': 'https://api.github.com/users/gk159yo/events{/privacy}',\n",
       "   'received_events_url': 'https://api.github.com/users/gk159yo/received_events',\n",
       "   'type': 'User',\n",
       "   'site_admin': False},\n",
       "  'labels': [],\n",
       "  'state': 'closed',\n",
       "  'locked': False,\n",
       "  'assignee': None,\n",
       "  'assignees': [],\n",
       "  'milestone': None,\n",
       "  'comments': 1,\n",
       "  'created_at': '2018-05-24T20:53:24Z',\n",
       "  'updated_at': '2018-05-25T01:21:59Z',\n",
       "  'closed_at': '2018-05-25T01:21:41Z',\n",
       "  'author_association': 'NONE',\n",
       "  'body': \"Hello, I have the following problem and was wondering if this is a documentation issue, or if react doesn't support this behavior.\\r\\nLet's say you have the following HTML:\\r\\n```HTML\\r\\n<span onMouseDown=bound clearValue> /* onMouseDown appears to be a prop */\\r\\n</span>\\r\\n```\\r\\nAnd you have a library that allows you to specify the child of the `span` node. Namely, passing in the following function to the library\\r\\n```JavaScript\\r\\nspanChildRenderer = () => {\\r\\n    return <div ref = (element) => this.spanRef = element.parentNode;\\r\\n};\\r\\n```\\r\\nwould render the following:\\r\\n```HTML\\r\\n<span ...>\\r\\n    <div ...>\\r\\n    </div>\\r\\n</span>\\r\\n```\\r\\nNow, when I use the following, the click event isn't happening:\\r\\n```JavaScript\\r\\nthis.spanRef.click()\\r\\n```\\r\\n\\r\\nI've tried many variations of the above (tried using `element.parentElement` instead of `element.parentNode`; the behavior didn't change, so I'm not sure the two attributes are different anymore).\\r\\n\\r\\nSo the problem is inability to refer to the react prop using the ref.\\r\\nThanks!\\r\\n\\r\\n\\r\\n__If anything in the explanation above is confusing/under-clarified, please let me know.__\",\n",
       "  'score': 1.0}]"
      ]
     },
     "execution_count": 57,
     "metadata": {},
     "output_type": "execute_result"
    }
   ],
   "source": [
    "get_issue_by_title(closed_issues, \"Extract react prop from ref\")"
   ]
  },
  {
   "cell_type": "markdown",
   "metadata": {},
   "source": [
    "### Issues that are classified as trivial or documentation changes are labeled 'True', all other issues are labeled as 'False'."
   ]
  },
  {
   "cell_type": "code",
   "execution_count": 58,
   "metadata": {},
   "outputs": [
    {
     "data": {
      "text/plain": [
       "Text(0.5,1,'open issue labels')"
      ]
     },
     "execution_count": 58,
     "metadata": {},
     "output_type": "execute_result"
    },
    {
     "data": {
      "image/png": "[encoded data removed]",
      "text/plain": [
       "<Figure size 432x288 with 2 Axes>"
      ]
     },
     "metadata": {},
     "output_type": "display_data"
    }
   ],
   "source": [
    "closed_labels = classify_issues(closed_issues)\n",
    "open_labels = classify_issues(open_issues)\n",
    "\n",
    "ig, (ax1, ax2) = plt.subplots(ncols=2, sharey=True)\n",
    "sns.countplot(closed_labels, ax=ax1).set_title(\"closed issue labels\")\n",
    "sns.countplot(open_labels, ax=ax2).set_title(\"open issue labels\")"
   ]
  },
  {
   "cell_type": "code",
   "execution_count": 59,
   "metadata": {},
   "outputs": [],
   "source": [
    "pos_issues_closed = [issue for (i,issue) in enumerate(closed_issues) if closed_labels[i]]\n",
    "neg_issues_closed = [issue for (i,issue) in enumerate(closed_issues) if not closed_labels[i]]\n",
    "pos_issues_open = [issue for (i,issue) in enumerate(open_issues) if open_labels[i]]\n",
    "neg_issues_open = [issue for (i,issue) in enumerate(open_issues) if not open_labels[i]]"
   ]
  },
  {
   "cell_type": "markdown",
   "metadata": {},
   "source": [
    "## Exploration of Positive Labeled Issues"
   ]
  },
  {
   "cell_type": "code",
   "execution_count": 60,
   "metadata": {},
   "outputs": [
    {
     "name": "stdout",
     "output_type": "stream",
     "text": [
      "positive label titles: \n",
      "\t\"fix docs rake \"update_version\" command to strip trailing spaces\"\n",
      "\t\"docs don't even mention reconciliation!\"\n",
      "\t\"better event docs\"\n",
      "\t\"few issues in the (upcoming) doc\"\n",
      "\t\"link to cdnjs in docs\"\n",
      "\t\"old jsfiddle links in docs\"\n",
      "\t\"generate docs using jsdoc (or something).\"\n",
      "\t\"react broken in safari 5.1.1\"\n",
      "\t\"support onmouseover\"\n",
      "\t\"docco-style documentation\"\n",
      "\t\"documentation - createclass and rendercomponent too vague, add more links\"\n",
      "\t\"get rid of sanitize dependency in docs\"\n",
      "\t\"docs nav header behaviour on different screen sizes\"\n",
      "\t\"update top level api docs for completeness.\"\n",
      "\t\"add docs to \"multiple components\" page about how to communicate between parent and child\"\n",
      "\t\"[documentation] document usage of <select>\"\n",
      "\t\"better reactcsstransitiongroup docs\"\n",
      "\t\"better error display for docs live editor\"\n",
      "\t\"third party components section, also try to establish a standard.\"\n",
      "\t\"tutorials docs section\"\n"
     ]
    }
   ],
   "source": [
    "# Print a sample of positive label titles\n",
    "print(\"positive label titles: \")\n",
    "for issue in pos_issues_closed[:20]:\n",
    "    print (\"\\t\" + \"\\\"\" + issue['title'] + \"\\\"\")"
   ]
  },
  {
   "cell_type": "markdown",
   "metadata": {},
   "source": [
    "### The classifier misclassifies some examples as documentation/trivial issues that are more complex upon manual inspection. Example below is an issue that was flagged despite being a significant code change with a lot of discussion around it."
   ]
  },
  {
   "cell_type": "code",
   "execution_count": 61,
   "metadata": {},
   "outputs": [
    {
     "data": {
      "text/plain": [
       "[{'url': 'https://api.github.com/repos/facebook/react/issues/2166',\n",
       "  'repository_url': 'https://api.github.com/repos/facebook/react',\n",
       "  'labels_url': 'https://api.github.com/repos/facebook/react/issues/2166/labels{/name}',\n",
       "  'comments_url': 'https://api.github.com/repos/facebook/react/issues/2166/comments',\n",
       "  'events_url': 'https://api.github.com/repos/facebook/react/issues/2166/events',\n",
       "  'html_url': 'https://github.com/facebook/react/issues/2166',\n",
       "  'id': 42285693,\n",
       "  'number': 2166,\n",
       "  'title': 'null props considered differently in getdefaultprops vs. isrequired',\n",
       "  'user': {'login': 'jeanlauliac',\n",
       "   'id': 1733570,\n",
       "   'avatar_url': 'https://avatars3.githubusercontent.com/u/1733570?v=4',\n",
       "   'gravatar_id': '',\n",
       "   'url': 'https://api.github.com/users/jeanlauliac',\n",
       "   'html_url': 'https://github.com/jeanlauliac',\n",
       "   'followers_url': 'https://api.github.com/users/jeanlauliac/followers',\n",
       "   'following_url': 'https://api.github.com/users/jeanlauliac/following{/other_user}',\n",
       "   'gists_url': 'https://api.github.com/users/jeanlauliac/gists{/gist_id}',\n",
       "   'starred_url': 'https://api.github.com/users/jeanlauliac/starred{/owner}{/repo}',\n",
       "   'subscriptions_url': 'https://api.github.com/users/jeanlauliac/subscriptions',\n",
       "   'organizations_url': 'https://api.github.com/users/jeanlauliac/orgs',\n",
       "   'repos_url': 'https://api.github.com/users/jeanlauliac/repos',\n",
       "   'events_url': 'https://api.github.com/users/jeanlauliac/events{/privacy}',\n",
       "   'received_events_url': 'https://api.github.com/users/jeanlauliac/received_events',\n",
       "   'type': 'User',\n",
       "   'site_admin': False},\n",
       "  'labels': [],\n",
       "  'state': 'closed',\n",
       "  'locked': False,\n",
       "  'assignee': None,\n",
       "  'assignees': [],\n",
       "  'milestone': None,\n",
       "  'comments': 29,\n",
       "  'created_at': '2014-09-09T09:11:52Z',\n",
       "  'updated_at': '2017-09-20T16:43:01Z',\n",
       "  'closed_at': '2017-09-19T21:08:24Z',\n",
       "  'author_association': 'CONTRIBUTOR',\n",
       "  'body': 'in the case a `null` argument is passed to a property marked as `isrequired`:http://jsfiddle.net/jeanlauliac/0n6snb6b/1/we\\'ll get a proper warning in the console: `warning: required prop `name` was not specified in `hello`.` (though it should probably be \"prop was null\" and not \"prop was not specified\", but anyway)on the other hand, the default value is only used when the prop is `undefined`, but not when it\\'s `null`. is this the explicitly wanted behavior? if it is, then we should probably make the documentation explicit about it (http://facebook.github.io/react/docs/reusable-components.html), giving the entire responsibility to component callers of safeguarding against `null`.',\n",
       "  'score': 1.0}]"
      ]
     },
     "execution_count": 61,
     "metadata": {},
     "output_type": "execute_result"
    }
   ],
   "source": [
    "get_issue_by_title(pos_issues_closed, \"null props considered differently in getdefaultprops vs. isrequired\")"
   ]
  },
  {
   "cell_type": "code",
   "execution_count": null,
   "metadata": {},
   "outputs": [],
   "source": []
  },
  {
   "cell_type": "code",
   "execution_count": null,
   "metadata": {},
   "outputs": [],
   "source": []
  },
  {
   "cell_type": "markdown",
   "metadata": {},
   "source": [
    "## Exploration of Negative Labeled Issues"
   ]
  },
  {
   "cell_type": "code",
   "execution_count": 62,
   "metadata": {},
   "outputs": [
    {
     "name": "stdout",
     "output_type": "stream",
     "text": [
      "negative label titles: \n",
      "\t\"can't require() react-tools module\"\n",
      "\t\"write tests for react-tools module\"\n",
      "\t\"must adding comments for jsx?\"\n",
      "\t\"small update to bower command\"\n",
      "\t\"make valid npm release\"\n",
      "\t\"react in requirejs ?\"\n",
      "\t\"is es5-sham required for ie8?\"\n",
      "\t\"uncaught syntaxerror: unexpected token < \"\n",
      "\t\"work with compile-to-js languages (like coffeescript)\"\n",
      "\t\"the name \"jsx\" is already taken, use \"xjs\" instead?\"\n",
      "\t\"jsx not able to watch subdirs\"\n",
      "\t\"jsx page gives 404 - linked from \"why react\" blog post\"\n",
      "\t\"jsx whitespace coalescing should work like regular html\"\n",
      "\t\"automatically bind scope of all user provided methods.\"\n",
      "\t\"jsx offline transform exits with error code 1 on any change (ubuntu 12.10)\"\n",
      "\t\"allow namespacing in component names in jsx\"\n",
      "\t\"ordering of componentdidmount events\"\n",
      "\t\"preserve line numbers in \"grunt test\"\"\n",
      "\t\"grunt test just hangs\"\n",
      "\t\"bin/jsx should not relativize required module ids unless --relativize is passed\"\n"
     ]
    }
   ],
   "source": [
    "print(\"negative label titles: \")\n",
    "for issue in neg_issues_closed[:20]:\n",
    "    print (\"\\t\" + \"\\\"\" + issue['title'] + \"\\\"\")"
   ]
  },
  {
   "cell_type": "markdown",
   "metadata": {},
   "source": [
    "### The classifier misses some examples that upon further inspection are clearly simple changes. Example below is an issue that was resolved by simply changing a single URL in a markdown file."
   ]
  },
  {
   "cell_type": "code",
   "execution_count": 63,
   "metadata": {},
   "outputs": [
    {
     "name": "stdout",
     "output_type": "stream",
     "text": [
      "title: jsx page gives 404 - linked from \"why react\" blog post\n",
      "body: the following url is not found - http://facebook.github.io/react/blog/2013/06/05/facebook.github.io/react/docs/syntax.htmland it is linked from - http://facebook.github.io/react/blog/2013/06/05/why-react.html\n"
     ]
    }
   ],
   "source": [
    "misclass_issue = get_issue_by_title(neg_issues_closed, 'jsx page gives 404 - linked from \"why react\" blog post')\n",
    "print('title: ' + misclass_issue[0]['title'])\n",
    "print('body: ' + misclass_issue[0]['body'])"
   ]
  },
  {
   "cell_type": "code",
   "execution_count": null,
   "metadata": {},
   "outputs": [],
   "source": []
  },
  {
   "cell_type": "code",
   "execution_count": null,
   "metadata": {},
   "outputs": [],
   "source": []
  },
  {
   "cell_type": "markdown",
   "metadata": {},
   "source": [
    "## Comparsion of Issue Classes"
   ]
  },
  {
   "cell_type": "code",
   "execution_count": 64,
   "metadata": {},
   "outputs": [],
   "source": [
    "#TODO: show most frequent words in each class. Figure out correct method for removing 'filler' words first"
   ]
  },
  {
   "cell_type": "code",
   "execution_count": 65,
   "metadata": {},
   "outputs": [],
   "source": [
    "#TODO: compare average, median, etc. amount of code in each class of issue. Can be found by length of strings within ''' '''"
   ]
  },
  {
   "cell_type": "code",
   "execution_count": 66,
   "metadata": {},
   "outputs": [],
   "source": [
    "#TODO: compare average, median, etc. lengths of issues bodies for each class."
   ]
  },
  {
   "cell_type": "code",
   "execution_count": 67,
   "metadata": {},
   "outputs": [],
   "source": [
    "#TODO: average, median, etc. number of comments on issues for each class"
   ]
  },
  {
   "cell_type": "code",
   "execution_count": null,
   "metadata": {},
   "outputs": [],
   "source": []
  },
  {
   "cell_type": "code",
   "execution_count": 68,
   "metadata": {},
   "outputs": [],
   "source": [
    "#TODO: other statistics that may be meaningful?????"
   ]
  }
 ],
 "metadata": {
  "kernelspec": {
   "display_name": "Python 3",
   "language": "python",
   "name": "python3"
  },
  "language_info": {
   "codemirror_mode": {
    "name": "ipython",
    "version": 3
   },
   "file_extension": ".py",
   "mimetype": "text/x-python",
   "name": "python",
   "nbconvert_exporter": "python",
   "pygments_lexer": "ipython3",
   "version": "3.6.5"
  }
 },
 "nbformat": 4,
 "nbformat_minor": 2
}
